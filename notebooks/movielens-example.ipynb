{
 "cells": [
  {
   "cell_type": "markdown",
   "metadata": {},
   "source": [
    "### Import Required Packages and Set Options"
   ]
  },
  {
   "cell_type": "markdown",
   "metadata": {},
   "source": [
    "#### Import Base Libraries"
   ]
  },
  {
   "cell_type": "code",
   "execution_count": 296,
   "metadata": {},
   "outputs": [],
   "source": [
    "import os\n",
    "import sys\n",
    "import git\n",
    "\n",
    "import numpy as np\n",
    "import numba as nb\n",
    "import pandas as pd\n",
    "import multiprocessing as mp\n",
    "\n",
    "import matplotlib.pyplot as plt\n",
    "import seaborn as sns\n",
    "\n",
    "from datetime import datetime\n",
    "from functools import partial"
   ]
  },
  {
   "cell_type": "code",
   "execution_count": 297,
   "metadata": {},
   "outputs": [],
   "source": [
    "sns.set_style('whitegrid')\n",
    "plt.rcParams['axes.titlesize'] = 14\n",
    "plt.rcParams['axes.labelsize'] = 12\n",
    "plt.rcParams['xtick.labelsize'] = 12\n",
    "plt.rcParams['ytick.labelsize'] = 12\n",
    "# plt.rcParams"
   ]
  },
  {
   "cell_type": "markdown",
   "metadata": {},
   "source": [
    "#### Put the Main Package Library on the PYTHONPATH"
   ]
  },
  {
   "cell_type": "code",
   "execution_count": 203,
   "metadata": {},
   "outputs": [
    {
     "data": {
      "text/plain": [
       "'/Users/ericlundquist/Repos/rankfm'"
      ]
     },
     "execution_count": 203,
     "metadata": {},
     "output_type": "execute_result"
    }
   ],
   "source": [
    "git_repo = git.Repo('.', search_parent_directories=True)\n",
    "git_root = git_repo.git.rev_parse('--show-toplevel')\n",
    "\n",
    "sys.path[0] = git_root\n",
    "sys.path[0]"
   ]
  },
  {
   "cell_type": "markdown",
   "metadata": {},
   "source": [
    "#### Dynamically Re-Load all Package Modules on Execution"
   ]
  },
  {
   "cell_type": "code",
   "execution_count": 204,
   "metadata": {},
   "outputs": [
    {
     "name": "stdout",
     "output_type": "stream",
     "text": [
      "The autoreload extension is already loaded. To reload it, use:\n",
      "  %reload_ext autoreload\n"
     ]
    }
   ],
   "source": [
    "%load_ext autoreload\n",
    "%autoreload 2\n",
    "\n",
    "from rankfm.rankfm import RankFM\n",
    "from rankfm.evaluation import hit_rate, reciprocal_rank, discounted_cumulative_gain, precision, recall, diversity"
   ]
  },
  {
   "cell_type": "markdown",
   "metadata": {},
   "source": [
    "#### Set File Path Constants"
   ]
  },
  {
   "cell_type": "code",
   "execution_count": 205,
   "metadata": {},
   "outputs": [
    {
     "name": "stdout",
     "output_type": "stream",
     "text": [
      "/Users/ericlundquist/Repos/rankfm\n",
      "/Users/ericlundquist/Repos/rankfm/data/ml-100k\n"
     ]
    }
   ],
   "source": [
    "REPO_ROOT = os.path.split(srcdir)[0]\n",
    "DATA_ROOT = os.path.join(REPO_ROOT, \"data/ml-100k\")\n",
    "print(\"\\n\".join([REPO_ROOT, DATA_ROOT]))"
   ]
  },
  {
   "cell_type": "markdown",
   "metadata": {},
   "source": [
    "### Prepare Example Data"
   ]
  },
  {
   "cell_type": "markdown",
   "metadata": {},
   "source": [
    "#### Load Users Data"
   ]
  },
  {
   "cell_type": "code",
   "execution_count": 206,
   "metadata": {},
   "outputs": [
    {
     "data": {
      "text/plain": [
       "user_id                      472.000000\n",
       "agegroup__0                    0.433722\n",
       "agegroup__1                    0.348887\n",
       "agegroup__2                    0.217391\n",
       "gender__F                      0.289502\n",
       "gender__M                      0.710498\n",
       "occupation__administrator      0.083775\n",
       "occupation__artist             0.029692\n",
       "occupation__doctor             0.007423\n",
       "occupation__educator           0.100742\n",
       "occupation__engineer           0.071050\n",
       "occupation__entertainment      0.019088\n",
       "occupation__executive          0.033934\n",
       "occupation__healthcare         0.016967\n",
       "occupation__homemaker          0.007423\n",
       "occupation__lawyer             0.012725\n",
       "occupation__librarian          0.054083\n",
       "occupation__marketing          0.027572\n",
       "occupation__none               0.009544\n",
       "occupation__other              0.111347\n",
       "occupation__programmer         0.069989\n",
       "occupation__retired            0.014846\n",
       "occupation__salesman           0.012725\n",
       "occupation__scientist          0.032874\n",
       "occupation__student            0.207847\n",
       "occupation__technician         0.028632\n",
       "occupation__writer             0.047720\n",
       "dtype: float64"
      ]
     },
     "execution_count": 206,
     "metadata": {},
     "output_type": "execute_result"
    }
   ],
   "source": [
    "users_df = pd.read_csv(os.path.join(DATA_ROOT, \"users.csv\"))\n",
    "users_df['agegroup'] = pd.cut(users_df['age'], [0, 30, 45, 100], right=False, labels=False)\n",
    "users_df = users_df.drop(['age', 'zip_code'], axis=1)\n",
    "users_df = pd.get_dummies(users_df, prefix_sep='__', columns=['agegroup', 'gender', 'occupation'])\n",
    "users_df.mean()"
   ]
  },
  {
   "cell_type": "markdown",
   "metadata": {},
   "source": [
    "#### Load Items Data"
   ]
  },
  {
   "cell_type": "code",
   "execution_count": 207,
   "metadata": {},
   "outputs": [
    {
     "data": {
      "text/html": [
       "<div>\n",
       "<style scoped>\n",
       "    .dataframe tbody tr th:only-of-type {\n",
       "        vertical-align: middle;\n",
       "    }\n",
       "\n",
       "    .dataframe tbody tr th {\n",
       "        vertical-align: top;\n",
       "    }\n",
       "\n",
       "    .dataframe thead th {\n",
       "        text-align: right;\n",
       "    }\n",
       "</style>\n",
       "<table border=\"1\" class=\"dataframe\">\n",
       "  <thead>\n",
       "    <tr style=\"text-align: right;\">\n",
       "      <th></th>\n",
       "      <th>item_id</th>\n",
       "      <th>item_name</th>\n",
       "    </tr>\n",
       "  </thead>\n",
       "  <tbody>\n",
       "    <tr>\n",
       "      <th>0</th>\n",
       "      <td>1</td>\n",
       "      <td>Toy Story (1995)</td>\n",
       "    </tr>\n",
       "    <tr>\n",
       "      <th>1</th>\n",
       "      <td>2</td>\n",
       "      <td>GoldenEye (1995)</td>\n",
       "    </tr>\n",
       "    <tr>\n",
       "      <th>2</th>\n",
       "      <td>3</td>\n",
       "      <td>Four Rooms (1995)</td>\n",
       "    </tr>\n",
       "    <tr>\n",
       "      <th>3</th>\n",
       "      <td>4</td>\n",
       "      <td>Get Shorty (1995)</td>\n",
       "    </tr>\n",
       "    <tr>\n",
       "      <th>4</th>\n",
       "      <td>5</td>\n",
       "      <td>Copycat (1995)</td>\n",
       "    </tr>\n",
       "  </tbody>\n",
       "</table>\n",
       "</div>"
      ],
      "text/plain": [
       "   item_id          item_name\n",
       "0        1   Toy Story (1995)\n",
       "1        2   GoldenEye (1995)\n",
       "2        3  Four Rooms (1995)\n",
       "3        4  Get Shorty (1995)\n",
       "4        5     Copycat (1995)"
      ]
     },
     "execution_count": 207,
     "metadata": {},
     "output_type": "execute_result"
    }
   ],
   "source": [
    "items_df = pd.read_csv(os.path.join(DATA_ROOT, \"items.csv\"))\n",
    "item_names = items_df[['item_id', 'item_name']]\n",
    "item_names.head()"
   ]
  },
  {
   "cell_type": "code",
   "execution_count": 208,
   "metadata": {},
   "outputs": [
    {
     "data": {
      "text/plain": [
       "item_id               841.500000\n",
       "genre__action           0.149227\n",
       "genre__adventure        0.080262\n",
       "genre__animation        0.024970\n",
       "genre__childrens        0.072533\n",
       "genre__comedy           0.300238\n",
       "genre__crime            0.064804\n",
       "genre__documentary      0.029727\n",
       "genre__drama            0.431034\n",
       "genre__fantasy          0.013080\n",
       "genre__film_noir        0.014269\n",
       "genre__horror           0.054697\n",
       "genre__musical          0.033294\n",
       "genre__mystery          0.036266\n",
       "genre__romance          0.146849\n",
       "genre__scifi            0.060048\n",
       "genre__thriller         0.149227\n",
       "genre__war              0.042212\n",
       "genre__western          0.016052\n",
       "dtype: float64"
      ]
     },
     "execution_count": 208,
     "metadata": {},
     "output_type": "execute_result"
    }
   ],
   "source": [
    "items_df = items_df.drop(['item_name', 'release_date'], axis=1)\n",
    "items_df.columns = ['item_id'] + [\"genre__{}\".format(col) for col in items_df.columns[1:]]\n",
    "items_df.mean()"
   ]
  },
  {
   "cell_type": "markdown",
   "metadata": {},
   "source": [
    "#### Load Ratings Data"
   ]
  },
  {
   "cell_type": "code",
   "execution_count": 209,
   "metadata": {},
   "outputs": [
    {
     "data": {
      "text/plain": [
       "user_id              462.48475\n",
       "item_id              425.53013\n",
       "rating                 3.52986\n",
       "positive_feedback      0.54194\n",
       "dtype: float64"
      ]
     },
     "execution_count": 209,
     "metadata": {},
     "output_type": "execute_result"
    }
   ],
   "source": [
    "ratings_explicit = pd.read_csv(os.path.join(DATA_ROOT, \"ratings.csv\"))\n",
    "ratings_explicit['timestamp'] = pd.to_datetime(ratings_explicit['unix_timestamp'], origin='unix', unit='s')\n",
    "ratings_explicit['positive_feedback'] = ratings_explicit.groupby('user_id')['rating'].transform(lambda c: np.where(c > c.mean(), 1, 0))\n",
    "ratings_explicit = ratings_explicit.drop('unix_timestamp', axis=1)\n",
    "ratings_explicit.mean()"
   ]
  },
  {
   "cell_type": "code",
   "execution_count": 210,
   "metadata": {},
   "outputs": [
    {
     "data": {
      "text/html": [
       "<div>\n",
       "<style scoped>\n",
       "    .dataframe tbody tr th:only-of-type {\n",
       "        vertical-align: middle;\n",
       "    }\n",
       "\n",
       "    .dataframe tbody tr th {\n",
       "        vertical-align: top;\n",
       "    }\n",
       "\n",
       "    .dataframe thead th {\n",
       "        text-align: right;\n",
       "    }\n",
       "</style>\n",
       "<table border=\"1\" class=\"dataframe\">\n",
       "  <thead>\n",
       "    <tr style=\"text-align: right;\">\n",
       "      <th></th>\n",
       "      <th>user_id</th>\n",
       "      <th>item_id</th>\n",
       "      <th>rating</th>\n",
       "      <th>timestamp</th>\n",
       "      <th>positive_feedback</th>\n",
       "    </tr>\n",
       "  </thead>\n",
       "  <tbody>\n",
       "    <tr>\n",
       "      <th>0</th>\n",
       "      <td>196</td>\n",
       "      <td>242</td>\n",
       "      <td>3</td>\n",
       "      <td>1997-12-04 15:55:49</td>\n",
       "      <td>0</td>\n",
       "    </tr>\n",
       "    <tr>\n",
       "      <th>1</th>\n",
       "      <td>186</td>\n",
       "      <td>302</td>\n",
       "      <td>3</td>\n",
       "      <td>1998-04-04 19:22:22</td>\n",
       "      <td>0</td>\n",
       "    </tr>\n",
       "    <tr>\n",
       "      <th>2</th>\n",
       "      <td>22</td>\n",
       "      <td>377</td>\n",
       "      <td>1</td>\n",
       "      <td>1997-11-07 07:18:36</td>\n",
       "      <td>0</td>\n",
       "    </tr>\n",
       "    <tr>\n",
       "      <th>3</th>\n",
       "      <td>244</td>\n",
       "      <td>51</td>\n",
       "      <td>2</td>\n",
       "      <td>1997-11-27 05:02:03</td>\n",
       "      <td>0</td>\n",
       "    </tr>\n",
       "    <tr>\n",
       "      <th>4</th>\n",
       "      <td>166</td>\n",
       "      <td>346</td>\n",
       "      <td>1</td>\n",
       "      <td>1998-02-02 05:33:16</td>\n",
       "      <td>0</td>\n",
       "    </tr>\n",
       "  </tbody>\n",
       "</table>\n",
       "</div>"
      ],
      "text/plain": [
       "   user_id  item_id  rating           timestamp  positive_feedback\n",
       "0      196      242       3 1997-12-04 15:55:49                  0\n",
       "1      186      302       3 1998-04-04 19:22:22                  0\n",
       "2       22      377       1 1997-11-07 07:18:36                  0\n",
       "3      244       51       2 1997-11-27 05:02:03                  0\n",
       "4      166      346       1 1998-02-02 05:33:16                  0"
      ]
     },
     "execution_count": 210,
     "metadata": {},
     "output_type": "execute_result"
    }
   ],
   "source": [
    "ratings_explicit.head()"
   ]
  },
  {
   "cell_type": "markdown",
   "metadata": {},
   "source": [
    "#### Generate Implicit Feedback Ratings Data"
   ]
  },
  {
   "cell_type": "code",
   "execution_count": 211,
   "metadata": {},
   "outputs": [
    {
     "data": {
      "text/html": [
       "<div>\n",
       "<style scoped>\n",
       "    .dataframe tbody tr th:only-of-type {\n",
       "        vertical-align: middle;\n",
       "    }\n",
       "\n",
       "    .dataframe tbody tr th {\n",
       "        vertical-align: top;\n",
       "    }\n",
       "\n",
       "    .dataframe thead th {\n",
       "        text-align: right;\n",
       "    }\n",
       "</style>\n",
       "<table border=\"1\" class=\"dataframe\">\n",
       "  <thead>\n",
       "    <tr style=\"text-align: right;\">\n",
       "      <th></th>\n",
       "      <th>user_id</th>\n",
       "      <th>item_id</th>\n",
       "      <th>rating</th>\n",
       "      <th>timestamp</th>\n",
       "      <th>positive_feedback</th>\n",
       "    </tr>\n",
       "  </thead>\n",
       "  <tbody>\n",
       "    <tr>\n",
       "      <th>0</th>\n",
       "      <td>253</td>\n",
       "      <td>465</td>\n",
       "      <td>5</td>\n",
       "      <td>1998-04-03 18:34:27</td>\n",
       "      <td>1</td>\n",
       "    </tr>\n",
       "    <tr>\n",
       "      <th>1</th>\n",
       "      <td>286</td>\n",
       "      <td>1014</td>\n",
       "      <td>5</td>\n",
       "      <td>1997-11-17 15:38:45</td>\n",
       "      <td>1</td>\n",
       "    </tr>\n",
       "    <tr>\n",
       "      <th>2</th>\n",
       "      <td>200</td>\n",
       "      <td>222</td>\n",
       "      <td>5</td>\n",
       "      <td>1997-10-05 09:05:40</td>\n",
       "      <td>1</td>\n",
       "    </tr>\n",
       "    <tr>\n",
       "      <th>3</th>\n",
       "      <td>224</td>\n",
       "      <td>29</td>\n",
       "      <td>3</td>\n",
       "      <td>1998-02-21 23:40:57</td>\n",
       "      <td>1</td>\n",
       "    </tr>\n",
       "    <tr>\n",
       "      <th>4</th>\n",
       "      <td>122</td>\n",
       "      <td>387</td>\n",
       "      <td>5</td>\n",
       "      <td>1997-11-11 17:47:39</td>\n",
       "      <td>1</td>\n",
       "    </tr>\n",
       "  </tbody>\n",
       "</table>\n",
       "</div>"
      ],
      "text/plain": [
       "   user_id  item_id  rating           timestamp  positive_feedback\n",
       "0      253      465       5 1998-04-03 18:34:27                  1\n",
       "1      286     1014       5 1997-11-17 15:38:45                  1\n",
       "2      200      222       5 1997-10-05 09:05:40                  1\n",
       "3      224       29       3 1998-02-21 23:40:57                  1\n",
       "4      122      387       5 1997-11-11 17:47:39                  1"
      ]
     },
     "execution_count": 211,
     "metadata": {},
     "output_type": "execute_result"
    }
   ],
   "source": [
    "ratings_implicit = ratings_explicit[ratings_explicit.positive_feedback == 1].reset_index(drop=True)\n",
    "ratings_implicit.head()"
   ]
  },
  {
   "cell_type": "markdown",
   "metadata": {},
   "source": [
    "#### Print Final Matrix Shapes"
   ]
  },
  {
   "cell_type": "code",
   "execution_count": 212,
   "metadata": {},
   "outputs": [
    {
     "name": "stdout",
     "output_type": "stream",
     "text": [
      "943 1682\n",
      "943 1483\n",
      "(100000, 5)\n",
      "(54194, 5)\n"
     ]
    }
   ],
   "source": [
    "print(ratings_explicit.user_id.nunique(), ratings_explicit.item_id.nunique())\n",
    "print(ratings_implicit.user_id.nunique(), ratings_implicit.item_id.nunique())\n",
    "\n",
    "print(ratings_explicit.shape)\n",
    "print(ratings_implicit.shape)"
   ]
  },
  {
   "cell_type": "markdown",
   "metadata": {},
   "source": [
    "#### Create (Training, Validation) Interactions for Evaluation"
   ]
  },
  {
   "cell_type": "code",
   "execution_count": 213,
   "metadata": {},
   "outputs": [
    {
     "name": "stdout",
     "output_type": "stream",
     "text": [
      "(54194, 5)\n"
     ]
    },
    {
     "data": {
      "text/html": [
       "<div>\n",
       "<style scoped>\n",
       "    .dataframe tbody tr th:only-of-type {\n",
       "        vertical-align: middle;\n",
       "    }\n",
       "\n",
       "    .dataframe tbody tr th {\n",
       "        vertical-align: top;\n",
       "    }\n",
       "\n",
       "    .dataframe thead th {\n",
       "        text-align: right;\n",
       "    }\n",
       "</style>\n",
       "<table border=\"1\" class=\"dataframe\">\n",
       "  <thead>\n",
       "    <tr style=\"text-align: right;\">\n",
       "      <th></th>\n",
       "      <th>user_id</th>\n",
       "      <th>item_id</th>\n",
       "      <th>rating</th>\n",
       "      <th>timestamp</th>\n",
       "      <th>positive_feedback</th>\n",
       "    </tr>\n",
       "  </thead>\n",
       "  <tbody>\n",
       "    <tr>\n",
       "      <th>0</th>\n",
       "      <td>253</td>\n",
       "      <td>465</td>\n",
       "      <td>5</td>\n",
       "      <td>1998-04-03 18:34:27</td>\n",
       "      <td>1</td>\n",
       "    </tr>\n",
       "    <tr>\n",
       "      <th>1</th>\n",
       "      <td>286</td>\n",
       "      <td>1014</td>\n",
       "      <td>5</td>\n",
       "      <td>1997-11-17 15:38:45</td>\n",
       "      <td>1</td>\n",
       "    </tr>\n",
       "    <tr>\n",
       "      <th>2</th>\n",
       "      <td>200</td>\n",
       "      <td>222</td>\n",
       "      <td>5</td>\n",
       "      <td>1997-10-05 09:05:40</td>\n",
       "      <td>1</td>\n",
       "    </tr>\n",
       "    <tr>\n",
       "      <th>3</th>\n",
       "      <td>224</td>\n",
       "      <td>29</td>\n",
       "      <td>3</td>\n",
       "      <td>1998-02-21 23:40:57</td>\n",
       "      <td>1</td>\n",
       "    </tr>\n",
       "    <tr>\n",
       "      <th>4</th>\n",
       "      <td>122</td>\n",
       "      <td>387</td>\n",
       "      <td>5</td>\n",
       "      <td>1997-11-11 17:47:39</td>\n",
       "      <td>1</td>\n",
       "    </tr>\n",
       "  </tbody>\n",
       "</table>\n",
       "</div>"
      ],
      "text/plain": [
       "   user_id  item_id  rating           timestamp  positive_feedback\n",
       "0      253      465       5 1998-04-03 18:34:27                  1\n",
       "1      286     1014       5 1997-11-17 15:38:45                  1\n",
       "2      200      222       5 1997-10-05 09:05:40                  1\n",
       "3      224       29       3 1998-02-21 23:40:57                  1\n",
       "4      122      387       5 1997-11-11 17:47:39                  1"
      ]
     },
     "execution_count": 213,
     "metadata": {},
     "output_type": "execute_result"
    }
   ],
   "source": [
    "print(ratings_implicit.shape)\n",
    "ratings_implicit.head()"
   ]
  },
  {
   "cell_type": "code",
   "execution_count": 214,
   "metadata": {},
   "outputs": [],
   "source": [
    "# ratings_implicit['user_id'] = ratings_implicit['user_id'].astype('str')\n",
    "# ratings_implicit['item_id'] = ratings_implicit['item_id'].astype('str')\n",
    "# ratings_implicit.info()"
   ]
  },
  {
   "cell_type": "code",
   "execution_count": 215,
   "metadata": {},
   "outputs": [
    {
     "name": "stdout",
     "output_type": "stream",
     "text": [
      "total shape: (54194, 2)\n",
      "train shape: (40598, 2)\n",
      "valid shape: (13548, 2)\n",
      "train users: 941\n",
      "valid users: 905\n",
      "cold-start users: {2, 4}\n"
     ]
    }
   ],
   "source": [
    "test_pct = 0.25\n",
    "drop_users = (2, 4)\n",
    "\n",
    "train_mask = (ratings_implicit.index / ratings_implicit.shape[0]) <  (1 - test_pct)\n",
    "valid_mask = (ratings_implicit.index / ratings_implicit.shape[0]) >= (1 - test_pct)\n",
    "\n",
    "interactions_total = ratings_implicit[['user_id', 'item_id']]\n",
    "interactions_train = ratings_implicit[train_mask][['user_id', 'item_id']]\n",
    "interactions_valid = ratings_implicit[valid_mask][['user_id', 'item_id']]\n",
    "\n",
    "# drop some users from the training data to test cold-start functionality\n",
    "interactions_train = interactions_train[~interactions_train.user_id.isin(drop_users)]\n",
    "\n",
    "train_users = np.sort(interactions_train.user_id.unique())\n",
    "valid_users = np.sort(interactions_valid.user_id.unique())\n",
    "cold_start_users = set(valid_users) - set(train_users)\n",
    "\n",
    "print(\"total shape: {}\".format(interactions_total.shape))\n",
    "print(\"train shape: {}\".format(interactions_train.shape))\n",
    "print(\"valid shape: {}\".format(interactions_valid.shape))\n",
    "print(\"train users: {}\".format(len(train_users)))\n",
    "print(\"valid users: {}\".format(len(valid_users)))\n",
    "print(\"cold-start users: {}\".format(cold_start_users))"
   ]
  },
  {
   "cell_type": "code",
   "execution_count": 216,
   "metadata": {},
   "outputs": [],
   "source": [
    "iteraction_users = interactions_train.user_id.unique()\n",
    "iteraction_items = interactions_train.item_id.unique()"
   ]
  },
  {
   "cell_type": "markdown",
   "metadata": {},
   "source": [
    "#### Create User/Item Features Data for Testing"
   ]
  },
  {
   "cell_type": "code",
   "execution_count": 217,
   "metadata": {},
   "outputs": [
    {
     "name": "stdout",
     "output_type": "stream",
     "text": [
      "(941, 27) (943, 27)\n"
     ]
    },
    {
     "data": {
      "text/html": [
       "<div>\n",
       "<style scoped>\n",
       "    .dataframe tbody tr th:only-of-type {\n",
       "        vertical-align: middle;\n",
       "    }\n",
       "\n",
       "    .dataframe tbody tr th {\n",
       "        vertical-align: top;\n",
       "    }\n",
       "\n",
       "    .dataframe thead th {\n",
       "        text-align: right;\n",
       "    }\n",
       "</style>\n",
       "<table border=\"1\" class=\"dataframe\">\n",
       "  <thead>\n",
       "    <tr style=\"text-align: right;\">\n",
       "      <th></th>\n",
       "      <th>user_id</th>\n",
       "      <th>agegroup__0</th>\n",
       "      <th>agegroup__1</th>\n",
       "      <th>agegroup__2</th>\n",
       "      <th>gender__F</th>\n",
       "      <th>gender__M</th>\n",
       "      <th>occupation__administrator</th>\n",
       "      <th>occupation__artist</th>\n",
       "      <th>occupation__doctor</th>\n",
       "      <th>occupation__educator</th>\n",
       "      <th>...</th>\n",
       "      <th>occupation__marketing</th>\n",
       "      <th>occupation__none</th>\n",
       "      <th>occupation__other</th>\n",
       "      <th>occupation__programmer</th>\n",
       "      <th>occupation__retired</th>\n",
       "      <th>occupation__salesman</th>\n",
       "      <th>occupation__scientist</th>\n",
       "      <th>occupation__student</th>\n",
       "      <th>occupation__technician</th>\n",
       "      <th>occupation__writer</th>\n",
       "    </tr>\n",
       "  </thead>\n",
       "  <tbody>\n",
       "    <tr>\n",
       "      <th>0</th>\n",
       "      <td>1</td>\n",
       "      <td>1</td>\n",
       "      <td>0</td>\n",
       "      <td>0</td>\n",
       "      <td>0</td>\n",
       "      <td>1</td>\n",
       "      <td>0</td>\n",
       "      <td>0</td>\n",
       "      <td>0</td>\n",
       "      <td>0</td>\n",
       "      <td>...</td>\n",
       "      <td>0</td>\n",
       "      <td>0</td>\n",
       "      <td>0</td>\n",
       "      <td>0</td>\n",
       "      <td>0</td>\n",
       "      <td>0</td>\n",
       "      <td>0</td>\n",
       "      <td>0</td>\n",
       "      <td>1</td>\n",
       "      <td>0</td>\n",
       "    </tr>\n",
       "    <tr>\n",
       "      <th>2</th>\n",
       "      <td>3</td>\n",
       "      <td>1</td>\n",
       "      <td>0</td>\n",
       "      <td>0</td>\n",
       "      <td>0</td>\n",
       "      <td>1</td>\n",
       "      <td>0</td>\n",
       "      <td>0</td>\n",
       "      <td>0</td>\n",
       "      <td>0</td>\n",
       "      <td>...</td>\n",
       "      <td>0</td>\n",
       "      <td>0</td>\n",
       "      <td>0</td>\n",
       "      <td>0</td>\n",
       "      <td>0</td>\n",
       "      <td>0</td>\n",
       "      <td>0</td>\n",
       "      <td>0</td>\n",
       "      <td>0</td>\n",
       "      <td>1</td>\n",
       "    </tr>\n",
       "    <tr>\n",
       "      <th>4</th>\n",
       "      <td>5</td>\n",
       "      <td>0</td>\n",
       "      <td>1</td>\n",
       "      <td>0</td>\n",
       "      <td>1</td>\n",
       "      <td>0</td>\n",
       "      <td>0</td>\n",
       "      <td>0</td>\n",
       "      <td>0</td>\n",
       "      <td>0</td>\n",
       "      <td>...</td>\n",
       "      <td>0</td>\n",
       "      <td>0</td>\n",
       "      <td>1</td>\n",
       "      <td>0</td>\n",
       "      <td>0</td>\n",
       "      <td>0</td>\n",
       "      <td>0</td>\n",
       "      <td>0</td>\n",
       "      <td>0</td>\n",
       "      <td>0</td>\n",
       "    </tr>\n",
       "    <tr>\n",
       "      <th>5</th>\n",
       "      <td>6</td>\n",
       "      <td>0</td>\n",
       "      <td>1</td>\n",
       "      <td>0</td>\n",
       "      <td>0</td>\n",
       "      <td>1</td>\n",
       "      <td>0</td>\n",
       "      <td>0</td>\n",
       "      <td>0</td>\n",
       "      <td>0</td>\n",
       "      <td>...</td>\n",
       "      <td>0</td>\n",
       "      <td>0</td>\n",
       "      <td>0</td>\n",
       "      <td>0</td>\n",
       "      <td>0</td>\n",
       "      <td>0</td>\n",
       "      <td>0</td>\n",
       "      <td>0</td>\n",
       "      <td>0</td>\n",
       "      <td>0</td>\n",
       "    </tr>\n",
       "    <tr>\n",
       "      <th>6</th>\n",
       "      <td>7</td>\n",
       "      <td>0</td>\n",
       "      <td>0</td>\n",
       "      <td>1</td>\n",
       "      <td>0</td>\n",
       "      <td>1</td>\n",
       "      <td>1</td>\n",
       "      <td>0</td>\n",
       "      <td>0</td>\n",
       "      <td>0</td>\n",
       "      <td>...</td>\n",
       "      <td>0</td>\n",
       "      <td>0</td>\n",
       "      <td>0</td>\n",
       "      <td>0</td>\n",
       "      <td>0</td>\n",
       "      <td>0</td>\n",
       "      <td>0</td>\n",
       "      <td>0</td>\n",
       "      <td>0</td>\n",
       "      <td>0</td>\n",
       "    </tr>\n",
       "  </tbody>\n",
       "</table>\n",
       "<p>5 rows × 27 columns</p>\n",
       "</div>"
      ],
      "text/plain": [
       "   user_id  agegroup__0  agegroup__1  agegroup__2  gender__F  gender__M  \\\n",
       "0        1            1            0            0          0          1   \n",
       "2        3            1            0            0          0          1   \n",
       "4        5            0            1            0          1          0   \n",
       "5        6            0            1            0          0          1   \n",
       "6        7            0            0            1          0          1   \n",
       "\n",
       "   occupation__administrator  occupation__artist  occupation__doctor  \\\n",
       "0                          0                   0                   0   \n",
       "2                          0                   0                   0   \n",
       "4                          0                   0                   0   \n",
       "5                          0                   0                   0   \n",
       "6                          1                   0                   0   \n",
       "\n",
       "   occupation__educator  ...  occupation__marketing  occupation__none  \\\n",
       "0                     0  ...                      0                 0   \n",
       "2                     0  ...                      0                 0   \n",
       "4                     0  ...                      0                 0   \n",
       "5                     0  ...                      0                 0   \n",
       "6                     0  ...                      0                 0   \n",
       "\n",
       "   occupation__other  occupation__programmer  occupation__retired  \\\n",
       "0                  0                       0                    0   \n",
       "2                  0                       0                    0   \n",
       "4                  1                       0                    0   \n",
       "5                  0                       0                    0   \n",
       "6                  0                       0                    0   \n",
       "\n",
       "   occupation__salesman  occupation__scientist  occupation__student  \\\n",
       "0                     0                      0                    0   \n",
       "2                     0                      0                    0   \n",
       "4                     0                      0                    0   \n",
       "5                     0                      0                    0   \n",
       "6                     0                      0                    0   \n",
       "\n",
       "   occupation__technician  occupation__writer  \n",
       "0                       1                   0  \n",
       "2                       0                   1  \n",
       "4                       0                   0  \n",
       "5                       0                   0  \n",
       "6                       0                   0  \n",
       "\n",
       "[5 rows x 27 columns]"
      ]
     },
     "execution_count": 217,
     "metadata": {},
     "output_type": "execute_result"
    }
   ],
   "source": [
    "user_features = users_df[users_df.user_id.isin(iteraction_users)]\n",
    "print(user_features.shape, users_df.shape)\n",
    "user_features.head()"
   ]
  },
  {
   "cell_type": "code",
   "execution_count": 218,
   "metadata": {},
   "outputs": [
    {
     "name": "stdout",
     "output_type": "stream",
     "text": [
      "(1421, 19) (1682, 19)\n"
     ]
    },
    {
     "data": {
      "text/html": [
       "<div>\n",
       "<style scoped>\n",
       "    .dataframe tbody tr th:only-of-type {\n",
       "        vertical-align: middle;\n",
       "    }\n",
       "\n",
       "    .dataframe tbody tr th {\n",
       "        vertical-align: top;\n",
       "    }\n",
       "\n",
       "    .dataframe thead th {\n",
       "        text-align: right;\n",
       "    }\n",
       "</style>\n",
       "<table border=\"1\" class=\"dataframe\">\n",
       "  <thead>\n",
       "    <tr style=\"text-align: right;\">\n",
       "      <th></th>\n",
       "      <th>item_id</th>\n",
       "      <th>genre__action</th>\n",
       "      <th>genre__adventure</th>\n",
       "      <th>genre__animation</th>\n",
       "      <th>genre__childrens</th>\n",
       "      <th>genre__comedy</th>\n",
       "      <th>genre__crime</th>\n",
       "      <th>genre__documentary</th>\n",
       "      <th>genre__drama</th>\n",
       "      <th>genre__fantasy</th>\n",
       "      <th>genre__film_noir</th>\n",
       "      <th>genre__horror</th>\n",
       "      <th>genre__musical</th>\n",
       "      <th>genre__mystery</th>\n",
       "      <th>genre__romance</th>\n",
       "      <th>genre__scifi</th>\n",
       "      <th>genre__thriller</th>\n",
       "      <th>genre__war</th>\n",
       "      <th>genre__western</th>\n",
       "    </tr>\n",
       "  </thead>\n",
       "  <tbody>\n",
       "    <tr>\n",
       "      <th>0</th>\n",
       "      <td>1</td>\n",
       "      <td>0</td>\n",
       "      <td>0</td>\n",
       "      <td>1</td>\n",
       "      <td>1</td>\n",
       "      <td>1</td>\n",
       "      <td>0</td>\n",
       "      <td>0</td>\n",
       "      <td>0</td>\n",
       "      <td>0</td>\n",
       "      <td>0</td>\n",
       "      <td>0</td>\n",
       "      <td>0</td>\n",
       "      <td>0</td>\n",
       "      <td>0</td>\n",
       "      <td>0</td>\n",
       "      <td>0</td>\n",
       "      <td>0</td>\n",
       "      <td>0</td>\n",
       "    </tr>\n",
       "    <tr>\n",
       "      <th>1</th>\n",
       "      <td>2</td>\n",
       "      <td>1</td>\n",
       "      <td>1</td>\n",
       "      <td>0</td>\n",
       "      <td>0</td>\n",
       "      <td>0</td>\n",
       "      <td>0</td>\n",
       "      <td>0</td>\n",
       "      <td>0</td>\n",
       "      <td>0</td>\n",
       "      <td>0</td>\n",
       "      <td>0</td>\n",
       "      <td>0</td>\n",
       "      <td>0</td>\n",
       "      <td>0</td>\n",
       "      <td>0</td>\n",
       "      <td>1</td>\n",
       "      <td>0</td>\n",
       "      <td>0</td>\n",
       "    </tr>\n",
       "    <tr>\n",
       "      <th>2</th>\n",
       "      <td>3</td>\n",
       "      <td>0</td>\n",
       "      <td>0</td>\n",
       "      <td>0</td>\n",
       "      <td>0</td>\n",
       "      <td>0</td>\n",
       "      <td>0</td>\n",
       "      <td>0</td>\n",
       "      <td>0</td>\n",
       "      <td>0</td>\n",
       "      <td>0</td>\n",
       "      <td>0</td>\n",
       "      <td>0</td>\n",
       "      <td>0</td>\n",
       "      <td>0</td>\n",
       "      <td>0</td>\n",
       "      <td>1</td>\n",
       "      <td>0</td>\n",
       "      <td>0</td>\n",
       "    </tr>\n",
       "    <tr>\n",
       "      <th>3</th>\n",
       "      <td>4</td>\n",
       "      <td>1</td>\n",
       "      <td>0</td>\n",
       "      <td>0</td>\n",
       "      <td>0</td>\n",
       "      <td>1</td>\n",
       "      <td>0</td>\n",
       "      <td>0</td>\n",
       "      <td>1</td>\n",
       "      <td>0</td>\n",
       "      <td>0</td>\n",
       "      <td>0</td>\n",
       "      <td>0</td>\n",
       "      <td>0</td>\n",
       "      <td>0</td>\n",
       "      <td>0</td>\n",
       "      <td>0</td>\n",
       "      <td>0</td>\n",
       "      <td>0</td>\n",
       "    </tr>\n",
       "    <tr>\n",
       "      <th>4</th>\n",
       "      <td>5</td>\n",
       "      <td>0</td>\n",
       "      <td>0</td>\n",
       "      <td>0</td>\n",
       "      <td>0</td>\n",
       "      <td>0</td>\n",
       "      <td>1</td>\n",
       "      <td>0</td>\n",
       "      <td>1</td>\n",
       "      <td>0</td>\n",
       "      <td>0</td>\n",
       "      <td>0</td>\n",
       "      <td>0</td>\n",
       "      <td>0</td>\n",
       "      <td>0</td>\n",
       "      <td>0</td>\n",
       "      <td>1</td>\n",
       "      <td>0</td>\n",
       "      <td>0</td>\n",
       "    </tr>\n",
       "  </tbody>\n",
       "</table>\n",
       "</div>"
      ],
      "text/plain": [
       "   item_id  genre__action  genre__adventure  genre__animation  \\\n",
       "0        1              0                 0                 1   \n",
       "1        2              1                 1                 0   \n",
       "2        3              0                 0                 0   \n",
       "3        4              1                 0                 0   \n",
       "4        5              0                 0                 0   \n",
       "\n",
       "   genre__childrens  genre__comedy  genre__crime  genre__documentary  \\\n",
       "0                 1              1             0                   0   \n",
       "1                 0              0             0                   0   \n",
       "2                 0              0             0                   0   \n",
       "3                 0              1             0                   0   \n",
       "4                 0              0             1                   0   \n",
       "\n",
       "   genre__drama  genre__fantasy  genre__film_noir  genre__horror  \\\n",
       "0             0               0                 0              0   \n",
       "1             0               0                 0              0   \n",
       "2             0               0                 0              0   \n",
       "3             1               0                 0              0   \n",
       "4             1               0                 0              0   \n",
       "\n",
       "   genre__musical  genre__mystery  genre__romance  genre__scifi  \\\n",
       "0               0               0               0             0   \n",
       "1               0               0               0             0   \n",
       "2               0               0               0             0   \n",
       "3               0               0               0             0   \n",
       "4               0               0               0             0   \n",
       "\n",
       "   genre__thriller  genre__war  genre__western  \n",
       "0                0           0               0  \n",
       "1                1           0               0  \n",
       "2                1           0               0  \n",
       "3                0           0               0  \n",
       "4                1           0               0  "
      ]
     },
     "execution_count": 218,
     "metadata": {},
     "output_type": "execute_result"
    }
   ],
   "source": [
    "item_features = items_df[items_df.item_id.isin(iteraction_items)]\n",
    "print(item_features.shape, items_df.shape)\n",
    "item_features.head()"
   ]
  },
  {
   "cell_type": "markdown",
   "metadata": {},
   "source": [
    "### Test Out Core Package Functionality"
   ]
  },
  {
   "cell_type": "code",
   "execution_count": 219,
   "metadata": {},
   "outputs": [
    {
     "data": {
      "text/plain": [
       "((40598, 2), (941, 27), (1421, 19))"
      ]
     },
     "execution_count": 219,
     "metadata": {},
     "output_type": "execute_result"
    }
   ],
   "source": [
    "interactions_train.shape, user_features.shape, item_features.shape"
   ]
  },
  {
   "cell_type": "code",
   "execution_count": 220,
   "metadata": {},
   "outputs": [
    {
     "data": {
      "text/plain": [
       "user_id    int64\n",
       "item_id    int64\n",
       "dtype: object"
      ]
     },
     "execution_count": 220,
     "metadata": {},
     "output_type": "execute_result"
    }
   ],
   "source": [
    "interactions_train.dtypes"
   ]
  },
  {
   "cell_type": "markdown",
   "metadata": {},
   "source": [
    "#### Initialize the Model"
   ]
  },
  {
   "cell_type": "code",
   "execution_count": 221,
   "metadata": {},
   "outputs": [
    {
     "data": {
      "text/plain": [
       "<rankfm.rankfm.RankFM at 0x1a25f5b630>"
      ]
     },
     "execution_count": 221,
     "metadata": {},
     "output_type": "execute_result"
    }
   ],
   "source": [
    "model = RankFM(factors=10, learning_rate=0.1, regularization=0.01, sigma=0.1)\n",
    "model"
   ]
  },
  {
   "cell_type": "markdown",
   "metadata": {},
   "source": [
    "#### Initialize and Inspect Internal Data"
   ]
  },
  {
   "cell_type": "code",
   "execution_count": 222,
   "metadata": {},
   "outputs": [
    {
     "name": "stdout",
     "output_type": "stream",
     "text": [
      "CPU times: user 132 ms, sys: 8.64 ms, total: 141 ms\n",
      "Wall time: 154 ms\n"
     ]
    }
   ],
   "source": [
    "%%time\n",
    "model._init_all(interactions_train, user_features, item_features)"
   ]
  },
  {
   "cell_type": "code",
   "execution_count": 223,
   "metadata": {},
   "outputs": [
    {
     "name": "stdout",
     "output_type": "stream",
     "text": [
      "941 941\n",
      "1421 1421\n"
     ]
    }
   ],
   "source": [
    "print(len(model.user_id), len(model.user_idx))\n",
    "print(len(model.item_id), len(model.item_idx))"
   ]
  },
  {
   "cell_type": "code",
   "execution_count": 224,
   "metadata": {},
   "outputs": [
    {
     "name": "stdout",
     "output_type": "stream",
     "text": [
      "(40598, 2)\n",
      "(941, 26)\n",
      "(1421, 18)\n"
     ]
    }
   ],
   "source": [
    "print(model.interactions.shape)\n",
    "print(model.x_uf.shape)\n",
    "print(model.x_if.shape)"
   ]
  },
  {
   "cell_type": "code",
   "execution_count": 225,
   "metadata": {},
   "outputs": [
    {
     "name": "stdout",
     "output_type": "stream",
     "text": [
      "item weights: (1421,)\n",
      "item feature weights: (18,)\n",
      "user factors: (941, 10)\n",
      "item factors: (1421, 10)\n",
      "user feature factors: (26, 10)\n",
      "item feature factors: (18, 10)\n"
     ]
    }
   ],
   "source": [
    "print(\"item weights: {}\".format(model.w_i.shape))\n",
    "print(\"item feature weights: {}\".format(model.w_if.shape))\n",
    "print(\"user factors: {}\".format(model.v_u.shape))\n",
    "print(\"item factors: {}\".format(model.v_i.shape))\n",
    "print(\"user feature factors: {}\".format(model.v_uf.shape))\n",
    "print(\"item feature factors: {}\".format(model.v_if.shape))"
   ]
  },
  {
   "cell_type": "code",
   "execution_count": 226,
   "metadata": {},
   "outputs": [
    {
     "data": {
      "text/plain": [
       "dtype('int32')"
      ]
     },
     "execution_count": 226,
     "metadata": {},
     "output_type": "execute_result"
    }
   ],
   "source": [
    "model.interactions.dtype"
   ]
  },
  {
   "cell_type": "code",
   "execution_count": 227,
   "metadata": {},
   "outputs": [
    {
     "data": {
      "text/plain": [
       "array([  3,  11,  12,  13,  21,  22,  31,  32,  41,  47,  48,  49,  55,\n",
       "        57,  58,  60,  61,  63,  68,  70,  71,  86,  87,  88,  94,  95,\n",
       "        96,  97,  98,  99, 106, 108, 115, 118, 121, 124, 134, 141, 147,\n",
       "       149, 150, 151, 157, 158, 164, 165, 167, 169, 171, 174, 175, 177,\n",
       "       178, 180, 183, 187, 190, 191, 193, 194, 196, 199, 201, 205, 208,\n",
       "       209, 212, 220, 221, 223, 224, 225, 226, 230, 231, 234, 236, 255,\n",
       "       259, 260, 261, 262, 265, 267, 269, 273, 276, 287, 289, 299, 300,\n",
       "       302, 307, 310, 311, 312, 313, 315, 338, 341, 342, 343, 349, 356,\n",
       "       396, 398, 408, 414, 417, 420, 421, 423, 426, 428, 432, 433, 438,\n",
       "       451, 452, 456, 461, 462, 463, 466, 467, 471, 472, 473, 480, 481,\n",
       "       482, 483, 486, 487, 490, 491, 495, 498, 499, 500, 503, 505, 506,\n",
       "       507, 508, 509, 512, 513, 516, 518, 519, 538, 554, 558, 573, 576,\n",
       "       587, 588, 589, 590, 592, 598, 599, 600, 601, 607, 610, 632, 637,\n",
       "       638, 640, 641, 642, 643, 647, 648, 649, 661, 664, 669, 670, 671,\n",
       "       676, 677, 679, 690, 693, 695, 699, 703, 715, 716, 719, 720, 722,\n",
       "       730, 731, 733, 734, 737, 741, 742, 746, 748, 750, 755, 766, 768,\n",
       "       769, 771, 774, 781, 782, 785, 790, 791, 796, 799, 802, 807, 818,\n",
       "       822, 823, 825, 826, 829, 830, 835, 836, 838, 839, 845, 857, 858,\n",
       "       867, 870, 878, 881, 882, 883], dtype=int32)"
      ]
     },
     "execution_count": 227,
     "metadata": {},
     "output_type": "execute_result"
    }
   ],
   "source": [
    "model.user_items_nb[10]"
   ]
  },
  {
   "cell_type": "code",
   "execution_count": 228,
   "metadata": {},
   "outputs": [
    {
     "data": {
      "text/html": [
       "<div>\n",
       "<style scoped>\n",
       "    .dataframe tbody tr th:only-of-type {\n",
       "        vertical-align: middle;\n",
       "    }\n",
       "\n",
       "    .dataframe tbody tr th {\n",
       "        vertical-align: top;\n",
       "    }\n",
       "\n",
       "    .dataframe thead th {\n",
       "        text-align: right;\n",
       "    }\n",
       "</style>\n",
       "<table border=\"1\" class=\"dataframe\">\n",
       "  <thead>\n",
       "    <tr style=\"text-align: right;\">\n",
       "      <th></th>\n",
       "      <th>agegroup__0</th>\n",
       "      <th>agegroup__1</th>\n",
       "      <th>agegroup__2</th>\n",
       "      <th>gender__F</th>\n",
       "      <th>gender__M</th>\n",
       "      <th>occupation__administrator</th>\n",
       "      <th>occupation__artist</th>\n",
       "      <th>occupation__doctor</th>\n",
       "      <th>occupation__educator</th>\n",
       "      <th>occupation__engineer</th>\n",
       "      <th>...</th>\n",
       "      <th>occupation__marketing</th>\n",
       "      <th>occupation__none</th>\n",
       "      <th>occupation__other</th>\n",
       "      <th>occupation__programmer</th>\n",
       "      <th>occupation__retired</th>\n",
       "      <th>occupation__salesman</th>\n",
       "      <th>occupation__scientist</th>\n",
       "      <th>occupation__student</th>\n",
       "      <th>occupation__technician</th>\n",
       "      <th>occupation__writer</th>\n",
       "    </tr>\n",
       "  </thead>\n",
       "  <tbody>\n",
       "    <tr>\n",
       "      <th>0</th>\n",
       "      <td>1.0</td>\n",
       "      <td>0.0</td>\n",
       "      <td>0.0</td>\n",
       "      <td>0.0</td>\n",
       "      <td>1.0</td>\n",
       "      <td>0.0</td>\n",
       "      <td>0.0</td>\n",
       "      <td>0.0</td>\n",
       "      <td>0.0</td>\n",
       "      <td>0.0</td>\n",
       "      <td>...</td>\n",
       "      <td>0.0</td>\n",
       "      <td>0.0</td>\n",
       "      <td>0.0</td>\n",
       "      <td>0.0</td>\n",
       "      <td>0.0</td>\n",
       "      <td>0.0</td>\n",
       "      <td>0.0</td>\n",
       "      <td>0.0</td>\n",
       "      <td>1.0</td>\n",
       "      <td>0.0</td>\n",
       "    </tr>\n",
       "    <tr>\n",
       "      <th>1</th>\n",
       "      <td>1.0</td>\n",
       "      <td>0.0</td>\n",
       "      <td>0.0</td>\n",
       "      <td>0.0</td>\n",
       "      <td>1.0</td>\n",
       "      <td>0.0</td>\n",
       "      <td>0.0</td>\n",
       "      <td>0.0</td>\n",
       "      <td>0.0</td>\n",
       "      <td>0.0</td>\n",
       "      <td>...</td>\n",
       "      <td>0.0</td>\n",
       "      <td>0.0</td>\n",
       "      <td>0.0</td>\n",
       "      <td>0.0</td>\n",
       "      <td>0.0</td>\n",
       "      <td>0.0</td>\n",
       "      <td>0.0</td>\n",
       "      <td>0.0</td>\n",
       "      <td>0.0</td>\n",
       "      <td>1.0</td>\n",
       "    </tr>\n",
       "    <tr>\n",
       "      <th>2</th>\n",
       "      <td>0.0</td>\n",
       "      <td>1.0</td>\n",
       "      <td>0.0</td>\n",
       "      <td>1.0</td>\n",
       "      <td>0.0</td>\n",
       "      <td>0.0</td>\n",
       "      <td>0.0</td>\n",
       "      <td>0.0</td>\n",
       "      <td>0.0</td>\n",
       "      <td>0.0</td>\n",
       "      <td>...</td>\n",
       "      <td>0.0</td>\n",
       "      <td>0.0</td>\n",
       "      <td>1.0</td>\n",
       "      <td>0.0</td>\n",
       "      <td>0.0</td>\n",
       "      <td>0.0</td>\n",
       "      <td>0.0</td>\n",
       "      <td>0.0</td>\n",
       "      <td>0.0</td>\n",
       "      <td>0.0</td>\n",
       "    </tr>\n",
       "    <tr>\n",
       "      <th>3</th>\n",
       "      <td>0.0</td>\n",
       "      <td>1.0</td>\n",
       "      <td>0.0</td>\n",
       "      <td>0.0</td>\n",
       "      <td>1.0</td>\n",
       "      <td>0.0</td>\n",
       "      <td>0.0</td>\n",
       "      <td>0.0</td>\n",
       "      <td>0.0</td>\n",
       "      <td>0.0</td>\n",
       "      <td>...</td>\n",
       "      <td>0.0</td>\n",
       "      <td>0.0</td>\n",
       "      <td>0.0</td>\n",
       "      <td>0.0</td>\n",
       "      <td>0.0</td>\n",
       "      <td>0.0</td>\n",
       "      <td>0.0</td>\n",
       "      <td>0.0</td>\n",
       "      <td>0.0</td>\n",
       "      <td>0.0</td>\n",
       "    </tr>\n",
       "    <tr>\n",
       "      <th>4</th>\n",
       "      <td>0.0</td>\n",
       "      <td>0.0</td>\n",
       "      <td>1.0</td>\n",
       "      <td>0.0</td>\n",
       "      <td>1.0</td>\n",
       "      <td>1.0</td>\n",
       "      <td>0.0</td>\n",
       "      <td>0.0</td>\n",
       "      <td>0.0</td>\n",
       "      <td>0.0</td>\n",
       "      <td>...</td>\n",
       "      <td>0.0</td>\n",
       "      <td>0.0</td>\n",
       "      <td>0.0</td>\n",
       "      <td>0.0</td>\n",
       "      <td>0.0</td>\n",
       "      <td>0.0</td>\n",
       "      <td>0.0</td>\n",
       "      <td>0.0</td>\n",
       "      <td>0.0</td>\n",
       "      <td>0.0</td>\n",
       "    </tr>\n",
       "  </tbody>\n",
       "</table>\n",
       "<p>5 rows × 26 columns</p>\n",
       "</div>"
      ],
      "text/plain": [
       "   agegroup__0  agegroup__1  agegroup__2  gender__F  gender__M  \\\n",
       "0          1.0          0.0          0.0        0.0        1.0   \n",
       "1          1.0          0.0          0.0        0.0        1.0   \n",
       "2          0.0          1.0          0.0        1.0        0.0   \n",
       "3          0.0          1.0          0.0        0.0        1.0   \n",
       "4          0.0          0.0          1.0        0.0        1.0   \n",
       "\n",
       "   occupation__administrator  occupation__artist  occupation__doctor  \\\n",
       "0                        0.0                 0.0                 0.0   \n",
       "1                        0.0                 0.0                 0.0   \n",
       "2                        0.0                 0.0                 0.0   \n",
       "3                        0.0                 0.0                 0.0   \n",
       "4                        1.0                 0.0                 0.0   \n",
       "\n",
       "   occupation__educator  occupation__engineer  ...  occupation__marketing  \\\n",
       "0                   0.0                   0.0  ...                    0.0   \n",
       "1                   0.0                   0.0  ...                    0.0   \n",
       "2                   0.0                   0.0  ...                    0.0   \n",
       "3                   0.0                   0.0  ...                    0.0   \n",
       "4                   0.0                   0.0  ...                    0.0   \n",
       "\n",
       "   occupation__none  occupation__other  occupation__programmer  \\\n",
       "0               0.0                0.0                     0.0   \n",
       "1               0.0                0.0                     0.0   \n",
       "2               0.0                1.0                     0.0   \n",
       "3               0.0                0.0                     0.0   \n",
       "4               0.0                0.0                     0.0   \n",
       "\n",
       "   occupation__retired  occupation__salesman  occupation__scientist  \\\n",
       "0                  0.0                   0.0                    0.0   \n",
       "1                  0.0                   0.0                    0.0   \n",
       "2                  0.0                   0.0                    0.0   \n",
       "3                  0.0                   0.0                    0.0   \n",
       "4                  0.0                   0.0                    0.0   \n",
       "\n",
       "   occupation__student  occupation__technician  occupation__writer  \n",
       "0                  0.0                     1.0                 0.0  \n",
       "1                  0.0                     0.0                 1.0  \n",
       "2                  0.0                     0.0                 0.0  \n",
       "3                  0.0                     0.0                 0.0  \n",
       "4                  0.0                     0.0                 0.0  \n",
       "\n",
       "[5 rows x 26 columns]"
      ]
     },
     "execution_count": 228,
     "metadata": {},
     "output_type": "execute_result"
    }
   ],
   "source": [
    "uf_checker = pd.DataFrame(model.x_uf, columns=user_features.columns[1:])\n",
    "uf_checker.head()"
   ]
  },
  {
   "cell_type": "code",
   "execution_count": 229,
   "metadata": {},
   "outputs": [
    {
     "data": {
      "text/html": [
       "<div>\n",
       "<style scoped>\n",
       "    .dataframe tbody tr th:only-of-type {\n",
       "        vertical-align: middle;\n",
       "    }\n",
       "\n",
       "    .dataframe tbody tr th {\n",
       "        vertical-align: top;\n",
       "    }\n",
       "\n",
       "    .dataframe thead th {\n",
       "        text-align: right;\n",
       "    }\n",
       "</style>\n",
       "<table border=\"1\" class=\"dataframe\">\n",
       "  <thead>\n",
       "    <tr style=\"text-align: right;\">\n",
       "      <th></th>\n",
       "      <th>user_id</th>\n",
       "      <th>agegroup__0</th>\n",
       "      <th>agegroup__1</th>\n",
       "      <th>agegroup__2</th>\n",
       "      <th>gender__F</th>\n",
       "      <th>gender__M</th>\n",
       "      <th>occupation__administrator</th>\n",
       "      <th>occupation__artist</th>\n",
       "      <th>occupation__doctor</th>\n",
       "      <th>occupation__educator</th>\n",
       "      <th>...</th>\n",
       "      <th>occupation__marketing</th>\n",
       "      <th>occupation__none</th>\n",
       "      <th>occupation__other</th>\n",
       "      <th>occupation__programmer</th>\n",
       "      <th>occupation__retired</th>\n",
       "      <th>occupation__salesman</th>\n",
       "      <th>occupation__scientist</th>\n",
       "      <th>occupation__student</th>\n",
       "      <th>occupation__technician</th>\n",
       "      <th>occupation__writer</th>\n",
       "    </tr>\n",
       "  </thead>\n",
       "  <tbody>\n",
       "    <tr>\n",
       "      <th>0</th>\n",
       "      <td>1</td>\n",
       "      <td>1</td>\n",
       "      <td>0</td>\n",
       "      <td>0</td>\n",
       "      <td>0</td>\n",
       "      <td>1</td>\n",
       "      <td>0</td>\n",
       "      <td>0</td>\n",
       "      <td>0</td>\n",
       "      <td>0</td>\n",
       "      <td>...</td>\n",
       "      <td>0</td>\n",
       "      <td>0</td>\n",
       "      <td>0</td>\n",
       "      <td>0</td>\n",
       "      <td>0</td>\n",
       "      <td>0</td>\n",
       "      <td>0</td>\n",
       "      <td>0</td>\n",
       "      <td>1</td>\n",
       "      <td>0</td>\n",
       "    </tr>\n",
       "    <tr>\n",
       "      <th>2</th>\n",
       "      <td>3</td>\n",
       "      <td>1</td>\n",
       "      <td>0</td>\n",
       "      <td>0</td>\n",
       "      <td>0</td>\n",
       "      <td>1</td>\n",
       "      <td>0</td>\n",
       "      <td>0</td>\n",
       "      <td>0</td>\n",
       "      <td>0</td>\n",
       "      <td>...</td>\n",
       "      <td>0</td>\n",
       "      <td>0</td>\n",
       "      <td>0</td>\n",
       "      <td>0</td>\n",
       "      <td>0</td>\n",
       "      <td>0</td>\n",
       "      <td>0</td>\n",
       "      <td>0</td>\n",
       "      <td>0</td>\n",
       "      <td>1</td>\n",
       "    </tr>\n",
       "    <tr>\n",
       "      <th>4</th>\n",
       "      <td>5</td>\n",
       "      <td>0</td>\n",
       "      <td>1</td>\n",
       "      <td>0</td>\n",
       "      <td>1</td>\n",
       "      <td>0</td>\n",
       "      <td>0</td>\n",
       "      <td>0</td>\n",
       "      <td>0</td>\n",
       "      <td>0</td>\n",
       "      <td>...</td>\n",
       "      <td>0</td>\n",
       "      <td>0</td>\n",
       "      <td>1</td>\n",
       "      <td>0</td>\n",
       "      <td>0</td>\n",
       "      <td>0</td>\n",
       "      <td>0</td>\n",
       "      <td>0</td>\n",
       "      <td>0</td>\n",
       "      <td>0</td>\n",
       "    </tr>\n",
       "    <tr>\n",
       "      <th>5</th>\n",
       "      <td>6</td>\n",
       "      <td>0</td>\n",
       "      <td>1</td>\n",
       "      <td>0</td>\n",
       "      <td>0</td>\n",
       "      <td>1</td>\n",
       "      <td>0</td>\n",
       "      <td>0</td>\n",
       "      <td>0</td>\n",
       "      <td>0</td>\n",
       "      <td>...</td>\n",
       "      <td>0</td>\n",
       "      <td>0</td>\n",
       "      <td>0</td>\n",
       "      <td>0</td>\n",
       "      <td>0</td>\n",
       "      <td>0</td>\n",
       "      <td>0</td>\n",
       "      <td>0</td>\n",
       "      <td>0</td>\n",
       "      <td>0</td>\n",
       "    </tr>\n",
       "    <tr>\n",
       "      <th>6</th>\n",
       "      <td>7</td>\n",
       "      <td>0</td>\n",
       "      <td>0</td>\n",
       "      <td>1</td>\n",
       "      <td>0</td>\n",
       "      <td>1</td>\n",
       "      <td>1</td>\n",
       "      <td>0</td>\n",
       "      <td>0</td>\n",
       "      <td>0</td>\n",
       "      <td>...</td>\n",
       "      <td>0</td>\n",
       "      <td>0</td>\n",
       "      <td>0</td>\n",
       "      <td>0</td>\n",
       "      <td>0</td>\n",
       "      <td>0</td>\n",
       "      <td>0</td>\n",
       "      <td>0</td>\n",
       "      <td>0</td>\n",
       "      <td>0</td>\n",
       "    </tr>\n",
       "  </tbody>\n",
       "</table>\n",
       "<p>5 rows × 27 columns</p>\n",
       "</div>"
      ],
      "text/plain": [
       "   user_id  agegroup__0  agegroup__1  agegroup__2  gender__F  gender__M  \\\n",
       "0        1            1            0            0          0          1   \n",
       "2        3            1            0            0          0          1   \n",
       "4        5            0            1            0          1          0   \n",
       "5        6            0            1            0          0          1   \n",
       "6        7            0            0            1          0          1   \n",
       "\n",
       "   occupation__administrator  occupation__artist  occupation__doctor  \\\n",
       "0                          0                   0                   0   \n",
       "2                          0                   0                   0   \n",
       "4                          0                   0                   0   \n",
       "5                          0                   0                   0   \n",
       "6                          1                   0                   0   \n",
       "\n",
       "   occupation__educator  ...  occupation__marketing  occupation__none  \\\n",
       "0                     0  ...                      0                 0   \n",
       "2                     0  ...                      0                 0   \n",
       "4                     0  ...                      0                 0   \n",
       "5                     0  ...                      0                 0   \n",
       "6                     0  ...                      0                 0   \n",
       "\n",
       "   occupation__other  occupation__programmer  occupation__retired  \\\n",
       "0                  0                       0                    0   \n",
       "2                  0                       0                    0   \n",
       "4                  1                       0                    0   \n",
       "5                  0                       0                    0   \n",
       "6                  0                       0                    0   \n",
       "\n",
       "   occupation__salesman  occupation__scientist  occupation__student  \\\n",
       "0                     0                      0                    0   \n",
       "2                     0                      0                    0   \n",
       "4                     0                      0                    0   \n",
       "5                     0                      0                    0   \n",
       "6                     0                      0                    0   \n",
       "\n",
       "   occupation__technician  occupation__writer  \n",
       "0                       1                   0  \n",
       "2                       0                   1  \n",
       "4                       0                   0  \n",
       "5                       0                   0  \n",
       "6                       0                   0  \n",
       "\n",
       "[5 rows x 27 columns]"
      ]
     },
     "execution_count": 229,
     "metadata": {},
     "output_type": "execute_result"
    }
   ],
   "source": [
    "user_features[user_features.user_id.isin(pd.Series([0,1,2,3,4]).map(model.index_to_user))]"
   ]
  },
  {
   "cell_type": "code",
   "execution_count": 230,
   "metadata": {},
   "outputs": [
    {
     "data": {
      "text/html": [
       "<div>\n",
       "<style scoped>\n",
       "    .dataframe tbody tr th:only-of-type {\n",
       "        vertical-align: middle;\n",
       "    }\n",
       "\n",
       "    .dataframe tbody tr th {\n",
       "        vertical-align: top;\n",
       "    }\n",
       "\n",
       "    .dataframe thead th {\n",
       "        text-align: right;\n",
       "    }\n",
       "</style>\n",
       "<table border=\"1\" class=\"dataframe\">\n",
       "  <thead>\n",
       "    <tr style=\"text-align: right;\">\n",
       "      <th></th>\n",
       "      <th>genre__action</th>\n",
       "      <th>genre__adventure</th>\n",
       "      <th>genre__animation</th>\n",
       "      <th>genre__childrens</th>\n",
       "      <th>genre__comedy</th>\n",
       "      <th>genre__crime</th>\n",
       "      <th>genre__documentary</th>\n",
       "      <th>genre__drama</th>\n",
       "      <th>genre__fantasy</th>\n",
       "      <th>genre__film_noir</th>\n",
       "      <th>genre__horror</th>\n",
       "      <th>genre__musical</th>\n",
       "      <th>genre__mystery</th>\n",
       "      <th>genre__romance</th>\n",
       "      <th>genre__scifi</th>\n",
       "      <th>genre__thriller</th>\n",
       "      <th>genre__war</th>\n",
       "      <th>genre__western</th>\n",
       "    </tr>\n",
       "  </thead>\n",
       "  <tbody>\n",
       "    <tr>\n",
       "      <th>0</th>\n",
       "      <td>0.0</td>\n",
       "      <td>0.0</td>\n",
       "      <td>1.0</td>\n",
       "      <td>1.0</td>\n",
       "      <td>1.0</td>\n",
       "      <td>0.0</td>\n",
       "      <td>0.0</td>\n",
       "      <td>0.0</td>\n",
       "      <td>0.0</td>\n",
       "      <td>0.0</td>\n",
       "      <td>0.0</td>\n",
       "      <td>0.0</td>\n",
       "      <td>0.0</td>\n",
       "      <td>0.0</td>\n",
       "      <td>0.0</td>\n",
       "      <td>0.0</td>\n",
       "      <td>0.0</td>\n",
       "      <td>0.0</td>\n",
       "    </tr>\n",
       "    <tr>\n",
       "      <th>1</th>\n",
       "      <td>1.0</td>\n",
       "      <td>1.0</td>\n",
       "      <td>0.0</td>\n",
       "      <td>0.0</td>\n",
       "      <td>0.0</td>\n",
       "      <td>0.0</td>\n",
       "      <td>0.0</td>\n",
       "      <td>0.0</td>\n",
       "      <td>0.0</td>\n",
       "      <td>0.0</td>\n",
       "      <td>0.0</td>\n",
       "      <td>0.0</td>\n",
       "      <td>0.0</td>\n",
       "      <td>0.0</td>\n",
       "      <td>0.0</td>\n",
       "      <td>1.0</td>\n",
       "      <td>0.0</td>\n",
       "      <td>0.0</td>\n",
       "    </tr>\n",
       "    <tr>\n",
       "      <th>2</th>\n",
       "      <td>0.0</td>\n",
       "      <td>0.0</td>\n",
       "      <td>0.0</td>\n",
       "      <td>0.0</td>\n",
       "      <td>0.0</td>\n",
       "      <td>0.0</td>\n",
       "      <td>0.0</td>\n",
       "      <td>0.0</td>\n",
       "      <td>0.0</td>\n",
       "      <td>0.0</td>\n",
       "      <td>0.0</td>\n",
       "      <td>0.0</td>\n",
       "      <td>0.0</td>\n",
       "      <td>0.0</td>\n",
       "      <td>0.0</td>\n",
       "      <td>1.0</td>\n",
       "      <td>0.0</td>\n",
       "      <td>0.0</td>\n",
       "    </tr>\n",
       "    <tr>\n",
       "      <th>3</th>\n",
       "      <td>1.0</td>\n",
       "      <td>0.0</td>\n",
       "      <td>0.0</td>\n",
       "      <td>0.0</td>\n",
       "      <td>1.0</td>\n",
       "      <td>0.0</td>\n",
       "      <td>0.0</td>\n",
       "      <td>1.0</td>\n",
       "      <td>0.0</td>\n",
       "      <td>0.0</td>\n",
       "      <td>0.0</td>\n",
       "      <td>0.0</td>\n",
       "      <td>0.0</td>\n",
       "      <td>0.0</td>\n",
       "      <td>0.0</td>\n",
       "      <td>0.0</td>\n",
       "      <td>0.0</td>\n",
       "      <td>0.0</td>\n",
       "    </tr>\n",
       "    <tr>\n",
       "      <th>4</th>\n",
       "      <td>0.0</td>\n",
       "      <td>0.0</td>\n",
       "      <td>0.0</td>\n",
       "      <td>0.0</td>\n",
       "      <td>0.0</td>\n",
       "      <td>1.0</td>\n",
       "      <td>0.0</td>\n",
       "      <td>1.0</td>\n",
       "      <td>0.0</td>\n",
       "      <td>0.0</td>\n",
       "      <td>0.0</td>\n",
       "      <td>0.0</td>\n",
       "      <td>0.0</td>\n",
       "      <td>0.0</td>\n",
       "      <td>0.0</td>\n",
       "      <td>1.0</td>\n",
       "      <td>0.0</td>\n",
       "      <td>0.0</td>\n",
       "    </tr>\n",
       "  </tbody>\n",
       "</table>\n",
       "</div>"
      ],
      "text/plain": [
       "   genre__action  genre__adventure  genre__animation  genre__childrens  \\\n",
       "0            0.0               0.0               1.0               1.0   \n",
       "1            1.0               1.0               0.0               0.0   \n",
       "2            0.0               0.0               0.0               0.0   \n",
       "3            1.0               0.0               0.0               0.0   \n",
       "4            0.0               0.0               0.0               0.0   \n",
       "\n",
       "   genre__comedy  genre__crime  genre__documentary  genre__drama  \\\n",
       "0            1.0           0.0                 0.0           0.0   \n",
       "1            0.0           0.0                 0.0           0.0   \n",
       "2            0.0           0.0                 0.0           0.0   \n",
       "3            1.0           0.0                 0.0           1.0   \n",
       "4            0.0           1.0                 0.0           1.0   \n",
       "\n",
       "   genre__fantasy  genre__film_noir  genre__horror  genre__musical  \\\n",
       "0             0.0               0.0            0.0             0.0   \n",
       "1             0.0               0.0            0.0             0.0   \n",
       "2             0.0               0.0            0.0             0.0   \n",
       "3             0.0               0.0            0.0             0.0   \n",
       "4             0.0               0.0            0.0             0.0   \n",
       "\n",
       "   genre__mystery  genre__romance  genre__scifi  genre__thriller  genre__war  \\\n",
       "0             0.0             0.0           0.0              0.0         0.0   \n",
       "1             0.0             0.0           0.0              1.0         0.0   \n",
       "2             0.0             0.0           0.0              1.0         0.0   \n",
       "3             0.0             0.0           0.0              0.0         0.0   \n",
       "4             0.0             0.0           0.0              1.0         0.0   \n",
       "\n",
       "   genre__western  \n",
       "0             0.0  \n",
       "1             0.0  \n",
       "2             0.0  \n",
       "3             0.0  \n",
       "4             0.0  "
      ]
     },
     "execution_count": 230,
     "metadata": {},
     "output_type": "execute_result"
    }
   ],
   "source": [
    "if_checker = pd.DataFrame(model.x_if, columns=item_features.columns[1:])\n",
    "if_checker.head()"
   ]
  },
  {
   "cell_type": "code",
   "execution_count": 231,
   "metadata": {},
   "outputs": [
    {
     "data": {
      "text/html": [
       "<div>\n",
       "<style scoped>\n",
       "    .dataframe tbody tr th:only-of-type {\n",
       "        vertical-align: middle;\n",
       "    }\n",
       "\n",
       "    .dataframe tbody tr th {\n",
       "        vertical-align: top;\n",
       "    }\n",
       "\n",
       "    .dataframe thead th {\n",
       "        text-align: right;\n",
       "    }\n",
       "</style>\n",
       "<table border=\"1\" class=\"dataframe\">\n",
       "  <thead>\n",
       "    <tr style=\"text-align: right;\">\n",
       "      <th></th>\n",
       "      <th>item_id</th>\n",
       "      <th>genre__action</th>\n",
       "      <th>genre__adventure</th>\n",
       "      <th>genre__animation</th>\n",
       "      <th>genre__childrens</th>\n",
       "      <th>genre__comedy</th>\n",
       "      <th>genre__crime</th>\n",
       "      <th>genre__documentary</th>\n",
       "      <th>genre__drama</th>\n",
       "      <th>genre__fantasy</th>\n",
       "      <th>genre__film_noir</th>\n",
       "      <th>genre__horror</th>\n",
       "      <th>genre__musical</th>\n",
       "      <th>genre__mystery</th>\n",
       "      <th>genre__romance</th>\n",
       "      <th>genre__scifi</th>\n",
       "      <th>genre__thriller</th>\n",
       "      <th>genre__war</th>\n",
       "      <th>genre__western</th>\n",
       "    </tr>\n",
       "  </thead>\n",
       "  <tbody>\n",
       "    <tr>\n",
       "      <th>0</th>\n",
       "      <td>1</td>\n",
       "      <td>0</td>\n",
       "      <td>0</td>\n",
       "      <td>1</td>\n",
       "      <td>1</td>\n",
       "      <td>1</td>\n",
       "      <td>0</td>\n",
       "      <td>0</td>\n",
       "      <td>0</td>\n",
       "      <td>0</td>\n",
       "      <td>0</td>\n",
       "      <td>0</td>\n",
       "      <td>0</td>\n",
       "      <td>0</td>\n",
       "      <td>0</td>\n",
       "      <td>0</td>\n",
       "      <td>0</td>\n",
       "      <td>0</td>\n",
       "      <td>0</td>\n",
       "    </tr>\n",
       "    <tr>\n",
       "      <th>1</th>\n",
       "      <td>2</td>\n",
       "      <td>1</td>\n",
       "      <td>1</td>\n",
       "      <td>0</td>\n",
       "      <td>0</td>\n",
       "      <td>0</td>\n",
       "      <td>0</td>\n",
       "      <td>0</td>\n",
       "      <td>0</td>\n",
       "      <td>0</td>\n",
       "      <td>0</td>\n",
       "      <td>0</td>\n",
       "      <td>0</td>\n",
       "      <td>0</td>\n",
       "      <td>0</td>\n",
       "      <td>0</td>\n",
       "      <td>1</td>\n",
       "      <td>0</td>\n",
       "      <td>0</td>\n",
       "    </tr>\n",
       "    <tr>\n",
       "      <th>2</th>\n",
       "      <td>3</td>\n",
       "      <td>0</td>\n",
       "      <td>0</td>\n",
       "      <td>0</td>\n",
       "      <td>0</td>\n",
       "      <td>0</td>\n",
       "      <td>0</td>\n",
       "      <td>0</td>\n",
       "      <td>0</td>\n",
       "      <td>0</td>\n",
       "      <td>0</td>\n",
       "      <td>0</td>\n",
       "      <td>0</td>\n",
       "      <td>0</td>\n",
       "      <td>0</td>\n",
       "      <td>0</td>\n",
       "      <td>1</td>\n",
       "      <td>0</td>\n",
       "      <td>0</td>\n",
       "    </tr>\n",
       "    <tr>\n",
       "      <th>3</th>\n",
       "      <td>4</td>\n",
       "      <td>1</td>\n",
       "      <td>0</td>\n",
       "      <td>0</td>\n",
       "      <td>0</td>\n",
       "      <td>1</td>\n",
       "      <td>0</td>\n",
       "      <td>0</td>\n",
       "      <td>1</td>\n",
       "      <td>0</td>\n",
       "      <td>0</td>\n",
       "      <td>0</td>\n",
       "      <td>0</td>\n",
       "      <td>0</td>\n",
       "      <td>0</td>\n",
       "      <td>0</td>\n",
       "      <td>0</td>\n",
       "      <td>0</td>\n",
       "      <td>0</td>\n",
       "    </tr>\n",
       "    <tr>\n",
       "      <th>4</th>\n",
       "      <td>5</td>\n",
       "      <td>0</td>\n",
       "      <td>0</td>\n",
       "      <td>0</td>\n",
       "      <td>0</td>\n",
       "      <td>0</td>\n",
       "      <td>1</td>\n",
       "      <td>0</td>\n",
       "      <td>1</td>\n",
       "      <td>0</td>\n",
       "      <td>0</td>\n",
       "      <td>0</td>\n",
       "      <td>0</td>\n",
       "      <td>0</td>\n",
       "      <td>0</td>\n",
       "      <td>0</td>\n",
       "      <td>1</td>\n",
       "      <td>0</td>\n",
       "      <td>0</td>\n",
       "    </tr>\n",
       "  </tbody>\n",
       "</table>\n",
       "</div>"
      ],
      "text/plain": [
       "   item_id  genre__action  genre__adventure  genre__animation  \\\n",
       "0        1              0                 0                 1   \n",
       "1        2              1                 1                 0   \n",
       "2        3              0                 0                 0   \n",
       "3        4              1                 0                 0   \n",
       "4        5              0                 0                 0   \n",
       "\n",
       "   genre__childrens  genre__comedy  genre__crime  genre__documentary  \\\n",
       "0                 1              1             0                   0   \n",
       "1                 0              0             0                   0   \n",
       "2                 0              0             0                   0   \n",
       "3                 0              1             0                   0   \n",
       "4                 0              0             1                   0   \n",
       "\n",
       "   genre__drama  genre__fantasy  genre__film_noir  genre__horror  \\\n",
       "0             0               0                 0              0   \n",
       "1             0               0                 0              0   \n",
       "2             0               0                 0              0   \n",
       "3             1               0                 0              0   \n",
       "4             1               0                 0              0   \n",
       "\n",
       "   genre__musical  genre__mystery  genre__romance  genre__scifi  \\\n",
       "0               0               0               0             0   \n",
       "1               0               0               0             0   \n",
       "2               0               0               0             0   \n",
       "3               0               0               0             0   \n",
       "4               0               0               0             0   \n",
       "\n",
       "   genre__thriller  genre__war  genre__western  \n",
       "0                0           0               0  \n",
       "1                1           0               0  \n",
       "2                1           0               0  \n",
       "3                0           0               0  \n",
       "4                1           0               0  "
      ]
     },
     "execution_count": 231,
     "metadata": {},
     "output_type": "execute_result"
    }
   ],
   "source": [
    "item_features[item_features.item_id.isin(pd.Series([0,1,2,3,4]).map(model.index_to_item))]"
   ]
  },
  {
   "cell_type": "markdown",
   "metadata": {},
   "source": [
    "#### Fit the Model on the Training Data and Profile Computational Performance"
   ]
  },
  {
   "cell_type": "code",
   "execution_count": 349,
   "metadata": {},
   "outputs": [
    {
     "name": "stdout",
     "output_type": "stream",
     "text": [
      "<class 'pandas.core.frame.DataFrame'>\n",
      "Int64Index: 40598 entries, 0 to 40645\n",
      "Data columns (total 2 columns):\n",
      "user_id    40598 non-null int64\n",
      "item_id    40598 non-null int64\n",
      "dtypes: int64(2)\n",
      "memory usage: 951.5 KB\n"
     ]
    }
   ],
   "source": [
    "interactions_train.info()"
   ]
  },
  {
   "cell_type": "code",
   "execution_count": 350,
   "metadata": {},
   "outputs": [
    {
     "data": {
      "text/plain": [
       "<rankfm.rankfm.RankFM at 0x1a272a49e8>"
      ]
     },
     "execution_count": 350,
     "metadata": {},
     "output_type": "execute_result"
    }
   ],
   "source": [
    "model = RankFM(factors=10, regularization=0.01, sigma=0.1, learning_rate=0.10, learning_schedule='constant', learning_exponent=0.25)\n",
    "model"
   ]
  },
  {
   "cell_type": "code",
   "execution_count": 351,
   "metadata": {},
   "outputs": [
    {
     "name": "stdout",
     "output_type": "stream",
     "text": [
      "\n",
      "training epoch: 0\n",
      "log likelihood: -19184.07\n",
      "\n",
      "training epoch: 1\n",
      "log likelihood: -15771.67\n",
      "\n",
      "training epoch: 2\n",
      "log likelihood: -14842.51\n",
      "\n",
      "training epoch: 3\n",
      "log likelihood: -14300.41\n",
      "\n",
      "training epoch: 4\n",
      "log likelihood: -13259.46\n",
      "\n",
      "training epoch: 5\n",
      "log likelihood: -12067.38\n",
      "\n",
      "training epoch: 6\n",
      "log likelihood: -11190.87\n",
      "\n",
      "training epoch: 7\n",
      "log likelihood: -10529.41\n",
      "\n",
      "training epoch: 8\n",
      "log likelihood: -10167.1\n",
      "\n",
      "training epoch: 9\n",
      "log likelihood: -9717.98\n",
      "\n",
      "training epoch: 10\n",
      "log likelihood: -9517.92\n",
      "\n",
      "training epoch: 11\n",
      "log likelihood: -9223.06\n",
      "\n",
      "training epoch: 12\n",
      "log likelihood: -8847.11\n",
      "\n",
      "training epoch: 13\n",
      "log likelihood: -8807.58\n",
      "\n",
      "training epoch: 14\n",
      "log likelihood: -8671.17\n",
      "\n",
      "training epoch: 15\n",
      "log likelihood: -8556.13\n",
      "\n",
      "training epoch: 16\n",
      "log likelihood: -8420.98\n",
      "\n",
      "training epoch: 17\n",
      "log likelihood: -8288.11\n",
      "\n",
      "training epoch: 18\n",
      "log likelihood: -8303.99\n",
      "\n",
      "training epoch: 19\n",
      "log likelihood: -8248.14\n",
      "\n",
      "training epoch: 20\n",
      "log likelihood: -8222.92\n",
      "\n",
      "training epoch: 21\n",
      "log likelihood: -8168.92\n",
      "\n",
      "training epoch: 22\n",
      "log likelihood: -8118.9\n",
      "\n",
      "training epoch: 23\n",
      "log likelihood: -8095.64\n",
      "\n",
      "training epoch: 24\n",
      "log likelihood: -7903.43\n",
      "\n",
      "training epoch: 25\n",
      "log likelihood: -7930.77\n",
      "\n",
      "training epoch: 26\n",
      "log likelihood: -7899.5\n",
      "\n",
      "training epoch: 27\n",
      "log likelihood: -7839.15\n",
      "\n",
      "training epoch: 28\n",
      "log likelihood: -7784.66\n",
      "\n",
      "training epoch: 29\n",
      "log likelihood: -7786.76\n",
      "\n",
      "training epoch: 30\n",
      "log likelihood: -7729.55\n",
      "\n",
      "training epoch: 31\n",
      "log likelihood: -7751.47\n",
      "\n",
      "training epoch: 32\n",
      "log likelihood: -7739.26\n",
      "\n",
      "training epoch: 33\n",
      "log likelihood: -7798.82\n",
      "\n",
      "training epoch: 34\n",
      "log likelihood: -7816.69\n",
      "\n",
      "training epoch: 35\n",
      "log likelihood: -7729.32\n",
      "\n",
      "training epoch: 36\n",
      "log likelihood: -7705.2\n",
      "\n",
      "training epoch: 37\n",
      "log likelihood: -7699.01\n",
      "\n",
      "training epoch: 38\n",
      "log likelihood: -7843.06\n",
      "\n",
      "training epoch: 39\n",
      "log likelihood: -7642.02\n",
      "\n",
      "training epoch: 40\n",
      "log likelihood: -7624.67\n",
      "\n",
      "training epoch: 41\n",
      "log likelihood: -7727.56\n",
      "\n",
      "training epoch: 42\n",
      "log likelihood: -7676.75\n",
      "\n",
      "training epoch: 43\n",
      "log likelihood: -7596.95\n",
      "\n",
      "training epoch: 44\n",
      "log likelihood: -7626.85\n",
      "\n",
      "training epoch: 45\n",
      "log likelihood: -7646.71\n",
      "\n",
      "training epoch: 46\n",
      "log likelihood: -7629.87\n",
      "\n",
      "training epoch: 47\n",
      "log likelihood: -7688.1\n",
      "\n",
      "training epoch: 48\n",
      "log likelihood: -7589.5\n",
      "\n",
      "training epoch: 49\n",
      "log likelihood: -7541.94\n",
      "\n",
      "training epoch: 50\n",
      "log likelihood: -7545.02\n",
      "\n",
      "training epoch: 51\n",
      "log likelihood: -7585.75\n",
      "\n",
      "training epoch: 52\n",
      "log likelihood: -7465.85\n",
      "\n",
      "training epoch: 53\n",
      "log likelihood: -7606.45\n",
      "\n",
      "training epoch: 54\n",
      "log likelihood: -7538.36\n",
      "\n",
      "training epoch: 55\n",
      "log likelihood: -7479.48\n",
      "\n",
      "training epoch: 56\n",
      "log likelihood: -7514.92\n",
      "\n",
      "training epoch: 57\n",
      "log likelihood: -7667.9\n",
      "\n",
      "training epoch: 58\n",
      "log likelihood: -7415.84\n",
      "\n",
      "training epoch: 59\n",
      "log likelihood: -7473.22\n",
      "\n",
      "training epoch: 60\n",
      "log likelihood: -7442.31\n",
      "\n",
      "training epoch: 61\n",
      "log likelihood: -7606.2\n",
      "\n",
      "training epoch: 62\n",
      "log likelihood: -7525.78\n",
      "\n",
      "training epoch: 63\n",
      "log likelihood: -7526.43\n",
      "\n",
      "training epoch: 64\n",
      "log likelihood: -7442.45\n",
      "\n",
      "training epoch: 65\n",
      "log likelihood: -7399.59\n",
      "\n",
      "training epoch: 66\n",
      "log likelihood: -7500.7\n",
      "\n",
      "training epoch: 67\n",
      "log likelihood: -7589.46\n",
      "\n",
      "training epoch: 68\n",
      "log likelihood: -7467.65\n",
      "\n",
      "training epoch: 69\n",
      "log likelihood: -7524.64\n",
      "\n",
      "training epoch: 70\n",
      "log likelihood: -7494.66\n",
      "\n",
      "training epoch: 71\n",
      "log likelihood: -7545.74\n",
      "\n",
      "training epoch: 72\n",
      "log likelihood: -7534.48\n",
      "\n",
      "training epoch: 73\n",
      "log likelihood: -7448.47\n",
      "\n",
      "training epoch: 74\n",
      "log likelihood: -7453.22\n",
      "\n",
      "training epoch: 75\n",
      "log likelihood: -7505.76\n",
      "\n",
      "training epoch: 76\n",
      "log likelihood: -7567.56\n",
      "\n",
      "training epoch: 77\n",
      "log likelihood: -7486.0\n",
      "\n",
      "training epoch: 78\n",
      "log likelihood: -7564.75\n",
      "\n",
      "training epoch: 79\n",
      "log likelihood: -7510.32\n",
      "\n",
      "training epoch: 80\n",
      "log likelihood: -7494.37\n",
      "\n",
      "training epoch: 81\n",
      "log likelihood: -7535.51\n",
      "\n",
      "training epoch: 82\n",
      "log likelihood: -7483.4\n",
      "\n",
      "training epoch: 83\n",
      "log likelihood: -7464.21\n",
      "\n",
      "training epoch: 84\n",
      "log likelihood: -7473.39\n",
      "\n",
      "training epoch: 85\n",
      "log likelihood: -7460.15\n",
      "\n",
      "training epoch: 86\n",
      "log likelihood: -7382.39\n",
      "\n",
      "training epoch: 87\n",
      "log likelihood: -7461.41\n",
      "\n",
      "training epoch: 88\n",
      "log likelihood: -7453.82\n",
      "\n",
      "training epoch: 89\n",
      "log likelihood: -7442.79\n",
      "\n",
      "training epoch: 90\n",
      "log likelihood: -7362.6\n",
      "\n",
      "training epoch: 91\n",
      "log likelihood: -7436.05\n",
      "\n",
      "training epoch: 92\n",
      "log likelihood: -7505.91\n",
      "\n",
      "training epoch: 93\n",
      "log likelihood: -7356.9\n",
      "\n",
      "training epoch: 94\n",
      "log likelihood: -7427.48\n",
      "\n",
      "training epoch: 95\n",
      "log likelihood: -7480.05\n",
      "\n",
      "training epoch: 96\n",
      "log likelihood: -7371.27\n",
      "\n",
      "training epoch: 97\n",
      "log likelihood: -7571.87\n",
      "\n",
      "training epoch: 98\n",
      "log likelihood: -7381.69\n",
      "\n",
      "training epoch: 99\n",
      "log likelihood: -7456.16\n",
      "CPU times: user 25.4 s, sys: 203 ms, total: 25.6 s\n",
      "Wall time: 25.9 s\n"
     ]
    }
   ],
   "source": [
    "%%time\n",
    "\n",
    "# model.fit(interactions_train, item_features=item_features, epochs=50, verbose=True)\n",
    "model.fit(interactions_train, epochs=100, verbose=True)"
   ]
  },
  {
   "cell_type": "code",
   "execution_count": 334,
   "metadata": {},
   "outputs": [],
   "source": [
    "# model.fit_partial(interactions_train, epochs=5, verbose=True)"
   ]
  },
  {
   "cell_type": "markdown",
   "metadata": {},
   "source": [
    "#### Generate Model Scores"
   ]
  },
  {
   "cell_type": "code",
   "execution_count": 352,
   "metadata": {},
   "outputs": [
    {
     "data": {
      "text/plain": [
       "(54194, 2)"
      ]
     },
     "execution_count": 352,
     "metadata": {},
     "output_type": "execute_result"
    }
   ],
   "source": [
    "interactions_total.shape"
   ]
  },
  {
   "cell_type": "code",
   "execution_count": 353,
   "metadata": {},
   "outputs": [
    {
     "name": "stdout",
     "output_type": "stream",
     "text": [
      "CPU times: user 70.9 ms, sys: 3.91 ms, total: 74.8 ms\n",
      "Wall time: 74.5 ms\n"
     ]
    }
   ],
   "source": [
    "%%time\n",
    "scores = model.predict(interactions_total, cold_start='nan') "
   ]
  },
  {
   "cell_type": "markdown",
   "metadata": {},
   "source": [
    "#### Generate TopN Recommendations"
   ]
  },
  {
   "cell_type": "code",
   "execution_count": 354,
   "metadata": {},
   "outputs": [
    {
     "name": "stdout",
     "output_type": "stream",
     "text": [
      "(943,)\n"
     ]
    },
    {
     "data": {
      "text/plain": [
       "0    253\n",
       "1    286\n",
       "2    200\n",
       "3    224\n",
       "4    122\n",
       "5    291\n",
       "6    119\n",
       "7    167\n",
       "8    299\n",
       "9    308\n",
       "dtype: int64"
      ]
     },
     "execution_count": 354,
     "metadata": {},
     "output_type": "execute_result"
    }
   ],
   "source": [
    "all_users = pd.Series(interactions_total.user_id.unique())\n",
    "print(all_users.shape)\n",
    "all_users.head(10)"
   ]
  },
  {
   "cell_type": "code",
   "execution_count": 355,
   "metadata": {},
   "outputs": [
    {
     "name": "stdout",
     "output_type": "stream",
     "text": [
      "CPU times: user 518 ms, sys: 9.87 ms, total: 528 ms\n",
      "Wall time: 135 ms\n"
     ]
    }
   ],
   "source": [
    "%%time\n",
    "top_recs = model.recommend_for_users(all_users, n_items=10, filter_previous=False, cold_start='nan')"
   ]
  },
  {
   "cell_type": "code",
   "execution_count": 356,
   "metadata": {},
   "outputs": [
    {
     "data": {
      "text/html": [
       "<div>\n",
       "<style scoped>\n",
       "    .dataframe tbody tr th:only-of-type {\n",
       "        vertical-align: middle;\n",
       "    }\n",
       "\n",
       "    .dataframe tbody tr th {\n",
       "        vertical-align: top;\n",
       "    }\n",
       "\n",
       "    .dataframe thead th {\n",
       "        text-align: right;\n",
       "    }\n",
       "</style>\n",
       "<table border=\"1\" class=\"dataframe\">\n",
       "  <thead>\n",
       "    <tr style=\"text-align: right;\">\n",
       "      <th></th>\n",
       "      <th>0</th>\n",
       "      <th>1</th>\n",
       "      <th>2</th>\n",
       "      <th>3</th>\n",
       "      <th>4</th>\n",
       "      <th>5</th>\n",
       "      <th>6</th>\n",
       "      <th>7</th>\n",
       "      <th>8</th>\n",
       "      <th>9</th>\n",
       "    </tr>\n",
       "  </thead>\n",
       "  <tbody>\n",
       "    <tr>\n",
       "      <th>253</th>\n",
       "      <td>50.0</td>\n",
       "      <td>69.0</td>\n",
       "      <td>204.0</td>\n",
       "      <td>28.0</td>\n",
       "      <td>56.0</td>\n",
       "      <td>181.0</td>\n",
       "      <td>22.0</td>\n",
       "      <td>318.0</td>\n",
       "      <td>172.0</td>\n",
       "      <td>210.0</td>\n",
       "    </tr>\n",
       "    <tr>\n",
       "      <th>286</th>\n",
       "      <td>83.0</td>\n",
       "      <td>272.0</td>\n",
       "      <td>248.0</td>\n",
       "      <td>421.0</td>\n",
       "      <td>588.0</td>\n",
       "      <td>258.0</td>\n",
       "      <td>268.0</td>\n",
       "      <td>710.0</td>\n",
       "      <td>173.0</td>\n",
       "      <td>1119.0</td>\n",
       "    </tr>\n",
       "    <tr>\n",
       "      <th>200</th>\n",
       "      <td>22.0</td>\n",
       "      <td>50.0</td>\n",
       "      <td>56.0</td>\n",
       "      <td>69.0</td>\n",
       "      <td>121.0</td>\n",
       "      <td>181.0</td>\n",
       "      <td>174.0</td>\n",
       "      <td>172.0</td>\n",
       "      <td>28.0</td>\n",
       "      <td>222.0</td>\n",
       "    </tr>\n",
       "    <tr>\n",
       "      <th>224</th>\n",
       "      <td>332.0</td>\n",
       "      <td>15.0</td>\n",
       "      <td>22.0</td>\n",
       "      <td>51.0</td>\n",
       "      <td>54.0</td>\n",
       "      <td>742.0</td>\n",
       "      <td>729.0</td>\n",
       "      <td>1119.0</td>\n",
       "      <td>280.0</td>\n",
       "      <td>69.0</td>\n",
       "    </tr>\n",
       "    <tr>\n",
       "      <th>122</th>\n",
       "      <td>708.0</td>\n",
       "      <td>213.0</td>\n",
       "      <td>655.0</td>\n",
       "      <td>52.0</td>\n",
       "      <td>200.0</td>\n",
       "      <td>64.0</td>\n",
       "      <td>185.0</td>\n",
       "      <td>527.0</td>\n",
       "      <td>238.0</td>\n",
       "      <td>157.0</td>\n",
       "    </tr>\n",
       "  </tbody>\n",
       "</table>\n",
       "</div>"
      ],
      "text/plain": [
       "         0      1      2      3      4      5      6       7      8       9\n",
       "253   50.0   69.0  204.0   28.0   56.0  181.0   22.0   318.0  172.0   210.0\n",
       "286   83.0  272.0  248.0  421.0  588.0  258.0  268.0   710.0  173.0  1119.0\n",
       "200   22.0   50.0   56.0   69.0  121.0  181.0  174.0   172.0   28.0   222.0\n",
       "224  332.0   15.0   22.0   51.0   54.0  742.0  729.0  1119.0  280.0    69.0\n",
       "122  708.0  213.0  655.0   52.0  200.0   64.0  185.0   527.0  238.0   157.0"
      ]
     },
     "execution_count": 356,
     "metadata": {},
     "output_type": "execute_result"
    }
   ],
   "source": [
    "top_recs.head()"
   ]
  },
  {
   "cell_type": "markdown",
   "metadata": {},
   "source": [
    "### Evaluate Model Performance on the Validation Data"
   ]
  },
  {
   "cell_type": "markdown",
   "metadata": {},
   "source": [
    "#### Specify Number of Recommended Items"
   ]
  },
  {
   "cell_type": "code",
   "execution_count": 357,
   "metadata": {},
   "outputs": [],
   "source": [
    "k = 10"
   ]
  },
  {
   "cell_type": "markdown",
   "metadata": {},
   "source": [
    "#### Generate Pure-Popularity Baselines"
   ]
  },
  {
   "cell_type": "code",
   "execution_count": 358,
   "metadata": {},
   "outputs": [
    {
     "data": {
      "text/plain": [
       "item_id\n",
       "50     357\n",
       "100    291\n",
       "181    277\n",
       "258    260\n",
       "98     249\n",
       "174    246\n",
       "127    245\n",
       "1      225\n",
       "56     223\n",
       "313    221\n",
       "Name: user_id, dtype: int64"
      ]
     },
     "execution_count": 358,
     "metadata": {},
     "output_type": "execute_result"
    }
   ],
   "source": [
    "most_popular = interactions_train.groupby('item_id')['user_id'].count().sort_values(ascending=False)[:k]\n",
    "most_popular"
   ]
  },
  {
   "cell_type": "code",
   "execution_count": 359,
   "metadata": {},
   "outputs": [
    {
     "name": "stdout",
     "output_type": "stream",
     "text": [
      "number of test users: 903\n",
      "baseline precision: 0.098\n",
      "baseline recall: 0.088\n"
     ]
    }
   ],
   "source": [
    "test_user_items = interactions_valid.groupby('user_id')['item_id'].apply(set).to_dict()\n",
    "test_recommends = model.recommend_for_users(list(test_user_items.keys()), cold_start='drop')\n",
    "test_user_items = {key: val for key, val in test_user_items.items() if key in test_recommends.index}\n",
    "\n",
    "base_pre = round(np.mean([len(set(most_popular.index) & set(val)) / len(set(most_popular.index)) for key, val in test_user_items.items()]), 3)\n",
    "base_rec = round(np.mean([len(set(most_popular.index) & set(val)) / len(set(val))                for key, val in test_user_items.items()]), 3)\n",
    "\n",
    "print(\"number of test users: {}\".format(len(test_user_items)))\n",
    "print(\"baseline precision: {}\".format(base_pre))\n",
    "print(\"baseline recall: {}\".format(base_rec))"
   ]
  },
  {
   "cell_type": "markdown",
   "metadata": {},
   "source": [
    "#### Generate Model Performance Validation Metriccs"
   ]
  },
  {
   "cell_type": "code",
   "execution_count": 360,
   "metadata": {},
   "outputs": [
    {
     "name": "stdout",
     "output_type": "stream",
     "text": [
      "CPU times: user 1 s, sys: 12.5 ms, total: 1.01 s\n",
      "Wall time: 319 ms\n"
     ]
    }
   ],
   "source": [
    "%%time\n",
    "model_hit_rate = hit_rate(model, interactions_valid, k=k)"
   ]
  },
  {
   "cell_type": "code",
   "execution_count": 361,
   "metadata": {},
   "outputs": [
    {
     "name": "stdout",
     "output_type": "stream",
     "text": [
      "CPU times: user 1.72 s, sys: 15.5 ms, total: 1.74 s\n",
      "Wall time: 681 ms\n"
     ]
    }
   ],
   "source": [
    "%%time \n",
    "model_reciprocal_rank = reciprocal_rank(model, interactions_valid, k=k)"
   ]
  },
  {
   "cell_type": "code",
   "execution_count": 362,
   "metadata": {},
   "outputs": [
    {
     "name": "stdout",
     "output_type": "stream",
     "text": [
      "CPU times: user 1.54 s, sys: 13.3 ms, total: 1.56 s\n",
      "Wall time: 690 ms\n"
     ]
    }
   ],
   "source": [
    "%%time \n",
    "model_dcg = discounted_cumulative_gain(model, interactions_valid, k=k)"
   ]
  },
  {
   "cell_type": "code",
   "execution_count": 363,
   "metadata": {},
   "outputs": [
    {
     "name": "stdout",
     "output_type": "stream",
     "text": [
      "CPU times: user 1.28 s, sys: 8.73 ms, total: 1.28 s\n",
      "Wall time: 386 ms\n"
     ]
    }
   ],
   "source": [
    "%%time\n",
    "model_precision = precision(model, interactions_valid, k=k)"
   ]
  },
  {
   "cell_type": "code",
   "execution_count": 364,
   "metadata": {},
   "outputs": [
    {
     "name": "stdout",
     "output_type": "stream",
     "text": [
      "CPU times: user 971 ms, sys: 8.25 ms, total: 979 ms\n",
      "Wall time: 315 ms\n"
     ]
    }
   ],
   "source": [
    "%%time\n",
    "model_recall = recall(model, interactions_valid, k=k)"
   ]
  },
  {
   "cell_type": "code",
   "execution_count": 365,
   "metadata": {},
   "outputs": [
    {
     "name": "stdout",
     "output_type": "stream",
     "text": [
      "hit_rate: 0.633\n",
      "reciprocal_rank: 0.287\n",
      "dcg: 0.6\n",
      "precision: 0.127\n",
      "recall: 0.144\n"
     ]
    }
   ],
   "source": [
    "print(\"hit_rate: {}\".format(round(model_hit_rate, 3)))\n",
    "print(\"reciprocal_rank: {}\".format(round(model_reciprocal_rank, 3)))\n",
    "print(\"dcg: {}\".format(round(model_dcg, 3)))\n",
    "print(\"precision: {}\".format(round(model_precision, 3)))\n",
    "print(\"recall: {}\".format(round(model_recall, 3)))"
   ]
  },
  {
   "cell_type": "markdown",
   "metadata": {},
   "source": [
    "#### Generate Item Diversity DataFrame"
   ]
  },
  {
   "cell_type": "code",
   "execution_count": 327,
   "metadata": {},
   "outputs": [
    {
     "data": {
      "text/html": [
       "<div>\n",
       "<style scoped>\n",
       "    .dataframe tbody tr th:only-of-type {\n",
       "        vertical-align: middle;\n",
       "    }\n",
       "\n",
       "    .dataframe tbody tr th {\n",
       "        vertical-align: top;\n",
       "    }\n",
       "\n",
       "    .dataframe thead th {\n",
       "        text-align: right;\n",
       "    }\n",
       "</style>\n",
       "<table border=\"1\" class=\"dataframe\">\n",
       "  <thead>\n",
       "    <tr style=\"text-align: right;\">\n",
       "      <th></th>\n",
       "      <th>item_id</th>\n",
       "      <th>cnt_users</th>\n",
       "      <th>pct_users</th>\n",
       "    </tr>\n",
       "  </thead>\n",
       "  <tbody>\n",
       "    <tr>\n",
       "      <th>0</th>\n",
       "      <td>50</td>\n",
       "      <td>456</td>\n",
       "      <td>0.504983</td>\n",
       "    </tr>\n",
       "    <tr>\n",
       "      <th>1</th>\n",
       "      <td>174</td>\n",
       "      <td>321</td>\n",
       "      <td>0.355482</td>\n",
       "    </tr>\n",
       "    <tr>\n",
       "      <th>2</th>\n",
       "      <td>258</td>\n",
       "      <td>253</td>\n",
       "      <td>0.280177</td>\n",
       "    </tr>\n",
       "    <tr>\n",
       "      <th>3</th>\n",
       "      <td>181</td>\n",
       "      <td>240</td>\n",
       "      <td>0.265781</td>\n",
       "    </tr>\n",
       "    <tr>\n",
       "      <th>4</th>\n",
       "      <td>127</td>\n",
       "      <td>229</td>\n",
       "      <td>0.253599</td>\n",
       "    </tr>\n",
       "    <tr>\n",
       "      <th>5</th>\n",
       "      <td>286</td>\n",
       "      <td>213</td>\n",
       "      <td>0.235880</td>\n",
       "    </tr>\n",
       "    <tr>\n",
       "      <th>6</th>\n",
       "      <td>98</td>\n",
       "      <td>207</td>\n",
       "      <td>0.229236</td>\n",
       "    </tr>\n",
       "    <tr>\n",
       "      <th>7</th>\n",
       "      <td>300</td>\n",
       "      <td>201</td>\n",
       "      <td>0.222591</td>\n",
       "    </tr>\n",
       "    <tr>\n",
       "      <th>8</th>\n",
       "      <td>100</td>\n",
       "      <td>195</td>\n",
       "      <td>0.215947</td>\n",
       "    </tr>\n",
       "    <tr>\n",
       "      <th>9</th>\n",
       "      <td>204</td>\n",
       "      <td>192</td>\n",
       "      <td>0.212625</td>\n",
       "    </tr>\n",
       "  </tbody>\n",
       "</table>\n",
       "</div>"
      ],
      "text/plain": [
       "   item_id  cnt_users  pct_users\n",
       "0       50        456   0.504983\n",
       "1      174        321   0.355482\n",
       "2      258        253   0.280177\n",
       "3      181        240   0.265781\n",
       "4      127        229   0.253599\n",
       "5      286        213   0.235880\n",
       "6       98        207   0.229236\n",
       "7      300        201   0.222591\n",
       "8      100        195   0.215947\n",
       "9      204        192   0.212625"
      ]
     },
     "execution_count": 327,
     "metadata": {},
     "output_type": "execute_result"
    }
   ],
   "source": [
    "model_diversity = diversity(model, interactions_valid, k=k)\n",
    "model_diversity.head(10)"
   ]
  },
  {
   "cell_type": "code",
   "execution_count": 328,
   "metadata": {},
   "outputs": [
    {
     "data": {
      "text/html": [
       "<div>\n",
       "<style scoped>\n",
       "    .dataframe tbody tr th:only-of-type {\n",
       "        vertical-align: middle;\n",
       "    }\n",
       "\n",
       "    .dataframe tbody tr th {\n",
       "        vertical-align: top;\n",
       "    }\n",
       "\n",
       "    .dataframe thead th {\n",
       "        text-align: right;\n",
       "    }\n",
       "</style>\n",
       "<table border=\"1\" class=\"dataframe\">\n",
       "  <thead>\n",
       "    <tr style=\"text-align: right;\">\n",
       "      <th></th>\n",
       "      <th>item_id</th>\n",
       "      <th>item_name</th>\n",
       "      <th>cnt_users</th>\n",
       "      <th>pct_users</th>\n",
       "    </tr>\n",
       "  </thead>\n",
       "  <tbody>\n",
       "    <tr>\n",
       "      <th>0</th>\n",
       "      <td>50</td>\n",
       "      <td>Star Wars (1977)</td>\n",
       "      <td>456</td>\n",
       "      <td>0.504983</td>\n",
       "    </tr>\n",
       "    <tr>\n",
       "      <th>1</th>\n",
       "      <td>174</td>\n",
       "      <td>Raiders of the Lost Ark (1981)</td>\n",
       "      <td>321</td>\n",
       "      <td>0.355482</td>\n",
       "    </tr>\n",
       "    <tr>\n",
       "      <th>2</th>\n",
       "      <td>258</td>\n",
       "      <td>Contact (1997)</td>\n",
       "      <td>253</td>\n",
       "      <td>0.280177</td>\n",
       "    </tr>\n",
       "    <tr>\n",
       "      <th>3</th>\n",
       "      <td>181</td>\n",
       "      <td>Return of the Jedi (1983)</td>\n",
       "      <td>240</td>\n",
       "      <td>0.265781</td>\n",
       "    </tr>\n",
       "    <tr>\n",
       "      <th>4</th>\n",
       "      <td>127</td>\n",
       "      <td>Godfather, The (1972)</td>\n",
       "      <td>229</td>\n",
       "      <td>0.253599</td>\n",
       "    </tr>\n",
       "    <tr>\n",
       "      <th>5</th>\n",
       "      <td>286</td>\n",
       "      <td>English Patient, The (1996)</td>\n",
       "      <td>213</td>\n",
       "      <td>0.235880</td>\n",
       "    </tr>\n",
       "    <tr>\n",
       "      <th>6</th>\n",
       "      <td>98</td>\n",
       "      <td>Silence of the Lambs, The (1991)</td>\n",
       "      <td>207</td>\n",
       "      <td>0.229236</td>\n",
       "    </tr>\n",
       "    <tr>\n",
       "      <th>7</th>\n",
       "      <td>300</td>\n",
       "      <td>Air Force One (1997)</td>\n",
       "      <td>201</td>\n",
       "      <td>0.222591</td>\n",
       "    </tr>\n",
       "    <tr>\n",
       "      <th>8</th>\n",
       "      <td>100</td>\n",
       "      <td>Fargo (1996)</td>\n",
       "      <td>195</td>\n",
       "      <td>0.215947</td>\n",
       "    </tr>\n",
       "    <tr>\n",
       "      <th>9</th>\n",
       "      <td>204</td>\n",
       "      <td>Back to the Future (1985)</td>\n",
       "      <td>192</td>\n",
       "      <td>0.212625</td>\n",
       "    </tr>\n",
       "  </tbody>\n",
       "</table>\n",
       "</div>"
      ],
      "text/plain": [
       "   item_id                         item_name  cnt_users  pct_users\n",
       "0       50                  Star Wars (1977)        456   0.504983\n",
       "1      174    Raiders of the Lost Ark (1981)        321   0.355482\n",
       "2      258                    Contact (1997)        253   0.280177\n",
       "3      181         Return of the Jedi (1983)        240   0.265781\n",
       "4      127             Godfather, The (1972)        229   0.253599\n",
       "5      286       English Patient, The (1996)        213   0.235880\n",
       "6       98  Silence of the Lambs, The (1991)        207   0.229236\n",
       "7      300              Air Force One (1997)        201   0.222591\n",
       "8      100                      Fargo (1996)        195   0.215947\n",
       "9      204         Back to the Future (1985)        192   0.212625"
      ]
     },
     "execution_count": 328,
     "metadata": {},
     "output_type": "execute_result"
    }
   ],
   "source": [
    "top_item_names = item_names[item_names.item_id.isin(model_diversity.item_id[:10])].set_index('item_id').loc[model_diversity.item_id[:10]].reset_index()\n",
    "top_item_names = pd.merge(top_item_names, model_diversity, on='item_id', how='inner')\n",
    "top_item_names"
   ]
  },
  {
   "cell_type": "code",
   "execution_count": 329,
   "metadata": {},
   "outputs": [
    {
     "data": {
      "text/plain": [
       "0.256"
      ]
     },
     "execution_count": 329,
     "metadata": {},
     "output_type": "execute_result"
    }
   ],
   "source": [
    "coverage = np.mean(model_diversity['cnt_users'] > 0)\n",
    "round(coverage, 3)"
   ]
  },
  {
   "cell_type": "code",
   "execution_count": 330,
   "metadata": {},
   "outputs": [
    {
     "data": {
      "text/plain": [
       "35.98"
      ]
     },
     "execution_count": 330,
     "metadata": {},
     "output_type": "execute_result"
    }
   ],
   "source": [
    "nonzero = model_diversity[model_diversity.cnt_users > 0]\n",
    "entropy = -np.sum(nonzero['pct_users'] * np.log2(nonzero['pct_users']))\n",
    "round(entropy, 2)"
   ]
  },
  {
   "cell_type": "code",
   "execution_count": 331,
   "metadata": {},
   "outputs": [
    {
     "data": {
      "image/png": "[encoded data removed]",
      "text/plain": [
       "<Figure size 1152x288 with 1 Axes>"
      ]
     },
     "metadata": {},
     "output_type": "display_data"
    }
   ],
   "source": [
    "fig, axes = plt.subplots(1, 1, figsize=[16, 4])\n",
    "N = 50\n",
    "\n",
    "topN = model_diversity.iloc[:N, :]\n",
    "axes.bar(topN.index.values + 1, topN.pct_users, width=1, edgecolor='black', alpha=0.75)\n",
    "axes.set(xlabel='Item Rank', ylabel='Percentage of Users', title='Percentage of Users Recommended by Item Rank')\n",
    "plt.show()"
   ]
  },
  {
   "cell_type": "markdown",
   "metadata": {},
   "source": [
    "### QA the Predict/Recommend/Similarity Methods"
   ]
  },
  {
   "cell_type": "markdown",
   "metadata": {},
   "source": [
    "#### Generate Model Scores for Test User/Items"
   ]
  },
  {
   "cell_type": "code",
   "execution_count": 77,
   "metadata": {},
   "outputs": [
    {
     "name": "stdout",
     "output_type": "stream",
     "text": [
      "(13548, 2)\n",
      "(13469, 2)\n"
     ]
    }
   ],
   "source": [
    "mask = (interactions_valid.user_id.isin(interactions_train.user_id)) & (interactions_valid.item_id.isin(interactions_train.item_id))\n",
    "print(interactions_valid.shape)\n",
    "print(interactions_valid[mask].shape)"
   ]
  },
  {
   "cell_type": "code",
   "execution_count": 78,
   "metadata": {},
   "outputs": [
    {
     "name": "stdout",
     "output_type": "stream",
     "text": [
      "(13548,)\n",
      "(13469,)\n"
     ]
    }
   ],
   "source": [
    "scores_miss = model.predict(interactions_valid, cold_start='nan')\n",
    "scores_drop = model.predict(interactions_valid, cold_start='drop')\n",
    "\n",
    "print(scores_miss.shape)\n",
    "print(scores_drop.shape)"
   ]
  },
  {
   "cell_type": "markdown",
   "metadata": {},
   "source": [
    "#### Spot-Check Some User Recommendations"
   ]
  },
  {
   "cell_type": "code",
   "execution_count": 79,
   "metadata": {},
   "outputs": [
    {
     "data": {
      "text/plain": [
       "(941, 905, {2, 4})"
      ]
     },
     "execution_count": 79,
     "metadata": {},
     "output_type": "execute_result"
    }
   ],
   "source": [
    "len(train_users), len(valid_users), cold_start_users"
   ]
  },
  {
   "cell_type": "code",
   "execution_count": 80,
   "metadata": {},
   "outputs": [
    {
     "name": "stdout",
     "output_type": "stream",
     "text": [
      "(905, 10)\n"
     ]
    },
    {
     "data": {
      "text/html": [
       "<div>\n",
       "<style scoped>\n",
       "    .dataframe tbody tr th:only-of-type {\n",
       "        vertical-align: middle;\n",
       "    }\n",
       "\n",
       "    .dataframe tbody tr th {\n",
       "        vertical-align: top;\n",
       "    }\n",
       "\n",
       "    .dataframe thead th {\n",
       "        text-align: right;\n",
       "    }\n",
       "</style>\n",
       "<table border=\"1\" class=\"dataframe\">\n",
       "  <thead>\n",
       "    <tr style=\"text-align: right;\">\n",
       "      <th></th>\n",
       "      <th>0</th>\n",
       "      <th>1</th>\n",
       "      <th>2</th>\n",
       "      <th>3</th>\n",
       "      <th>4</th>\n",
       "      <th>5</th>\n",
       "      <th>6</th>\n",
       "      <th>7</th>\n",
       "      <th>8</th>\n",
       "      <th>9</th>\n",
       "    </tr>\n",
       "  </thead>\n",
       "  <tbody>\n",
       "    <tr>\n",
       "      <th>1</th>\n",
       "      <td>200.0</td>\n",
       "      <td>172.0</td>\n",
       "      <td>11.0</td>\n",
       "      <td>273.0</td>\n",
       "      <td>603.0</td>\n",
       "      <td>204.0</td>\n",
       "      <td>357.0</td>\n",
       "      <td>655.0</td>\n",
       "      <td>218.0</td>\n",
       "      <td>318.0</td>\n",
       "    </tr>\n",
       "    <tr>\n",
       "      <th>2</th>\n",
       "      <td>NaN</td>\n",
       "      <td>NaN</td>\n",
       "      <td>NaN</td>\n",
       "      <td>NaN</td>\n",
       "      <td>NaN</td>\n",
       "      <td>NaN</td>\n",
       "      <td>NaN</td>\n",
       "      <td>NaN</td>\n",
       "      <td>NaN</td>\n",
       "      <td>NaN</td>\n",
       "    </tr>\n",
       "    <tr>\n",
       "      <th>3</th>\n",
       "      <td>313.0</td>\n",
       "      <td>300.0</td>\n",
       "      <td>333.0</td>\n",
       "      <td>301.0</td>\n",
       "      <td>258.0</td>\n",
       "      <td>690.0</td>\n",
       "      <td>245.0</td>\n",
       "      <td>748.0</td>\n",
       "      <td>272.0</td>\n",
       "      <td>315.0</td>\n",
       "    </tr>\n",
       "    <tr>\n",
       "      <th>4</th>\n",
       "      <td>NaN</td>\n",
       "      <td>NaN</td>\n",
       "      <td>NaN</td>\n",
       "      <td>NaN</td>\n",
       "      <td>NaN</td>\n",
       "      <td>NaN</td>\n",
       "      <td>NaN</td>\n",
       "      <td>NaN</td>\n",
       "      <td>NaN</td>\n",
       "      <td>NaN</td>\n",
       "    </tr>\n",
       "    <tr>\n",
       "      <th>5</th>\n",
       "      <td>96.0</td>\n",
       "      <td>174.0</td>\n",
       "      <td>210.0</td>\n",
       "      <td>202.0</td>\n",
       "      <td>195.0</td>\n",
       "      <td>72.0</td>\n",
       "      <td>22.0</td>\n",
       "      <td>200.0</td>\n",
       "      <td>82.0</td>\n",
       "      <td>181.0</td>\n",
       "    </tr>\n",
       "    <tr>\n",
       "      <th>6</th>\n",
       "      <td>496.0</td>\n",
       "      <td>654.0</td>\n",
       "      <td>603.0</td>\n",
       "      <td>659.0</td>\n",
       "      <td>172.0</td>\n",
       "      <td>48.0</td>\n",
       "      <td>182.0</td>\n",
       "      <td>647.0</td>\n",
       "      <td>190.0</td>\n",
       "      <td>606.0</td>\n",
       "    </tr>\n",
       "    <tr>\n",
       "      <th>7</th>\n",
       "      <td>202.0</td>\n",
       "      <td>143.0</td>\n",
       "      <td>176.0</td>\n",
       "      <td>318.0</td>\n",
       "      <td>173.0</td>\n",
       "      <td>50.0</td>\n",
       "      <td>1.0</td>\n",
       "      <td>211.0</td>\n",
       "      <td>12.0</td>\n",
       "      <td>95.0</td>\n",
       "    </tr>\n",
       "    <tr>\n",
       "      <th>8</th>\n",
       "      <td>96.0</td>\n",
       "      <td>1.0</td>\n",
       "      <td>168.0</td>\n",
       "      <td>98.0</td>\n",
       "      <td>186.0</td>\n",
       "      <td>202.0</td>\n",
       "      <td>234.0</td>\n",
       "      <td>204.0</td>\n",
       "      <td>173.0</td>\n",
       "      <td>12.0</td>\n",
       "    </tr>\n",
       "    <tr>\n",
       "      <th>9</th>\n",
       "      <td>127.0</td>\n",
       "      <td>258.0</td>\n",
       "      <td>313.0</td>\n",
       "      <td>100.0</td>\n",
       "      <td>1.0</td>\n",
       "      <td>56.0</td>\n",
       "      <td>268.0</td>\n",
       "      <td>98.0</td>\n",
       "      <td>181.0</td>\n",
       "      <td>288.0</td>\n",
       "    </tr>\n",
       "    <tr>\n",
       "      <th>10</th>\n",
       "      <td>318.0</td>\n",
       "      <td>514.0</td>\n",
       "      <td>511.0</td>\n",
       "      <td>427.0</td>\n",
       "      <td>213.0</td>\n",
       "      <td>238.0</td>\n",
       "      <td>515.0</td>\n",
       "      <td>98.0</td>\n",
       "      <td>194.0</td>\n",
       "      <td>64.0</td>\n",
       "    </tr>\n",
       "  </tbody>\n",
       "</table>\n",
       "</div>"
      ],
      "text/plain": [
       "        0      1      2      3      4      5      6      7      8      9\n",
       "1   200.0  172.0   11.0  273.0  603.0  204.0  357.0  655.0  218.0  318.0\n",
       "2     NaN    NaN    NaN    NaN    NaN    NaN    NaN    NaN    NaN    NaN\n",
       "3   313.0  300.0  333.0  301.0  258.0  690.0  245.0  748.0  272.0  315.0\n",
       "4     NaN    NaN    NaN    NaN    NaN    NaN    NaN    NaN    NaN    NaN\n",
       "5    96.0  174.0  210.0  202.0  195.0   72.0   22.0  200.0   82.0  181.0\n",
       "6   496.0  654.0  603.0  659.0  172.0   48.0  182.0  647.0  190.0  606.0\n",
       "7   202.0  143.0  176.0  318.0  173.0   50.0    1.0  211.0   12.0   95.0\n",
       "8    96.0    1.0  168.0   98.0  186.0  202.0  234.0  204.0  173.0   12.0\n",
       "9   127.0  258.0  313.0  100.0    1.0   56.0  268.0   98.0  181.0  288.0\n",
       "10  318.0  514.0  511.0  427.0  213.0  238.0  515.0   98.0  194.0   64.0"
      ]
     },
     "execution_count": 80,
     "metadata": {},
     "output_type": "execute_result"
    }
   ],
   "source": [
    "recommendations = model.recommend_for_users(valid_users, n_items=10, filter_previous=True, cold_start='nan')\n",
    "print(recommendations.shape)\n",
    "recommendations.head(10)"
   ]
  },
  {
   "cell_type": "code",
   "execution_count": 81,
   "metadata": {},
   "outputs": [
    {
     "data": {
      "text/html": [
       "<div>\n",
       "<style scoped>\n",
       "    .dataframe tbody tr th:only-of-type {\n",
       "        vertical-align: middle;\n",
       "    }\n",
       "\n",
       "    .dataframe tbody tr th {\n",
       "        vertical-align: top;\n",
       "    }\n",
       "\n",
       "    .dataframe thead th {\n",
       "        text-align: right;\n",
       "    }\n",
       "</style>\n",
       "<table border=\"1\" class=\"dataframe\">\n",
       "  <thead>\n",
       "    <tr style=\"text-align: right;\">\n",
       "      <th></th>\n",
       "      <th>item_name</th>\n",
       "    </tr>\n",
       "    <tr>\n",
       "      <th>item_id</th>\n",
       "      <th></th>\n",
       "    </tr>\n",
       "  </thead>\n",
       "  <tbody>\n",
       "    <tr>\n",
       "      <th>96.0</th>\n",
       "      <td>Terminator 2: Judgment Day (1991)</td>\n",
       "    </tr>\n",
       "    <tr>\n",
       "      <th>174.0</th>\n",
       "      <td>Raiders of the Lost Ark (1981)</td>\n",
       "    </tr>\n",
       "    <tr>\n",
       "      <th>210.0</th>\n",
       "      <td>Indiana Jones and the Last Crusade (1989)</td>\n",
       "    </tr>\n",
       "    <tr>\n",
       "      <th>202.0</th>\n",
       "      <td>Groundhog Day (1993)</td>\n",
       "    </tr>\n",
       "    <tr>\n",
       "      <th>195.0</th>\n",
       "      <td>Terminator, The (1984)</td>\n",
       "    </tr>\n",
       "    <tr>\n",
       "      <th>72.0</th>\n",
       "      <td>Mask, The (1994)</td>\n",
       "    </tr>\n",
       "    <tr>\n",
       "      <th>22.0</th>\n",
       "      <td>Braveheart (1995)</td>\n",
       "    </tr>\n",
       "    <tr>\n",
       "      <th>200.0</th>\n",
       "      <td>Shining, The (1980)</td>\n",
       "    </tr>\n",
       "    <tr>\n",
       "      <th>82.0</th>\n",
       "      <td>Jurassic Park (1993)</td>\n",
       "    </tr>\n",
       "    <tr>\n",
       "      <th>181.0</th>\n",
       "      <td>Return of the Jedi (1983)</td>\n",
       "    </tr>\n",
       "  </tbody>\n",
       "</table>\n",
       "</div>"
      ],
      "text/plain": [
       "                                         item_name\n",
       "item_id                                           \n",
       "96.0             Terminator 2: Judgment Day (1991)\n",
       "174.0               Raiders of the Lost Ark (1981)\n",
       "210.0    Indiana Jones and the Last Crusade (1989)\n",
       "202.0                         Groundhog Day (1993)\n",
       "195.0                       Terminator, The (1984)\n",
       "72.0                              Mask, The (1994)\n",
       "22.0                             Braveheart (1995)\n",
       "200.0                          Shining, The (1980)\n",
       "82.0                          Jurassic Park (1993)\n",
       "181.0                    Return of the Jedi (1983)"
      ]
     },
     "execution_count": 81,
     "metadata": {},
     "output_type": "execute_result"
    }
   ],
   "source": [
    "user_id = 5\n",
    "user_recs = recommendations.loc[user_id]\n",
    "user_item_names = item_names[item_names.item_id.isin(user_recs)].set_index('item_id').loc[user_recs]\n",
    "user_item_names"
   ]
  },
  {
   "cell_type": "markdown",
   "metadata": {},
   "source": [
    "#### Look at Similar Movies for a Few Recommended Movies"
   ]
  },
  {
   "cell_type": "code",
   "execution_count": 82,
   "metadata": {},
   "outputs": [
    {
     "data": {
      "text/html": [
       "<div>\n",
       "<style scoped>\n",
       "    .dataframe tbody tr th:only-of-type {\n",
       "        vertical-align: middle;\n",
       "    }\n",
       "\n",
       "    .dataframe tbody tr th {\n",
       "        vertical-align: top;\n",
       "    }\n",
       "\n",
       "    .dataframe thead th {\n",
       "        text-align: right;\n",
       "    }\n",
       "</style>\n",
       "<table border=\"1\" class=\"dataframe\">\n",
       "  <thead>\n",
       "    <tr style=\"text-align: right;\">\n",
       "      <th></th>\n",
       "      <th>item_name</th>\n",
       "    </tr>\n",
       "    <tr>\n",
       "      <th>item_id</th>\n",
       "      <th></th>\n",
       "    </tr>\n",
       "  </thead>\n",
       "  <tbody>\n",
       "    <tr>\n",
       "      <th>227</th>\n",
       "      <td>Star Trek VI: The Undiscovered Country (1991)</td>\n",
       "    </tr>\n",
       "    <tr>\n",
       "      <th>219</th>\n",
       "      <td>Nightmare on Elm Street, A (1984)</td>\n",
       "    </tr>\n",
       "    <tr>\n",
       "      <th>201</th>\n",
       "      <td>Evil Dead II (1987)</td>\n",
       "    </tr>\n",
       "    <tr>\n",
       "      <th>128</th>\n",
       "      <td>Supercop (1992)</td>\n",
       "    </tr>\n",
       "    <tr>\n",
       "      <th>200</th>\n",
       "      <td>Shining, The (1980)</td>\n",
       "    </tr>\n",
       "    <tr>\n",
       "      <th>68</th>\n",
       "      <td>Crow, The (1994)</td>\n",
       "    </tr>\n",
       "    <tr>\n",
       "      <th>17</th>\n",
       "      <td>From Dusk Till Dawn (1996)</td>\n",
       "    </tr>\n",
       "    <tr>\n",
       "      <th>550</th>\n",
       "      <td>Die Hard: With a Vengeance (1995)</td>\n",
       "    </tr>\n",
       "    <tr>\n",
       "      <th>92</th>\n",
       "      <td>True Romance (1993)</td>\n",
       "    </tr>\n",
       "    <tr>\n",
       "      <th>578</th>\n",
       "      <td>Demolition Man (1993)</td>\n",
       "    </tr>\n",
       "  </tbody>\n",
       "</table>\n",
       "</div>"
      ],
      "text/plain": [
       "                                             item_name\n",
       "item_id                                               \n",
       "227      Star Trek VI: The Undiscovered Country (1991)\n",
       "219                  Nightmare on Elm Street, A (1984)\n",
       "201                                Evil Dead II (1987)\n",
       "128                                    Supercop (1992)\n",
       "200                                Shining, The (1980)\n",
       "68                                    Crow, The (1994)\n",
       "17                          From Dusk Till Dawn (1996)\n",
       "550                  Die Hard: With a Vengeance (1995)\n",
       "92                                 True Romance (1993)\n",
       "578                              Demolition Man (1993)"
      ]
     },
     "execution_count": 82,
     "metadata": {},
     "output_type": "execute_result"
    }
   ],
   "source": [
    "most_similar_items = model.similar_items(184.0)\n",
    "most_similar_names = item_names.set_index('item_id').loc[most_similar_items]\n",
    "most_similar_names"
   ]
  },
  {
   "cell_type": "markdown",
   "metadata": {},
   "source": [
    "### Look at the Movies with the Highest/Lowest Model Weights"
   ]
  },
  {
   "cell_type": "code",
   "execution_count": 83,
   "metadata": {},
   "outputs": [],
   "source": [
    "item_weights = pd.DataFrame({'item_idx': np.arange(len(model.w_i)), 'w_item': model.w_i})\n",
    "item_weights['item_id'] = item_weights['item_idx'].map(model.index_to_item)\n",
    "item_weights = pd.merge(item_weights, item_names, on='item_id').sort_values('w_item', ascending=False)\n",
    "item_weights = item_weights[['item_id', 'item_idx', 'item_name', 'w_item']]"
   ]
  },
  {
   "cell_type": "markdown",
   "metadata": {},
   "source": [
    "#### Best Movies Ever?"
   ]
  },
  {
   "cell_type": "code",
   "execution_count": 84,
   "metadata": {},
   "outputs": [
    {
     "data": {
      "text/html": [
       "<div>\n",
       "<style scoped>\n",
       "    .dataframe tbody tr th:only-of-type {\n",
       "        vertical-align: middle;\n",
       "    }\n",
       "\n",
       "    .dataframe tbody tr th {\n",
       "        vertical-align: top;\n",
       "    }\n",
       "\n",
       "    .dataframe thead th {\n",
       "        text-align: right;\n",
       "    }\n",
       "</style>\n",
       "<table border=\"1\" class=\"dataframe\">\n",
       "  <thead>\n",
       "    <tr style=\"text-align: right;\">\n",
       "      <th></th>\n",
       "      <th>item_id</th>\n",
       "      <th>item_idx</th>\n",
       "      <th>item_name</th>\n",
       "      <th>w_item</th>\n",
       "    </tr>\n",
       "  </thead>\n",
       "  <tbody>\n",
       "    <tr>\n",
       "      <th>124</th>\n",
       "      <td>127</td>\n",
       "      <td>124</td>\n",
       "      <td>Godfather, The (1972)</td>\n",
       "      <td>2.479846</td>\n",
       "    </tr>\n",
       "    <tr>\n",
       "      <th>49</th>\n",
       "      <td>50</td>\n",
       "      <td>49</td>\n",
       "      <td>Star Wars (1977)</td>\n",
       "      <td>2.429915</td>\n",
       "    </tr>\n",
       "    <tr>\n",
       "      <th>310</th>\n",
       "      <td>313</td>\n",
       "      <td>310</td>\n",
       "      <td>Titanic (1997)</td>\n",
       "      <td>2.328135</td>\n",
       "    </tr>\n",
       "    <tr>\n",
       "      <th>255</th>\n",
       "      <td>258</td>\n",
       "      <td>255</td>\n",
       "      <td>Contact (1997)</td>\n",
       "      <td>2.325884</td>\n",
       "    </tr>\n",
       "    <tr>\n",
       "      <th>0</th>\n",
       "      <td>1</td>\n",
       "      <td>0</td>\n",
       "      <td>Toy Story (1995)</td>\n",
       "      <td>2.285017</td>\n",
       "    </tr>\n",
       "    <tr>\n",
       "      <th>99</th>\n",
       "      <td>100</td>\n",
       "      <td>99</td>\n",
       "      <td>Fargo (1996)</td>\n",
       "      <td>2.228922</td>\n",
       "    </tr>\n",
       "    <tr>\n",
       "      <th>283</th>\n",
       "      <td>286</td>\n",
       "      <td>283</td>\n",
       "      <td>English Patient, The (1996)</td>\n",
       "      <td>2.118973</td>\n",
       "    </tr>\n",
       "    <tr>\n",
       "      <th>178</th>\n",
       "      <td>181</td>\n",
       "      <td>178</td>\n",
       "      <td>Return of the Jedi (1983)</td>\n",
       "      <td>2.116019</td>\n",
       "    </tr>\n",
       "    <tr>\n",
       "      <th>97</th>\n",
       "      <td>98</td>\n",
       "      <td>97</td>\n",
       "      <td>Silence of the Lambs, The (1991)</td>\n",
       "      <td>2.063701</td>\n",
       "    </tr>\n",
       "    <tr>\n",
       "      <th>201</th>\n",
       "      <td>204</td>\n",
       "      <td>201</td>\n",
       "      <td>Back to the Future (1985)</td>\n",
       "      <td>2.029269</td>\n",
       "    </tr>\n",
       "  </tbody>\n",
       "</table>\n",
       "</div>"
      ],
      "text/plain": [
       "     item_id  item_idx                         item_name    w_item\n",
       "124      127       124             Godfather, The (1972)  2.479846\n",
       "49        50        49                  Star Wars (1977)  2.429915\n",
       "310      313       310                    Titanic (1997)  2.328135\n",
       "255      258       255                    Contact (1997)  2.325884\n",
       "0          1         0                  Toy Story (1995)  2.285017\n",
       "99       100        99                      Fargo (1996)  2.228922\n",
       "283      286       283       English Patient, The (1996)  2.118973\n",
       "178      181       178         Return of the Jedi (1983)  2.116019\n",
       "97        98        97  Silence of the Lambs, The (1991)  2.063701\n",
       "201      204       201         Back to the Future (1985)  2.029269"
      ]
     },
     "execution_count": 84,
     "metadata": {},
     "output_type": "execute_result"
    }
   ],
   "source": [
    "item_weights.head(10)"
   ]
  },
  {
   "cell_type": "markdown",
   "metadata": {},
   "source": [
    "#### Worst Movies Ever?"
   ]
  },
  {
   "cell_type": "code",
   "execution_count": 85,
   "metadata": {},
   "outputs": [
    {
     "data": {
      "text/html": [
       "<div>\n",
       "<style scoped>\n",
       "    .dataframe tbody tr th:only-of-type {\n",
       "        vertical-align: middle;\n",
       "    }\n",
       "\n",
       "    .dataframe tbody tr th {\n",
       "        vertical-align: top;\n",
       "    }\n",
       "\n",
       "    .dataframe thead th {\n",
       "        text-align: right;\n",
       "    }\n",
       "</style>\n",
       "<table border=\"1\" class=\"dataframe\">\n",
       "  <thead>\n",
       "    <tr style=\"text-align: right;\">\n",
       "      <th></th>\n",
       "      <th>item_id</th>\n",
       "      <th>item_idx</th>\n",
       "      <th>item_name</th>\n",
       "      <th>w_item</th>\n",
       "    </tr>\n",
       "  </thead>\n",
       "  <tbody>\n",
       "    <tr>\n",
       "      <th>1295</th>\n",
       "      <td>1413</td>\n",
       "      <td>1295</td>\n",
       "      <td>Street Fighter (1994)</td>\n",
       "      <td>-1.758573</td>\n",
       "    </tr>\n",
       "    <tr>\n",
       "      <th>430</th>\n",
       "      <td>440</td>\n",
       "      <td>430</td>\n",
       "      <td>Amityville II: The Possession (1982)</td>\n",
       "      <td>-1.766176</td>\n",
       "    </tr>\n",
       "    <tr>\n",
       "      <th>1132</th>\n",
       "      <td>1185</td>\n",
       "      <td>1132</td>\n",
       "      <td>In the Army Now (1994)</td>\n",
       "      <td>-1.780902</td>\n",
       "    </tr>\n",
       "    <tr>\n",
       "      <th>1281</th>\n",
       "      <td>1395</td>\n",
       "      <td>1281</td>\n",
       "      <td>Hurricane Streets (1998)</td>\n",
       "      <td>-1.785970</td>\n",
       "    </tr>\n",
       "    <tr>\n",
       "      <th>73</th>\n",
       "      <td>74</td>\n",
       "      <td>73</td>\n",
       "      <td>Faster Pussycat! Kill! Kill! (1965)</td>\n",
       "      <td>-1.790987</td>\n",
       "    </tr>\n",
       "    <tr>\n",
       "      <th>1417</th>\n",
       "      <td>1650</td>\n",
       "      <td>1417</td>\n",
       "      <td>Butcher Boy, The (1998)</td>\n",
       "      <td>-1.792598</td>\n",
       "    </tr>\n",
       "    <tr>\n",
       "      <th>1321</th>\n",
       "      <td>1452</td>\n",
       "      <td>1321</td>\n",
       "      <td>Lady of Burlesque (1943)</td>\n",
       "      <td>-1.793571</td>\n",
       "    </tr>\n",
       "    <tr>\n",
       "      <th>1264</th>\n",
       "      <td>1376</td>\n",
       "      <td>1264</td>\n",
       "      <td>Meet Wally Sparks (1997)</td>\n",
       "      <td>-1.807712</td>\n",
       "    </tr>\n",
       "    <tr>\n",
       "      <th>1345</th>\n",
       "      <td>1490</td>\n",
       "      <td>1345</td>\n",
       "      <td>Fausto (1993)</td>\n",
       "      <td>-1.816100</td>\n",
       "    </tr>\n",
       "    <tr>\n",
       "      <th>1253</th>\n",
       "      <td>1351</td>\n",
       "      <td>1253</td>\n",
       "      <td>Lover's Knot (1996)</td>\n",
       "      <td>-1.828212</td>\n",
       "    </tr>\n",
       "  </tbody>\n",
       "</table>\n",
       "</div>"
      ],
      "text/plain": [
       "      item_id  item_idx                             item_name    w_item\n",
       "1295     1413      1295                 Street Fighter (1994) -1.758573\n",
       "430       440       430  Amityville II: The Possession (1982) -1.766176\n",
       "1132     1185      1132                In the Army Now (1994) -1.780902\n",
       "1281     1395      1281              Hurricane Streets (1998) -1.785970\n",
       "73         74        73   Faster Pussycat! Kill! Kill! (1965) -1.790987\n",
       "1417     1650      1417               Butcher Boy, The (1998) -1.792598\n",
       "1321     1452      1321              Lady of Burlesque (1943) -1.793571\n",
       "1264     1376      1264              Meet Wally Sparks (1997) -1.807712\n",
       "1345     1490      1345                         Fausto (1993) -1.816100\n",
       "1253     1351      1253                   Lover's Knot (1996) -1.828212"
      ]
     },
     "execution_count": 85,
     "metadata": {},
     "output_type": "execute_result"
    }
   ],
   "source": [
    "item_weights.tail(10)"
   ]
  },
  {
   "cell_type": "markdown",
   "metadata": {},
   "source": [
    "# Start Sandbox Code"
   ]
  },
  {
   "cell_type": "code",
   "execution_count": 159,
   "metadata": {},
   "outputs": [],
   "source": [
    "base = 0.98"
   ]
  },
  {
   "cell_type": "code",
   "execution_count": 160,
   "metadata": {},
   "outputs": [
    {
     "data": {
      "text/plain": [
       "array([1.        , 0.98      , 0.9604    , 0.941192  , 0.92236816,\n",
       "       0.9039208 , 0.88584238, 0.86812553, 0.85076302, 0.83374776,\n",
       "       0.81707281, 0.80073135, 0.78471672, 0.76902239, 0.75364194,\n",
       "       0.7385691 , 0.72379772, 0.70932177, 0.69513533, 0.68123262,\n",
       "       0.66760797, 0.65425581, 0.6411707 , 0.62834728, 0.61578034,\n",
       "       0.60346473, 0.59139544, 0.57956753, 0.56797618, 0.55661665,\n",
       "       0.54548432, 0.53457463, 0.52388314, 0.51340548, 0.50313737,\n",
       "       0.49307462, 0.48321313, 0.47354887, 0.46407789, 0.45479633,\n",
       "       0.4457004 , 0.4367864 , 0.42805067, 0.41948965, 0.41109986,\n",
       "       0.40287786, 0.39482031, 0.3869239 , 0.37918542, 0.37160171])"
      ]
     },
     "execution_count": 160,
     "metadata": {},
     "output_type": "execute_result"
    }
   ],
   "source": [
    "epochs = np.arange(50)\n",
    "learning_rate = base**epochs\n",
    "learning_rate"
   ]
  },
  {
   "cell_type": "code",
   "execution_count": 161,
   "metadata": {},
   "outputs": [
    {
     "data": {
      "text/plain": [
       "[<matplotlib.lines.Line2D at 0x1a257e0ba8>]"
      ]
     },
     "execution_count": 161,
     "metadata": {},
     "output_type": "execute_result"
    },
    {
     "data": {
      "image/png": "[encoded data removed]",
      "text/plain": [
       "<Figure size 432x288 with 1 Axes>"
      ]
     },
     "metadata": {},
     "output_type": "display_data"
    }
   ],
   "source": [
    "plt.plot(epochs, learning_rate)"
   ]
  },
  {
   "cell_type": "code",
   "execution_count": 199,
   "metadata": {},
   "outputs": [],
   "source": [
    "power_t = 0\n",
    "eta_0 = 0.1"
   ]
  }
 ],
 "metadata": {
  "kernelspec": {
   "display_name": "Python 3",
   "language": "python",
   "name": "python3"
  },
  "language_info": {
   "codemirror_mode": {
    "name": "ipython",
    "version": 3
   },
   "file_extension": ".py",
   "mimetype": "text/x-python",
   "name": "python",
   "nbconvert_exporter": "python",
   "pygments_lexer": "ipython3",
   "version": "3.7.2"
  }
 },
 "nbformat": 4,
 "nbformat_minor": 4
}
