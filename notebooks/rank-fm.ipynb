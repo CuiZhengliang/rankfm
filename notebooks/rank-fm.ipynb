{
 "cells": [
  {
   "cell_type": "markdown",
   "metadata": {},
   "source": [
    "### Import Required Packages and Set Options"
   ]
  },
  {
   "cell_type": "code",
   "execution_count": 1,
   "metadata": {},
   "outputs": [],
   "source": [
    "import os\n",
    "import sys\n",
    "\n",
    "import numpy as np\n",
    "import pandas as pd\n",
    "import multiprocessing as mp\n",
    "\n",
    "import matplotlib.pyplot as plt\n",
    "import seaborn as sns\n",
    "\n",
    "from datetime import datetime\n",
    "from itertools import combinations\n",
    "from functools import partial\n",
    "from numpy.linalg import norm\n",
    "\n",
    "import jax.numpy as jnp\n",
    "from jax import grad, jit, vmap"
   ]
  },
  {
   "cell_type": "code",
   "execution_count": 2,
   "metadata": {},
   "outputs": [],
   "source": [
    "REPO_ROOT = \"/Users/ericlundquist/Repos/rankfm\"\n",
    "DATA_ROOT = os.path.join(REPO_ROOT, \"data/ml-100k\")"
   ]
  },
  {
   "cell_type": "markdown",
   "metadata": {},
   "source": [
    "### Load/Prepare Example Data"
   ]
  },
  {
   "cell_type": "markdown",
   "metadata": {},
   "source": [
    "#### Prepare Users Data"
   ]
  },
  {
   "cell_type": "code",
   "execution_count": 3,
   "metadata": {},
   "outputs": [
    {
     "data": {
      "text/plain": [
       "user_id                      472.000000\n",
       "agegroup__0                    0.433722\n",
       "agegroup__1                    0.348887\n",
       "agegroup__2                    0.217391\n",
       "gender__F                      0.289502\n",
       "gender__M                      0.710498\n",
       "occupation__administrator      0.083775\n",
       "occupation__artist             0.029692\n",
       "occupation__doctor             0.007423\n",
       "occupation__educator           0.100742\n",
       "occupation__engineer           0.071050\n",
       "occupation__entertainment      0.019088\n",
       "occupation__executive          0.033934\n",
       "occupation__healthcare         0.016967\n",
       "occupation__homemaker          0.007423\n",
       "occupation__lawyer             0.012725\n",
       "occupation__librarian          0.054083\n",
       "occupation__marketing          0.027572\n",
       "occupation__none               0.009544\n",
       "occupation__other              0.111347\n",
       "occupation__programmer         0.069989\n",
       "occupation__retired            0.014846\n",
       "occupation__salesman           0.012725\n",
       "occupation__scientist          0.032874\n",
       "occupation__student            0.207847\n",
       "occupation__technician         0.028632\n",
       "occupation__writer             0.047720\n",
       "dtype: float64"
      ]
     },
     "execution_count": 3,
     "metadata": {},
     "output_type": "execute_result"
    }
   ],
   "source": [
    "users_df = pd.read_csv(os.path.join(DATA_ROOT, \"users.csv\"))\n",
    "users_df['agegroup'] = pd.cut(users_df['age'], [0, 30, 45, 100], right=False, labels=False)\n",
    "users_df = users_df.drop(['age', 'zip_code'], axis=1)\n",
    "users_df = pd.get_dummies(users_df, prefix_sep='__', columns=['agegroup', 'gender', 'occupation'])\n",
    "users_df.mean()"
   ]
  },
  {
   "cell_type": "markdown",
   "metadata": {},
   "source": [
    "#### Prepare Items Data"
   ]
  },
  {
   "cell_type": "code",
   "execution_count": 4,
   "metadata": {},
   "outputs": [
    {
     "data": {
      "text/html": [
       "<div>\n",
       "<style scoped>\n",
       "    .dataframe tbody tr th:only-of-type {\n",
       "        vertical-align: middle;\n",
       "    }\n",
       "\n",
       "    .dataframe tbody tr th {\n",
       "        vertical-align: top;\n",
       "    }\n",
       "\n",
       "    .dataframe thead th {\n",
       "        text-align: right;\n",
       "    }\n",
       "</style>\n",
       "<table border=\"1\" class=\"dataframe\">\n",
       "  <thead>\n",
       "    <tr style=\"text-align: right;\">\n",
       "      <th></th>\n",
       "      <th>item_id</th>\n",
       "      <th>item_name</th>\n",
       "    </tr>\n",
       "  </thead>\n",
       "  <tbody>\n",
       "    <tr>\n",
       "      <th>0</th>\n",
       "      <td>1</td>\n",
       "      <td>Toy Story (1995)</td>\n",
       "    </tr>\n",
       "    <tr>\n",
       "      <th>1</th>\n",
       "      <td>2</td>\n",
       "      <td>GoldenEye (1995)</td>\n",
       "    </tr>\n",
       "    <tr>\n",
       "      <th>2</th>\n",
       "      <td>3</td>\n",
       "      <td>Four Rooms (1995)</td>\n",
       "    </tr>\n",
       "    <tr>\n",
       "      <th>3</th>\n",
       "      <td>4</td>\n",
       "      <td>Get Shorty (1995)</td>\n",
       "    </tr>\n",
       "    <tr>\n",
       "      <th>4</th>\n",
       "      <td>5</td>\n",
       "      <td>Copycat (1995)</td>\n",
       "    </tr>\n",
       "  </tbody>\n",
       "</table>\n",
       "</div>"
      ],
      "text/plain": [
       "   item_id          item_name\n",
       "0        1   Toy Story (1995)\n",
       "1        2   GoldenEye (1995)\n",
       "2        3  Four Rooms (1995)\n",
       "3        4  Get Shorty (1995)\n",
       "4        5     Copycat (1995)"
      ]
     },
     "execution_count": 4,
     "metadata": {},
     "output_type": "execute_result"
    }
   ],
   "source": [
    "items_df = pd.read_csv(os.path.join(DATA_ROOT, \"items.csv\"))\n",
    "item_names = items_df[['item_id', 'item_name']]\n",
    "item_names.head()"
   ]
  },
  {
   "cell_type": "code",
   "execution_count": 5,
   "metadata": {},
   "outputs": [
    {
     "data": {
      "text/plain": [
       "item_id               841.500000\n",
       "genre__action           0.149227\n",
       "genre__adventure        0.080262\n",
       "genre__animation        0.024970\n",
       "genre__childrens        0.072533\n",
       "genre__comedy           0.300238\n",
       "genre__crime            0.064804\n",
       "genre__documentary      0.029727\n",
       "genre__drama            0.431034\n",
       "genre__fantasy          0.013080\n",
       "genre__film_noir        0.014269\n",
       "genre__horror           0.054697\n",
       "genre__musical          0.033294\n",
       "genre__mystery          0.036266\n",
       "genre__romance          0.146849\n",
       "genre__scifi            0.060048\n",
       "genre__thriller         0.149227\n",
       "genre__war              0.042212\n",
       "genre__western          0.016052\n",
       "dtype: float64"
      ]
     },
     "execution_count": 5,
     "metadata": {},
     "output_type": "execute_result"
    }
   ],
   "source": [
    "items_df = items_df.drop(['item_name', 'release_date'], axis=1)\n",
    "items_df.columns = ['item_id'] + [\"genre__{}\".format(col) for col in items_df.columns[1:]]\n",
    "items_df.mean()"
   ]
  },
  {
   "cell_type": "markdown",
   "metadata": {},
   "source": [
    "#### Prepare Ratings Data"
   ]
  },
  {
   "cell_type": "code",
   "execution_count": 6,
   "metadata": {},
   "outputs": [
    {
     "data": {
      "text/plain": [
       "user_id              462.48475\n",
       "item_id              425.53013\n",
       "rating                 3.52986\n",
       "positive_feedback      0.54194\n",
       "dtype: float64"
      ]
     },
     "execution_count": 6,
     "metadata": {},
     "output_type": "execute_result"
    }
   ],
   "source": [
    "ratings_explicit = pd.read_csv(os.path.join(DATA_ROOT, \"ratings.csv\"))\n",
    "ratings_explicit['timestamp'] = pd.to_datetime(ratings_explicit['unix_timestamp'], origin='unix', unit='s')\n",
    "ratings_explicit['positive_feedback'] = ratings_explicit.groupby('user_id')['rating'].transform(lambda c: np.where(c > c.mean(), 1, 0))\n",
    "ratings_explicit = ratings_explicit.drop('unix_timestamp', axis=1)\n",
    "ratings_explicit.mean()"
   ]
  },
  {
   "cell_type": "code",
   "execution_count": 7,
   "metadata": {},
   "outputs": [
    {
     "data": {
      "text/html": [
       "<div>\n",
       "<style scoped>\n",
       "    .dataframe tbody tr th:only-of-type {\n",
       "        vertical-align: middle;\n",
       "    }\n",
       "\n",
       "    .dataframe tbody tr th {\n",
       "        vertical-align: top;\n",
       "    }\n",
       "\n",
       "    .dataframe thead th {\n",
       "        text-align: right;\n",
       "    }\n",
       "</style>\n",
       "<table border=\"1\" class=\"dataframe\">\n",
       "  <thead>\n",
       "    <tr style=\"text-align: right;\">\n",
       "      <th></th>\n",
       "      <th>user_id</th>\n",
       "      <th>item_id</th>\n",
       "      <th>rating</th>\n",
       "      <th>timestamp</th>\n",
       "      <th>positive_feedback</th>\n",
       "    </tr>\n",
       "  </thead>\n",
       "  <tbody>\n",
       "    <tr>\n",
       "      <th>0</th>\n",
       "      <td>196</td>\n",
       "      <td>242</td>\n",
       "      <td>3</td>\n",
       "      <td>1997-12-04 15:55:49</td>\n",
       "      <td>0</td>\n",
       "    </tr>\n",
       "    <tr>\n",
       "      <th>1</th>\n",
       "      <td>186</td>\n",
       "      <td>302</td>\n",
       "      <td>3</td>\n",
       "      <td>1998-04-04 19:22:22</td>\n",
       "      <td>0</td>\n",
       "    </tr>\n",
       "    <tr>\n",
       "      <th>2</th>\n",
       "      <td>22</td>\n",
       "      <td>377</td>\n",
       "      <td>1</td>\n",
       "      <td>1997-11-07 07:18:36</td>\n",
       "      <td>0</td>\n",
       "    </tr>\n",
       "    <tr>\n",
       "      <th>3</th>\n",
       "      <td>244</td>\n",
       "      <td>51</td>\n",
       "      <td>2</td>\n",
       "      <td>1997-11-27 05:02:03</td>\n",
       "      <td>0</td>\n",
       "    </tr>\n",
       "    <tr>\n",
       "      <th>4</th>\n",
       "      <td>166</td>\n",
       "      <td>346</td>\n",
       "      <td>1</td>\n",
       "      <td>1998-02-02 05:33:16</td>\n",
       "      <td>0</td>\n",
       "    </tr>\n",
       "  </tbody>\n",
       "</table>\n",
       "</div>"
      ],
      "text/plain": [
       "   user_id  item_id  rating           timestamp  positive_feedback\n",
       "0      196      242       3 1997-12-04 15:55:49                  0\n",
       "1      186      302       3 1998-04-04 19:22:22                  0\n",
       "2       22      377       1 1997-11-07 07:18:36                  0\n",
       "3      244       51       2 1997-11-27 05:02:03                  0\n",
       "4      166      346       1 1998-02-02 05:33:16                  0"
      ]
     },
     "execution_count": 7,
     "metadata": {},
     "output_type": "execute_result"
    }
   ],
   "source": [
    "ratings_explicit.head()"
   ]
  },
  {
   "cell_type": "markdown",
   "metadata": {},
   "source": [
    "#### Generate Implicit Feedback Version"
   ]
  },
  {
   "cell_type": "code",
   "execution_count": 8,
   "metadata": {},
   "outputs": [
    {
     "data": {
      "text/html": [
       "<div>\n",
       "<style scoped>\n",
       "    .dataframe tbody tr th:only-of-type {\n",
       "        vertical-align: middle;\n",
       "    }\n",
       "\n",
       "    .dataframe tbody tr th {\n",
       "        vertical-align: top;\n",
       "    }\n",
       "\n",
       "    .dataframe thead th {\n",
       "        text-align: right;\n",
       "    }\n",
       "</style>\n",
       "<table border=\"1\" class=\"dataframe\">\n",
       "  <thead>\n",
       "    <tr style=\"text-align: right;\">\n",
       "      <th></th>\n",
       "      <th>user_id</th>\n",
       "      <th>item_id</th>\n",
       "      <th>rating</th>\n",
       "      <th>timestamp</th>\n",
       "      <th>positive_feedback</th>\n",
       "    </tr>\n",
       "  </thead>\n",
       "  <tbody>\n",
       "    <tr>\n",
       "      <th>0</th>\n",
       "      <td>253</td>\n",
       "      <td>465</td>\n",
       "      <td>5</td>\n",
       "      <td>1998-04-03 18:34:27</td>\n",
       "      <td>1</td>\n",
       "    </tr>\n",
       "    <tr>\n",
       "      <th>1</th>\n",
       "      <td>286</td>\n",
       "      <td>1014</td>\n",
       "      <td>5</td>\n",
       "      <td>1997-11-17 15:38:45</td>\n",
       "      <td>1</td>\n",
       "    </tr>\n",
       "    <tr>\n",
       "      <th>2</th>\n",
       "      <td>200</td>\n",
       "      <td>222</td>\n",
       "      <td>5</td>\n",
       "      <td>1997-10-05 09:05:40</td>\n",
       "      <td>1</td>\n",
       "    </tr>\n",
       "    <tr>\n",
       "      <th>3</th>\n",
       "      <td>224</td>\n",
       "      <td>29</td>\n",
       "      <td>3</td>\n",
       "      <td>1998-02-21 23:40:57</td>\n",
       "      <td>1</td>\n",
       "    </tr>\n",
       "    <tr>\n",
       "      <th>4</th>\n",
       "      <td>122</td>\n",
       "      <td>387</td>\n",
       "      <td>5</td>\n",
       "      <td>1997-11-11 17:47:39</td>\n",
       "      <td>1</td>\n",
       "    </tr>\n",
       "  </tbody>\n",
       "</table>\n",
       "</div>"
      ],
      "text/plain": [
       "   user_id  item_id  rating           timestamp  positive_feedback\n",
       "0      253      465       5 1998-04-03 18:34:27                  1\n",
       "1      286     1014       5 1997-11-17 15:38:45                  1\n",
       "2      200      222       5 1997-10-05 09:05:40                  1\n",
       "3      224       29       3 1998-02-21 23:40:57                  1\n",
       "4      122      387       5 1997-11-11 17:47:39                  1"
      ]
     },
     "execution_count": 8,
     "metadata": {},
     "output_type": "execute_result"
    }
   ],
   "source": [
    "ratings_implicit = ratings_explicit[ratings_explicit.positive_feedback == 1].reset_index(drop=True)\n",
    "ratings_implicit.head()"
   ]
  },
  {
   "cell_type": "markdown",
   "metadata": {},
   "source": [
    "#### Print Final Matrix Shapes\n",
    "* NOTE: consider some way to include these movies that literally nobody rated above average in the sampling procedure"
   ]
  },
  {
   "cell_type": "code",
   "execution_count": 9,
   "metadata": {},
   "outputs": [
    {
     "name": "stdout",
     "output_type": "stream",
     "text": [
      "943 1682\n",
      "943 1483\n",
      "(100000, 5)\n",
      "(54194, 5)\n"
     ]
    }
   ],
   "source": [
    "print(ratings_explicit.user_id.nunique(), ratings_explicit.item_id.nunique())\n",
    "print(ratings_implicit.user_id.nunique(), ratings_implicit.item_id.nunique())\n",
    "\n",
    "print(ratings_explicit.shape)\n",
    "print(ratings_implicit.shape)"
   ]
  },
  {
   "cell_type": "markdown",
   "metadata": {},
   "source": [
    "### Define Helper/Utility Functions"
   ]
  },
  {
   "cell_type": "code",
   "execution_count": 41,
   "metadata": {},
   "outputs": [],
   "source": [
    "def sample_tuple(u, i, items, user_items):\n",
    "    \"\"\"sample a single (u, i, j) tuple\"\"\"\n",
    "    \n",
    "    return u, i, np.random.choice(list(items - user_items[u]))  \n",
    "\n",
    "\n",
    "def sample_tuples(interactions, items, user_items, processes=mp.cpu_count()):\n",
    "    \"\"\"sample a (u, i, j) tuple for every observed interaction\"\"\"\n",
    "    \n",
    "    pool = mp.Pool(processes=processes)\n",
    "    mp_sample_tuple = partial(sample_tuple, items=items, user_items=user_items)\n",
    "    samples = pool.starmap(mp_sample_tuple, zip(interactions.iloc[:, 0], interactions.iloc[:, 1]))\n",
    "    pool.close()\n",
    "    pool.join()\n",
    "    return samples"
   ]
  },
  {
   "cell_type": "markdown",
   "metadata": {},
   "source": [
    "### Define Evaluation Metric Functions"
   ]
  },
  {
   "cell_type": "code",
   "execution_count": 42,
   "metadata": {},
   "outputs": [],
   "source": [
    "def precision_at_k(model, test_interactions, k=10):\n",
    "    \"\"\"evaluate precision wrt test-set observed interactions\"\"\"\n",
    "    \n",
    "    test_user_items = test_interactions.groupby(test_interactions.columns[0])[test_interactions.columns[1]].apply(list).to_dict()\n",
    "    test_recommends = model.recommend_for_users(list(test_user_items.keys()))\n",
    "    test_user_items = {key: val for key, val in test_user_items.items() if key in test_recommends.index}\n",
    "    \n",
    "    precision = np.mean([len(set(test_recommends.loc[key]) & set(val)) / len(set(test_recommends.loc[key])) for key, val in test_user_items.items()])\n",
    "    return precision\n",
    "\n",
    "\n",
    "def recall_at_k(model, test_interactions, k=10):\n",
    "    \"\"\"evaluate recall wrt test-set observed interactions\"\"\"\n",
    "    \n",
    "    test_user_items = test_interactions.groupby(test_interactions.columns[0])[test_interactions.columns[1]].apply(list).to_dict()\n",
    "    test_recommends = model.recommend_for_users(list(test_user_items.keys()))\n",
    "    test_user_items = {key: val for key, val in test_user_items.items() if key in test_recommends.index}\n",
    "\n",
    "    recall = np.mean([len(set(test_recommends.loc[key]) & set(val)) / len(set(val)) for key, val in test_user_items.items()])\n",
    "    return recall"
   ]
  },
  {
   "cell_type": "markdown",
   "metadata": {},
   "source": [
    "### Define Main Model Class"
   ]
  },
  {
   "cell_type": "code",
   "execution_count": 43,
   "metadata": {},
   "outputs": [],
   "source": [
    "class RankFM():\n",
    "    \"\"\"Factorization Machines for Ranking Problems with Implicit Feedback Data\"\"\"\n",
    "    \n",
    "    def __init__(self, factors=10, learning_rate=0.1, regularization=0.01, sigma=0.1):\n",
    "        \"\"\"store hyperparameters and initialize internal data\"\"\"\n",
    "        \n",
    "        # model hyperparameters\n",
    "        self.factors = factors\n",
    "        self.learning_rate = learning_rate\n",
    "        self.regularization = regularization\n",
    "        self.sigma = sigma\n",
    "        \n",
    "        # user/item identifiers <--> index positions mappings\n",
    "        self.index_to_user = None\n",
    "        self.index_to_item = None\n",
    "        self.user_to_index = None\n",
    "        self.item_to_index = None\n",
    "        \n",
    "        # unique sets of [users, items, user_items]\n",
    "        self.interactions = None\n",
    "        self.user_idx = None\n",
    "        self.item_idx = None\n",
    "        self.user_items = None\n",
    "        \n",
    "        # number of unique users/items\n",
    "        self.n_users = None\n",
    "        self.n_items = None\n",
    "\n",
    "        # model weights\n",
    "        self.w_item = None\n",
    "        self.v_user = None\n",
    "        self.v_item = None\n",
    "        \n",
    "\n",
    "    def initialize(self, interactions):\n",
    "        \"\"\"create raw user/item identifier to zero-based index position mappings\"\"\"\n",
    "\n",
    "        self.index_to_user = pd.Series(np.sort(np.unique(interactions.iloc[:, 0]))).to_dict()\n",
    "        self.index_to_item = pd.Series(np.sort(np.unique(interactions.iloc[:, 1]))).to_dict()\n",
    "        \n",
    "        self.user_to_index = {val:key for key, val in self.index_to_user.items()}\n",
    "        self.item_to_index = {val:key for key, val in self.index_to_item.items()}\n",
    "        \n",
    "        self.interactions = interactions.copy()\n",
    "        self.interactions.iloc[:, 0] = self.interactions.iloc[:, 0].map(self.user_to_index)\n",
    "        self.interactions.iloc[:, 1] = self.interactions.iloc[:, 1].map(self.item_to_index)\n",
    "        \n",
    "        self.user_idx = set(self.interactions.iloc[:, 0])\n",
    "        self.item_idx = set(self.interactions.iloc[:, 1])\n",
    "        self.user_items = self.interactions.groupby(self.interactions.columns[0])[self.interactions.columns[1]].apply(set).to_dict()\n",
    "        \n",
    "        self.n_users = len(self.user_idx)\n",
    "        self.n_items = len(self.item_idx)\n",
    "        \n",
    "        self.w_item = np.zeros(self.n_items)\n",
    "        self.v_user = np.random.normal(loc=0, scale=self.sigma, size=(self.n_users, self.factors))\n",
    "        self.v_item = np.random.normal(loc=0, scale=self.sigma, size=(self.n_items, self.factors))\n",
    "\n",
    "\n",
    "    def pairwise_utility(self, sample):\n",
    "        \"\"\"calculate pairwise utility of a sample given current weights\"\"\"\n",
    "\n",
    "        u, i, j = sample\n",
    "        utility = self.w_item[i] - self.w_item[j] + np.dot(self.v_user[u], self.v_item[i] - self.v_item[j])\n",
    "        return utility\n",
    "\n",
    "\n",
    "    def update_weights(self, sample):\n",
    "        \"\"\"update current weights based on gradient of log-likelihood function\"\"\"\n",
    "\n",
    "        u, i, j = sample\n",
    "        utility = self.pairwise_utility(sample)\n",
    "\n",
    "        d_con = (1 / (1 + np.exp(utility)))\n",
    "        d_pen = 2 * self.regularization\n",
    "\n",
    "        d_w_i = 1\n",
    "        d_w_j = -1\n",
    "        d_v_u = self.v_item[i] - self.v_item[j]\n",
    "        d_v_i = self.v_user[u]\n",
    "        d_v_j = -self.v_user[u]\n",
    "\n",
    "        self.w_item[i] += self.learning_rate * ((d_con * d_w_i) - (d_pen * self.w_item[i]))\n",
    "        self.w_item[j] += self.learning_rate * ((d_con * d_w_j) - (d_pen * self.w_item[j]))\n",
    "        self.v_user[u] += self.learning_rate * ((d_con * d_v_u) - (d_pen * self.v_user[u]))\n",
    "        self.v_item[i] += self.learning_rate * ((d_con * d_v_i) - (d_pen * self.v_item[i]))\n",
    "        self.v_item[j] += self.learning_rate * ((d_con * d_v_j) - (d_pen * self.v_item[j]))\n",
    "        \n",
    "    \n",
    "    def log_likelihood(self, samples):\n",
    "        \"\"\"calculate the regularized log-likelihood of all sample pairs given current weights\"\"\"\n",
    "\n",
    "        likelihood = sum(np.log(1 / (1 + np.exp(-self.pairwise_utility(sample)))) for sample in samples)\n",
    "        penalty = sum([np.sum(self.regularization * np.square(w)) for w in [self.w_item, self.v_user, self.v_item]])\n",
    "        return likelihood - penalty\n",
    "    \n",
    "    \n",
    "    def fit(self, interactions, epochs=1):\n",
    "        \"\"\"train model weights using the interaction data\"\"\"\n",
    "        \n",
    "        self.initialize(interactions)\n",
    "        \n",
    "        for epoch in range(epochs):\n",
    "            \n",
    "            print(\"\\ntraining epoch: {}\".format(epoch))\n",
    "            shuffle_index = np.arange(self.interactions.shape[0])\n",
    "            np.random.shuffle(shuffle_index)\n",
    "            \n",
    "            shuffle_samples = sample_tuples(self.interactions.iloc[shuffle_index], self.item_idx, self.user_items)\n",
    "            for sample in shuffle_samples:\n",
    "                self.update_weights(sample) \n",
    "                \n",
    "            ll = self.log_likelihood(shuffle_samples)\n",
    "            print(\"penalized log-likelihood: {}\".format(round(ll, 2)))\n",
    "                \n",
    "                \n",
    "    def predict(self, interactions):\n",
    "        \"\"\"calculate the predicted utility for a given (user, item) pair\"\"\"\n",
    "        \n",
    "        pairs = zip(interactions.iloc[:, 0].map(self.user_to_index), interactions.iloc[:, 1].map(self.item_to_index))\n",
    "        scores = np.array([self.w_item[item] + np.dot(self.v_user[user], self.v_item[item]) for user, item in pairs])\n",
    "        return scores\n",
    "                \n",
    "            \n",
    "    def recommend_for_users(self, users, n_items=10):\n",
    "        \"\"\"calculate the topN items for each user\"\"\"\n",
    "\n",
    "        user_idx = pd.Series(users).map(self.user_to_index).dropna().astype('int')\n",
    "        user_ids = user_idx.map(self.index_to_user)\n",
    "        \n",
    "        top_n = [pd.Series(self.w_item + np.dot(self.v_item, self.v_user[user])).sort_values(ascending=False)[:n_items].index.values for user in user_idx]\n",
    "        top_n = pd.DataFrame(top_n, index=user_ids).apply(lambda c: c.map(self.index_to_item))\n",
    "        return top_n\n",
    "\n",
    "    "
   ]
  },
  {
   "cell_type": "markdown",
   "metadata": {},
   "source": [
    "### Test Out the Model on the Example Data"
   ]
  },
  {
   "cell_type": "markdown",
   "metadata": {},
   "source": [
    "#### Create (Training, Validation) Interactions for Evaluation"
   ]
  },
  {
   "cell_type": "code",
   "execution_count": 44,
   "metadata": {},
   "outputs": [
    {
     "name": "stdout",
     "output_type": "stream",
     "text": [
      "(54194, 5)\n"
     ]
    },
    {
     "data": {
      "text/html": [
       "<div>\n",
       "<style scoped>\n",
       "    .dataframe tbody tr th:only-of-type {\n",
       "        vertical-align: middle;\n",
       "    }\n",
       "\n",
       "    .dataframe tbody tr th {\n",
       "        vertical-align: top;\n",
       "    }\n",
       "\n",
       "    .dataframe thead th {\n",
       "        text-align: right;\n",
       "    }\n",
       "</style>\n",
       "<table border=\"1\" class=\"dataframe\">\n",
       "  <thead>\n",
       "    <tr style=\"text-align: right;\">\n",
       "      <th></th>\n",
       "      <th>user_id</th>\n",
       "      <th>item_id</th>\n",
       "      <th>rating</th>\n",
       "      <th>timestamp</th>\n",
       "      <th>positive_feedback</th>\n",
       "    </tr>\n",
       "  </thead>\n",
       "  <tbody>\n",
       "    <tr>\n",
       "      <th>0</th>\n",
       "      <td>253</td>\n",
       "      <td>465</td>\n",
       "      <td>5</td>\n",
       "      <td>1998-04-03 18:34:27</td>\n",
       "      <td>1</td>\n",
       "    </tr>\n",
       "    <tr>\n",
       "      <th>1</th>\n",
       "      <td>286</td>\n",
       "      <td>1014</td>\n",
       "      <td>5</td>\n",
       "      <td>1997-11-17 15:38:45</td>\n",
       "      <td>1</td>\n",
       "    </tr>\n",
       "    <tr>\n",
       "      <th>2</th>\n",
       "      <td>200</td>\n",
       "      <td>222</td>\n",
       "      <td>5</td>\n",
       "      <td>1997-10-05 09:05:40</td>\n",
       "      <td>1</td>\n",
       "    </tr>\n",
       "    <tr>\n",
       "      <th>3</th>\n",
       "      <td>224</td>\n",
       "      <td>29</td>\n",
       "      <td>3</td>\n",
       "      <td>1998-02-21 23:40:57</td>\n",
       "      <td>1</td>\n",
       "    </tr>\n",
       "    <tr>\n",
       "      <th>4</th>\n",
       "      <td>122</td>\n",
       "      <td>387</td>\n",
       "      <td>5</td>\n",
       "      <td>1997-11-11 17:47:39</td>\n",
       "      <td>1</td>\n",
       "    </tr>\n",
       "  </tbody>\n",
       "</table>\n",
       "</div>"
      ],
      "text/plain": [
       "   user_id  item_id  rating           timestamp  positive_feedback\n",
       "0      253      465       5 1998-04-03 18:34:27                  1\n",
       "1      286     1014       5 1997-11-17 15:38:45                  1\n",
       "2      200      222       5 1997-10-05 09:05:40                  1\n",
       "3      224       29       3 1998-02-21 23:40:57                  1\n",
       "4      122      387       5 1997-11-11 17:47:39                  1"
      ]
     },
     "execution_count": 44,
     "metadata": {},
     "output_type": "execute_result"
    }
   ],
   "source": [
    "print(ratings_implicit.shape)\n",
    "ratings_implicit.head()"
   ]
  },
  {
   "cell_type": "code",
   "execution_count": 47,
   "metadata": {},
   "outputs": [
    {
     "data": {
      "text/plain": [
       "((40646, 2), (13548, 2))"
      ]
     },
     "execution_count": 47,
     "metadata": {},
     "output_type": "execute_result"
    }
   ],
   "source": [
    "test_pct = 0.25\n",
    "\n",
    "train_mask = (ratings_implicit.index / ratings_implicit.shape[0]) <  (1 - test_pct)\n",
    "valid_mask = (ratings_implicit.index / ratings_implicit.shape[0]) >= (1 - test_pct)\n",
    "\n",
    "interactions_train = ratings_implicit[train_mask][['user_id', 'item_id']]\n",
    "interactions_valid = ratings_implicit[valid_mask][['user_id', 'item_id']]\n",
    "\n",
    "interactions_train.shape, interactions_valid.shape"
   ]
  },
  {
   "cell_type": "code",
   "execution_count": 48,
   "metadata": {},
   "outputs": [
    {
     "data": {
      "text/plain": [
       "user_id    int64\n",
       "item_id    int64\n",
       "dtype: object"
      ]
     },
     "execution_count": 48,
     "metadata": {},
     "output_type": "execute_result"
    }
   ],
   "source": [
    "interactions_valid.dtypes"
   ]
  },
  {
   "cell_type": "markdown",
   "metadata": {},
   "source": [
    "#### Initialize and Fit the Model"
   ]
  },
  {
   "cell_type": "code",
   "execution_count": 49,
   "metadata": {},
   "outputs": [
    {
     "name": "stdout",
     "output_type": "stream",
     "text": [
      "\n",
      "training epoch: 0\n",
      "penalized log-likelihood: -15669.9\n",
      "\n",
      "training epoch: 1\n",
      "penalized log-likelihood: -14455.72\n",
      "\n",
      "training epoch: 2\n",
      "penalized log-likelihood: -14015.59\n",
      "\n",
      "training epoch: 3\n",
      "penalized log-likelihood: -13115.29\n",
      "\n",
      "training epoch: 4\n",
      "penalized log-likelihood: -11771.33\n",
      "\n",
      "training epoch: 5\n",
      "penalized log-likelihood: -10580.99\n",
      "\n",
      "training epoch: 6\n",
      "penalized log-likelihood: -9728.26\n",
      "\n",
      "training epoch: 7\n",
      "penalized log-likelihood: -8807.93\n",
      "\n",
      "training epoch: 8\n",
      "penalized log-likelihood: -8386.25\n",
      "\n",
      "training epoch: 9\n",
      "penalized log-likelihood: -7793.47\n",
      " "
     ]
    },
    {
     "data": {
      "text/plain": [
       "         2784642 function calls (2783410 primitive calls) in 26.917 seconds\n",
       "\n",
       "   Ordered by: internal time\n",
       "   List reduced from 616 to 10 due to restriction <10>\n",
       "\n",
       "   ncalls  tottime  percall  cumtime  percall filename:lineno(function)\n",
       "     1349   12.559    0.009   12.559    0.009 {method 'acquire' of '_thread.lock' objects}\n",
       "   406460    9.119    0.000   10.440    0.000 <ipython-input-43-7da0fb5df88d>:68(update_weights)\n",
       "   812920    1.747    0.000    2.480    0.000 <ipython-input-43-7da0fb5df88d>:60(pairwise_utility)\n",
       "   406470    1.446    0.000    2.605    0.000 <ipython-input-43-7da0fb5df88d>:93(<genexpr>)\n",
       "   812920    0.733    0.000    0.733    0.000 {built-in method numpy.dot}\n",
       "        1    0.320    0.320   26.911   26.911 <ipython-input-43-7da0fb5df88d>:98(fit)\n",
       "       10    0.153    0.015    0.156    0.016 pool.py:397(_map_async)\n",
       "      360    0.146    0.000    0.146    0.000 {built-in method posix.waitpid}\n",
       "       80    0.116    0.001    0.149    0.002 {built-in method posix.fork}\n",
       "       30    0.104    0.003    2.708    0.090 {built-in method builtins.sum}"
      ]
     },
     "metadata": {},
     "output_type": "display_data"
    }
   ],
   "source": [
    "%%prun -l 10 \n",
    "\n",
    "model = RankFM(factors=10, learning_rate=0.1, regularization=0.01)\n",
    "model.fit(interactions_train, epochs=10)"
   ]
  },
  {
   "cell_type": "markdown",
   "metadata": {},
   "source": [
    "#### Evaluate Model Performance"
   ]
  },
  {
   "cell_type": "code",
   "execution_count": 50,
   "metadata": {},
   "outputs": [],
   "source": [
    "k = 10"
   ]
  },
  {
   "cell_type": "code",
   "execution_count": 51,
   "metadata": {},
   "outputs": [
    {
     "name": "stdout",
     "output_type": "stream",
     "text": [
      "model precision: 0.122 model recall: 0.13\n"
     ]
    }
   ],
   "source": [
    "model_pre = round(precision_at_k(model, interactions_valid, k=k), 3)\n",
    "model_rec = round(recall_at_k(model, interactions_valid, k=k), 3)\n",
    "print(\"model precision: {} model recall: {}\".format(model_pre, model_rec))"
   ]
  },
  {
   "cell_type": "markdown",
   "metadata": {},
   "source": [
    "#### Evaluate Pure Popularity Baseline"
   ]
  },
  {
   "cell_type": "code",
   "execution_count": 52,
   "metadata": {},
   "outputs": [
    {
     "data": {
      "text/plain": [
       "item_id\n",
       "50     359\n",
       "100    292\n",
       "181    277\n",
       "258    261\n",
       "98     249\n",
       "174    246\n",
       "127    246\n",
       "1      226\n",
       "56     223\n",
       "313    222\n",
       "dtype: int64"
      ]
     },
     "execution_count": 52,
     "metadata": {},
     "output_type": "execute_result"
    }
   ],
   "source": [
    "most_popular = interactions_train.groupby('item_id').size().sort_values(ascending=False)[:k]\n",
    "most_popular"
   ]
  },
  {
   "cell_type": "code",
   "execution_count": 53,
   "metadata": {},
   "outputs": [
    {
     "name": "stdout",
     "output_type": "stream",
     "text": [
      "number of test users: 905\n",
      "baseline precision: 0.098 baseline recall: 0.087\n"
     ]
    }
   ],
   "source": [
    "test_user_items = interactions_valid.groupby(interactions_valid.columns[0])[interactions_valid.columns[1]].apply(list).to_dict()\n",
    "test_recommends = model.recommend_for_users(list(test_user_items.keys()))\n",
    "test_user_items = {key: val for key, val in test_user_items.items() if key in test_recommends.index}\n",
    "\n",
    "base_pre = round(np.mean([len(set(most_popular.index) & set(val)) / len(set(most_popular.index)) for key, val in test_user_items.items()]), 3)\n",
    "base_rec = round(np.mean([len(set(most_popular.index) & set(val)) / len(set(val)) for key, val in test_user_items.items()]), 3)\n",
    "\n",
    "print(\"number of test users: {}\".format(len(test_user_items)))\n",
    "print(\"baseline precision: {} baseline recall: {}\".format(base_pre, base_rec))"
   ]
  },
  {
   "cell_type": "markdown",
   "metadata": {},
   "source": [
    "#### Spot-Check Some Top Recommendations"
   ]
  },
  {
   "cell_type": "code",
   "execution_count": 54,
   "metadata": {},
   "outputs": [
    {
     "data": {
      "text/html": [
       "<div>\n",
       "<style scoped>\n",
       "    .dataframe tbody tr th:only-of-type {\n",
       "        vertical-align: middle;\n",
       "    }\n",
       "\n",
       "    .dataframe tbody tr th {\n",
       "        vertical-align: top;\n",
       "    }\n",
       "\n",
       "    .dataframe thead th {\n",
       "        text-align: right;\n",
       "    }\n",
       "</style>\n",
       "<table border=\"1\" class=\"dataframe\">\n",
       "  <thead>\n",
       "    <tr style=\"text-align: right;\">\n",
       "      <th></th>\n",
       "      <th>0</th>\n",
       "      <th>1</th>\n",
       "      <th>2</th>\n",
       "      <th>3</th>\n",
       "      <th>4</th>\n",
       "      <th>5</th>\n",
       "      <th>6</th>\n",
       "      <th>7</th>\n",
       "      <th>8</th>\n",
       "      <th>9</th>\n",
       "    </tr>\n",
       "  </thead>\n",
       "  <tbody>\n",
       "    <tr>\n",
       "      <th>1</th>\n",
       "      <td>89</td>\n",
       "      <td>100</td>\n",
       "      <td>127</td>\n",
       "      <td>12</td>\n",
       "      <td>50</td>\n",
       "      <td>168</td>\n",
       "      <td>154</td>\n",
       "      <td>209</td>\n",
       "      <td>174</td>\n",
       "      <td>98</td>\n",
       "    </tr>\n",
       "    <tr>\n",
       "      <th>2</th>\n",
       "      <td>302</td>\n",
       "      <td>258</td>\n",
       "      <td>313</td>\n",
       "      <td>307</td>\n",
       "      <td>328</td>\n",
       "      <td>272</td>\n",
       "      <td>286</td>\n",
       "      <td>300</td>\n",
       "      <td>269</td>\n",
       "      <td>288</td>\n",
       "    </tr>\n",
       "    <tr>\n",
       "      <th>3</th>\n",
       "      <td>690</td>\n",
       "      <td>326</td>\n",
       "      <td>328</td>\n",
       "      <td>292</td>\n",
       "      <td>310</td>\n",
       "      <td>313</td>\n",
       "      <td>245</td>\n",
       "      <td>307</td>\n",
       "      <td>333</td>\n",
       "      <td>347</td>\n",
       "    </tr>\n",
       "    <tr>\n",
       "      <th>4</th>\n",
       "      <td>288</td>\n",
       "      <td>258</td>\n",
       "      <td>313</td>\n",
       "      <td>326</td>\n",
       "      <td>690</td>\n",
       "      <td>328</td>\n",
       "      <td>302</td>\n",
       "      <td>333</td>\n",
       "      <td>310</td>\n",
       "      <td>300</td>\n",
       "    </tr>\n",
       "    <tr>\n",
       "      <th>5</th>\n",
       "      <td>168</td>\n",
       "      <td>195</td>\n",
       "      <td>96</td>\n",
       "      <td>69</td>\n",
       "      <td>230</td>\n",
       "      <td>588</td>\n",
       "      <td>210</td>\n",
       "      <td>121</td>\n",
       "      <td>568</td>\n",
       "      <td>22</td>\n",
       "    </tr>\n",
       "  </tbody>\n",
       "</table>\n",
       "</div>"
      ],
      "text/plain": [
       "     0    1    2    3    4    5    6    7    8    9\n",
       "1   89  100  127   12   50  168  154  209  174   98\n",
       "2  302  258  313  307  328  272  286  300  269  288\n",
       "3  690  326  328  292  310  313  245  307  333  347\n",
       "4  288  258  313  326  690  328  302  333  310  300\n",
       "5  168  195   96   69  230  588  210  121  568   22"
      ]
     },
     "execution_count": 54,
     "metadata": {},
     "output_type": "execute_result"
    }
   ],
   "source": [
    "test_users = list(test_user_items.keys())\n",
    "recommendations = model.recommend_for_users(test_users, n_items=10)\n",
    "recommendations.head()"
   ]
  },
  {
   "cell_type": "code",
   "execution_count": 55,
   "metadata": {},
   "outputs": [
    {
     "data": {
      "text/html": [
       "<div>\n",
       "<style scoped>\n",
       "    .dataframe tbody tr th:only-of-type {\n",
       "        vertical-align: middle;\n",
       "    }\n",
       "\n",
       "    .dataframe tbody tr th {\n",
       "        vertical-align: top;\n",
       "    }\n",
       "\n",
       "    .dataframe thead th {\n",
       "        text-align: right;\n",
       "    }\n",
       "</style>\n",
       "<table border=\"1\" class=\"dataframe\">\n",
       "  <thead>\n",
       "    <tr style=\"text-align: right;\">\n",
       "      <th></th>\n",
       "      <th>item_id</th>\n",
       "      <th>item_name</th>\n",
       "    </tr>\n",
       "  </thead>\n",
       "  <tbody>\n",
       "    <tr>\n",
       "      <th>126</th>\n",
       "      <td>127</td>\n",
       "      <td>Godfather, The (1972)</td>\n",
       "    </tr>\n",
       "    <tr>\n",
       "      <th>190</th>\n",
       "      <td>191</td>\n",
       "      <td>Amadeus (1984)</td>\n",
       "    </tr>\n",
       "    <tr>\n",
       "      <th>196</th>\n",
       "      <td>197</td>\n",
       "      <td>Graduate, The (1967)</td>\n",
       "    </tr>\n",
       "    <tr>\n",
       "      <th>210</th>\n",
       "      <td>211</td>\n",
       "      <td>M*A*S*H (1970)</td>\n",
       "    </tr>\n",
       "    <tr>\n",
       "      <th>426</th>\n",
       "      <td>427</td>\n",
       "      <td>To Kill a Mockingbird (1962)</td>\n",
       "    </tr>\n",
       "    <tr>\n",
       "      <th>478</th>\n",
       "      <td>479</td>\n",
       "      <td>Vertigo (1958)</td>\n",
       "    </tr>\n",
       "    <tr>\n",
       "      <th>479</th>\n",
       "      <td>480</td>\n",
       "      <td>North by Northwest (1959)</td>\n",
       "    </tr>\n",
       "    <tr>\n",
       "      <th>482</th>\n",
       "      <td>483</td>\n",
       "      <td>Casablanca (1942)</td>\n",
       "    </tr>\n",
       "    <tr>\n",
       "      <th>510</th>\n",
       "      <td>511</td>\n",
       "      <td>Lawrence of Arabia (1962)</td>\n",
       "    </tr>\n",
       "    <tr>\n",
       "      <th>602</th>\n",
       "      <td>603</td>\n",
       "      <td>Rear Window (1954)</td>\n",
       "    </tr>\n",
       "  </tbody>\n",
       "</table>\n",
       "</div>"
      ],
      "text/plain": [
       "     item_id                     item_name\n",
       "126      127         Godfather, The (1972)\n",
       "190      191                Amadeus (1984)\n",
       "196      197          Graduate, The (1967)\n",
       "210      211                M*A*S*H (1970)\n",
       "426      427  To Kill a Mockingbird (1962)\n",
       "478      479                Vertigo (1958)\n",
       "479      480     North by Northwest (1959)\n",
       "482      483             Casablanca (1942)\n",
       "510      511     Lawrence of Arabia (1962)\n",
       "602      603            Rear Window (1954)"
      ]
     },
     "execution_count": 55,
     "metadata": {},
     "output_type": "execute_result"
    }
   ],
   "source": [
    "user_id = 6\n",
    "item_names[item_names.item_id.isin(recommendations.loc[user_id])]"
   ]
  },
  {
   "cell_type": "markdown",
   "metadata": {},
   "source": [
    "### Look at the Highest/Lowest Model Item Weights"
   ]
  },
  {
   "cell_type": "code",
   "execution_count": 56,
   "metadata": {},
   "outputs": [],
   "source": [
    "item_weights = pd.DataFrame({'item_idx': np.arange(len(model.w_item)), 'w_item': model.w_item})\n",
    "item_weights['item_id'] = item_weights['item_idx'].map(model.index_to_item)\n",
    "item_weights = pd.merge(item_weights, item_names, on='item_id').sort_values('w_item', ascending=False)"
   ]
  },
  {
   "cell_type": "markdown",
   "metadata": {},
   "source": [
    "#### Best Movies Ever?"
   ]
  },
  {
   "cell_type": "code",
   "execution_count": 57,
   "metadata": {},
   "outputs": [
    {
     "data": {
      "text/html": [
       "<div>\n",
       "<style scoped>\n",
       "    .dataframe tbody tr th:only-of-type {\n",
       "        vertical-align: middle;\n",
       "    }\n",
       "\n",
       "    .dataframe tbody tr th {\n",
       "        vertical-align: top;\n",
       "    }\n",
       "\n",
       "    .dataframe thead th {\n",
       "        text-align: right;\n",
       "    }\n",
       "</style>\n",
       "<table border=\"1\" class=\"dataframe\">\n",
       "  <thead>\n",
       "    <tr style=\"text-align: right;\">\n",
       "      <th></th>\n",
       "      <th>item_idx</th>\n",
       "      <th>w_item</th>\n",
       "      <th>item_id</th>\n",
       "      <th>item_name</th>\n",
       "    </tr>\n",
       "  </thead>\n",
       "  <tbody>\n",
       "    <tr>\n",
       "      <th>49</th>\n",
       "      <td>49</td>\n",
       "      <td>2.595656</td>\n",
       "      <td>50</td>\n",
       "      <td>Star Wars (1977)</td>\n",
       "    </tr>\n",
       "    <tr>\n",
       "      <th>99</th>\n",
       "      <td>99</td>\n",
       "      <td>2.445350</td>\n",
       "      <td>100</td>\n",
       "      <td>Fargo (1996)</td>\n",
       "    </tr>\n",
       "    <tr>\n",
       "      <th>178</th>\n",
       "      <td>178</td>\n",
       "      <td>2.274072</td>\n",
       "      <td>181</td>\n",
       "      <td>Return of the Jedi (1983)</td>\n",
       "    </tr>\n",
       "    <tr>\n",
       "      <th>124</th>\n",
       "      <td>124</td>\n",
       "      <td>2.256486</td>\n",
       "      <td>127</td>\n",
       "      <td>Godfather, The (1972)</td>\n",
       "    </tr>\n",
       "    <tr>\n",
       "      <th>97</th>\n",
       "      <td>97</td>\n",
       "      <td>2.249431</td>\n",
       "      <td>98</td>\n",
       "      <td>Silence of the Lambs, The (1991)</td>\n",
       "    </tr>\n",
       "    <tr>\n",
       "      <th>255</th>\n",
       "      <td>255</td>\n",
       "      <td>2.225727</td>\n",
       "      <td>258</td>\n",
       "      <td>Contact (1997)</td>\n",
       "    </tr>\n",
       "    <tr>\n",
       "      <th>0</th>\n",
       "      <td>0</td>\n",
       "      <td>2.136893</td>\n",
       "      <td>1</td>\n",
       "      <td>Toy Story (1995)</td>\n",
       "    </tr>\n",
       "    <tr>\n",
       "      <th>11</th>\n",
       "      <td>11</td>\n",
       "      <td>2.045175</td>\n",
       "      <td>12</td>\n",
       "      <td>Usual Suspects, The (1995)</td>\n",
       "    </tr>\n",
       "    <tr>\n",
       "      <th>285</th>\n",
       "      <td>285</td>\n",
       "      <td>2.004289</td>\n",
       "      <td>288</td>\n",
       "      <td>Scream (1996)</td>\n",
       "    </tr>\n",
       "    <tr>\n",
       "      <th>169</th>\n",
       "      <td>169</td>\n",
       "      <td>2.000158</td>\n",
       "      <td>172</td>\n",
       "      <td>Empire Strikes Back, The (1980)</td>\n",
       "    </tr>\n",
       "  </tbody>\n",
       "</table>\n",
       "</div>"
      ],
      "text/plain": [
       "     item_idx    w_item  item_id                         item_name\n",
       "49         49  2.595656       50                  Star Wars (1977)\n",
       "99         99  2.445350      100                      Fargo (1996)\n",
       "178       178  2.274072      181         Return of the Jedi (1983)\n",
       "124       124  2.256486      127             Godfather, The (1972)\n",
       "97         97  2.249431       98  Silence of the Lambs, The (1991)\n",
       "255       255  2.225727      258                    Contact (1997)\n",
       "0           0  2.136893        1                  Toy Story (1995)\n",
       "11         11  2.045175       12        Usual Suspects, The (1995)\n",
       "285       285  2.004289      288                     Scream (1996)\n",
       "169       169  2.000158      172   Empire Strikes Back, The (1980)"
      ]
     },
     "execution_count": 57,
     "metadata": {},
     "output_type": "execute_result"
    }
   ],
   "source": [
    "item_weights.head(10)"
   ]
  },
  {
   "cell_type": "markdown",
   "metadata": {},
   "source": [
    "#### Worst Movies Ever?"
   ]
  },
  {
   "cell_type": "code",
   "execution_count": 58,
   "metadata": {},
   "outputs": [
    {
     "data": {
      "text/html": [
       "<div>\n",
       "<style scoped>\n",
       "    .dataframe tbody tr th:only-of-type {\n",
       "        vertical-align: middle;\n",
       "    }\n",
       "\n",
       "    .dataframe tbody tr th {\n",
       "        vertical-align: top;\n",
       "    }\n",
       "\n",
       "    .dataframe thead th {\n",
       "        text-align: right;\n",
       "    }\n",
       "</style>\n",
       "<table border=\"1\" class=\"dataframe\">\n",
       "  <thead>\n",
       "    <tr style=\"text-align: right;\">\n",
       "      <th></th>\n",
       "      <th>item_idx</th>\n",
       "      <th>w_item</th>\n",
       "      <th>item_id</th>\n",
       "      <th>item_name</th>\n",
       "    </tr>\n",
       "  </thead>\n",
       "  <tbody>\n",
       "    <tr>\n",
       "      <th>654</th>\n",
       "      <td>654</td>\n",
       "      <td>-1.756699</td>\n",
       "      <td>668</td>\n",
       "      <td>Blood Beach (1981)</td>\n",
       "    </tr>\n",
       "    <tr>\n",
       "      <th>1084</th>\n",
       "      <td>1084</td>\n",
       "      <td>-1.757600</td>\n",
       "      <td>1130</td>\n",
       "      <td>Jupiter's Wife (1994)</td>\n",
       "    </tr>\n",
       "    <tr>\n",
       "      <th>34</th>\n",
       "      <td>34</td>\n",
       "      <td>-1.758300</td>\n",
       "      <td>35</td>\n",
       "      <td>Free Willy 2: The Adventure Home (1995)</td>\n",
       "    </tr>\n",
       "    <tr>\n",
       "      <th>1410</th>\n",
       "      <td>1410</td>\n",
       "      <td>-1.762835</td>\n",
       "      <td>1633</td>\n",
       "      <td>¡ kˆldum klaka (Cold Fever) (1994)</td>\n",
       "    </tr>\n",
       "    <tr>\n",
       "      <th>1323</th>\n",
       "      <td>1323</td>\n",
       "      <td>-1.765077</td>\n",
       "      <td>1458</td>\n",
       "      <td>Damsel in Distress, A (1937)</td>\n",
       "    </tr>\n",
       "    <tr>\n",
       "      <th>1326</th>\n",
       "      <td>1326</td>\n",
       "      <td>-1.767462</td>\n",
       "      <td>1463</td>\n",
       "      <td>Boys, Les (1997)</td>\n",
       "    </tr>\n",
       "    <tr>\n",
       "      <th>1349</th>\n",
       "      <td>1349</td>\n",
       "      <td>-1.768889</td>\n",
       "      <td>1498</td>\n",
       "      <td>Farmer &amp; Chase (1995)</td>\n",
       "    </tr>\n",
       "    <tr>\n",
       "      <th>1321</th>\n",
       "      <td>1321</td>\n",
       "      <td>-1.775678</td>\n",
       "      <td>1452</td>\n",
       "      <td>Lady of Burlesque (1943)</td>\n",
       "    </tr>\n",
       "    <tr>\n",
       "      <th>586</th>\n",
       "      <td>586</td>\n",
       "      <td>-1.777043</td>\n",
       "      <td>600</td>\n",
       "      <td>Daniel Defoe's Robinson Crusoe (1996)</td>\n",
       "    </tr>\n",
       "    <tr>\n",
       "      <th>1381</th>\n",
       "      <td>1381</td>\n",
       "      <td>-1.866271</td>\n",
       "      <td>1550</td>\n",
       "      <td>Destiny Turns on the Radio (1995)</td>\n",
       "    </tr>\n",
       "  </tbody>\n",
       "</table>\n",
       "</div>"
      ],
      "text/plain": [
       "      item_idx    w_item  item_id                                item_name\n",
       "654        654 -1.756699      668                       Blood Beach (1981)\n",
       "1084      1084 -1.757600     1130                    Jupiter's Wife (1994)\n",
       "34          34 -1.758300       35  Free Willy 2: The Adventure Home (1995)\n",
       "1410      1410 -1.762835     1633       ¡ kˆldum klaka (Cold Fever) (1994)\n",
       "1323      1323 -1.765077     1458             Damsel in Distress, A (1937)\n",
       "1326      1326 -1.767462     1463                         Boys, Les (1997)\n",
       "1349      1349 -1.768889     1498                    Farmer & Chase (1995)\n",
       "1321      1321 -1.775678     1452                 Lady of Burlesque (1943)\n",
       "586        586 -1.777043      600    Daniel Defoe's Robinson Crusoe (1996)\n",
       "1381      1381 -1.866271     1550        Destiny Turns on the Radio (1995)"
      ]
     },
     "execution_count": 58,
     "metadata": {},
     "output_type": "execute_result"
    }
   ],
   "source": [
    "item_weights.tail(10)"
   ]
  },
  {
   "cell_type": "markdown",
   "metadata": {},
   "source": [
    "# Start Sandbox Code"
   ]
  },
  {
   "cell_type": "code",
   "execution_count": null,
   "metadata": {},
   "outputs": [],
   "source": []
  }
 ],
 "metadata": {
  "kernelspec": {
   "display_name": "Python 3",
   "language": "python",
   "name": "python3"
  },
  "language_info": {
   "codemirror_mode": {
    "name": "ipython",
    "version": 3
   },
   "file_extension": ".py",
   "mimetype": "text/x-python",
   "name": "python",
   "nbconvert_exporter": "python",
   "pygments_lexer": "ipython3",
   "version": "3.7.1"
  }
 },
 "nbformat": 4,
 "nbformat_minor": 2
}
