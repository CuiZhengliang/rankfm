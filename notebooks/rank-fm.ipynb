{
 "cells": [
  {
   "cell_type": "markdown",
   "metadata": {},
   "source": [
    "### Import Required Packages and Set Options"
   ]
  },
  {
   "cell_type": "code",
   "execution_count": 1,
   "metadata": {},
   "outputs": [],
   "source": [
    "import os\n",
    "import sys\n",
    "\n",
    "import numpy as np\n",
    "import pandas as pd\n",
    "import multiprocessing as mp\n",
    "\n",
    "import matplotlib.pyplot as plt\n",
    "import seaborn as sns\n",
    "\n",
    "from datetime import datetime\n",
    "from itertools import combinations\n",
    "from functools import partial\n",
    "from numpy.linalg import norm\n",
    "\n",
    "import jax.numpy as jnp\n",
    "from jax import grad, jit, vmap"
   ]
  },
  {
   "cell_type": "code",
   "execution_count": 2,
   "metadata": {},
   "outputs": [],
   "source": [
    "REPO_ROOT = \"/Users/ericlundquist/Repos/rankfm\"\n",
    "DATA_ROOT = os.path.join(REPO_ROOT, \"data/ml-100k\")"
   ]
  },
  {
   "cell_type": "markdown",
   "metadata": {},
   "source": [
    "### Load/Prepare Example Data"
   ]
  },
  {
   "cell_type": "markdown",
   "metadata": {},
   "source": [
    "#### Prepare Users Data"
   ]
  },
  {
   "cell_type": "code",
   "execution_count": 3,
   "metadata": {},
   "outputs": [
    {
     "data": {
      "text/plain": [
       "user_id                      472.000000\n",
       "agegroup__0                    0.433722\n",
       "agegroup__1                    0.348887\n",
       "agegroup__2                    0.217391\n",
       "gender__F                      0.289502\n",
       "gender__M                      0.710498\n",
       "occupation__administrator      0.083775\n",
       "occupation__artist             0.029692\n",
       "occupation__doctor             0.007423\n",
       "occupation__educator           0.100742\n",
       "occupation__engineer           0.071050\n",
       "occupation__entertainment      0.019088\n",
       "occupation__executive          0.033934\n",
       "occupation__healthcare         0.016967\n",
       "occupation__homemaker          0.007423\n",
       "occupation__lawyer             0.012725\n",
       "occupation__librarian          0.054083\n",
       "occupation__marketing          0.027572\n",
       "occupation__none               0.009544\n",
       "occupation__other              0.111347\n",
       "occupation__programmer         0.069989\n",
       "occupation__retired            0.014846\n",
       "occupation__salesman           0.012725\n",
       "occupation__scientist          0.032874\n",
       "occupation__student            0.207847\n",
       "occupation__technician         0.028632\n",
       "occupation__writer             0.047720\n",
       "dtype: float64"
      ]
     },
     "execution_count": 3,
     "metadata": {},
     "output_type": "execute_result"
    }
   ],
   "source": [
    "users_df = pd.read_csv(os.path.join(DATA_ROOT, \"users.csv\"))\n",
    "users_df['agegroup'] = pd.cut(users_df['age'], [0, 30, 45, 100], right=False, labels=False)\n",
    "users_df = users_df.drop(['age', 'zip_code'], axis=1)\n",
    "users_df = pd.get_dummies(users_df, prefix_sep='__', columns=['agegroup', 'gender', 'occupation'])\n",
    "users_df.mean()"
   ]
  },
  {
   "cell_type": "markdown",
   "metadata": {},
   "source": [
    "#### Prepare Items Data"
   ]
  },
  {
   "cell_type": "code",
   "execution_count": 4,
   "metadata": {},
   "outputs": [
    {
     "data": {
      "text/html": [
       "<div>\n",
       "<style scoped>\n",
       "    .dataframe tbody tr th:only-of-type {\n",
       "        vertical-align: middle;\n",
       "    }\n",
       "\n",
       "    .dataframe tbody tr th {\n",
       "        vertical-align: top;\n",
       "    }\n",
       "\n",
       "    .dataframe thead th {\n",
       "        text-align: right;\n",
       "    }\n",
       "</style>\n",
       "<table border=\"1\" class=\"dataframe\">\n",
       "  <thead>\n",
       "    <tr style=\"text-align: right;\">\n",
       "      <th></th>\n",
       "      <th>item_id</th>\n",
       "      <th>item_name</th>\n",
       "    </tr>\n",
       "  </thead>\n",
       "  <tbody>\n",
       "    <tr>\n",
       "      <th>0</th>\n",
       "      <td>1</td>\n",
       "      <td>Toy Story (1995)</td>\n",
       "    </tr>\n",
       "    <tr>\n",
       "      <th>1</th>\n",
       "      <td>2</td>\n",
       "      <td>GoldenEye (1995)</td>\n",
       "    </tr>\n",
       "    <tr>\n",
       "      <th>2</th>\n",
       "      <td>3</td>\n",
       "      <td>Four Rooms (1995)</td>\n",
       "    </tr>\n",
       "    <tr>\n",
       "      <th>3</th>\n",
       "      <td>4</td>\n",
       "      <td>Get Shorty (1995)</td>\n",
       "    </tr>\n",
       "    <tr>\n",
       "      <th>4</th>\n",
       "      <td>5</td>\n",
       "      <td>Copycat (1995)</td>\n",
       "    </tr>\n",
       "  </tbody>\n",
       "</table>\n",
       "</div>"
      ],
      "text/plain": [
       "   item_id          item_name\n",
       "0        1   Toy Story (1995)\n",
       "1        2   GoldenEye (1995)\n",
       "2        3  Four Rooms (1995)\n",
       "3        4  Get Shorty (1995)\n",
       "4        5     Copycat (1995)"
      ]
     },
     "execution_count": 4,
     "metadata": {},
     "output_type": "execute_result"
    }
   ],
   "source": [
    "items_df = pd.read_csv(os.path.join(DATA_ROOT, \"items.csv\"))\n",
    "item_names = items_df[['item_id', 'item_name']]\n",
    "item_names.head()"
   ]
  },
  {
   "cell_type": "code",
   "execution_count": 5,
   "metadata": {},
   "outputs": [
    {
     "data": {
      "text/plain": [
       "item_id               841.500000\n",
       "genre__action           0.149227\n",
       "genre__adventure        0.080262\n",
       "genre__animation        0.024970\n",
       "genre__childrens        0.072533\n",
       "genre__comedy           0.300238\n",
       "genre__crime            0.064804\n",
       "genre__documentary      0.029727\n",
       "genre__drama            0.431034\n",
       "genre__fantasy          0.013080\n",
       "genre__film_noir        0.014269\n",
       "genre__horror           0.054697\n",
       "genre__musical          0.033294\n",
       "genre__mystery          0.036266\n",
       "genre__romance          0.146849\n",
       "genre__scifi            0.060048\n",
       "genre__thriller         0.149227\n",
       "genre__war              0.042212\n",
       "genre__western          0.016052\n",
       "dtype: float64"
      ]
     },
     "execution_count": 5,
     "metadata": {},
     "output_type": "execute_result"
    }
   ],
   "source": [
    "items_df = items_df.drop(['item_name', 'release_date'], axis=1)\n",
    "items_df.columns = ['item_id'] + [\"genre__{}\".format(col) for col in items_df.columns[1:]]\n",
    "items_df.mean()"
   ]
  },
  {
   "cell_type": "markdown",
   "metadata": {},
   "source": [
    "#### Prepare Ratings Data"
   ]
  },
  {
   "cell_type": "code",
   "execution_count": 6,
   "metadata": {},
   "outputs": [
    {
     "data": {
      "text/plain": [
       "user_id              462.48475\n",
       "item_id              425.53013\n",
       "rating                 3.52986\n",
       "positive_feedback      0.54194\n",
       "dtype: float64"
      ]
     },
     "execution_count": 6,
     "metadata": {},
     "output_type": "execute_result"
    }
   ],
   "source": [
    "ratings_explicit = pd.read_csv(os.path.join(DATA_ROOT, \"ratings.csv\"))\n",
    "ratings_explicit['timestamp'] = pd.to_datetime(ratings_explicit['unix_timestamp'], origin='unix', unit='s')\n",
    "ratings_explicit['positive_feedback'] = ratings_explicit.groupby('user_id')['rating'].transform(lambda c: np.where(c > c.mean(), 1, 0))\n",
    "ratings_explicit = ratings_explicit.drop('unix_timestamp', axis=1)\n",
    "ratings_explicit.mean()"
   ]
  },
  {
   "cell_type": "code",
   "execution_count": 7,
   "metadata": {},
   "outputs": [
    {
     "data": {
      "text/html": [
       "<div>\n",
       "<style scoped>\n",
       "    .dataframe tbody tr th:only-of-type {\n",
       "        vertical-align: middle;\n",
       "    }\n",
       "\n",
       "    .dataframe tbody tr th {\n",
       "        vertical-align: top;\n",
       "    }\n",
       "\n",
       "    .dataframe thead th {\n",
       "        text-align: right;\n",
       "    }\n",
       "</style>\n",
       "<table border=\"1\" class=\"dataframe\">\n",
       "  <thead>\n",
       "    <tr style=\"text-align: right;\">\n",
       "      <th></th>\n",
       "      <th>user_id</th>\n",
       "      <th>item_id</th>\n",
       "      <th>rating</th>\n",
       "      <th>timestamp</th>\n",
       "      <th>positive_feedback</th>\n",
       "    </tr>\n",
       "  </thead>\n",
       "  <tbody>\n",
       "    <tr>\n",
       "      <th>0</th>\n",
       "      <td>196</td>\n",
       "      <td>242</td>\n",
       "      <td>3</td>\n",
       "      <td>1997-12-04 15:55:49</td>\n",
       "      <td>0</td>\n",
       "    </tr>\n",
       "    <tr>\n",
       "      <th>1</th>\n",
       "      <td>186</td>\n",
       "      <td>302</td>\n",
       "      <td>3</td>\n",
       "      <td>1998-04-04 19:22:22</td>\n",
       "      <td>0</td>\n",
       "    </tr>\n",
       "    <tr>\n",
       "      <th>2</th>\n",
       "      <td>22</td>\n",
       "      <td>377</td>\n",
       "      <td>1</td>\n",
       "      <td>1997-11-07 07:18:36</td>\n",
       "      <td>0</td>\n",
       "    </tr>\n",
       "    <tr>\n",
       "      <th>3</th>\n",
       "      <td>244</td>\n",
       "      <td>51</td>\n",
       "      <td>2</td>\n",
       "      <td>1997-11-27 05:02:03</td>\n",
       "      <td>0</td>\n",
       "    </tr>\n",
       "    <tr>\n",
       "      <th>4</th>\n",
       "      <td>166</td>\n",
       "      <td>346</td>\n",
       "      <td>1</td>\n",
       "      <td>1998-02-02 05:33:16</td>\n",
       "      <td>0</td>\n",
       "    </tr>\n",
       "  </tbody>\n",
       "</table>\n",
       "</div>"
      ],
      "text/plain": [
       "   user_id  item_id  rating           timestamp  positive_feedback\n",
       "0      196      242       3 1997-12-04 15:55:49                  0\n",
       "1      186      302       3 1998-04-04 19:22:22                  0\n",
       "2       22      377       1 1997-11-07 07:18:36                  0\n",
       "3      244       51       2 1997-11-27 05:02:03                  0\n",
       "4      166      346       1 1998-02-02 05:33:16                  0"
      ]
     },
     "execution_count": 7,
     "metadata": {},
     "output_type": "execute_result"
    }
   ],
   "source": [
    "ratings_explicit.head()"
   ]
  },
  {
   "cell_type": "markdown",
   "metadata": {},
   "source": [
    "#### Generate Implicit Feedback Version"
   ]
  },
  {
   "cell_type": "code",
   "execution_count": 8,
   "metadata": {},
   "outputs": [
    {
     "data": {
      "text/html": [
       "<div>\n",
       "<style scoped>\n",
       "    .dataframe tbody tr th:only-of-type {\n",
       "        vertical-align: middle;\n",
       "    }\n",
       "\n",
       "    .dataframe tbody tr th {\n",
       "        vertical-align: top;\n",
       "    }\n",
       "\n",
       "    .dataframe thead th {\n",
       "        text-align: right;\n",
       "    }\n",
       "</style>\n",
       "<table border=\"1\" class=\"dataframe\">\n",
       "  <thead>\n",
       "    <tr style=\"text-align: right;\">\n",
       "      <th></th>\n",
       "      <th>user_id</th>\n",
       "      <th>item_id</th>\n",
       "      <th>rating</th>\n",
       "      <th>timestamp</th>\n",
       "      <th>positive_feedback</th>\n",
       "    </tr>\n",
       "  </thead>\n",
       "  <tbody>\n",
       "    <tr>\n",
       "      <th>0</th>\n",
       "      <td>253</td>\n",
       "      <td>465</td>\n",
       "      <td>5</td>\n",
       "      <td>1998-04-03 18:34:27</td>\n",
       "      <td>1</td>\n",
       "    </tr>\n",
       "    <tr>\n",
       "      <th>1</th>\n",
       "      <td>286</td>\n",
       "      <td>1014</td>\n",
       "      <td>5</td>\n",
       "      <td>1997-11-17 15:38:45</td>\n",
       "      <td>1</td>\n",
       "    </tr>\n",
       "    <tr>\n",
       "      <th>2</th>\n",
       "      <td>200</td>\n",
       "      <td>222</td>\n",
       "      <td>5</td>\n",
       "      <td>1997-10-05 09:05:40</td>\n",
       "      <td>1</td>\n",
       "    </tr>\n",
       "    <tr>\n",
       "      <th>3</th>\n",
       "      <td>224</td>\n",
       "      <td>29</td>\n",
       "      <td>3</td>\n",
       "      <td>1998-02-21 23:40:57</td>\n",
       "      <td>1</td>\n",
       "    </tr>\n",
       "    <tr>\n",
       "      <th>4</th>\n",
       "      <td>122</td>\n",
       "      <td>387</td>\n",
       "      <td>5</td>\n",
       "      <td>1997-11-11 17:47:39</td>\n",
       "      <td>1</td>\n",
       "    </tr>\n",
       "  </tbody>\n",
       "</table>\n",
       "</div>"
      ],
      "text/plain": [
       "   user_id  item_id  rating           timestamp  positive_feedback\n",
       "0      253      465       5 1998-04-03 18:34:27                  1\n",
       "1      286     1014       5 1997-11-17 15:38:45                  1\n",
       "2      200      222       5 1997-10-05 09:05:40                  1\n",
       "3      224       29       3 1998-02-21 23:40:57                  1\n",
       "4      122      387       5 1997-11-11 17:47:39                  1"
      ]
     },
     "execution_count": 8,
     "metadata": {},
     "output_type": "execute_result"
    }
   ],
   "source": [
    "ratings_implicit = ratings_explicit[ratings_explicit.positive_feedback == 1].reset_index(drop=True)\n",
    "ratings_implicit.head()"
   ]
  },
  {
   "cell_type": "markdown",
   "metadata": {},
   "source": [
    "#### Print Final Matrix Shapes\n",
    "* NOTE: consider some way to include these movies that literally nobody rated above average in the sampling procedure"
   ]
  },
  {
   "cell_type": "code",
   "execution_count": 9,
   "metadata": {},
   "outputs": [
    {
     "name": "stdout",
     "output_type": "stream",
     "text": [
      "943 1682\n",
      "943 1483\n",
      "(100000, 5)\n",
      "(54194, 5)\n"
     ]
    }
   ],
   "source": [
    "print(ratings_explicit.user_id.nunique(), ratings_explicit.item_id.nunique())\n",
    "print(ratings_implicit.user_id.nunique(), ratings_implicit.item_id.nunique())\n",
    "\n",
    "print(ratings_explicit.shape)\n",
    "print(ratings_implicit.shape)"
   ]
  },
  {
   "cell_type": "markdown",
   "metadata": {},
   "source": [
    "### Define Helper/Utility Functions"
   ]
  },
  {
   "cell_type": "code",
   "execution_count": 10,
   "metadata": {},
   "outputs": [],
   "source": [
    "def sample_tuple(u, i, items, user_items):\n",
    "    \"\"\"sample a single (u, i, j) tuple\n",
    "    \n",
    "    :param u: user_id\n",
    "    :param i: item_id\n",
    "    :param items: set of all items \n",
    "    :param user_items: dictionary where keys are user_id and values are sets of interacted items\n",
    "    :return: (u, i, j) tuple where item (j) is randomly sampled from non-interacted items\n",
    "    \"\"\"\n",
    "    \n",
    "    return u, i, np.random.choice(list(items - user_items[u]))  \n",
    "\n",
    "\n",
    "def sample_tuples(interactions, items, user_items, num_threads=mp.cpu_count()):\n",
    "    \"\"\"sample a (u, i, j) tuple for every observed interaction\n",
    "    \n",
    "    :param interactions: ndarray of observed user/item interactions  \n",
    "    :param items: set of all items \n",
    "    :param user_items: dictionary where keys are user_id and values are sets of interacted items\n",
    "    :param num_threads: number of parallel computation threads to use\n",
    "    :return: list of sampled (u, i, j) tuples with one tuple for each observed (u, i) interaction   \n",
    "    \"\"\"\n",
    "    \n",
    "    pool = mp.Pool(processes=num_threads)\n",
    "    mp_sample_tuple = partial(sample_tuple, items=items, user_items=user_items)\n",
    "    samples = pool.starmap(mp_sample_tuple, zip(interactions.iloc[:, 0], interactions.iloc[:, 1]))\n",
    "    pool.close()\n",
    "    pool.join()\n",
    "    return samples"
   ]
  },
  {
   "cell_type": "markdown",
   "metadata": {},
   "source": [
    "### Define Evaluation Metric Functions"
   ]
  },
  {
   "cell_type": "code",
   "execution_count": 11,
   "metadata": {},
   "outputs": [],
   "source": [
    "def precision_at_k(model, test_interactions, k=10):\n",
    "    \"\"\"evaluate precision wrt out-of-sample observed interactions\n",
    "    \n",
    "    :param model: trained RankFM model instance\n",
    "    :param test_interactions: pandas dataframe of out-of-sample observed user/item interactions  \n",
    "    :param k: number of recommendations to generate for each user\n",
    "    :return: overall average precision (scalar)\n",
    "    \"\"\"\n",
    "    \n",
    "    test_users = np.unique(test_interactions.iloc[:, 0])\n",
    "    train_users = model.user_idx.map(model.index_to_user)\n",
    "    common_users = list(set(test_users) & set(train_users))\n",
    "    \n",
    "    test_user_items = pd.DataFrame(test_interactions.copy(), columns=['user_id', 'item_id'])\n",
    "    common_user_items = test_user_items[test_user_items.user_id.isin(common_users)].groupby('user_id')['item_id'].apply(set).to_dict()\n",
    "    \n",
    "    recommendations = model.recommend_for_users(common_users)\n",
    "    precision = np.mean([len(set(recommendations.loc[key]) & set(val)) / len(set(recommendations.loc[key])) for key, val in common_user_items.items()])\n",
    "    return precision\n",
    "\n",
    "\n",
    "def recall_at_k(model, test_interactions, k=10):\n",
    "    \"\"\"evaluate recall wrt out-of-sample observed interactions\n",
    "    \n",
    "    :param model: trained RankFM model instance\n",
    "    :param test_interactions: pandas dataframe of out-of-sample observed user/item interactions  \n",
    "    :param k: number of recommendations to generate for each user\n",
    "    :return: overall average recall (scalar)\n",
    "    \"\"\"\n",
    "    \n",
    "    test_users = np.unique(test_interactions.iloc[:, 0])\n",
    "    train_users = model.user_idx.map(model.index_to_user)\n",
    "    common_users = list(set(test_users) & set(train_users))\n",
    "    \n",
    "    test_user_items = pd.DataFrame(test_interactions.copy(), columns=['user_id', 'item_id'])\n",
    "    common_user_items = test_user_items[test_user_items.user_id.isin(common_users)].groupby('user_id')['item_id'].apply(set).to_dict()\n",
    "    \n",
    "    recommendations = model.recommend_for_users(common_users)\n",
    "    recall = np.mean([len(set(recommendations.loc[key]) & set(val)) / len(set(val)) for key, val in common_user_items.items()])\n",
    "    return recall"
   ]
  },
  {
   "cell_type": "markdown",
   "metadata": {},
   "source": [
    "### Define Main Model Class"
   ]
  },
  {
   "cell_type": "code",
   "execution_count": 12,
   "metadata": {},
   "outputs": [],
   "source": [
    "class RankFM():\n",
    "    \"\"\"Factorization Machines for Ranking Problems with Implicit Feedback Data\"\"\"\n",
    "    \n",
    "    def __init__(self, factors=10, learning_rate=0.1, regularization=0.01, sigma=0.1):\n",
    "        \"\"\"store hyperparameters and initialize internal data\n",
    "        \n",
    "        :param factors: latent factor rank\n",
    "        :param learning_rate: learning rate for gradient step weight updates\n",
    "        :param regularization: L2 regularization penalty on model weights\n",
    "        :param sigma: standard deviation to use for random initialization of factor weights\n",
    "        :return: None\n",
    "        \"\"\"\n",
    "        \n",
    "        # model hyperparameters\n",
    "        self.factors = factors\n",
    "        self.learning_rate = learning_rate\n",
    "        self.regularization = regularization\n",
    "        self.sigma = sigma\n",
    "        \n",
    "        # user/item identifiers <--> index positions mappings\n",
    "        self.index_to_user = None\n",
    "        self.index_to_item = None\n",
    "        self.user_to_index = None\n",
    "        self.item_to_index = None\n",
    "        \n",
    "        # pandas raw interactions and unique sets of users, items, user_items\n",
    "        self.interactions = None\n",
    "        self.user_idx = None\n",
    "        self.item_idx = None\n",
    "        self.user_items = None\n",
    "        \n",
    "        # number of unique users/items\n",
    "        self.n_users = None\n",
    "        self.n_items = None\n",
    "\n",
    "        # model weights\n",
    "        self.w_item = None\n",
    "        self.v_user = None\n",
    "        self.v_item = None\n",
    "        \n",
    "\n",
    "    def _initialize(self, interactions):\n",
    "        \"\"\"create bi-directional raw user/item identifiers to zero-based index positions mappings and initialize model weights\n",
    "        \n",
    "        :param interactions: pandas dataframe of observed user/item interactions\n",
    "        :return: None\n",
    "        \"\"\"\n",
    "          \n",
    "        # copy the raw interactions data into a pandas dataframe for internal use\n",
    "        self.interactions = pd.DataFrame(interactions.copy(), columns=['user_id', 'item_id'])\n",
    "\n",
    "        # create zero-based index position to identifier mappings\n",
    "        self.index_to_user = pd.Series(np.sort(np.unique(self.interactions['user_id']))).to_dict()\n",
    "        self.index_to_item = pd.Series(np.sort(np.unique(self.interactions['item_id']))).to_dict()\n",
    "        \n",
    "        # create reverse mappings from identifiers to zero-based index positions\n",
    "        self.user_to_index = {val: key for key, val in self.index_to_user.items()}\n",
    "        self.item_to_index = {val: key for key, val in self.index_to_item.items()}\n",
    "        \n",
    "        # convert the internal interactions data from identifiers to index positions\n",
    "        self.interactions['user_id'] = self.interactions['user_id'].map(self.user_to_index)\n",
    "        self.interactions['item_id'] = self.interactions['item_id'].map(self.item_to_index)\n",
    "        self.interactions = self.interactions.astype('int32').rename({'user_id': 'user_idx', 'item_id': 'item_idx'}, axis=1)\n",
    "        \n",
    "        # store unique values of user/item indexes and observed interactions for each user\n",
    "        self.user_idx = pd.Series(np.sort(np.unique(self.interactions['user_idx'])))\n",
    "        self.item_idx = pd.Series(np.sort(np.unique(self.interactions['item_idx'])))\n",
    "        self.user_items = self.interactions.groupby('user_idx')['item_idx'].apply(set).to_dict()\n",
    "        \n",
    "        # store the total cardinality of users/items\n",
    "        self.n_users = len(self.user_idx)\n",
    "        self.n_items = len(self.item_idx)\n",
    "        \n",
    "        # initialize the model weights as ndarrays\n",
    "        self.w_item = np.zeros(self.n_items)\n",
    "        self.v_user = np.random.normal(loc=0, scale=self.sigma, size=(self.n_users, self.factors))\n",
    "        self.v_item = np.random.normal(loc=0, scale=self.sigma, size=(self.n_items, self.factors))\n",
    "        \n",
    "        \n",
    "    def _pointwise_utility(self, u, i):\n",
    "        \"\"\"calculate the pointwise utility of a given (user, item) pair\n",
    "        \n",
    "        :param u: user index\n",
    "        :param i: item index\n",
    "        :return: scalar utility\n",
    "        \"\"\"\n",
    "        \n",
    "        utility = self.w_item[i] + np.dot(self.v_user[u], self.v_item[i])\n",
    "        return utility\n",
    "    \n",
    "    \n",
    "    def _pointwise_utilities(self, u):\n",
    "        \"\"\"calculate the pointwise utilities of all items for a given user\n",
    "        \n",
    "        :param u: user index\n",
    "        :return: vector of utilities for all items by index position\n",
    "        \"\"\"\n",
    "        \n",
    "        utilities = self.w_item + np.dot(self.v_item, self.v_user[u])\n",
    "        return utilities\n",
    "\n",
    "\n",
    "    def _pairwise_utility(self, sample):\n",
    "        \"\"\"calculate the pairwise utility of an (u, i, j) sample\n",
    "        \n",
    "        :param sample: (u, i, j) index position tuple\n",
    "        :return: pairwise utility score: utility(u, i) - utility(u, j)\n",
    "        \"\"\"\n",
    "\n",
    "        u, i, j = sample\n",
    "        utility = self.w_item[i] - self.w_item[j] + np.dot(self.v_user[u], self.v_item[i] - self.v_item[j])\n",
    "        return utility\n",
    "\n",
    "\n",
    "    def _gradient_step(self, sample):\n",
    "        \"\"\"update current model weights based on the gradient of the log-likelihood function\n",
    "        \n",
    "        :param sample: (u, i, j) index position tuple\n",
    "        :return: None\n",
    "        \"\"\"\n",
    "\n",
    "        # calculate the pairwise utility of the (u, i, j) pair\n",
    "        u, i, j = sample\n",
    "        utility = self._pairwise_utility(sample)\n",
    "\n",
    "        # calculate the outer derivative [d_LL/d_g(theta)] and the regularization derivative [d_pen/d_theta]\n",
    "        d_con = (1 / (1 + np.exp(utility)))\n",
    "        d_pen = 2 * self.regularization\n",
    "\n",
    "        # calculate the inner derivatives [d_g(theta)/d_theta]\n",
    "        d_w_i = 1\n",
    "        d_w_j = -1\n",
    "        d_v_u = self.v_item[i] - self.v_item[j]\n",
    "        d_v_i = self.v_user[u]\n",
    "        d_v_j = -self.v_user[u]\n",
    "\n",
    "        # perform the gradient updates to the relevant model weights\n",
    "        self.w_item[i] += self.learning_rate * ((d_con * d_w_i) - (d_pen * self.w_item[i]))\n",
    "        self.w_item[j] += self.learning_rate * ((d_con * d_w_j) - (d_pen * self.w_item[j]))\n",
    "        self.v_user[u] += self.learning_rate * ((d_con * d_v_u) - (d_pen * self.v_user[u]))\n",
    "        self.v_item[i] += self.learning_rate * ((d_con * d_v_i) - (d_pen * self.v_item[i]))\n",
    "        self.v_item[j] += self.learning_rate * ((d_con * d_v_j) - (d_pen * self.v_item[j]))\n",
    "        \n",
    "    \n",
    "    def _log_likelihood(self, samples):\n",
    "        \"\"\"calculate the regularized log-likelihood of all sample pairs\n",
    "        \n",
    "        :param samples: list of (u, i, j) index position tuples\n",
    "        :return: current penalized log-likelihood (scalar)\n",
    "        \"\"\"\n",
    "\n",
    "        likelihood = sum(np.log(1 / (1 + np.exp(-self._pairwise_utility(sample)))) for sample in samples)\n",
    "        penalty = sum([np.sum(self.regularization * np.square(w)) for w in [self.w_item, self.v_user, self.v_item]])\n",
    "        return likelihood - penalty\n",
    "    \n",
    "    \n",
    "    def fit(self, interactions, epochs=1, verbose=False):\n",
    "        \"\"\"train model weights using the interaction data\n",
    "        \n",
    "        :param interactions: pandas dataframe of observed user/item interactions\n",
    "        :param epochs: number of training epochs (full passes through observed interactions)\n",
    "        :param verbose: whether to print epoch number and log-likelihood during training\n",
    "        :return: self\n",
    "        \"\"\"\n",
    "        \n",
    "        # copy the raw interaction data into an internal pandas dataframe\n",
    "        # and map original user/item identifers to zero-based index positions\n",
    "        self._initialize(interactions)\n",
    "        \n",
    "        for epoch in range(epochs):\n",
    "            \n",
    "            shuffle_index = np.arange(self.interactions.shape[0])\n",
    "            np.random.shuffle(shuffle_index)\n",
    "            \n",
    "            shuffle_samples = sample_tuples(self.interactions.iloc[shuffle_index], set(self.item_idx), self.user_items)\n",
    "            for sample in shuffle_samples:\n",
    "                self._gradient_step(sample) \n",
    "                \n",
    "            if verbose:\n",
    "                ll = self._log_likelihood(shuffle_samples)\n",
    "                print(\"\\ntraining epoch: {}\".format(epoch))\n",
    "                print(\"penalized log-likelihood: {}\".format(round(ll, 2)))\n",
    "                \n",
    "        # return a reference to the trained model object for chained method calls\n",
    "        return self\n",
    "                \n",
    "                \n",
    "    def predict(self, interactions):\n",
    "        \"\"\"calculate the predicted pointwise utilities for all (user, item) pairs\n",
    "        \n",
    "        :param interactions: pandas dataframe of user/item pairs for which to generate utility scores\n",
    "        :return: vector of utility scores corresponding to input user/item pairs\n",
    "        \"\"\"\n",
    "        \n",
    "        user_idx = interactions.iloc[:, 0].map(self.user_to_index)\n",
    "        item_idx = interactions.iloc[:, 1].map(self.item_to_index)\n",
    "        \n",
    "        scores = np.array([self._pointwise_utility(user, item) for user, item in zip(user_idx, item_idx)])\n",
    "        return scores\n",
    "                \n",
    "            \n",
    "    def recommend_for_users(self, users, n_items=10):\n",
    "        \"\"\"calculate the topN items for each user\n",
    "        \n",
    "        :param users: list of user identifiers for which to generate recommendations\n",
    "        :param n_items: number of recommended items to generate for each user\n",
    "        :return: pandas dataframe where the index values are user identifiers and the columns are recommended items \n",
    "        \"\"\"\n",
    "\n",
    "        user_idx = pd.Series(users).map(self.user_to_index).dropna().astype('int32')\n",
    "        user_ids = user_idx.map(self.index_to_user)\n",
    "        \n",
    "        top_n = [pd.Series(self._pointwise_utilities(user)).sort_values(ascending=False)[:n_items].index.values for user in user_idx]\n",
    "        top_n = pd.DataFrame(top_n, index=user_ids).apply(lambda c: c.map(self.index_to_item))\n",
    "        return top_n\n",
    "    \n",
    "    "
   ]
  },
  {
   "cell_type": "markdown",
   "metadata": {},
   "source": [
    "### Test Out the Model on the Example Data"
   ]
  },
  {
   "cell_type": "markdown",
   "metadata": {},
   "source": [
    "#### Create (Training, Validation) Interactions for Evaluation"
   ]
  },
  {
   "cell_type": "code",
   "execution_count": 13,
   "metadata": {},
   "outputs": [
    {
     "name": "stdout",
     "output_type": "stream",
     "text": [
      "(54194, 5)\n"
     ]
    },
    {
     "data": {
      "text/html": [
       "<div>\n",
       "<style scoped>\n",
       "    .dataframe tbody tr th:only-of-type {\n",
       "        vertical-align: middle;\n",
       "    }\n",
       "\n",
       "    .dataframe tbody tr th {\n",
       "        vertical-align: top;\n",
       "    }\n",
       "\n",
       "    .dataframe thead th {\n",
       "        text-align: right;\n",
       "    }\n",
       "</style>\n",
       "<table border=\"1\" class=\"dataframe\">\n",
       "  <thead>\n",
       "    <tr style=\"text-align: right;\">\n",
       "      <th></th>\n",
       "      <th>user_id</th>\n",
       "      <th>item_id</th>\n",
       "      <th>rating</th>\n",
       "      <th>timestamp</th>\n",
       "      <th>positive_feedback</th>\n",
       "    </tr>\n",
       "  </thead>\n",
       "  <tbody>\n",
       "    <tr>\n",
       "      <th>0</th>\n",
       "      <td>253</td>\n",
       "      <td>465</td>\n",
       "      <td>5</td>\n",
       "      <td>1998-04-03 18:34:27</td>\n",
       "      <td>1</td>\n",
       "    </tr>\n",
       "    <tr>\n",
       "      <th>1</th>\n",
       "      <td>286</td>\n",
       "      <td>1014</td>\n",
       "      <td>5</td>\n",
       "      <td>1997-11-17 15:38:45</td>\n",
       "      <td>1</td>\n",
       "    </tr>\n",
       "    <tr>\n",
       "      <th>2</th>\n",
       "      <td>200</td>\n",
       "      <td>222</td>\n",
       "      <td>5</td>\n",
       "      <td>1997-10-05 09:05:40</td>\n",
       "      <td>1</td>\n",
       "    </tr>\n",
       "    <tr>\n",
       "      <th>3</th>\n",
       "      <td>224</td>\n",
       "      <td>29</td>\n",
       "      <td>3</td>\n",
       "      <td>1998-02-21 23:40:57</td>\n",
       "      <td>1</td>\n",
       "    </tr>\n",
       "    <tr>\n",
       "      <th>4</th>\n",
       "      <td>122</td>\n",
       "      <td>387</td>\n",
       "      <td>5</td>\n",
       "      <td>1997-11-11 17:47:39</td>\n",
       "      <td>1</td>\n",
       "    </tr>\n",
       "  </tbody>\n",
       "</table>\n",
       "</div>"
      ],
      "text/plain": [
       "   user_id  item_id  rating           timestamp  positive_feedback\n",
       "0      253      465       5 1998-04-03 18:34:27                  1\n",
       "1      286     1014       5 1997-11-17 15:38:45                  1\n",
       "2      200      222       5 1997-10-05 09:05:40                  1\n",
       "3      224       29       3 1998-02-21 23:40:57                  1\n",
       "4      122      387       5 1997-11-11 17:47:39                  1"
      ]
     },
     "execution_count": 13,
     "metadata": {},
     "output_type": "execute_result"
    }
   ],
   "source": [
    "print(ratings_implicit.shape)\n",
    "ratings_implicit.head()"
   ]
  },
  {
   "cell_type": "code",
   "execution_count": 14,
   "metadata": {},
   "outputs": [
    {
     "data": {
      "text/plain": [
       "((40646, 2), (13548, 2))"
      ]
     },
     "execution_count": 14,
     "metadata": {},
     "output_type": "execute_result"
    }
   ],
   "source": [
    "test_pct = 0.25\n",
    "\n",
    "train_mask = (ratings_implicit.index / ratings_implicit.shape[0]) <  (1 - test_pct)\n",
    "valid_mask = (ratings_implicit.index / ratings_implicit.shape[0]) >= (1 - test_pct)\n",
    "\n",
    "interactions_train = ratings_implicit[train_mask][['user_id', 'item_id']]\n",
    "interactions_valid = ratings_implicit[valid_mask][['user_id', 'item_id']]\n",
    "\n",
    "interactions_train.shape, interactions_valid.shape"
   ]
  },
  {
   "cell_type": "markdown",
   "metadata": {},
   "source": [
    "#### Initialize and Fit the Model"
   ]
  },
  {
   "cell_type": "code",
   "execution_count": 15,
   "metadata": {},
   "outputs": [
    {
     "data": {
      "text/plain": [
       "<__main__.RankFM at 0x1c2d7573c8>"
      ]
     },
     "execution_count": 15,
     "metadata": {},
     "output_type": "execute_result"
    }
   ],
   "source": [
    "model = RankFM(factors=10, learning_rate=0.1, regularization=0.01, sigma=0.1)\n",
    "model"
   ]
  },
  {
   "cell_type": "code",
   "execution_count": 16,
   "metadata": {},
   "outputs": [
    {
     "name": "stdout",
     "output_type": "stream",
     "text": [
      "\n",
      "training epoch: 0\n",
      "penalized log-likelihood: -15892.6\n",
      "\n",
      "training epoch: 1\n",
      "penalized log-likelihood: -14856.59\n",
      "\n",
      "training epoch: 2\n",
      "penalized log-likelihood: -13830.46\n",
      "\n",
      "training epoch: 3\n",
      "penalized log-likelihood: -13029.39\n",
      "\n",
      "training epoch: 4\n",
      "penalized log-likelihood: -11909.33\n",
      "\n",
      "training epoch: 5\n",
      "penalized log-likelihood: -10774.33\n",
      "\n",
      "training epoch: 6\n",
      "penalized log-likelihood: -9774.06\n",
      "\n",
      "training epoch: 7\n",
      "penalized log-likelihood: -8912.31\n",
      "\n",
      "training epoch: 8\n",
      "penalized log-likelihood: -8529.65\n",
      "\n",
      "training epoch: 9\n",
      "penalized log-likelihood: -8145.14\n",
      " "
     ]
    },
    {
     "data": {
      "text/plain": [
       "         2788045 function calls (2786776 primitive calls) in 27.491 seconds\n",
       "\n",
       "   Ordered by: internal time\n",
       "   List reduced from 757 to 10 due to restriction <10>\n",
       "\n",
       "   ncalls  tottime  percall  cumtime  percall filename:lineno(function)\n",
       "     1348   12.861    0.010   12.861    0.010 {method 'acquire' of '_thread.lock' objects}\n",
       "   406460    9.382    0.000   10.719    0.000 <ipython-input-12-7968853ca3be>:115(_gradient_step)\n",
       "   812920    1.811    0.000    2.500    0.000 <ipython-input-12-7968853ca3be>:103(_pairwise_utility)\n",
       "   406470    1.477    0.000    2.639    0.000 <ipython-input-12-7968853ca3be>:152(<genexpr>)\n",
       "   812920    0.689    0.000    0.689    0.000 {built-in method numpy.dot}\n",
       "        1    0.306    0.306   27.488   27.488 <ipython-input-12-7968853ca3be>:157(fit)\n",
       "       10    0.198    0.020    0.201    0.020 pool.py:397(_map_async)\n",
       "      360    0.140    0.000    0.140    0.000 {built-in method posix.waitpid}\n",
       "       31    0.094    0.003    2.734    0.088 {built-in method builtins.sum}\n",
       "       80    0.094    0.001    0.121    0.002 {built-in method posix.fork}"
      ]
     },
     "metadata": {},
     "output_type": "display_data"
    }
   ],
   "source": [
    "%%prun -l 10 \n",
    "\n",
    "model.fit(interactions_train, epochs=10, verbose=True)"
   ]
  },
  {
   "cell_type": "markdown",
   "metadata": {},
   "source": [
    "#### Evaluate Model Performance"
   ]
  },
  {
   "cell_type": "code",
   "execution_count": 17,
   "metadata": {},
   "outputs": [
    {
     "data": {
      "text/html": [
       "<div>\n",
       "<style scoped>\n",
       "    .dataframe tbody tr th:only-of-type {\n",
       "        vertical-align: middle;\n",
       "    }\n",
       "\n",
       "    .dataframe tbody tr th {\n",
       "        vertical-align: top;\n",
       "    }\n",
       "\n",
       "    .dataframe thead th {\n",
       "        text-align: right;\n",
       "    }\n",
       "</style>\n",
       "<table border=\"1\" class=\"dataframe\">\n",
       "  <thead>\n",
       "    <tr style=\"text-align: right;\">\n",
       "      <th></th>\n",
       "      <th>user_id</th>\n",
       "      <th>item_id</th>\n",
       "    </tr>\n",
       "  </thead>\n",
       "  <tbody>\n",
       "    <tr>\n",
       "      <th>40646</th>\n",
       "      <td>437</td>\n",
       "      <td>443</td>\n",
       "    </tr>\n",
       "    <tr>\n",
       "      <th>40647</th>\n",
       "      <td>712</td>\n",
       "      <td>1037</td>\n",
       "    </tr>\n",
       "    <tr>\n",
       "      <th>40648</th>\n",
       "      <td>903</td>\n",
       "      <td>1070</td>\n",
       "    </tr>\n",
       "    <tr>\n",
       "      <th>40649</th>\n",
       "      <td>151</td>\n",
       "      <td>629</td>\n",
       "    </tr>\n",
       "    <tr>\n",
       "      <th>40650</th>\n",
       "      <td>711</td>\n",
       "      <td>79</td>\n",
       "    </tr>\n",
       "  </tbody>\n",
       "</table>\n",
       "</div>"
      ],
      "text/plain": [
       "       user_id  item_id\n",
       "40646      437      443\n",
       "40647      712     1037\n",
       "40648      903     1070\n",
       "40649      151      629\n",
       "40650      711       79"
      ]
     },
     "execution_count": 17,
     "metadata": {},
     "output_type": "execute_result"
    }
   ],
   "source": [
    "interactions_valid.head()"
   ]
  },
  {
   "cell_type": "code",
   "execution_count": 18,
   "metadata": {},
   "outputs": [],
   "source": [
    "k = 10"
   ]
  },
  {
   "cell_type": "code",
   "execution_count": 19,
   "metadata": {},
   "outputs": [
    {
     "name": "stdout",
     "output_type": "stream",
     "text": [
      "model precision: 0.118 model recall: 0.123\n"
     ]
    }
   ],
   "source": [
    "model_pre = round(precision_at_k(model, interactions_valid, k=k), 3)\n",
    "model_rec = round(recall_at_k(model, interactions_valid, k=k), 3)\n",
    "print(\"model precision: {} model recall: {}\".format(model_pre, model_rec))"
   ]
  },
  {
   "cell_type": "markdown",
   "metadata": {},
   "source": [
    "#### Evaluate Pure Popularity Baseline"
   ]
  },
  {
   "cell_type": "code",
   "execution_count": 20,
   "metadata": {},
   "outputs": [
    {
     "data": {
      "text/plain": [
       "item_id\n",
       "50     359\n",
       "100    292\n",
       "181    277\n",
       "258    261\n",
       "98     249\n",
       "174    246\n",
       "127    246\n",
       "1      226\n",
       "56     223\n",
       "313    222\n",
       "dtype: int64"
      ]
     },
     "execution_count": 20,
     "metadata": {},
     "output_type": "execute_result"
    }
   ],
   "source": [
    "most_popular = interactions_train.groupby('item_id').size().sort_values(ascending=False)[:k]\n",
    "most_popular"
   ]
  },
  {
   "cell_type": "code",
   "execution_count": 21,
   "metadata": {},
   "outputs": [
    {
     "name": "stdout",
     "output_type": "stream",
     "text": [
      "number of test users: 905\n",
      "baseline precision: 0.098 baseline recall: 0.087\n"
     ]
    }
   ],
   "source": [
    "test_user_items = interactions_valid.groupby('user_id')['item_id'].apply(set).to_dict()\n",
    "test_recommends = model.recommend_for_users(list(test_user_items.keys()))\n",
    "test_user_items = {key: val for key, val in test_user_items.items() if key in test_recommends.index}\n",
    "\n",
    "base_pre = round(np.mean([len(set(most_popular.index) & set(val)) / len(set(most_popular.index)) for key, val in test_user_items.items()]), 3)\n",
    "base_rec = round(np.mean([len(set(most_popular.index) & set(val)) / len(set(val))                for key, val in test_user_items.items()]), 3)\n",
    "\n",
    "print(\"number of test users: {}\".format(len(test_user_items)))\n",
    "print(\"baseline precision: {} baseline recall: {}\".format(base_pre, base_rec))"
   ]
  },
  {
   "cell_type": "markdown",
   "metadata": {},
   "source": [
    "#### Spot-Check Some User Recommendations"
   ]
  },
  {
   "cell_type": "code",
   "execution_count": 27,
   "metadata": {},
   "outputs": [
    {
     "data": {
      "text/html": [
       "<div>\n",
       "<style scoped>\n",
       "    .dataframe tbody tr th:only-of-type {\n",
       "        vertical-align: middle;\n",
       "    }\n",
       "\n",
       "    .dataframe tbody tr th {\n",
       "        vertical-align: top;\n",
       "    }\n",
       "\n",
       "    .dataframe thead th {\n",
       "        text-align: right;\n",
       "    }\n",
       "</style>\n",
       "<table border=\"1\" class=\"dataframe\">\n",
       "  <thead>\n",
       "    <tr style=\"text-align: right;\">\n",
       "      <th></th>\n",
       "      <th>0</th>\n",
       "      <th>1</th>\n",
       "      <th>2</th>\n",
       "      <th>3</th>\n",
       "      <th>4</th>\n",
       "      <th>5</th>\n",
       "      <th>6</th>\n",
       "      <th>7</th>\n",
       "      <th>8</th>\n",
       "      <th>9</th>\n",
       "    </tr>\n",
       "  </thead>\n",
       "  <tbody>\n",
       "    <tr>\n",
       "      <th>1</th>\n",
       "      <td>238</td>\n",
       "      <td>168</td>\n",
       "      <td>176</td>\n",
       "      <td>100</td>\n",
       "      <td>12</td>\n",
       "      <td>70</td>\n",
       "      <td>154</td>\n",
       "      <td>50</td>\n",
       "      <td>174</td>\n",
       "      <td>208</td>\n",
       "    </tr>\n",
       "    <tr>\n",
       "      <th>2</th>\n",
       "      <td>258</td>\n",
       "      <td>269</td>\n",
       "      <td>301</td>\n",
       "      <td>286</td>\n",
       "      <td>300</td>\n",
       "      <td>255</td>\n",
       "      <td>272</td>\n",
       "      <td>289</td>\n",
       "      <td>750</td>\n",
       "      <td>328</td>\n",
       "    </tr>\n",
       "    <tr>\n",
       "      <th>3</th>\n",
       "      <td>327</td>\n",
       "      <td>301</td>\n",
       "      <td>258</td>\n",
       "      <td>272</td>\n",
       "      <td>302</td>\n",
       "      <td>269</td>\n",
       "      <td>268</td>\n",
       "      <td>288</td>\n",
       "      <td>270</td>\n",
       "      <td>347</td>\n",
       "    </tr>\n",
       "    <tr>\n",
       "      <th>4</th>\n",
       "      <td>258</td>\n",
       "      <td>269</td>\n",
       "      <td>288</td>\n",
       "      <td>272</td>\n",
       "      <td>268</td>\n",
       "      <td>327</td>\n",
       "      <td>302</td>\n",
       "      <td>301</td>\n",
       "      <td>315</td>\n",
       "      <td>270</td>\n",
       "    </tr>\n",
       "    <tr>\n",
       "      <th>5</th>\n",
       "      <td>168</td>\n",
       "      <td>176</td>\n",
       "      <td>173</td>\n",
       "      <td>403</td>\n",
       "      <td>230</td>\n",
       "      <td>79</td>\n",
       "      <td>174</td>\n",
       "      <td>99</td>\n",
       "      <td>22</td>\n",
       "      <td>11</td>\n",
       "    </tr>\n",
       "  </tbody>\n",
       "</table>\n",
       "</div>"
      ],
      "text/plain": [
       "     0    1    2    3    4    5    6    7    8    9\n",
       "1  238  168  176  100   12   70  154   50  174  208\n",
       "2  258  269  301  286  300  255  272  289  750  328\n",
       "3  327  301  258  272  302  269  268  288  270  347\n",
       "4  258  269  288  272  268  327  302  301  315  270\n",
       "5  168  176  173  403  230   79  174   99   22   11"
      ]
     },
     "execution_count": 27,
     "metadata": {},
     "output_type": "execute_result"
    }
   ],
   "source": [
    "test_users = list(test_user_items.keys())\n",
    "recommendations = model.recommend_for_users(test_users, n_items=10)\n",
    "recommendations.head()"
   ]
  },
  {
   "cell_type": "code",
   "execution_count": 28,
   "metadata": {},
   "outputs": [
    {
     "data": {
      "text/html": [
       "<div>\n",
       "<style scoped>\n",
       "    .dataframe tbody tr th:only-of-type {\n",
       "        vertical-align: middle;\n",
       "    }\n",
       "\n",
       "    .dataframe tbody tr th {\n",
       "        vertical-align: top;\n",
       "    }\n",
       "\n",
       "    .dataframe thead th {\n",
       "        text-align: right;\n",
       "    }\n",
       "</style>\n",
       "<table border=\"1\" class=\"dataframe\">\n",
       "  <thead>\n",
       "    <tr style=\"text-align: right;\">\n",
       "      <th></th>\n",
       "      <th>item_name</th>\n",
       "    </tr>\n",
       "    <tr>\n",
       "      <th>item_id</th>\n",
       "      <th></th>\n",
       "    </tr>\n",
       "  </thead>\n",
       "  <tbody>\n",
       "    <tr>\n",
       "      <th>134</th>\n",
       "      <td>Citizen Kane (1941)</td>\n",
       "    </tr>\n",
       "    <tr>\n",
       "      <th>474</th>\n",
       "      <td>Dr. Strangelove or: How I Learned to Stop Worr...</td>\n",
       "    </tr>\n",
       "    <tr>\n",
       "      <th>100</th>\n",
       "      <td>Fargo (1996)</td>\n",
       "    </tr>\n",
       "    <tr>\n",
       "      <th>197</th>\n",
       "      <td>Graduate, The (1967)</td>\n",
       "    </tr>\n",
       "    <tr>\n",
       "      <th>480</th>\n",
       "      <td>North by Northwest (1959)</td>\n",
       "    </tr>\n",
       "    <tr>\n",
       "      <th>357</th>\n",
       "      <td>One Flew Over the Cuckoo's Nest (1975)</td>\n",
       "    </tr>\n",
       "    <tr>\n",
       "      <th>479</th>\n",
       "      <td>Vertigo (1958)</td>\n",
       "    </tr>\n",
       "    <tr>\n",
       "      <th>483</th>\n",
       "      <td>Casablanca (1942)</td>\n",
       "    </tr>\n",
       "    <tr>\n",
       "      <th>462</th>\n",
       "      <td>Like Water For Chocolate (Como agua para choco...</td>\n",
       "    </tr>\n",
       "    <tr>\n",
       "      <th>603</th>\n",
       "      <td>Rear Window (1954)</td>\n",
       "    </tr>\n",
       "  </tbody>\n",
       "</table>\n",
       "</div>"
      ],
      "text/plain": [
       "                                                 item_name\n",
       "item_id                                                   \n",
       "134                                    Citizen Kane (1941)\n",
       "474      Dr. Strangelove or: How I Learned to Stop Worr...\n",
       "100                                           Fargo (1996)\n",
       "197                                   Graduate, The (1967)\n",
       "480                              North by Northwest (1959)\n",
       "357                 One Flew Over the Cuckoo's Nest (1975)\n",
       "479                                         Vertigo (1958)\n",
       "483                                      Casablanca (1942)\n",
       "462      Like Water For Chocolate (Como agua para choco...\n",
       "603                                     Rear Window (1954)"
      ]
     },
     "execution_count": 28,
     "metadata": {},
     "output_type": "execute_result"
    }
   ],
   "source": [
    "user_id = 6\n",
    "user_recs = recommendations.loc[user_id]\n",
    "user_item_names = item_names[item_names.item_id.isin(user_recs)].set_index('item_id').loc[user_recs]\n",
    "user_item_names"
   ]
  },
  {
   "cell_type": "markdown",
   "metadata": {},
   "source": [
    "### Look at the Movies with the Highest/Lowest Model Weights"
   ]
  },
  {
   "cell_type": "code",
   "execution_count": 31,
   "metadata": {},
   "outputs": [],
   "source": [
    "item_weights = pd.DataFrame({'item_idx': np.arange(len(model.w_item)), 'w_item': model.w_item})\n",
    "item_weights['item_id'] = item_weights['item_idx'].map(model.index_to_item)\n",
    "item_weights = pd.merge(item_weights, item_names, on='item_id').sort_values('w_item', ascending=False)\n",
    "item_weights = item_weights[['item_id', 'item_idx', 'item_name', 'w_item']]"
   ]
  },
  {
   "cell_type": "markdown",
   "metadata": {},
   "source": [
    "#### Best Movies Ever?"
   ]
  },
  {
   "cell_type": "code",
   "execution_count": 32,
   "metadata": {},
   "outputs": [
    {
     "data": {
      "text/html": [
       "<div>\n",
       "<style scoped>\n",
       "    .dataframe tbody tr th:only-of-type {\n",
       "        vertical-align: middle;\n",
       "    }\n",
       "\n",
       "    .dataframe tbody tr th {\n",
       "        vertical-align: top;\n",
       "    }\n",
       "\n",
       "    .dataframe thead th {\n",
       "        text-align: right;\n",
       "    }\n",
       "</style>\n",
       "<table border=\"1\" class=\"dataframe\">\n",
       "  <thead>\n",
       "    <tr style=\"text-align: right;\">\n",
       "      <th></th>\n",
       "      <th>item_id</th>\n",
       "      <th>item_idx</th>\n",
       "      <th>item_name</th>\n",
       "      <th>w_item</th>\n",
       "    </tr>\n",
       "  </thead>\n",
       "  <tbody>\n",
       "    <tr>\n",
       "      <th>49</th>\n",
       "      <td>50</td>\n",
       "      <td>49</td>\n",
       "      <td>Star Wars (1977)</td>\n",
       "      <td>2.485691</td>\n",
       "    </tr>\n",
       "    <tr>\n",
       "      <th>99</th>\n",
       "      <td>100</td>\n",
       "      <td>99</td>\n",
       "      <td>Fargo (1996)</td>\n",
       "      <td>2.428561</td>\n",
       "    </tr>\n",
       "    <tr>\n",
       "      <th>255</th>\n",
       "      <td>258</td>\n",
       "      <td>255</td>\n",
       "      <td>Contact (1997)</td>\n",
       "      <td>2.363675</td>\n",
       "    </tr>\n",
       "    <tr>\n",
       "      <th>124</th>\n",
       "      <td>127</td>\n",
       "      <td>124</td>\n",
       "      <td>Godfather, The (1972)</td>\n",
       "      <td>2.151600</td>\n",
       "    </tr>\n",
       "    <tr>\n",
       "      <th>285</th>\n",
       "      <td>288</td>\n",
       "      <td>285</td>\n",
       "      <td>Scream (1996)</td>\n",
       "      <td>2.084864</td>\n",
       "    </tr>\n",
       "    <tr>\n",
       "      <th>171</th>\n",
       "      <td>174</td>\n",
       "      <td>171</td>\n",
       "      <td>Raiders of the Lost Ark (1981)</td>\n",
       "      <td>2.019069</td>\n",
       "    </tr>\n",
       "    <tr>\n",
       "      <th>11</th>\n",
       "      <td>12</td>\n",
       "      <td>11</td>\n",
       "      <td>Usual Suspects, The (1995)</td>\n",
       "      <td>2.007389</td>\n",
       "    </tr>\n",
       "    <tr>\n",
       "      <th>314</th>\n",
       "      <td>318</td>\n",
       "      <td>314</td>\n",
       "      <td>Schindler's List (1993)</td>\n",
       "      <td>1.969794</td>\n",
       "    </tr>\n",
       "    <tr>\n",
       "      <th>21</th>\n",
       "      <td>22</td>\n",
       "      <td>21</td>\n",
       "      <td>Braveheart (1995)</td>\n",
       "      <td>1.934108</td>\n",
       "    </tr>\n",
       "    <tr>\n",
       "      <th>178</th>\n",
       "      <td>181</td>\n",
       "      <td>178</td>\n",
       "      <td>Return of the Jedi (1983)</td>\n",
       "      <td>1.892119</td>\n",
       "    </tr>\n",
       "  </tbody>\n",
       "</table>\n",
       "</div>"
      ],
      "text/plain": [
       "     item_id  item_idx                       item_name    w_item\n",
       "49        50        49                Star Wars (1977)  2.485691\n",
       "99       100        99                    Fargo (1996)  2.428561\n",
       "255      258       255                  Contact (1997)  2.363675\n",
       "124      127       124           Godfather, The (1972)  2.151600\n",
       "285      288       285                   Scream (1996)  2.084864\n",
       "171      174       171  Raiders of the Lost Ark (1981)  2.019069\n",
       "11        12        11      Usual Suspects, The (1995)  2.007389\n",
       "314      318       314         Schindler's List (1993)  1.969794\n",
       "21        22        21               Braveheart (1995)  1.934108\n",
       "178      181       178       Return of the Jedi (1983)  1.892119"
      ]
     },
     "execution_count": 32,
     "metadata": {},
     "output_type": "execute_result"
    }
   ],
   "source": [
    "item_weights.head(10)"
   ]
  },
  {
   "cell_type": "markdown",
   "metadata": {},
   "source": [
    "#### Worst Movies Ever?"
   ]
  },
  {
   "cell_type": "code",
   "execution_count": 33,
   "metadata": {},
   "outputs": [
    {
     "data": {
      "text/html": [
       "<div>\n",
       "<style scoped>\n",
       "    .dataframe tbody tr th:only-of-type {\n",
       "        vertical-align: middle;\n",
       "    }\n",
       "\n",
       "    .dataframe tbody tr th {\n",
       "        vertical-align: top;\n",
       "    }\n",
       "\n",
       "    .dataframe thead th {\n",
       "        text-align: right;\n",
       "    }\n",
       "</style>\n",
       "<table border=\"1\" class=\"dataframe\">\n",
       "  <thead>\n",
       "    <tr style=\"text-align: right;\">\n",
       "      <th></th>\n",
       "      <th>item_id</th>\n",
       "      <th>item_idx</th>\n",
       "      <th>item_name</th>\n",
       "      <th>w_item</th>\n",
       "    </tr>\n",
       "  </thead>\n",
       "  <tbody>\n",
       "    <tr>\n",
       "      <th>1404</th>\n",
       "      <td>1617</td>\n",
       "      <td>1404</td>\n",
       "      <td>Hugo Pool (1997)</td>\n",
       "      <td>-1.776693</td>\n",
       "    </tr>\n",
       "    <tr>\n",
       "      <th>1382</th>\n",
       "      <td>1553</td>\n",
       "      <td>1382</td>\n",
       "      <td>Underneath, The (1995)</td>\n",
       "      <td>-1.778860</td>\n",
       "    </tr>\n",
       "    <tr>\n",
       "      <th>652</th>\n",
       "      <td>666</td>\n",
       "      <td>652</td>\n",
       "      <td>Blood For Dracula (Andy Warhol's Dracula) (1974)</td>\n",
       "      <td>-1.780362</td>\n",
       "    </tr>\n",
       "    <tr>\n",
       "      <th>1398</th>\n",
       "      <td>1605</td>\n",
       "      <td>1398</td>\n",
       "      <td>Love Serenade (1996)</td>\n",
       "      <td>-1.797138</td>\n",
       "    </tr>\n",
       "    <tr>\n",
       "      <th>1268</th>\n",
       "      <td>1380</td>\n",
       "      <td>1268</td>\n",
       "      <td>Hollow Reed (1996)</td>\n",
       "      <td>-1.806405</td>\n",
       "    </tr>\n",
       "    <tr>\n",
       "      <th>1313</th>\n",
       "      <td>1442</td>\n",
       "      <td>1313</td>\n",
       "      <td>Scarlet Letter, The (1995)</td>\n",
       "      <td>-1.806676</td>\n",
       "    </tr>\n",
       "    <tr>\n",
       "      <th>1412</th>\n",
       "      <td>1639</td>\n",
       "      <td>1412</td>\n",
       "      <td>Bitter Sugar (Azucar Amargo) (1996)</td>\n",
       "      <td>-1.817107</td>\n",
       "    </tr>\n",
       "    <tr>\n",
       "      <th>1411</th>\n",
       "      <td>1635</td>\n",
       "      <td>1411</td>\n",
       "      <td>Two Friends (1986)</td>\n",
       "      <td>-1.822045</td>\n",
       "    </tr>\n",
       "    <tr>\n",
       "      <th>1278</th>\n",
       "      <td>1391</td>\n",
       "      <td>1278</td>\n",
       "      <td>For Ever Mozart (1996)</td>\n",
       "      <td>-1.825682</td>\n",
       "    </tr>\n",
       "    <tr>\n",
       "      <th>958</th>\n",
       "      <td>996</td>\n",
       "      <td>958</td>\n",
       "      <td>Big Green, The (1995)</td>\n",
       "      <td>-1.849108</td>\n",
       "    </tr>\n",
       "  </tbody>\n",
       "</table>\n",
       "</div>"
      ],
      "text/plain": [
       "      item_id  item_idx                                         item_name  \\\n",
       "1404     1617      1404                                  Hugo Pool (1997)   \n",
       "1382     1553      1382                            Underneath, The (1995)   \n",
       "652       666       652  Blood For Dracula (Andy Warhol's Dracula) (1974)   \n",
       "1398     1605      1398                              Love Serenade (1996)   \n",
       "1268     1380      1268                                Hollow Reed (1996)   \n",
       "1313     1442      1313                        Scarlet Letter, The (1995)   \n",
       "1412     1639      1412               Bitter Sugar (Azucar Amargo) (1996)   \n",
       "1411     1635      1411                               Two Friends (1986)    \n",
       "1278     1391      1278                            For Ever Mozart (1996)   \n",
       "958       996       958                             Big Green, The (1995)   \n",
       "\n",
       "        w_item  \n",
       "1404 -1.776693  \n",
       "1382 -1.778860  \n",
       "652  -1.780362  \n",
       "1398 -1.797138  \n",
       "1268 -1.806405  \n",
       "1313 -1.806676  \n",
       "1412 -1.817107  \n",
       "1411 -1.822045  \n",
       "1278 -1.825682  \n",
       "958  -1.849108  "
      ]
     },
     "execution_count": 33,
     "metadata": {},
     "output_type": "execute_result"
    }
   ],
   "source": [
    "item_weights.tail(10)"
   ]
  },
  {
   "cell_type": "markdown",
   "metadata": {},
   "source": [
    "# Start Sandbox Code"
   ]
  },
  {
   "cell_type": "code",
   "execution_count": null,
   "metadata": {},
   "outputs": [],
   "source": []
  }
 ],
 "metadata": {
  "kernelspec": {
   "display_name": "Python 3",
   "language": "python",
   "name": "python3"
  },
  "language_info": {
   "codemirror_mode": {
    "name": "ipython",
    "version": 3
   },
   "file_extension": ".py",
   "mimetype": "text/x-python",
   "name": "python",
   "nbconvert_exporter": "python",
   "pygments_lexer": "ipython3",
   "version": "3.7.1"
  }
 },
 "nbformat": 4,
 "nbformat_minor": 2
}
