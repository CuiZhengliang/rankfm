{
 "cells": [
  {
   "cell_type": "markdown",
   "metadata": {},
   "source": [
    "### Import Required Packages"
   ]
  },
  {
   "cell_type": "code",
   "execution_count": null,
   "metadata": {},
   "outputs": [],
   "source": [
    "%load_ext cython"
   ]
  },
  {
   "cell_type": "code",
   "execution_count": null,
   "metadata": {},
   "outputs": [],
   "source": [
    "import os\n",
    "import sys\n",
    "import git\n",
    "\n",
    "import numpy as np\n",
    "import pandas as pd\n",
    "pd.set_option('display.float_format', '{:.3f}'.format)"
   ]
  },
  {
   "cell_type": "markdown",
   "metadata": {},
   "source": [
    "#### Put the Main Package Library on the PYTHONPATH"
   ]
  },
  {
   "cell_type": "code",
   "execution_count": 3,
   "metadata": {},
   "outputs": [
    {
     "data": {
      "text/plain": [
       "['/Users/ericlundquist/Repos/rankfm',\n",
       " '/Users/ericlundquist/Repos/rankfm/rankfm']"
      ]
     },
     "execution_count": 3,
     "metadata": {},
     "output_type": "execute_result"
    }
   ],
   "source": [
    "git_repo = git.Repo('.', search_parent_directories=True)\n",
    "git_root = git_repo.git.rev_parse('--show-toplevel')\n",
    "\n",
    "cython_path = os.path.join(git_root, 'rankfm')\n",
    "data_path = os.path.join(git_root, \"data/examples\")\n",
    "\n",
    "sys.path[0] = git_root\n",
    "sys.path[1] = cython_path\n",
    "sys.path[:2]"
   ]
  },
  {
   "cell_type": "markdown",
   "metadata": {},
   "source": [
    "#### Dynamically Re-Load all Package Modules"
   ]
  },
  {
   "cell_type": "code",
   "execution_count": 4,
   "metadata": {},
   "outputs": [],
   "source": [
    "%load_ext autoreload\n",
    "%autoreload 2\n",
    "\n",
    "from rankfm.rankfm import RankFM\n",
    "from rankfm.evaluation import hit_rate, reciprocal_rank, discounted_cumulative_gain, precision, recall, diversity"
   ]
  },
  {
   "cell_type": "markdown",
   "metadata": {},
   "source": [
    "#### Re-Compile and Load Cython Functions"
   ]
  },
  {
   "cell_type": "code",
   "execution_count": 5,
   "metadata": {},
   "outputs": [
    {
     "name": "stdout",
     "output_type": "stream",
     "text": [
      "Compiling /Users/ericlundquist/Repos/rankfm/rankfm/cython_methods.pyx because it changed.\n",
      "[1/1] Cythonizing /Users/ericlundquist/Repos/rankfm/rankfm/cython_methods.pyx\n",
      "running build_ext\n",
      "building 'rankfm.cython_methods' extension\n",
      "creating /Users/ericlundquist/Repos/rankfm/tmpdoatd_qy/Users\n",
      "creating /Users/ericlundquist/Repos/rankfm/tmpdoatd_qy/Users/ericlundquist\n",
      "creating /Users/ericlundquist/Repos/rankfm/tmpdoatd_qy/Users/ericlundquist/Repos\n",
      "creating /Users/ericlundquist/Repos/rankfm/tmpdoatd_qy/Users/ericlundquist/Repos/rankfm\n",
      "creating /Users/ericlundquist/Repos/rankfm/tmpdoatd_qy/Users/ericlundquist/Repos/rankfm/rankfm\n",
      "gcc -Wno-unused-result -Wsign-compare -Wunreachable-code -DNDEBUG -g -fwrapv -O3 -Wall -Wstrict-prototypes -I/Users/ericlundquist/anaconda3/include -arch x86_64 -I/Users/ericlundquist/anaconda3/include -arch x86_64 -I/Users/ericlundquist/anaconda3/include/python3.7m -c /Users/ericlundquist/Repos/rankfm/rankfm/cython_methods.c -o /Users/ericlundquist/Repos/rankfm/tmpdoatd_qy/Users/ericlundquist/Repos/rankfm/rankfm/cython_methods.o\n",
      "\u001b[1m/Users/ericlundquist/Repos/rankfm/rankfm/cython_methods.c:2241:13: \u001b[0m\u001b[0;1;35mwarning: \u001b[0m\u001b[1m\n",
      "      unused function '__pyx_f_6rankfm_14cython_methods_add_vv'\n",
      "      [-Wunused-function]\u001b[0m\n",
      "static void __pyx_f_6rankfm_14cython_methods_add_vv(int __pyx_v_n, floa...\n",
      "\u001b[0;1;32m            ^\n",
      "\u001b[0m\u001b[1m/Users/ericlundquist/Repos/rankfm/rankfm/cython_methods.c:2486:12: \u001b[0m\u001b[0;1;35mwarning: \u001b[0m\u001b[1m\n",
      "      unused function '__pyx_f_6rankfm_14cython_methods_bsearch'\n",
      "      [-Wunused-function]\u001b[0m\n",
      "static int __pyx_f_6rankfm_14cython_methods_bsearch(int __pyx_v_item, in...\n",
      "\u001b[0;1;32m           ^\n",
      "\u001b[0m2 warnings generated.\n",
      "gcc -bundle -undefined dynamic_lookup -L/Users/ericlundquist/anaconda3/lib -arch x86_64 -L/Users/ericlundquist/anaconda3/lib -arch x86_64 -arch x86_64 /Users/ericlundquist/Repos/rankfm/tmpdoatd_qy/Users/ericlundquist/Repos/rankfm/rankfm/cython_methods.o -o /Users/ericlundquist/Repos/rankfm/rankfm/cython_methods.cpython-37m-darwin.so\n"
     ]
    }
   ],
   "source": [
    "!cd $cython_path && cythonize -ia cython_methods.pyx"
   ]
  },
  {
   "cell_type": "code",
   "execution_count": 6,
   "metadata": {},
   "outputs": [
    {
     "data": {
      "text/plain": [
       "['__builtins__',\n",
       " '__doc__',\n",
       " '__file__',\n",
       " '__loader__',\n",
       " '__name__',\n",
       " '__package__',\n",
       " '__pyx_unpickle_Enum',\n",
       " '__spec__',\n",
       " '__test__',\n",
       " 'assert_finite',\n",
       " 'fit',\n",
       " 'np',\n",
       " 'reg_penalty']"
      ]
     },
     "execution_count": 6,
     "metadata": {},
     "output_type": "execute_result"
    }
   ],
   "source": [
    "import cython_methods\n",
    "dir(cython_methods)"
   ]
  },
  {
   "cell_type": "markdown",
   "metadata": {},
   "source": [
    "### Load Example Data"
   ]
  },
  {
   "cell_type": "markdown",
   "metadata": {},
   "source": [
    "#### Load Interactions Data"
   ]
  },
  {
   "cell_type": "code",
   "execution_count": 7,
   "metadata": {},
   "outputs": [
    {
     "data": {
      "text/html": [
       "<div>\n",
       "<style scoped>\n",
       "    .dataframe tbody tr th:only-of-type {\n",
       "        vertical-align: middle;\n",
       "    }\n",
       "\n",
       "    .dataframe tbody tr th {\n",
       "        vertical-align: top;\n",
       "    }\n",
       "\n",
       "    .dataframe thead th {\n",
       "        text-align: right;\n",
       "    }\n",
       "</style>\n",
       "<table border=\"1\" class=\"dataframe\">\n",
       "  <thead>\n",
       "    <tr style=\"text-align: right;\">\n",
       "      <th></th>\n",
       "      <th>user_id</th>\n",
       "      <th>item_id</th>\n",
       "    </tr>\n",
       "  </thead>\n",
       "  <tbody>\n",
       "    <tr>\n",
       "      <th>0</th>\n",
       "      <td>0</td>\n",
       "      <td>1192</td>\n",
       "    </tr>\n",
       "    <tr>\n",
       "      <th>1</th>\n",
       "      <td>0</td>\n",
       "      <td>660</td>\n",
       "    </tr>\n",
       "    <tr>\n",
       "      <th>2</th>\n",
       "      <td>0</td>\n",
       "      <td>913</td>\n",
       "    </tr>\n",
       "    <tr>\n",
       "      <th>3</th>\n",
       "      <td>0</td>\n",
       "      <td>3407</td>\n",
       "    </tr>\n",
       "    <tr>\n",
       "      <th>4</th>\n",
       "      <td>0</td>\n",
       "      <td>2354</td>\n",
       "    </tr>\n",
       "  </tbody>\n",
       "</table>\n",
       "</div>"
      ],
      "text/plain": [
       "   user_id  item_id\n",
       "0        0     1192\n",
       "1        0      660\n",
       "2        0      913\n",
       "3        0     3407\n",
       "4        0     2354"
      ]
     },
     "execution_count": 7,
     "metadata": {},
     "output_type": "execute_result"
    }
   ],
   "source": [
    "raw_interactions = pd.read_csv(os.path.join(data_path, 'ML_1M_RATINGS.csv'))[['user_id', 'item_id']]\n",
    "raw_interactions = raw_interactions.astype(np.int32)\n",
    "raw_interactions['user_id'] = raw_interactions['user_id'] - 1\n",
    "raw_interactions['item_id'] = raw_interactions['item_id'] - 1\n",
    "raw_interactions.head()"
   ]
  },
  {
   "cell_type": "code",
   "execution_count": 8,
   "metadata": {},
   "outputs": [],
   "source": [
    "np.random.seed(1492)\n",
    "raw_interactions['random'] = np.random.random(size=len(raw_interactions))\n",
    "test_pct = 0.25"
   ]
  },
  {
   "cell_type": "code",
   "execution_count": 9,
   "metadata": {},
   "outputs": [
    {
     "name": "stdout",
     "output_type": "stream",
     "text": [
      "train shape: (749724, 2)\n",
      "valid shape: (250485, 2)\n",
      "train users: 6040\n",
      "valid users: 6038\n",
      "cold-start users: set()\n",
      "train items: 3666\n",
      "valid items: 3531\n",
      "cold-start items: {3201, 2562, 643, 3459, 3208, 3721, 138, 395, 650, 1554, 1433, 1914, 1829, 2216, 2217, 686, 1841, 2741, 1850, 2618, 575, 3320, 3322, 3276, 3279, 600, 3289, 3163, 988, 864, 225, 3171, 1385, 877, 3186, 757, 3064, 762, 2555, 126}\n"
     ]
    }
   ],
   "source": [
    "train_mask = raw_interactions['random'] <  (1 - test_pct)\n",
    "valid_mask = raw_interactions['random'] >= (1 - test_pct)\n",
    "\n",
    "interactions_train = raw_interactions[train_mask][['user_id', 'item_id']]\n",
    "interactions_valid = raw_interactions[valid_mask][['user_id', 'item_id']]\n",
    "\n",
    "train_users = np.sort(interactions_train.user_id.unique())\n",
    "valid_users = np.sort(interactions_valid.user_id.unique())\n",
    "cold_start_users = set(valid_users) - set(train_users)\n",
    "\n",
    "train_items = np.sort(interactions_train.item_id.unique())\n",
    "valid_items = np.sort(interactions_valid.item_id.unique())\n",
    "cold_start_items = set(valid_items) - set(train_items)\n",
    "\n",
    "print(\"train shape: {}\".format(interactions_train.shape))\n",
    "print(\"valid shape: {}\".format(interactions_valid.shape))\n",
    "\n",
    "print(\"train users: {}\".format(len(train_users)))\n",
    "print(\"valid users: {}\".format(len(valid_users)))\n",
    "print(\"cold-start users: {}\".format(cold_start_users))\n",
    "\n",
    "print(\"train items: {}\".format(len(train_items)))\n",
    "print(\"valid items: {}\".format(len(valid_items)))\n",
    "print(\"cold-start items: {}\".format(cold_start_items))"
   ]
  },
  {
   "cell_type": "markdown",
   "metadata": {},
   "source": [
    "### Test Out the Cython Methods"
   ]
  },
  {
   "cell_type": "markdown",
   "metadata": {},
   "source": [
    "#### Initialize Internal Model Data"
   ]
  },
  {
   "cell_type": "code",
   "execution_count": 10,
   "metadata": {},
   "outputs": [
    {
     "name": "stderr",
     "output_type": "stream",
     "text": [
      "/Users/ericlundquist/anaconda3/lib/python3.7/site-packages/numba/typed/typeddict.py:34: NumbaTypeSafetyWarning: \u001b[1m\u001b[1m\u001b[1munsafe cast from int64 to int32. Precision may be lost.\u001b[0m\u001b[0m\u001b[0m\n",
      "  d[key] = value\n"
     ]
    },
    {
     "data": {
      "text/plain": [
       "<rankfm.rankfm.RankFM at 0x126511c18>"
      ]
     },
     "execution_count": 10,
     "metadata": {},
     "output_type": "execute_result"
    }
   ],
   "source": [
    "model = RankFM(factors=20, loss='warp', max_samples=10, regularization=0.01, sigma=0.1, learning_rate=0.10, learning_schedule='constant')\n",
    "model._init_all(interactions_train)\n",
    "model"
   ]
  },
  {
   "cell_type": "markdown",
   "metadata": {},
   "source": [
    "#### Get Global References to Internal Data for Testing"
   ]
  },
  {
   "cell_type": "code",
   "execution_count": 11,
   "metadata": {},
   "outputs": [],
   "source": [
    "interactions = np.ascontiguousarray(model.interactions)\n",
    "sample_weight = np.ascontiguousarray(model.sample_weight)\n",
    "user_items = model.user_items_py\n",
    "x_uf = model.x_uf\n",
    "x_if = model.x_if\n",
    "w_i = model.w_i\n",
    "w_if = model.w_if\n",
    "v_u = model.v_u\n",
    "v_i = model.v_i\n",
    "v_uf = model.v_uf\n",
    "v_if = model.v_if\n",
    "regularization = 0.01\n",
    "learning_rate = 0.10\n",
    "learning_exponent = 0.25\n",
    "max_samples = 10\n",
    "epochs = 10"
   ]
  },
  {
   "cell_type": "code",
   "execution_count": 12,
   "metadata": {},
   "outputs": [
    {
     "data": {
      "text/plain": [
       "((749724, 2), (749724,), 6040)"
      ]
     },
     "execution_count": 12,
     "metadata": {},
     "output_type": "execute_result"
    }
   ],
   "source": [
    "interactions.shape, sample_weight.shape, len(user_items)"
   ]
  },
  {
   "cell_type": "markdown",
   "metadata": {},
   "source": [
    "#### Call the **CYTHON** Fit Function"
   ]
  },
  {
   "cell_type": "code",
   "execution_count": 13,
   "metadata": {},
   "outputs": [
    {
     "name": "stdout",
     "output_type": "stream",
     "text": [
      "\n",
      "training epoch: 0\n",
      "log likelihood: -425495.375\n",
      "\n",
      "training epoch: 1\n",
      "log likelihood: -407225.03125\n",
      "\n",
      "training epoch: 2\n",
      "log likelihood: -394094.875\n",
      "\n",
      "training epoch: 3\n",
      "log likelihood: -386629.75\n",
      "\n",
      "training epoch: 4\n",
      "log likelihood: -382159.6875\n",
      "\n",
      "training epoch: 5\n",
      "log likelihood: -378928.25\n",
      "\n",
      "training epoch: 6\n",
      "log likelihood: -375838.09375\n",
      "\n",
      "training epoch: 7\n",
      "log likelihood: -373967.21875\n",
      "\n",
      "training epoch: 8\n",
      "log likelihood: -372646.28125\n",
      "\n",
      "training epoch: 9\n",
      "log likelihood: -370733.15625\n",
      "CPU times: user 10.1 s, sys: 42.8 ms, total: 10.1 s\n",
      "Wall time: 10.1 s\n"
     ]
    }
   ],
   "source": [
    "%%time\n",
    "cython_methods.fit(\n",
    "    interactions,\n",
    "    sample_weight,\n",
    "    user_items,\n",
    "    x_uf,\n",
    "    x_if,\n",
    "    w_i,\n",
    "    w_if,\n",
    "    v_u,\n",
    "    v_i,\n",
    "    v_uf,\n",
    "    v_if,\n",
    "    regularization,\n",
    "    learning_rate,\n",
    "    learning_exponent,\n",
    "    max_samples,\n",
    "    epochs\n",
    ")"
   ]
  },
  {
   "cell_type": "markdown",
   "metadata": {},
   "source": [
    "#### Post-Fit **CYTHON** Diagnostics"
   ]
  },
  {
   "cell_type": "code",
   "execution_count": 14,
   "metadata": {},
   "outputs": [
    {
     "data": {
      "text/plain": [
       "0.8901866674423218"
      ]
     },
     "execution_count": 14,
     "metadata": {},
     "output_type": "execute_result"
    }
   ],
   "source": [
    "u = 0\n",
    "i = 3177\n",
    "j = 440\n",
    "\n",
    "pairwise_utility = 0.0\n",
    "pairwise_utility += w_i[i] - w_i[j]\n",
    "pairwise_utility += np.dot(v_i[i] - v_i[j], v_u[u])\n",
    "pairwise_utility"
   ]
  },
  {
   "cell_type": "code",
   "execution_count": 15,
   "metadata": {},
   "outputs": [
    {
     "name": "stdout",
     "output_type": "stream",
     "text": [
      "Cython Hit Rate: 0.7878436568400132\n"
     ]
    }
   ],
   "source": [
    "model.is_fit = True\n",
    "cy_hit_rate = hit_rate(model, interactions_valid, k=10)\n",
    "print(\"Cython Hit Rate: {}\".format(cy_hit_rate))"
   ]
  },
  {
   "cell_type": "markdown",
   "metadata": {},
   "source": [
    "#### Call the **NUMBA** Fit Function"
   ]
  },
  {
   "cell_type": "code",
   "execution_count": 28,
   "metadata": {},
   "outputs": [
    {
     "name": "stderr",
     "output_type": "stream",
     "text": [
      "/Users/ericlundquist/Repos/rankfm/rankfm/numba_methods.py:199: NumbaPerformanceWarning: \u001b[1m\u001b[1mnp.dot() is faster on contiguous arrays, called on (array(float32, 1d, A), array(float32, 1d, C))\u001b[0m\u001b[0m\n",
      "  d_v_uf = (x_uf[u][p]) * (v_i[i][f] - v_i[j][f] + np.dot(v_if.T[f], x_if[i] - x_if[j]))\n",
      "/Users/ericlundquist/Repos/rankfm/rankfm/numba_methods.py:207: NumbaPerformanceWarning: \u001b[1m\u001b[1mnp.dot() is faster on contiguous arrays, called on (array(float32, 1d, A), array(float32, 1d, C))\u001b[0m\u001b[0m\n",
      "  d_v_if = (x_if[i][q] - x_if[j][q]) * (v_u[u][f] + np.dot(v_uf.T[f], x_uf[u]))\n"
     ]
    },
    {
     "name": "stdout",
     "output_type": "stream",
     "text": [
      "\n",
      "training epoch: 0\n",
      "log likelihood: -424652.46\n",
      "\n",
      "training epoch: 1\n",
      "log likelihood: -405726.04\n",
      "\n",
      "training epoch: 2\n",
      "log likelihood: -395820.81\n",
      "\n",
      "training epoch: 3\n",
      "log likelihood: -390597.77\n",
      "\n",
      "training epoch: 4\n",
      "log likelihood: -386940.95\n",
      "\n",
      "training epoch: 5\n",
      "log likelihood: -385182.35\n",
      "\n",
      "training epoch: 6\n",
      "log likelihood: -383601.97\n",
      "\n",
      "training epoch: 7\n",
      "log likelihood: -382407.5\n",
      "\n",
      "training epoch: 8\n",
      "log likelihood: -381946.06\n",
      "\n",
      "training epoch: 9\n",
      "log likelihood: -381557.11\n",
      "CPU times: user 1min 53s, sys: 1.43 s, total: 1min 54s\n",
      "Wall time: 2min 12s\n"
     ]
    }
   ],
   "source": [
    "%%time\n",
    "model.fit(interactions_train, epochs=10, verbose=True)"
   ]
  },
  {
   "cell_type": "markdown",
   "metadata": {},
   "source": [
    "#### Post-Fit **NUMBA** Diagnostics"
   ]
  },
  {
   "cell_type": "code",
   "execution_count": 29,
   "metadata": {},
   "outputs": [
    {
     "name": "stdout",
     "output_type": "stream",
     "text": [
      "Numba Hit Rate: 0.7792315336204041\n"
     ]
    }
   ],
   "source": [
    "nb_hit_rate = hit_rate(model, interactions_valid, k=10)\n",
    "print(\"Numba Hit Rate: {}\".format(nb_hit_rate))"
   ]
  },
  {
   "cell_type": "markdown",
   "metadata": {},
   "source": [
    "# START CYTHON HELPER FUNCTION TESTING SANDBOX"
   ]
  },
  {
   "cell_type": "markdown",
   "metadata": {},
   "source": [
    "#### Linear Algebra"
   ]
  },
  {
   "cell_type": "code",
   "execution_count": 36,
   "metadata": {},
   "outputs": [],
   "source": [
    "%%cython\n",
    "# cython: language_level=3, boundscheck=False, wraparound=False, cdivision=True\n",
    "\n",
    "import cython\n",
    "from scipy.linalg.cython_blas cimport sdot, sgemv\n",
    "import numpy as np\n",
    "\n",
    "\n",
    "cdef void add_vv(int n, float *x, float *y, float *out):\n",
    "    \n",
    "    cdef int i\n",
    "    for i in range(n):\n",
    "        out[i] = x[i] + y[i]\n",
    "        \n",
    "        \n",
    "cdef void sub_vv(int n, float *x, float *y, float *out):\n",
    "    \n",
    "    cdef int i\n",
    "    for i in range(n):\n",
    "        out[i] = x[i] - y[i]\n",
    "        \n",
    "        \n",
    "cdef float dot_vv(int n, float *x, float *y):\n",
    "    \n",
    "    cdef int i\n",
    "    cdef float res = 0.0\n",
    "    for i in range(n):\n",
    "        res += x[i] * y[i]\n",
    "    return res\n",
    "    \n",
    "\n",
    "def process(float[::1] x, float[::1] y):\n",
    "    \"\"\"test math functions\"\"\"\n",
    "    \n",
    "    # declare local variables\n",
    "    cdef int one = 1, n = x.shape[0]\n",
    "    cdef float[:] out = np.empty(n, dtype=np.float32)\n",
    "    cdef float res\n",
    "    \n",
    "    # perform a in-place calculation\n",
    "    sub_vv(n, &x[0], &y[0], &out[0])\n",
    "    \n",
    "    # calculate a dot product\n",
    "    res = dot_vv(n, &x[0], &y[0])\n",
    "    # res = sdot(&n, &x[0], &one, &y[0], &one)\n",
    "    \n",
    "    \n",
    "    # return results\n",
    "    return np.asarray(out)\n",
    "    # return res"
   ]
  },
  {
   "cell_type": "code",
   "execution_count": 37,
   "metadata": {},
   "outputs": [
    {
     "name": "stdout",
     "output_type": "stream",
     "text": [
      "[1. 2. 3.]\n",
      "[3. 6. 9.]\n"
     ]
    }
   ],
   "source": [
    "x = np.array([1, 2, 3], dtype=np.float32)\n",
    "y = np.array([3, 6, 9], dtype=np.float32)\n",
    "print(x)\n",
    "print(y)"
   ]
  },
  {
   "cell_type": "code",
   "execution_count": 38,
   "metadata": {},
   "outputs": [
    {
     "data": {
      "text/plain": [
       "array([-2., -4., -6.], dtype=float32)"
      ]
     },
     "execution_count": 38,
     "metadata": {},
     "output_type": "execute_result"
    }
   ],
   "source": [
    "process(x, y)"
   ]
  },
  {
   "cell_type": "markdown",
   "metadata": {},
   "source": [
    "### Random Number Generation\n",
    "* rand() gives a random integer `[0, RAND_MAX]`\n",
    "* RAND_MAX is typically the max 32-bit integer value or `2,147,483,647`"
   ]
  },
  {
   "cell_type": "code",
   "execution_count": 41,
   "metadata": {},
   "outputs": [
    {
     "name": "stdout",
     "output_type": "stream",
     "text": [
      "RAND_MAX: 2147483647\n"
     ]
    }
   ],
   "source": [
    "%%cython\n",
    "\n",
    "cimport cython\n",
    "from libc.stdlib cimport rand, RAND_MAX\n",
    "print(\"RAND_MAX:\", RAND_MAX)\n",
    "\n",
    "@cython.cdivision(True)\n",
    "cpdef int random_item(int n_items):\n",
    "    \"\"\"sample a random item\"\"\"\n",
    "    \n",
    "    return rand() % n_items\n"
   ]
  },
  {
   "cell_type": "code",
   "execution_count": 42,
   "metadata": {},
   "outputs": [
    {
     "data": {
      "text/plain": [
       "0     50349\n",
       "1     49818\n",
       "2     50137\n",
       "3     50134\n",
       "4     50123\n",
       "5     50057\n",
       "6     49794\n",
       "7     49785\n",
       "8     49837\n",
       "9     49895\n",
       "10    49909\n",
       "11    50204\n",
       "12    50130\n",
       "13    49897\n",
       "14    50217\n",
       "15    49899\n",
       "16    50234\n",
       "17    49784\n",
       "18    49842\n",
       "19    49955\n",
       "dtype: int64"
      ]
     },
     "execution_count": 42,
     "metadata": {},
     "output_type": "execute_result"
    }
   ],
   "source": [
    "# %%time\n",
    "random_items = pd.Series([random_item(20) for _ in range(int(1e6))])\n",
    "random_items.value_counts().sort_index()"
   ]
  },
  {
   "cell_type": "markdown",
   "metadata": {},
   "source": [
    "### Try to Get BLAS Wrappers Working"
   ]
  },
  {
   "cell_type": "markdown",
   "metadata": {},
   "source": [
    "#### Wrap Vector-Vector and Matrix-Vector Dot Product Functions"
   ]
  },
  {
   "cell_type": "code",
   "execution_count": null,
   "metadata": {},
   "outputs": [],
   "source": [
    "%%cython\n",
    "\n",
    "from scipy.linalg.cython_blas cimport sdot, sgemv\n",
    "\n",
    "cpdef float dot_vv(float[::1] x, float[::1] y):\n",
    "    \"\"\"compute a vector-vector dot product\"\"\"\n",
    "    \n",
    "    # set the vector length and stride\n",
    "    cdef int n = x.shape[0], incx = 1, incy = 1\n",
    "    \n",
    "    # call the underlying BLAS routine and return the scalar result\n",
    "    return sdot(&n, &x[0], &incx, &y[0], &incy)\n",
    "\n",
    "\n",
    "cpdef void dot_mv(float[::1, :] A, float[::1] x, float[::1] y):\n",
    "    \"\"\"compute a matrix-vector dot product\"\"\"\n",
    "        \n",
    "    # set the matrix dimensions\n",
    "    cdef int m = A.shape[0], n = A.shape[1]\n",
    "    \n",
    "    # set the alpha/beta scalars\n",
    "    cdef float alpha = 1.0, beta = 0.0\n",
    "    \n",
    "    # set the x/y stride\n",
    "    cdef int incx = 1, incy = 1\n",
    "    \n",
    "    # call the underlying BLAS routine and store result in [y]\n",
    "    # NOTE: the matrix [A] must be F-CONTIGUOUS for this to work as written\n",
    "    # NOTE: it would be much better to figure out how to get this to work C-CONTIGUOUS\n",
    "    # NOTE: the result is placed into the vector [y] instead of being returned\n",
    "    sgemv('N', &m, &n, &alpha, &A[0, 0], &m, &x[0], &incx, &beta, &y[0], &incy)\n",
    "\n",
    "\n"
   ]
  },
  {
   "cell_type": "markdown",
   "metadata": {},
   "source": [
    "#### Confirm the Accuracy of the Results"
   ]
  },
  {
   "cell_type": "markdown",
   "metadata": {},
   "source": [
    "##### vector-vector dot product"
   ]
  },
  {
   "cell_type": "code",
   "execution_count": null,
   "metadata": {},
   "outputs": [],
   "source": [
    "x = np.random.randn(50).astype(np.float32)\n",
    "y = np.random.randn(50).astype(np.float32)"
   ]
  },
  {
   "cell_type": "code",
   "execution_count": null,
   "metadata": {},
   "outputs": [],
   "source": [
    "%%timeit\n",
    "np.dot(x, y)"
   ]
  },
  {
   "cell_type": "code",
   "execution_count": null,
   "metadata": {},
   "outputs": [],
   "source": [
    "%%timeit\n",
    "dot_vv(x, y)"
   ]
  },
  {
   "cell_type": "markdown",
   "metadata": {},
   "source": [
    "##### matrix-vector dot product"
   ]
  },
  {
   "cell_type": "code",
   "execution_count": null,
   "metadata": {},
   "outputs": [],
   "source": [
    "A = np.random.random(10000).reshape((1000, 10)).T.astype(np.float32)\n",
    "x = np.random.random(1000).astype(np.float32)\n",
    "y = np.zeros(10, dtype=np.float32)\n",
    "\n",
    "print(A.shape)\n",
    "print(x.shape)\n",
    "print(y.shape)\n",
    "A.flags"
   ]
  },
  {
   "cell_type": "code",
   "execution_count": null,
   "metadata": {},
   "outputs": [],
   "source": [
    "%%timeit\n",
    "np.dot(A, x)"
   ]
  },
  {
   "cell_type": "code",
   "execution_count": null,
   "metadata": {},
   "outputs": [],
   "source": [
    "%%timeit\n",
    "dot_mv(A, x, y)\n",
    "y"
   ]
  },
  {
   "cell_type": "markdown",
   "metadata": {},
   "source": [
    "### Test Out User-Item Dictionaries and Search Function"
   ]
  },
  {
   "cell_type": "code",
   "execution_count": 42,
   "metadata": {},
   "outputs": [],
   "source": [
    "%%cython\n",
    "\n",
    "cimport cython\n",
    "from libc.stdlib cimport malloc, free, rand\n",
    "\n",
    "\n",
    "cdef int lsearch(int item, int *items, int n) nogil:\n",
    "    \"\"\"linear search for a given item in a sorted array of items\"\"\"\n",
    "    \n",
    "    cdef int i\n",
    "    for i in range(n):\n",
    "        if item == items[i]:\n",
    "            return 1\n",
    "    return 0\n",
    "\n",
    "\n",
    "cdef int bsearch(int item, int *items, int n) nogil:\n",
    "    \"\"\"binary search for a given item in a sorted array of items\"\"\"\n",
    "    \n",
    "    cdef int lo = 0\n",
    "    cdef int hi = n - 1\n",
    "    cdef int md \n",
    "    \n",
    "    while lo <= hi:\n",
    "        md = int(lo + (hi - lo) / 2)\n",
    "        if items[md] == item:\n",
    "            return 1\n",
    "        elif (items[md] < item):\n",
    "            lo = md + 1  \n",
    "        else:\n",
    "            hi = md - 1\n",
    "    return 0\n",
    "        \n",
    "\n",
    "\n",
    "        \n",
    "\n",
    "def process(dict p_user_items):\n",
    "    \"\"\"create a C array and try to use it in a [nogil] block\"\"\"\n",
    "    \n",
    "    # declare all C variables\n",
    "    cdef int i\n",
    "    cdef int user\n",
    "    cdef int item\n",
    "    cdef int random\n",
    "    cdef int found\n",
    "    cdef int n_users\n",
    "    cdef int *n_items\n",
    "    cdef int **c_user_items\n",
    "    \n",
    "    # count the total users and number of items for each user\n",
    "    n_users = len(p_user_items)\n",
    "    n_user_items = {user: len(items) for user, items in p_user_items.items()}\n",
    "    \n",
    "    # initialize the [n_items] and [c_user_items] C arrays\n",
    "    n_items = <int*>malloc(n_users * sizeof(int))\n",
    "    c_user_items = <int**>malloc(n_users * sizeof(int*))\n",
    "    \n",
    "    # fill the C arrays\n",
    "    for user in range(n_users):\n",
    "        \n",
    "        # fill the item count array for each user\n",
    "        n_items[user] = n_user_items[user]\n",
    "        \n",
    "        # allocate the dynamic item set array for each user\n",
    "        c_user_items[user] = <int*>malloc(n_items[user] * sizeof(int))\n",
    "        \n",
    "        # fill the item set array for each user\n",
    "        for item in range(n_items[user]):\n",
    "            c_user_items[user][item] = p_user_items[user][item]\n",
    "            \n",
    "            \n",
    "    # sample a random negative item and see if it's in that user's items\n",
    "    for user in range(n_users):\n",
    "        for i in range(10):\n",
    "            random = rand() % 10\n",
    "            found = bsearch(random, c_user_items[user], n_items[user])\n",
    "            print(\"user:\", user, \"item:\", random, \"found:\", found)\n",
    "        \n",
    "    # free the dynamic item arrays for each user \n",
    "    for user in range(n_users):\n",
    "        free(c_user_items[user])\n",
    "        \n",
    "    # free the item count and top-level user items arrays\n",
    "    free(n_items)\n",
    "    free(c_user_items)\n",
    "        \n"
   ]
  },
  {
   "cell_type": "code",
   "execution_count": 43,
   "metadata": {},
   "outputs": [
    {
     "data": {
      "text/plain": [
       "{0: array([3, 5, 7], dtype=int32),\n",
       " 1: array([2, 4, 6, 8, 9], dtype=int32),\n",
       " 2: array([4, 5, 6], dtype=int32)}"
      ]
     },
     "execution_count": 43,
     "metadata": {},
     "output_type": "execute_result"
    }
   ],
   "source": [
    "p_user_items = {\n",
    "    0: np.sort(np.array([3, 5, 7], dtype=np.int32)),\n",
    "    1: np.sort(np.array([2, 4, 6, 8, 9], dtype=np.int32)),\n",
    "    2: np.sort(np.array([4, 5, 6], dtype=np.int32))\n",
    "}\n",
    "p_user_items"
   ]
  },
  {
   "cell_type": "code",
   "execution_count": 44,
   "metadata": {},
   "outputs": [
    {
     "name": "stdout",
     "output_type": "stream",
     "text": [
      "user: 0 item: 0 found: 0\n",
      "user: 0 item: 8 found: 0\n",
      "user: 0 item: 9 found: 0\n",
      "user: 0 item: 2 found: 0\n",
      "user: 0 item: 8 found: 0\n",
      "user: 0 item: 5 found: 1\n",
      "user: 0 item: 8 found: 0\n",
      "user: 0 item: 3 found: 1\n",
      "user: 0 item: 9 found: 0\n",
      "user: 0 item: 5 found: 1\n",
      "user: 1 item: 4 found: 1\n",
      "user: 1 item: 3 found: 0\n",
      "user: 1 item: 9 found: 1\n",
      "user: 1 item: 2 found: 1\n",
      "user: 1 item: 3 found: 0\n",
      "user: 1 item: 5 found: 0\n",
      "user: 1 item: 3 found: 0\n",
      "user: 1 item: 2 found: 1\n",
      "user: 1 item: 2 found: 1\n",
      "user: 1 item: 9 found: 1\n",
      "user: 2 item: 0 found: 0\n",
      "user: 2 item: 4 found: 1\n",
      "user: 2 item: 6 found: 1\n",
      "user: 2 item: 7 found: 0\n",
      "user: 2 item: 4 found: 1\n",
      "user: 2 item: 8 found: 0\n",
      "user: 2 item: 4 found: 1\n",
      "user: 2 item: 6 found: 1\n",
      "user: 2 item: 1 found: 0\n",
      "user: 2 item: 9 found: 0\n"
     ]
    }
   ],
   "source": [
    "process(p_user_items)"
   ]
  },
  {
   "cell_type": "markdown",
   "metadata": {},
   "source": [
    "# **START EXAMPLE CODE FROM ONLINE RESOURCES**"
   ]
  },
  {
   "cell_type": "markdown",
   "metadata": {},
   "source": [
    "### Chapter 1 - Cython Essentials"
   ]
  },
  {
   "cell_type": "markdown",
   "metadata": {},
   "source": [
    "#### Sample Python Program"
   ]
  },
  {
   "cell_type": "code",
   "execution_count": null,
   "metadata": {},
   "outputs": [],
   "source": [
    "def p_fib(n):\n",
    "    a, b = 0.0, 1.0\n",
    "    for i in range(n):\n",
    "        a, b = a + b, a\n",
    "    return a"
   ]
  },
  {
   "cell_type": "markdown",
   "metadata": {},
   "source": [
    "#### Equivalent Cython Program"
   ]
  },
  {
   "cell_type": "code",
   "execution_count": null,
   "metadata": {},
   "outputs": [],
   "source": [
    "%%cython --annotate\n",
    "\n",
    "def c_fib(int n):\n",
    "    cdef int i\n",
    "    cdef double a=0.0, b=1.0\n",
    "    for i in range(n):\n",
    "        a, b = a + b, a\n",
    "    return a"
   ]
  },
  {
   "cell_type": "code",
   "execution_count": null,
   "metadata": {},
   "outputs": [],
   "source": [
    "%%timeit\n",
    "p_fib(1000)"
   ]
  },
  {
   "cell_type": "code",
   "execution_count": null,
   "metadata": {},
   "outputs": [],
   "source": [
    "%%timeit\n",
    "c_fib(1000)"
   ]
  },
  {
   "cell_type": "markdown",
   "metadata": {},
   "source": [
    "### Chapter 9 - Memoryviews"
   ]
  },
  {
   "cell_type": "code",
   "execution_count": null,
   "metadata": {},
   "outputs": [],
   "source": [
    "%%cython\n",
    "\n",
    "def summer_1(float[:] mv):\n",
    "    \"\"\"iterate over a data buffer and compute the sum\"\"\"\n",
    "    \n",
    "    cdef:\n",
    "        double d\n",
    "        ss = 0.0\n",
    "    for d in mv:\n",
    "        ss += d\n",
    "    return ss"
   ]
  },
  {
   "cell_type": "markdown",
   "metadata": {},
   "source": [
    "#### Faster Version with Direct Access and No Python Overhead\n",
    "* turn off `boundscheck` and `wraparound`\n",
    "* use a typed iterator (i) and range(N) for looping\n",
    "* notice zero python interaction in the function body"
   ]
  },
  {
   "cell_type": "code",
   "execution_count": null,
   "metadata": {},
   "outputs": [],
   "source": [
    "%%cython --annotate\n",
    "\n",
    "from cython cimport boundscheck, wraparound\n",
    "\n",
    "@boundscheck(False)\n",
    "@wraparound(False)\n",
    "def summer_2(float[:] mv):\n",
    "    \"\"\"loop with a typed range and iterator to index directly into the buffer with no Python overhead\"\"\"\n",
    "    \n",
    "    cdef:\n",
    "        int i, N\n",
    "        float ss = 0.0\n",
    "        \n",
    "    # easily calculate number of elements\n",
    "    N = mv.shape[0]\n",
    "    \n",
    "    # loop over elements and index directly\n",
    "    for i in range(N):\n",
    "        ss += mv[i]\n",
    "        \n",
    "    return ss"
   ]
  },
  {
   "cell_type": "code",
   "execution_count": null,
   "metadata": {},
   "outputs": [],
   "source": [
    "to_sum = np.ones(1000000, dtype=np.float32)"
   ]
  },
  {
   "cell_type": "code",
   "execution_count": null,
   "metadata": {},
   "outputs": [],
   "source": [
    "%%timeit\n",
    "summer_1(to_sum)"
   ]
  },
  {
   "cell_type": "code",
   "execution_count": null,
   "metadata": {},
   "outputs": [],
   "source": [
    "%%timeit\n",
    "summer_2(to_sum)"
   ]
  },
  {
   "cell_type": "code",
   "execution_count": null,
   "metadata": {},
   "outputs": [],
   "source": [
    "%%cython --annotate\n",
    "\n",
    "from cython cimport boundscheck, wraparound\n",
    "\n",
    "@boundscheck(False)\n",
    "@wraparound(False)\n",
    "def mv_sum(int[:, ::1] mv):\n",
    "    \"\"\"sum the elements of a 2D array\"\"\"\n",
    "    \n",
    "    cdef int N, M, i, j\n",
    "    cdef long res = 0\n",
    "    \n",
    "    N = mv.shape[0]\n",
    "    M = mv.shape[1]\n",
    "    \n",
    "    for i in range(N):\n",
    "        for j in range(M):\n",
    "            res += mv[i,j]\n",
    "            \n",
    "    return res"
   ]
  },
  {
   "cell_type": "code",
   "execution_count": null,
   "metadata": {},
   "outputs": [],
   "source": [
    "to_sum = np.ones((100, 100), dtype=np.int32)"
   ]
  },
  {
   "cell_type": "code",
   "execution_count": null,
   "metadata": {},
   "outputs": [],
   "source": [
    "mv_sum(to_sum)"
   ]
  },
  {
   "cell_type": "markdown",
   "metadata": {},
   "source": [
    "### Bigger Example Using Typed MemoryViews"
   ]
  },
  {
   "cell_type": "code",
   "execution_count": null,
   "metadata": {},
   "outputs": [],
   "source": [
    "%%cython\n",
    "\n",
    "from array import array\n",
    "from math import sqrt\n",
    "\n",
    "from cython cimport cdivision, boundscheck, wraparound\n",
    "from cpython.array cimport array\n",
    "\n",
    "@cdivision(True)\n",
    "cdef inline double A(int i, int j):\n",
    "    \"\"\"pulls an element from a predictable infinite matrix\"\"\"\n",
    "    return 1.0 / (((i + j) * (i + j + 1) >> 1) + i + 1)\n",
    "\n",
    "@boundscheck(False)\n",
    "@wraparound(False)\n",
    "cdef void A_times_u(double[::1] u, double[::1] v):\n",
    "    \"\"\"matrix-vector dot product - store result in vector [v]\"\"\"\n",
    "    \n",
    "\n",
    "    cdef int i, j\n",
    "    cdef u_len = u.shape[0]\n",
    "    cdef double partial_sum\n",
    "\n",
    "    for i in range(u_len):\n",
    "        partial_sum = 0\n",
    "        for j in range(u_len):\n",
    "            partial_sum += A(i, j) * u[j]\n",
    "        v[i] = partial_sum\n",
    "\n",
    "\n",
    "@boundscheck(False)\n",
    "@wraparound(False)\n",
    "cdef void At_times_u(double[::1] u, double[::1] v):\n",
    "    \"\"\"matrix-vector dot product on A-transpose\"\"\"\n",
    "    \n",
    "    cdef:\n",
    "        int i, j\n",
    "        u_len = u.shape[0]\n",
    "        double partial_sum\n",
    "\n",
    "    for i in range(u_len):\n",
    "        partial_sum = 0\n",
    "        for j in range(u_len):\n",
    "            partial_sum += A(j, i) * u[j]\n",
    "        v[i] = partial_sum\n",
    "\n",
    "\n",
    "def B_times_u(u, out, tmp):\n",
    "    \"\"\"swapping helper function\"\"\"\n",
    "    \n",
    "    A_times_u(u, tmp)\n",
    "    At_times_u(tmp, out)\n",
    "\n",
    "\n",
    "def spectral_norm(n):\n",
    "    \"\"\"compute the final spectral norm\"\"\"\n",
    "    \n",
    "    u = array(\"d\", [1.0] * n)\n",
    "    v = array(\"d\", [0.0] * n)\n",
    "    tmp = array(\"d\", [0.0] * n)\n",
    "\n",
    "    for _ in range(10):\n",
    "        B_times_u(u, v, tmp)\n",
    "        B_times_u(v, u, tmp)\n",
    "\n",
    "    vBv = vv = 0\n",
    "\n",
    "    for ue, ve in zip(u, v):\n",
    "        vBv += ue * ve\n",
    "        vv  += ve * ve\n",
    "\n",
    "    return sqrt(vBv / vv)"
   ]
  },
  {
   "cell_type": "markdown",
   "metadata": {},
   "source": [
    "### Another Example Using Typed MemoryViews"
   ]
  },
  {
   "cell_type": "code",
   "execution_count": null,
   "metadata": {},
   "outputs": [],
   "source": [
    "%%cython --annotate\n",
    "\n",
    "from cython cimport cdivision, boundscheck, wraparound\n",
    "import numpy as np\n",
    "DTYPE = np.intc\n",
    "\n",
    "\n",
    "cdef int clip(int a, int min_value, int max_value):\n",
    "    return min(max(a, min_value), max_value)\n",
    "\n",
    "\n",
    "@boundscheck(False)\n",
    "@wraparound(False)\n",
    "def compute_seq(int[:, :] array_1, int[:, :] array_2, int a, int b, int c):\n",
    "\n",
    "    # declare loop ranges as C-int types\n",
    "    cdef Py_ssize_t x_max = array_1.shape[0]\n",
    "    cdef Py_ssize_t y_max = array_1.shape[1]\n",
    "    assert tuple(array_1.shape) == tuple(array_2.shape)\n",
    "\n",
    "    # create a numpy array to hold results and a memory view to access it\n",
    "    result = np.zeros((x_max, y_max), dtype=DTYPE)\n",
    "    cdef int[:, :] result_view = result\n",
    "\n",
    "    # declare temporary loop variables and loop iterators as C types\n",
    "    cdef int tmp\n",
    "    cdef Py_ssize_t x, y\n",
    "\n",
    "    # fast loops in C filling the values of the result array\n",
    "    for x in range(x_max):\n",
    "        for y in range(y_max):\n",
    "\n",
    "            tmp = clip(array_1[x, y], 2, 10)\n",
    "            tmp = tmp * a + array_2[x, y] * b\n",
    "            result_view[x, y] = tmp + c\n",
    "\n",
    "    # return the result which will be a numpy array\n",
    "    return result"
   ]
  },
  {
   "cell_type": "markdown",
   "metadata": {},
   "source": [
    "### Parallel Version\n",
    "* NOTE: on OSX `gcc` is actually an alias for `clang` which doesn't support OpenMP\n",
    "* NOTE: you need to set the environment variable $CC to a versioned command for GCC (e.g. gcc-9) to get it to work"
   ]
  },
  {
   "cell_type": "code",
   "execution_count": 52,
   "metadata": {},
   "outputs": [],
   "source": [
    "os.environ['CC'] = 'gcc-9'"
   ]
  },
  {
   "cell_type": "code",
   "execution_count": 53,
   "metadata": {},
   "outputs": [
    {
     "ename": "CompileError",
     "evalue": "command 'gcc-9' failed with exit status 1",
     "output_type": "error",
     "traceback": [
      "\u001b[0;31m---------------------------------------------------------------------------\u001b[0m",
      "\u001b[0;31mDistutilsExecError\u001b[0m                        Traceback (most recent call last)",
      "\u001b[0;32m~/anaconda3/lib/python3.7/distutils/unixccompiler.py\u001b[0m in \u001b[0;36m_compile\u001b[0;34m(self, obj, src, ext, cc_args, extra_postargs, pp_opts)\u001b[0m\n\u001b[1;32m    117\u001b[0m             self.spawn(compiler_so + cc_args + [src, '-o', obj] +\n\u001b[0;32m--> 118\u001b[0;31m                        extra_postargs)\n\u001b[0m\u001b[1;32m    119\u001b[0m         \u001b[0;32mexcept\u001b[0m \u001b[0mDistutilsExecError\u001b[0m \u001b[0;32mas\u001b[0m \u001b[0mmsg\u001b[0m\u001b[0;34m:\u001b[0m\u001b[0;34m\u001b[0m\u001b[0;34m\u001b[0m\u001b[0m\n",
      "\u001b[0;32m~/anaconda3/lib/python3.7/distutils/ccompiler.py\u001b[0m in \u001b[0;36mspawn\u001b[0;34m(self, cmd)\u001b[0m\n\u001b[1;32m    908\u001b[0m     \u001b[0;32mdef\u001b[0m \u001b[0mspawn\u001b[0m\u001b[0;34m(\u001b[0m\u001b[0mself\u001b[0m\u001b[0;34m,\u001b[0m \u001b[0mcmd\u001b[0m\u001b[0;34m)\u001b[0m\u001b[0;34m:\u001b[0m\u001b[0;34m\u001b[0m\u001b[0;34m\u001b[0m\u001b[0m\n\u001b[0;32m--> 909\u001b[0;31m         \u001b[0mspawn\u001b[0m\u001b[0;34m(\u001b[0m\u001b[0mcmd\u001b[0m\u001b[0;34m,\u001b[0m \u001b[0mdry_run\u001b[0m\u001b[0;34m=\u001b[0m\u001b[0mself\u001b[0m\u001b[0;34m.\u001b[0m\u001b[0mdry_run\u001b[0m\u001b[0;34m)\u001b[0m\u001b[0;34m\u001b[0m\u001b[0;34m\u001b[0m\u001b[0m\n\u001b[0m\u001b[1;32m    910\u001b[0m \u001b[0;34m\u001b[0m\u001b[0m\n",
      "\u001b[0;32m~/anaconda3/lib/python3.7/distutils/spawn.py\u001b[0m in \u001b[0;36mspawn\u001b[0;34m(cmd, search_path, verbose, dry_run)\u001b[0m\n\u001b[1;32m     35\u001b[0m     \u001b[0;32mif\u001b[0m \u001b[0mos\u001b[0m\u001b[0;34m.\u001b[0m\u001b[0mname\u001b[0m \u001b[0;34m==\u001b[0m \u001b[0;34m'posix'\u001b[0m\u001b[0;34m:\u001b[0m\u001b[0;34m\u001b[0m\u001b[0;34m\u001b[0m\u001b[0m\n\u001b[0;32m---> 36\u001b[0;31m         \u001b[0m_spawn_posix\u001b[0m\u001b[0;34m(\u001b[0m\u001b[0mcmd\u001b[0m\u001b[0;34m,\u001b[0m \u001b[0msearch_path\u001b[0m\u001b[0;34m,\u001b[0m \u001b[0mdry_run\u001b[0m\u001b[0;34m=\u001b[0m\u001b[0mdry_run\u001b[0m\u001b[0;34m)\u001b[0m\u001b[0;34m\u001b[0m\u001b[0;34m\u001b[0m\u001b[0m\n\u001b[0m\u001b[1;32m     37\u001b[0m     \u001b[0;32melif\u001b[0m \u001b[0mos\u001b[0m\u001b[0;34m.\u001b[0m\u001b[0mname\u001b[0m \u001b[0;34m==\u001b[0m \u001b[0;34m'nt'\u001b[0m\u001b[0;34m:\u001b[0m\u001b[0;34m\u001b[0m\u001b[0;34m\u001b[0m\u001b[0m\n",
      "\u001b[0;32m~/anaconda3/lib/python3.7/distutils/spawn.py\u001b[0m in \u001b[0;36m_spawn_posix\u001b[0;34m(cmd, search_path, verbose, dry_run)\u001b[0m\n\u001b[1;32m    158\u001b[0m                           \u001b[0;34m\"command %r failed with exit status %d\"\u001b[0m\u001b[0;34m\u001b[0m\u001b[0;34m\u001b[0m\u001b[0m\n\u001b[0;32m--> 159\u001b[0;31m                           % (cmd, exit_status))\n\u001b[0m\u001b[1;32m    160\u001b[0m             \u001b[0;32melif\u001b[0m \u001b[0mos\u001b[0m\u001b[0;34m.\u001b[0m\u001b[0mWIFSTOPPED\u001b[0m\u001b[0;34m(\u001b[0m\u001b[0mstatus\u001b[0m\u001b[0;34m)\u001b[0m\u001b[0;34m:\u001b[0m\u001b[0;34m\u001b[0m\u001b[0;34m\u001b[0m\u001b[0m\n",
      "\u001b[0;31mDistutilsExecError\u001b[0m: command 'gcc-9' failed with exit status 1",
      "\nDuring handling of the above exception, another exception occurred:\n",
      "\u001b[0;31mCompileError\u001b[0m                              Traceback (most recent call last)",
      "\u001b[0;32m<ipython-input-53-254e91b7e486>\u001b[0m in \u001b[0;36m<module>\u001b[0;34m\u001b[0m\n\u001b[0;32m----> 1\u001b[0;31m \u001b[0mget_ipython\u001b[0m\u001b[0;34m(\u001b[0m\u001b[0;34m)\u001b[0m\u001b[0;34m.\u001b[0m\u001b[0mrun_cell_magic\u001b[0m\u001b[0;34m(\u001b[0m\u001b[0;34m'cython'\u001b[0m\u001b[0;34m,\u001b[0m \u001b[0;34m'--compile-args=/openmp --link-args=/openmp --force'\u001b[0m\u001b[0;34m,\u001b[0m \u001b[0;34m'cimport cython\\ncimport openmp\\n\\nimport cython.parallel as cp\\nfrom cython.parallel import parallel, prange\\n\\nimport numpy as np\\ncimport cython\\n\\nctypedef fused my_type:\\n    int\\n    double\\n    long long\\n\\n\\n# We declare our plain c function nogil\\ncdef my_type clip(my_type a, my_type min_value, my_type max_value) nogil:\\n    return min(max(a, min_value), max_value)\\n\\n\\n@cython.boundscheck(False)\\n@cython.wraparound(False)\\ndef compute_par(my_type[:, ::1] array_1, my_type[:, ::1] array_2, my_type a, my_type b, my_type c):\\n\\n    cdef Py_ssize_t x_max = array_1.shape[0]\\n    cdef Py_ssize_t y_max = array_1.shape[1]\\n\\n    assert tuple(array_1.shape) == tuple(array_2.shape)\\n\\n    if my_type is int:\\n        dtype = np.intc\\n    elif my_type is double:\\n        dtype = np.double\\n    elif my_type is cython.longlong:\\n        dtype = np.longlong\\n\\n    result = np.zeros((x_max, y_max), dtype=dtype)\\n    cdef my_type[:, ::1] result_view = result\\n\\n    cdef my_type tmp\\n    cdef Py_ssize_t x, y\\n\\n    # We use prange here.\\n    for x in prange(x_max, nogil=True):\\n        for y in range(y_max):\\n\\n            tmp = clip(array_1[x, y], 2, 10)\\n            tmp = tmp * a + array_2[x, y] * b\\n            result_view[x, y] = tmp + c\\n\\n    return result\\n'\u001b[0m\u001b[0;34m)\u001b[0m\u001b[0;34m\u001b[0m\u001b[0;34m\u001b[0m\u001b[0m\n\u001b[0m",
      "\u001b[0;32m~/anaconda3/lib/python3.7/site-packages/IPython/core/interactiveshell.py\u001b[0m in \u001b[0;36mrun_cell_magic\u001b[0;34m(self, magic_name, line, cell)\u001b[0m\n\u001b[1;32m   2321\u001b[0m             \u001b[0mmagic_arg_s\u001b[0m \u001b[0;34m=\u001b[0m \u001b[0mself\u001b[0m\u001b[0;34m.\u001b[0m\u001b[0mvar_expand\u001b[0m\u001b[0;34m(\u001b[0m\u001b[0mline\u001b[0m\u001b[0;34m,\u001b[0m \u001b[0mstack_depth\u001b[0m\u001b[0;34m)\u001b[0m\u001b[0;34m\u001b[0m\u001b[0;34m\u001b[0m\u001b[0m\n\u001b[1;32m   2322\u001b[0m             \u001b[0;32mwith\u001b[0m \u001b[0mself\u001b[0m\u001b[0;34m.\u001b[0m\u001b[0mbuiltin_trap\u001b[0m\u001b[0;34m:\u001b[0m\u001b[0;34m\u001b[0m\u001b[0;34m\u001b[0m\u001b[0m\n\u001b[0;32m-> 2323\u001b[0;31m                 \u001b[0mresult\u001b[0m \u001b[0;34m=\u001b[0m \u001b[0mfn\u001b[0m\u001b[0;34m(\u001b[0m\u001b[0mmagic_arg_s\u001b[0m\u001b[0;34m,\u001b[0m \u001b[0mcell\u001b[0m\u001b[0;34m)\u001b[0m\u001b[0;34m\u001b[0m\u001b[0;34m\u001b[0m\u001b[0m\n\u001b[0m\u001b[1;32m   2324\u001b[0m             \u001b[0;32mreturn\u001b[0m \u001b[0mresult\u001b[0m\u001b[0;34m\u001b[0m\u001b[0;34m\u001b[0m\u001b[0m\n\u001b[1;32m   2325\u001b[0m \u001b[0;34m\u001b[0m\u001b[0m\n",
      "\u001b[0;32m<decorator-gen-127>\u001b[0m in \u001b[0;36mcython\u001b[0;34m(self, line, cell)\u001b[0m\n",
      "\u001b[0;32m~/anaconda3/lib/python3.7/site-packages/IPython/core/magic.py\u001b[0m in \u001b[0;36m<lambda>\u001b[0;34m(f, *a, **k)\u001b[0m\n\u001b[1;32m    185\u001b[0m     \u001b[0;31m# but it's overkill for just that one bit of state.\u001b[0m\u001b[0;34m\u001b[0m\u001b[0;34m\u001b[0m\u001b[0;34m\u001b[0m\u001b[0m\n\u001b[1;32m    186\u001b[0m     \u001b[0;32mdef\u001b[0m \u001b[0mmagic_deco\u001b[0m\u001b[0;34m(\u001b[0m\u001b[0marg\u001b[0m\u001b[0;34m)\u001b[0m\u001b[0;34m:\u001b[0m\u001b[0;34m\u001b[0m\u001b[0;34m\u001b[0m\u001b[0m\n\u001b[0;32m--> 187\u001b[0;31m         \u001b[0mcall\u001b[0m \u001b[0;34m=\u001b[0m \u001b[0;32mlambda\u001b[0m \u001b[0mf\u001b[0m\u001b[0;34m,\u001b[0m \u001b[0;34m*\u001b[0m\u001b[0ma\u001b[0m\u001b[0;34m,\u001b[0m \u001b[0;34m**\u001b[0m\u001b[0mk\u001b[0m\u001b[0;34m:\u001b[0m \u001b[0mf\u001b[0m\u001b[0;34m(\u001b[0m\u001b[0;34m*\u001b[0m\u001b[0ma\u001b[0m\u001b[0;34m,\u001b[0m \u001b[0;34m**\u001b[0m\u001b[0mk\u001b[0m\u001b[0;34m)\u001b[0m\u001b[0;34m\u001b[0m\u001b[0;34m\u001b[0m\u001b[0m\n\u001b[0m\u001b[1;32m    188\u001b[0m \u001b[0;34m\u001b[0m\u001b[0m\n\u001b[1;32m    189\u001b[0m         \u001b[0;32mif\u001b[0m \u001b[0mcallable\u001b[0m\u001b[0;34m(\u001b[0m\u001b[0marg\u001b[0m\u001b[0;34m)\u001b[0m\u001b[0;34m:\u001b[0m\u001b[0;34m\u001b[0m\u001b[0;34m\u001b[0m\u001b[0m\n",
      "\u001b[0;32m~/anaconda3/lib/python3.7/site-packages/Cython/Build/IpythonMagic.py\u001b[0m in \u001b[0;36mcython\u001b[0;34m(self, line, cell)\u001b[0m\n\u001b[1;32m    331\u001b[0m \u001b[0;34m\u001b[0m\u001b[0m\n\u001b[1;32m    332\u001b[0m         self._build_extension(extension, lib_dir, pgo_step_name='use' if args.pgo else None,\n\u001b[0;32m--> 333\u001b[0;31m                               quiet=args.quiet)\n\u001b[0m\u001b[1;32m    334\u001b[0m \u001b[0;34m\u001b[0m\u001b[0m\n\u001b[1;32m    335\u001b[0m         \u001b[0mmodule\u001b[0m \u001b[0;34m=\u001b[0m \u001b[0mimp\u001b[0m\u001b[0;34m.\u001b[0m\u001b[0mload_dynamic\u001b[0m\u001b[0;34m(\u001b[0m\u001b[0mmodule_name\u001b[0m\u001b[0;34m,\u001b[0m \u001b[0mmodule_path\u001b[0m\u001b[0;34m)\u001b[0m\u001b[0;34m\u001b[0m\u001b[0;34m\u001b[0m\u001b[0m\n",
      "\u001b[0;32m~/anaconda3/lib/python3.7/site-packages/Cython/Build/IpythonMagic.py\u001b[0m in \u001b[0;36m_build_extension\u001b[0;34m(self, extension, lib_dir, temp_dir, pgo_step_name, quiet)\u001b[0m\n\u001b[1;32m    441\u001b[0m             \u001b[0;32mif\u001b[0m \u001b[0;32mnot\u001b[0m \u001b[0mquiet\u001b[0m\u001b[0;34m:\u001b[0m\u001b[0;34m\u001b[0m\u001b[0;34m\u001b[0m\u001b[0m\n\u001b[1;32m    442\u001b[0m                 \u001b[0mold_threshold\u001b[0m \u001b[0;34m=\u001b[0m \u001b[0mdistutils\u001b[0m\u001b[0;34m.\u001b[0m\u001b[0mlog\u001b[0m\u001b[0;34m.\u001b[0m\u001b[0mset_threshold\u001b[0m\u001b[0;34m(\u001b[0m\u001b[0mdistutils\u001b[0m\u001b[0;34m.\u001b[0m\u001b[0mlog\u001b[0m\u001b[0;34m.\u001b[0m\u001b[0mDEBUG\u001b[0m\u001b[0;34m)\u001b[0m\u001b[0;34m\u001b[0m\u001b[0;34m\u001b[0m\u001b[0m\n\u001b[0;32m--> 443\u001b[0;31m             \u001b[0mbuild_extension\u001b[0m\u001b[0;34m.\u001b[0m\u001b[0mrun\u001b[0m\u001b[0;34m(\u001b[0m\u001b[0;34m)\u001b[0m\u001b[0;34m\u001b[0m\u001b[0;34m\u001b[0m\u001b[0m\n\u001b[0m\u001b[1;32m    444\u001b[0m         \u001b[0;32mfinally\u001b[0m\u001b[0;34m:\u001b[0m\u001b[0;34m\u001b[0m\u001b[0;34m\u001b[0m\u001b[0m\n\u001b[1;32m    445\u001b[0m             \u001b[0;32mif\u001b[0m \u001b[0;32mnot\u001b[0m \u001b[0mquiet\u001b[0m \u001b[0;32mand\u001b[0m \u001b[0mold_threshold\u001b[0m \u001b[0;32mis\u001b[0m \u001b[0;32mnot\u001b[0m \u001b[0;32mNone\u001b[0m\u001b[0;34m:\u001b[0m\u001b[0;34m\u001b[0m\u001b[0;34m\u001b[0m\u001b[0m\n",
      "\u001b[0;32m~/anaconda3/lib/python3.7/distutils/command/build_ext.py\u001b[0m in \u001b[0;36mrun\u001b[0;34m(self)\u001b[0m\n\u001b[1;32m    337\u001b[0m \u001b[0;34m\u001b[0m\u001b[0m\n\u001b[1;32m    338\u001b[0m         \u001b[0;31m# Now actually compile and link everything.\u001b[0m\u001b[0;34m\u001b[0m\u001b[0;34m\u001b[0m\u001b[0;34m\u001b[0m\u001b[0m\n\u001b[0;32m--> 339\u001b[0;31m         \u001b[0mself\u001b[0m\u001b[0;34m.\u001b[0m\u001b[0mbuild_extensions\u001b[0m\u001b[0;34m(\u001b[0m\u001b[0;34m)\u001b[0m\u001b[0;34m\u001b[0m\u001b[0;34m\u001b[0m\u001b[0m\n\u001b[0m\u001b[1;32m    340\u001b[0m \u001b[0;34m\u001b[0m\u001b[0m\n\u001b[1;32m    341\u001b[0m     \u001b[0;32mdef\u001b[0m \u001b[0mcheck_extensions_list\u001b[0m\u001b[0;34m(\u001b[0m\u001b[0mself\u001b[0m\u001b[0;34m,\u001b[0m \u001b[0mextensions\u001b[0m\u001b[0;34m)\u001b[0m\u001b[0;34m:\u001b[0m\u001b[0;34m\u001b[0m\u001b[0;34m\u001b[0m\u001b[0m\n",
      "\u001b[0;32m~/anaconda3/lib/python3.7/distutils/command/build_ext.py\u001b[0m in \u001b[0;36mbuild_extensions\u001b[0;34m(self)\u001b[0m\n\u001b[1;32m    446\u001b[0m             \u001b[0mself\u001b[0m\u001b[0;34m.\u001b[0m\u001b[0m_build_extensions_parallel\u001b[0m\u001b[0;34m(\u001b[0m\u001b[0;34m)\u001b[0m\u001b[0;34m\u001b[0m\u001b[0;34m\u001b[0m\u001b[0m\n\u001b[1;32m    447\u001b[0m         \u001b[0;32melse\u001b[0m\u001b[0;34m:\u001b[0m\u001b[0;34m\u001b[0m\u001b[0;34m\u001b[0m\u001b[0m\n\u001b[0;32m--> 448\u001b[0;31m             \u001b[0mself\u001b[0m\u001b[0;34m.\u001b[0m\u001b[0m_build_extensions_serial\u001b[0m\u001b[0;34m(\u001b[0m\u001b[0;34m)\u001b[0m\u001b[0;34m\u001b[0m\u001b[0;34m\u001b[0m\u001b[0m\n\u001b[0m\u001b[1;32m    449\u001b[0m \u001b[0;34m\u001b[0m\u001b[0m\n\u001b[1;32m    450\u001b[0m     \u001b[0;32mdef\u001b[0m \u001b[0m_build_extensions_parallel\u001b[0m\u001b[0;34m(\u001b[0m\u001b[0mself\u001b[0m\u001b[0;34m)\u001b[0m\u001b[0;34m:\u001b[0m\u001b[0;34m\u001b[0m\u001b[0;34m\u001b[0m\u001b[0m\n",
      "\u001b[0;32m~/anaconda3/lib/python3.7/distutils/command/build_ext.py\u001b[0m in \u001b[0;36m_build_extensions_serial\u001b[0;34m(self)\u001b[0m\n\u001b[1;32m    471\u001b[0m         \u001b[0;32mfor\u001b[0m \u001b[0mext\u001b[0m \u001b[0;32min\u001b[0m \u001b[0mself\u001b[0m\u001b[0;34m.\u001b[0m\u001b[0mextensions\u001b[0m\u001b[0;34m:\u001b[0m\u001b[0;34m\u001b[0m\u001b[0;34m\u001b[0m\u001b[0m\n\u001b[1;32m    472\u001b[0m             \u001b[0;32mwith\u001b[0m \u001b[0mself\u001b[0m\u001b[0;34m.\u001b[0m\u001b[0m_filter_build_errors\u001b[0m\u001b[0;34m(\u001b[0m\u001b[0mext\u001b[0m\u001b[0;34m)\u001b[0m\u001b[0;34m:\u001b[0m\u001b[0;34m\u001b[0m\u001b[0;34m\u001b[0m\u001b[0m\n\u001b[0;32m--> 473\u001b[0;31m                 \u001b[0mself\u001b[0m\u001b[0;34m.\u001b[0m\u001b[0mbuild_extension\u001b[0m\u001b[0;34m(\u001b[0m\u001b[0mext\u001b[0m\u001b[0;34m)\u001b[0m\u001b[0;34m\u001b[0m\u001b[0;34m\u001b[0m\u001b[0m\n\u001b[0m\u001b[1;32m    474\u001b[0m \u001b[0;34m\u001b[0m\u001b[0m\n\u001b[1;32m    475\u001b[0m     \u001b[0;34m@\u001b[0m\u001b[0mcontextlib\u001b[0m\u001b[0;34m.\u001b[0m\u001b[0mcontextmanager\u001b[0m\u001b[0;34m\u001b[0m\u001b[0;34m\u001b[0m\u001b[0m\n",
      "\u001b[0;32m~/anaconda3/lib/python3.7/distutils/command/build_ext.py\u001b[0m in \u001b[0;36mbuild_extension\u001b[0;34m(self, ext)\u001b[0m\n\u001b[1;32m    531\u001b[0m                                          \u001b[0mdebug\u001b[0m\u001b[0;34m=\u001b[0m\u001b[0mself\u001b[0m\u001b[0;34m.\u001b[0m\u001b[0mdebug\u001b[0m\u001b[0;34m,\u001b[0m\u001b[0;34m\u001b[0m\u001b[0;34m\u001b[0m\u001b[0m\n\u001b[1;32m    532\u001b[0m                                          \u001b[0mextra_postargs\u001b[0m\u001b[0;34m=\u001b[0m\u001b[0mextra_args\u001b[0m\u001b[0;34m,\u001b[0m\u001b[0;34m\u001b[0m\u001b[0;34m\u001b[0m\u001b[0m\n\u001b[0;32m--> 533\u001b[0;31m                                          depends=ext.depends)\n\u001b[0m\u001b[1;32m    534\u001b[0m \u001b[0;34m\u001b[0m\u001b[0m\n\u001b[1;32m    535\u001b[0m         \u001b[0;31m# XXX outdated variable, kept here in case third-part code\u001b[0m\u001b[0;34m\u001b[0m\u001b[0;34m\u001b[0m\u001b[0;34m\u001b[0m\u001b[0m\n",
      "\u001b[0;32m~/anaconda3/lib/python3.7/distutils/ccompiler.py\u001b[0m in \u001b[0;36mcompile\u001b[0;34m(self, sources, output_dir, macros, include_dirs, debug, extra_preargs, extra_postargs, depends)\u001b[0m\n\u001b[1;32m    572\u001b[0m             \u001b[0;32mexcept\u001b[0m \u001b[0mKeyError\u001b[0m\u001b[0;34m:\u001b[0m\u001b[0;34m\u001b[0m\u001b[0;34m\u001b[0m\u001b[0m\n\u001b[1;32m    573\u001b[0m                 \u001b[0;32mcontinue\u001b[0m\u001b[0;34m\u001b[0m\u001b[0;34m\u001b[0m\u001b[0m\n\u001b[0;32m--> 574\u001b[0;31m             \u001b[0mself\u001b[0m\u001b[0;34m.\u001b[0m\u001b[0m_compile\u001b[0m\u001b[0;34m(\u001b[0m\u001b[0mobj\u001b[0m\u001b[0;34m,\u001b[0m \u001b[0msrc\u001b[0m\u001b[0;34m,\u001b[0m \u001b[0mext\u001b[0m\u001b[0;34m,\u001b[0m \u001b[0mcc_args\u001b[0m\u001b[0;34m,\u001b[0m \u001b[0mextra_postargs\u001b[0m\u001b[0;34m,\u001b[0m \u001b[0mpp_opts\u001b[0m\u001b[0;34m)\u001b[0m\u001b[0;34m\u001b[0m\u001b[0;34m\u001b[0m\u001b[0m\n\u001b[0m\u001b[1;32m    575\u001b[0m \u001b[0;34m\u001b[0m\u001b[0m\n\u001b[1;32m    576\u001b[0m         \u001b[0;31m# Return *all* object filenames, not just the ones we just built.\u001b[0m\u001b[0;34m\u001b[0m\u001b[0;34m\u001b[0m\u001b[0;34m\u001b[0m\u001b[0m\n",
      "\u001b[0;32m~/anaconda3/lib/python3.7/distutils/unixccompiler.py\u001b[0m in \u001b[0;36m_compile\u001b[0;34m(self, obj, src, ext, cc_args, extra_postargs, pp_opts)\u001b[0m\n\u001b[1;32m    118\u001b[0m                        extra_postargs)\n\u001b[1;32m    119\u001b[0m         \u001b[0;32mexcept\u001b[0m \u001b[0mDistutilsExecError\u001b[0m \u001b[0;32mas\u001b[0m \u001b[0mmsg\u001b[0m\u001b[0;34m:\u001b[0m\u001b[0;34m\u001b[0m\u001b[0;34m\u001b[0m\u001b[0m\n\u001b[0;32m--> 120\u001b[0;31m             \u001b[0;32mraise\u001b[0m \u001b[0mCompileError\u001b[0m\u001b[0;34m(\u001b[0m\u001b[0mmsg\u001b[0m\u001b[0;34m)\u001b[0m\u001b[0;34m\u001b[0m\u001b[0;34m\u001b[0m\u001b[0m\n\u001b[0m\u001b[1;32m    121\u001b[0m \u001b[0;34m\u001b[0m\u001b[0m\n\u001b[1;32m    122\u001b[0m     def create_static_lib(self, objects, output_libname,\n",
      "\u001b[0;31mCompileError\u001b[0m: command 'gcc-9' failed with exit status 1"
     ]
    }
   ],
   "source": [
    "%%cython --compile-args=/openmp --link-args=/openmp --force\n",
    "cimport cython\n",
    "cimport openmp\n",
    "\n",
    "import cython.parallel as cp\n",
    "from cython.parallel import parallel, prange\n",
    "\n",
    "import numpy as np\n",
    "cimport cython\n",
    "\n",
    "ctypedef fused my_type:\n",
    "    int\n",
    "    double\n",
    "    long long\n",
    "\n",
    "\n",
    "# We declare our plain c function nogil\n",
    "cdef my_type clip(my_type a, my_type min_value, my_type max_value) nogil:\n",
    "    return min(max(a, min_value), max_value)\n",
    "\n",
    "\n",
    "@cython.boundscheck(False)\n",
    "@cython.wraparound(False)\n",
    "def compute_par(my_type[:, ::1] array_1, my_type[:, ::1] array_2, my_type a, my_type b, my_type c):\n",
    "\n",
    "    cdef Py_ssize_t x_max = array_1.shape[0]\n",
    "    cdef Py_ssize_t y_max = array_1.shape[1]\n",
    "\n",
    "    assert tuple(array_1.shape) == tuple(array_2.shape)\n",
    "\n",
    "    if my_type is int:\n",
    "        dtype = np.intc\n",
    "    elif my_type is double:\n",
    "        dtype = np.double\n",
    "    elif my_type is cython.longlong:\n",
    "        dtype = np.longlong\n",
    "\n",
    "    result = np.zeros((x_max, y_max), dtype=dtype)\n",
    "    cdef my_type[:, ::1] result_view = result\n",
    "\n",
    "    cdef my_type tmp\n",
    "    cdef Py_ssize_t x, y\n",
    "\n",
    "    # We use prange here.\n",
    "    for x in prange(x_max, nogil=True):\n",
    "        for y in range(y_max):\n",
    "\n",
    "            tmp = clip(array_1[x, y], 2, 10)\n",
    "            tmp = tmp * a + array_2[x, y] * b\n",
    "            result_view[x, y] = tmp + c\n",
    "\n",
    "    return result"
   ]
  },
  {
   "cell_type": "code",
   "execution_count": null,
   "metadata": {},
   "outputs": [],
   "source": [
    "import numpy as np\n",
    "array_1 = np.random.uniform(0, 1000, size=(3000, 2000)).astype(np.intc)\n",
    "array_2 = np.random.uniform(0, 1000, size=(3000, 2000)).astype(np.intc)\n",
    "a = 4\n",
    "b = 3\n",
    "c = 9"
   ]
  },
  {
   "cell_type": "code",
   "execution_count": null,
   "metadata": {},
   "outputs": [],
   "source": [
    "%timeit compute_seq(array_1, array_2, a, b, c)"
   ]
  },
  {
   "cell_type": "code",
   "execution_count": null,
   "metadata": {},
   "outputs": [],
   "source": [
    "%timeit compute_par(array_1, array_2, a, b, c)"
   ]
  },
  {
   "cell_type": "code",
   "execution_count": null,
   "metadata": {},
   "outputs": [],
   "source": []
  },
  {
   "cell_type": "markdown",
   "metadata": {},
   "source": [
    "### Parallel Programming with PRANGE()"
   ]
  },
  {
   "cell_type": "code",
   "execution_count": null,
   "metadata": {},
   "outputs": [],
   "source": [
    "%%cython\n",
    "\n",
    "# distutils: extra_compile_args = -fopenmp\n",
    "# distutils: extra_link_args = -fopenmp\n",
    "\n",
    "from cython cimport boundscheck, wraparound\n",
    "from cython.parallel cimport prange\n",
    "\n",
    "import numpy as np\n",
    "\n",
    "cdef inline double norm2(double complex z) nogil:\n",
    "    return z.real * z.real + z.imag * z.imag\n",
    "\n",
    "\n",
    "cdef int escape(double complex z, double complex c, double z_max, int n_max) nogil:\n",
    "\n",
    "    cdef:\n",
    "        int i = 0\n",
    "        double z_max2 = z_max * z_max\n",
    "\n",
    "    while norm2(z) < z_max2 and i < n_max:\n",
    "        z = z * z + c\n",
    "        i += 1\n",
    "\n",
    "    return i\n",
    "\n",
    "\n",
    "@boundscheck(False)\n",
    "@wraparound(False)\n",
    "def calc_julia(int resolution, double complex c, double bound=1.5, double z_max=4.0, int n_max=1000):\n",
    "\n",
    "    cdef:\n",
    "        double step = 2.0 * bound / resolution\n",
    "        int i, j\n",
    "        double complex z\n",
    "        double real, imag\n",
    "        int[:, ::1] counts\n",
    "\n",
    "    counts = np.zeros((resolution+1, resolution+1), dtype=np.int32)\n",
    "\n",
    "    for i in prange(resolution + 1, nogil=True, schedule='static', chunksize=1):\n",
    "        real = -bound + i * step\n",
    "        for j in range(resolution + 1):\n",
    "            imag = -bound + j * step\n",
    "            z = real + imag * 1j\n",
    "            counts[i,j] = escape(z, c, z_max, n_max)\n",
    "\n",
    "    return np.asarray(counts)\n",
    "\n",
    "@boundscheck(False)\n",
    "@wraparound(False)\n",
    "def julia_fraction(int[:,::1] counts, int maxval=1000):\n",
    "    cdef:\n",
    "        int total = 0\n",
    "        int i, j, N, M\n",
    "        \n",
    "    N = counts.shape[0] \n",
    "    M = counts.shape[1]\n",
    "\n",
    "    for i in prange(N, nogil=True):\n",
    "        for j in range(M):\n",
    "            if counts[i,j] == maxval:\n",
    "                total += 1\n",
    "    return total / float(counts.size)"
   ]
  },
  {
   "cell_type": "code",
   "execution_count": null,
   "metadata": {},
   "outputs": [],
   "source": []
  }
 ],
 "metadata": {
  "kernelspec": {
   "display_name": "Python 3",
   "language": "python",
   "name": "python3"
  },
  "language_info": {
   "codemirror_mode": {
    "name": "ipython",
    "version": 3
   },
   "file_extension": ".py",
   "mimetype": "text/x-python",
   "name": "python",
   "nbconvert_exporter": "python",
   "pygments_lexer": "ipython3",
   "version": "3.7.2"
  }
 },
 "nbformat": 4,
 "nbformat_minor": 4
}
