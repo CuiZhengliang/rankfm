{
 "cells": [
  {
   "cell_type": "markdown",
   "metadata": {},
   "source": [
    "### Import Required Packages and Set Options"
   ]
  },
  {
   "cell_type": "code",
   "execution_count": 1,
   "metadata": {},
   "outputs": [],
   "source": [
    "import os\n",
    "import re\n",
    "import sys\n",
    "import git\n",
    "from datetime import datetime\n",
    "\n",
    "import numpy as np\n",
    "import numba as nb\n",
    "import pandas as pd\n",
    "\n",
    "import matplotlib.pyplot as plt\n",
    "import seaborn as sns\n",
    "\n",
    "import warnings\n",
    "warnings.filterwarnings(\"ignore\", category=nb.NumbaPerformanceWarning)"
   ]
  },
  {
   "cell_type": "markdown",
   "metadata": {},
   "source": [
    "#### Put the Main Package Library on the PYTHONPATH"
   ]
  },
  {
   "cell_type": "code",
   "execution_count": 2,
   "metadata": {},
   "outputs": [
    {
     "data": {
      "text/plain": [
       "'/Users/ericlundquist/Repos/rankfm'"
      ]
     },
     "execution_count": 2,
     "metadata": {},
     "output_type": "execute_result"
    }
   ],
   "source": [
    "git_repo = git.Repo('.', search_parent_directories=True)\n",
    "git_root = git_repo.git.rev_parse('--show-toplevel')\n",
    "\n",
    "sys.path[0] = git_root\n",
    "sys.path[0]"
   ]
  },
  {
   "cell_type": "markdown",
   "metadata": {},
   "source": [
    "#### Dynamically Re-Load all Package Modules on Execution"
   ]
  },
  {
   "cell_type": "code",
   "execution_count": 3,
   "metadata": {},
   "outputs": [],
   "source": [
    "%load_ext autoreload\n",
    "%autoreload 2\n",
    "\n",
    "from rankfm.rankfm import RankFM\n",
    "from rankfm.evaluation import hit_rate, reciprocal_rank, discounted_cumulative_gain, precision, recall, diversity"
   ]
  },
  {
   "cell_type": "code",
   "execution_count": 4,
   "metadata": {},
   "outputs": [],
   "source": [
    "sns.set_style('whitegrid')\n",
    "plt.rcParams['axes.titlesize'] = 14\n",
    "plt.rcParams['axes.labelsize'] = 12\n",
    "plt.rcParams['xtick.labelsize'] = 12\n",
    "plt.rcParams['ytick.labelsize'] = 12\n",
    "# plt.rcParams"
   ]
  },
  {
   "cell_type": "markdown",
   "metadata": {},
   "source": [
    "#### Set File Path Constants"
   ]
  },
  {
   "cell_type": "code",
   "execution_count": 5,
   "metadata": {},
   "outputs": [
    {
     "name": "stdout",
     "output_type": "stream",
     "text": [
      "/Users/ericlundquist/Repos/rankfm\n",
      "/Users/ericlundquist/Repos/rankfm/data/examples\n"
     ]
    }
   ],
   "source": [
    "repo_root = \"/Users/ericlundquist/Repos/rankfm\"\n",
    "data_path = os.path.join(repo_root, \"data/examples\")\n",
    "print(\"\\n\".join([repo_root, data_path]))"
   ]
  },
  {
   "cell_type": "markdown",
   "metadata": {},
   "source": [
    "### Load Example Data"
   ]
  },
  {
   "cell_type": "markdown",
   "metadata": {},
   "source": [
    "#### Load Interactions Data\n",
    "* `interactions` must be a `pd.dataframe` or `np.ndarray` with columns: `[user_id, item_id]` when used for model fitting\n",
    "* the rows of `interactions` should represent observed or implied positive feedback for the user/item pair\n",
    "* examples of implicit feedback include product purchases, movie/article views, page views, clicks, etc.\n",
    "* the `user_id` and/or `item_id` identifiers can be arbitrary integers or even strings as long as they are unique identifiers for users/items\n",
    "* RankFM internally maps raw `user_id` and `item_id` values to zero-based index positions but maps all output back to original identifier values\n",
    "* it is recommended you perform any cross-validation or data splitting strategy requiring additional columns prior to preparing the interaction data for model fitting\n",
    "* in this example we'll assume all observed movie ratings count as positive implicit feedback regardless of numerical rating `[1-5]`\n",
    "* this most closely represents the intended data and modeling context for which RankFM was designed (implicit preferences recommendation)"
   ]
  },
  {
   "cell_type": "code",
   "execution_count": 6,
   "metadata": {},
   "outputs": [
    {
     "data": {
      "text/html": [
       "<div>\n",
       "<style scoped>\n",
       "    .dataframe tbody tr th:only-of-type {\n",
       "        vertical-align: middle;\n",
       "    }\n",
       "\n",
       "    .dataframe tbody tr th {\n",
       "        vertical-align: top;\n",
       "    }\n",
       "\n",
       "    .dataframe thead th {\n",
       "        text-align: right;\n",
       "    }\n",
       "</style>\n",
       "<table border=\"1\" class=\"dataframe\">\n",
       "  <thead>\n",
       "    <tr style=\"text-align: right;\">\n",
       "      <th></th>\n",
       "      <th>user_id</th>\n",
       "      <th>item_id</th>\n",
       "      <th>rating</th>\n",
       "      <th>timestamp</th>\n",
       "    </tr>\n",
       "  </thead>\n",
       "  <tbody>\n",
       "    <tr>\n",
       "      <th>0</th>\n",
       "      <td>1</td>\n",
       "      <td>1193</td>\n",
       "      <td>5</td>\n",
       "      <td>2000-12-31 22:12:40</td>\n",
       "    </tr>\n",
       "    <tr>\n",
       "      <th>1</th>\n",
       "      <td>1</td>\n",
       "      <td>661</td>\n",
       "      <td>3</td>\n",
       "      <td>2000-12-31 22:35:09</td>\n",
       "    </tr>\n",
       "    <tr>\n",
       "      <th>2</th>\n",
       "      <td>1</td>\n",
       "      <td>914</td>\n",
       "      <td>3</td>\n",
       "      <td>2000-12-31 22:32:48</td>\n",
       "    </tr>\n",
       "    <tr>\n",
       "      <th>3</th>\n",
       "      <td>1</td>\n",
       "      <td>3408</td>\n",
       "      <td>4</td>\n",
       "      <td>2000-12-31 22:04:35</td>\n",
       "    </tr>\n",
       "    <tr>\n",
       "      <th>4</th>\n",
       "      <td>1</td>\n",
       "      <td>2355</td>\n",
       "      <td>5</td>\n",
       "      <td>2001-01-06 23:38:11</td>\n",
       "    </tr>\n",
       "  </tbody>\n",
       "</table>\n",
       "</div>"
      ],
      "text/plain": [
       "   user_id  item_id  rating            timestamp\n",
       "0        1     1193       5  2000-12-31 22:12:40\n",
       "1        1      661       3  2000-12-31 22:35:09\n",
       "2        1      914       3  2000-12-31 22:32:48\n",
       "3        1     3408       4  2000-12-31 22:04:35\n",
       "4        1     2355       5  2001-01-06 23:38:11"
      ]
     },
     "execution_count": 6,
     "metadata": {},
     "output_type": "execute_result"
    }
   ],
   "source": [
    "interactions = pd.read_csv(os.path.join(data_path, 'ML_1M_RATINGS.csv'))\n",
    "interactions.head()"
   ]
  },
  {
   "cell_type": "markdown",
   "metadata": {},
   "source": [
    "#### Load User Features\n",
    "* `user_features` must be a `pd.dataframe` or `np.ndarray` with columns: `[user_id, uf_1, ... , uf_n]`\n",
    "* the first column must be the `user_id` and the set of `user_id` values must match the unique users found in `interactions`\n",
    "* the additional columns should be user attributes/features that can be coerced to `float32` data type (i.e. no strings)\n",
    "* care should be taken to scale any continuous features prior to model fitting for numerical stability - often dummy/tag features work best"
   ]
  },
  {
   "cell_type": "code",
   "execution_count": 7,
   "metadata": {},
   "outputs": [
    {
     "data": {
      "text/html": [
       "<div>\n",
       "<style scoped>\n",
       "    .dataframe tbody tr th:only-of-type {\n",
       "        vertical-align: middle;\n",
       "    }\n",
       "\n",
       "    .dataframe tbody tr th {\n",
       "        vertical-align: top;\n",
       "    }\n",
       "\n",
       "    .dataframe thead th {\n",
       "        text-align: right;\n",
       "    }\n",
       "</style>\n",
       "<table border=\"1\" class=\"dataframe\">\n",
       "  <thead>\n",
       "    <tr style=\"text-align: right;\">\n",
       "      <th></th>\n",
       "      <th>user_id</th>\n",
       "      <th>gender__F</th>\n",
       "      <th>gender__M</th>\n",
       "      <th>agegrp__1</th>\n",
       "      <th>agegrp__18</th>\n",
       "      <th>agegrp__25</th>\n",
       "      <th>agegrp__35</th>\n",
       "      <th>agegrp__45</th>\n",
       "      <th>agegrp__50</th>\n",
       "      <th>agegrp__56</th>\n",
       "      <th>...</th>\n",
       "      <th>occupation__11</th>\n",
       "      <th>occupation__12</th>\n",
       "      <th>occupation__13</th>\n",
       "      <th>occupation__14</th>\n",
       "      <th>occupation__15</th>\n",
       "      <th>occupation__16</th>\n",
       "      <th>occupation__17</th>\n",
       "      <th>occupation__18</th>\n",
       "      <th>occupation__19</th>\n",
       "      <th>occupation__20</th>\n",
       "    </tr>\n",
       "  </thead>\n",
       "  <tbody>\n",
       "    <tr>\n",
       "      <th>0</th>\n",
       "      <td>1</td>\n",
       "      <td>1</td>\n",
       "      <td>0</td>\n",
       "      <td>1</td>\n",
       "      <td>0</td>\n",
       "      <td>0</td>\n",
       "      <td>0</td>\n",
       "      <td>0</td>\n",
       "      <td>0</td>\n",
       "      <td>0</td>\n",
       "      <td>...</td>\n",
       "      <td>0</td>\n",
       "      <td>0</td>\n",
       "      <td>0</td>\n",
       "      <td>0</td>\n",
       "      <td>0</td>\n",
       "      <td>0</td>\n",
       "      <td>0</td>\n",
       "      <td>0</td>\n",
       "      <td>0</td>\n",
       "      <td>0</td>\n",
       "    </tr>\n",
       "    <tr>\n",
       "      <th>1</th>\n",
       "      <td>2</td>\n",
       "      <td>0</td>\n",
       "      <td>1</td>\n",
       "      <td>0</td>\n",
       "      <td>0</td>\n",
       "      <td>0</td>\n",
       "      <td>0</td>\n",
       "      <td>0</td>\n",
       "      <td>0</td>\n",
       "      <td>1</td>\n",
       "      <td>...</td>\n",
       "      <td>0</td>\n",
       "      <td>0</td>\n",
       "      <td>0</td>\n",
       "      <td>0</td>\n",
       "      <td>0</td>\n",
       "      <td>1</td>\n",
       "      <td>0</td>\n",
       "      <td>0</td>\n",
       "      <td>0</td>\n",
       "      <td>0</td>\n",
       "    </tr>\n",
       "    <tr>\n",
       "      <th>2</th>\n",
       "      <td>3</td>\n",
       "      <td>0</td>\n",
       "      <td>1</td>\n",
       "      <td>0</td>\n",
       "      <td>0</td>\n",
       "      <td>1</td>\n",
       "      <td>0</td>\n",
       "      <td>0</td>\n",
       "      <td>0</td>\n",
       "      <td>0</td>\n",
       "      <td>...</td>\n",
       "      <td>0</td>\n",
       "      <td>0</td>\n",
       "      <td>0</td>\n",
       "      <td>0</td>\n",
       "      <td>1</td>\n",
       "      <td>0</td>\n",
       "      <td>0</td>\n",
       "      <td>0</td>\n",
       "      <td>0</td>\n",
       "      <td>0</td>\n",
       "    </tr>\n",
       "    <tr>\n",
       "      <th>3</th>\n",
       "      <td>4</td>\n",
       "      <td>0</td>\n",
       "      <td>1</td>\n",
       "      <td>0</td>\n",
       "      <td>0</td>\n",
       "      <td>0</td>\n",
       "      <td>0</td>\n",
       "      <td>1</td>\n",
       "      <td>0</td>\n",
       "      <td>0</td>\n",
       "      <td>...</td>\n",
       "      <td>0</td>\n",
       "      <td>0</td>\n",
       "      <td>0</td>\n",
       "      <td>0</td>\n",
       "      <td>0</td>\n",
       "      <td>0</td>\n",
       "      <td>0</td>\n",
       "      <td>0</td>\n",
       "      <td>0</td>\n",
       "      <td>0</td>\n",
       "    </tr>\n",
       "    <tr>\n",
       "      <th>4</th>\n",
       "      <td>5</td>\n",
       "      <td>0</td>\n",
       "      <td>1</td>\n",
       "      <td>0</td>\n",
       "      <td>0</td>\n",
       "      <td>1</td>\n",
       "      <td>0</td>\n",
       "      <td>0</td>\n",
       "      <td>0</td>\n",
       "      <td>0</td>\n",
       "      <td>...</td>\n",
       "      <td>0</td>\n",
       "      <td>0</td>\n",
       "      <td>0</td>\n",
       "      <td>0</td>\n",
       "      <td>0</td>\n",
       "      <td>0</td>\n",
       "      <td>0</td>\n",
       "      <td>0</td>\n",
       "      <td>0</td>\n",
       "      <td>1</td>\n",
       "    </tr>\n",
       "  </tbody>\n",
       "</table>\n",
       "<p>5 rows × 31 columns</p>\n",
       "</div>"
      ],
      "text/plain": [
       "   user_id  gender__F  gender__M  agegrp__1  agegrp__18  agegrp__25  \\\n",
       "0        1          1          0          1           0           0   \n",
       "1        2          0          1          0           0           0   \n",
       "2        3          0          1          0           0           1   \n",
       "3        4          0          1          0           0           0   \n",
       "4        5          0          1          0           0           1   \n",
       "\n",
       "   agegrp__35  agegrp__45  agegrp__50  agegrp__56  ...  occupation__11  \\\n",
       "0           0           0           0           0  ...               0   \n",
       "1           0           0           0           1  ...               0   \n",
       "2           0           0           0           0  ...               0   \n",
       "3           0           1           0           0  ...               0   \n",
       "4           0           0           0           0  ...               0   \n",
       "\n",
       "   occupation__12  occupation__13  occupation__14  occupation__15  \\\n",
       "0               0               0               0               0   \n",
       "1               0               0               0               0   \n",
       "2               0               0               0               1   \n",
       "3               0               0               0               0   \n",
       "4               0               0               0               0   \n",
       "\n",
       "   occupation__16  occupation__17  occupation__18  occupation__19  \\\n",
       "0               0               0               0               0   \n",
       "1               1               0               0               0   \n",
       "2               0               0               0               0   \n",
       "3               0               0               0               0   \n",
       "4               0               0               0               0   \n",
       "\n",
       "   occupation__20  \n",
       "0               0  \n",
       "1               0  \n",
       "2               0  \n",
       "3               0  \n",
       "4               1  \n",
       "\n",
       "[5 rows x 31 columns]"
      ]
     },
     "execution_count": 7,
     "metadata": {},
     "output_type": "execute_result"
    }
   ],
   "source": [
    "user_features = pd.read_csv(os.path.join(data_path, 'ML_1M_USERS.csv'))\n",
    "user_features.head()"
   ]
  },
  {
   "cell_type": "markdown",
   "metadata": {},
   "source": [
    "#### Load Item Features\n",
    "* `item_features` must be a `pd.dataframe` or `np.ndarray` with columns: `[item_id, uf_1, ... , uf_n]`\n",
    "* the first column must be the `item_id` and the set of `item_id` values must match the unique items found in `interactions`\n",
    "* the additional columns should be item attributes/features that can be coerced to `float32` data type (i.e. no strings)\n",
    "* care should be taken to scale any continuous features prior to model fitting for numerical stability - often dummy/tag features work best"
   ]
  },
  {
   "cell_type": "code",
   "execution_count": 8,
   "metadata": {},
   "outputs": [
    {
     "data": {
      "text/html": [
       "<div>\n",
       "<style scoped>\n",
       "    .dataframe tbody tr th:only-of-type {\n",
       "        vertical-align: middle;\n",
       "    }\n",
       "\n",
       "    .dataframe tbody tr th {\n",
       "        vertical-align: top;\n",
       "    }\n",
       "\n",
       "    .dataframe thead th {\n",
       "        text-align: right;\n",
       "    }\n",
       "</style>\n",
       "<table border=\"1\" class=\"dataframe\">\n",
       "  <thead>\n",
       "    <tr style=\"text-align: right;\">\n",
       "      <th></th>\n",
       "      <th>item_id</th>\n",
       "      <th>action</th>\n",
       "      <th>adventure</th>\n",
       "      <th>animation</th>\n",
       "      <th>childrens</th>\n",
       "      <th>comedy</th>\n",
       "      <th>crime</th>\n",
       "      <th>documentary</th>\n",
       "      <th>drama</th>\n",
       "      <th>fantasy</th>\n",
       "      <th>filmnoir</th>\n",
       "      <th>horror</th>\n",
       "      <th>musical</th>\n",
       "      <th>mystery</th>\n",
       "      <th>romance</th>\n",
       "      <th>scifi</th>\n",
       "      <th>thriller</th>\n",
       "      <th>war</th>\n",
       "      <th>western</th>\n",
       "    </tr>\n",
       "  </thead>\n",
       "  <tbody>\n",
       "    <tr>\n",
       "      <th>0</th>\n",
       "      <td>1</td>\n",
       "      <td>0</td>\n",
       "      <td>0</td>\n",
       "      <td>1</td>\n",
       "      <td>1</td>\n",
       "      <td>1</td>\n",
       "      <td>0</td>\n",
       "      <td>0</td>\n",
       "      <td>0</td>\n",
       "      <td>0</td>\n",
       "      <td>0</td>\n",
       "      <td>0</td>\n",
       "      <td>0</td>\n",
       "      <td>0</td>\n",
       "      <td>0</td>\n",
       "      <td>0</td>\n",
       "      <td>0</td>\n",
       "      <td>0</td>\n",
       "      <td>0</td>\n",
       "    </tr>\n",
       "    <tr>\n",
       "      <th>1</th>\n",
       "      <td>2</td>\n",
       "      <td>0</td>\n",
       "      <td>1</td>\n",
       "      <td>0</td>\n",
       "      <td>1</td>\n",
       "      <td>0</td>\n",
       "      <td>0</td>\n",
       "      <td>0</td>\n",
       "      <td>0</td>\n",
       "      <td>1</td>\n",
       "      <td>0</td>\n",
       "      <td>0</td>\n",
       "      <td>0</td>\n",
       "      <td>0</td>\n",
       "      <td>0</td>\n",
       "      <td>0</td>\n",
       "      <td>0</td>\n",
       "      <td>0</td>\n",
       "      <td>0</td>\n",
       "    </tr>\n",
       "    <tr>\n",
       "      <th>2</th>\n",
       "      <td>3</td>\n",
       "      <td>0</td>\n",
       "      <td>0</td>\n",
       "      <td>0</td>\n",
       "      <td>0</td>\n",
       "      <td>1</td>\n",
       "      <td>0</td>\n",
       "      <td>0</td>\n",
       "      <td>0</td>\n",
       "      <td>0</td>\n",
       "      <td>0</td>\n",
       "      <td>0</td>\n",
       "      <td>0</td>\n",
       "      <td>0</td>\n",
       "      <td>1</td>\n",
       "      <td>0</td>\n",
       "      <td>0</td>\n",
       "      <td>0</td>\n",
       "      <td>0</td>\n",
       "    </tr>\n",
       "    <tr>\n",
       "      <th>3</th>\n",
       "      <td>4</td>\n",
       "      <td>0</td>\n",
       "      <td>0</td>\n",
       "      <td>0</td>\n",
       "      <td>0</td>\n",
       "      <td>1</td>\n",
       "      <td>0</td>\n",
       "      <td>0</td>\n",
       "      <td>1</td>\n",
       "      <td>0</td>\n",
       "      <td>0</td>\n",
       "      <td>0</td>\n",
       "      <td>0</td>\n",
       "      <td>0</td>\n",
       "      <td>0</td>\n",
       "      <td>0</td>\n",
       "      <td>0</td>\n",
       "      <td>0</td>\n",
       "      <td>0</td>\n",
       "    </tr>\n",
       "    <tr>\n",
       "      <th>4</th>\n",
       "      <td>5</td>\n",
       "      <td>0</td>\n",
       "      <td>0</td>\n",
       "      <td>0</td>\n",
       "      <td>0</td>\n",
       "      <td>1</td>\n",
       "      <td>0</td>\n",
       "      <td>0</td>\n",
       "      <td>0</td>\n",
       "      <td>0</td>\n",
       "      <td>0</td>\n",
       "      <td>0</td>\n",
       "      <td>0</td>\n",
       "      <td>0</td>\n",
       "      <td>0</td>\n",
       "      <td>0</td>\n",
       "      <td>0</td>\n",
       "      <td>0</td>\n",
       "      <td>0</td>\n",
       "    </tr>\n",
       "  </tbody>\n",
       "</table>\n",
       "</div>"
      ],
      "text/plain": [
       "   item_id  action  adventure  animation  childrens  comedy  crime  \\\n",
       "0        1       0          0          1          1       1      0   \n",
       "1        2       0          1          0          1       0      0   \n",
       "2        3       0          0          0          0       1      0   \n",
       "3        4       0          0          0          0       1      0   \n",
       "4        5       0          0          0          0       1      0   \n",
       "\n",
       "   documentary  drama  fantasy  filmnoir  horror  musical  mystery  romance  \\\n",
       "0            0      0        0         0       0        0        0        0   \n",
       "1            0      0        1         0       0        0        0        0   \n",
       "2            0      0        0         0       0        0        0        1   \n",
       "3            0      1        0         0       0        0        0        0   \n",
       "4            0      0        0         0       0        0        0        0   \n",
       "\n",
       "   scifi  thriller  war  western  \n",
       "0      0         0    0        0  \n",
       "1      0         0    0        0  \n",
       "2      0         0    0        0  \n",
       "3      0         0    0        0  \n",
       "4      0         0    0        0  "
      ]
     },
     "execution_count": 8,
     "metadata": {},
     "output_type": "execute_result"
    }
   ],
   "source": [
    "item_features = pd.read_csv(os.path.join(data_path, 'ML_1M_ITEMS.csv'))\n",
    "item_features.head()"
   ]
  },
  {
   "cell_type": "markdown",
   "metadata": {},
   "source": [
    "#### Load Item Names\n",
    "* these won't be used for model fitting, but are important when reviewing the output for face validity\n",
    "* also analyzing recommended/similar movies isn't any fun if you can't see the titles!"
   ]
  },
  {
   "cell_type": "code",
   "execution_count": 9,
   "metadata": {},
   "outputs": [
    {
     "data": {
      "text/html": [
       "<div>\n",
       "<style scoped>\n",
       "    .dataframe tbody tr th:only-of-type {\n",
       "        vertical-align: middle;\n",
       "    }\n",
       "\n",
       "    .dataframe tbody tr th {\n",
       "        vertical-align: top;\n",
       "    }\n",
       "\n",
       "    .dataframe thead th {\n",
       "        text-align: right;\n",
       "    }\n",
       "</style>\n",
       "<table border=\"1\" class=\"dataframe\">\n",
       "  <thead>\n",
       "    <tr style=\"text-align: right;\">\n",
       "      <th></th>\n",
       "      <th>item_id</th>\n",
       "      <th>title</th>\n",
       "      <th>genres</th>\n",
       "    </tr>\n",
       "  </thead>\n",
       "  <tbody>\n",
       "    <tr>\n",
       "      <th>0</th>\n",
       "      <td>1</td>\n",
       "      <td>Toy Story (1995)</td>\n",
       "      <td>Animation|Children's|Comedy</td>\n",
       "    </tr>\n",
       "    <tr>\n",
       "      <th>1</th>\n",
       "      <td>2</td>\n",
       "      <td>Jumanji (1995)</td>\n",
       "      <td>Adventure|Children's|Fantasy</td>\n",
       "    </tr>\n",
       "    <tr>\n",
       "      <th>2</th>\n",
       "      <td>3</td>\n",
       "      <td>Grumpier Old Men (1995)</td>\n",
       "      <td>Comedy|Romance</td>\n",
       "    </tr>\n",
       "    <tr>\n",
       "      <th>3</th>\n",
       "      <td>4</td>\n",
       "      <td>Waiting to Exhale (1995)</td>\n",
       "      <td>Comedy|Drama</td>\n",
       "    </tr>\n",
       "    <tr>\n",
       "      <th>4</th>\n",
       "      <td>5</td>\n",
       "      <td>Father of the Bride Part II (1995)</td>\n",
       "      <td>Comedy</td>\n",
       "    </tr>\n",
       "  </tbody>\n",
       "</table>\n",
       "</div>"
      ],
      "text/plain": [
       "   item_id                               title                        genres\n",
       "0        1                    Toy Story (1995)   Animation|Children's|Comedy\n",
       "1        2                      Jumanji (1995)  Adventure|Children's|Fantasy\n",
       "2        3             Grumpier Old Men (1995)                Comedy|Romance\n",
       "3        4            Waiting to Exhale (1995)                  Comedy|Drama\n",
       "4        5  Father of the Bride Part II (1995)                        Comedy"
      ]
     },
     "execution_count": 9,
     "metadata": {},
     "output_type": "execute_result"
    }
   ],
   "source": [
    "item_names = pd.read_csv(os.path.join(data_path, 'ML_1M_ITEM_NAMES.csv'))\n",
    "item_names.head()"
   ]
  },
  {
   "cell_type": "markdown",
   "metadata": {},
   "source": [
    "#### Check Matrix/Vector Dimensions"
   ]
  },
  {
   "cell_type": "code",
   "execution_count": 10,
   "metadata": {},
   "outputs": [
    {
     "name": "stdout",
     "output_type": "stream",
     "text": [
      "interactions shape: (1000209, 4)\n",
      "interactions unique users: 6040\n",
      "interactions unique items: 3706\n",
      "user features users: 6040\n",
      "item features items: 3706\n"
     ]
    }
   ],
   "source": [
    "unique_users = interactions.user_id.nunique()\n",
    "unique_items = interactions.item_id.nunique()\n",
    "\n",
    "print(\"interactions shape: {}\".format(interactions.shape))\n",
    "print(\"interactions unique users: {}\".format(interactions.user_id.nunique()))\n",
    "print(\"interactions unique items: {}\".format(interactions.item_id.nunique()))\n",
    "\n",
    "print(\"user features users:\", interactions.user_id.nunique())\n",
    "print(\"item features items:\", interactions.item_id.nunique())"
   ]
  },
  {
   "cell_type": "markdown",
   "metadata": {},
   "source": [
    "#### Evaluate Interaction Matrix Sparsity"
   ]
  },
  {
   "cell_type": "code",
   "execution_count": 11,
   "metadata": {},
   "outputs": [
    {
     "name": "stdout",
     "output_type": "stream",
     "text": [
      "interaction matrix sparsity: 95.5%\n"
     ]
    }
   ],
   "source": [
    "sparsity = 1 - (len(interactions) / (unique_users * unique_items))\n",
    "print(\"interaction matrix sparsity: {}%\".format(round(100 * sparsity, 1)))"
   ]
  },
  {
   "cell_type": "markdown",
   "metadata": {},
   "source": [
    "#### Split Interactions Data into (Train, Valid) for Model Evaluation\n",
    "* we'll randomly split off 25% of the observed user/item interactions for model validation\n",
    "* take care to note any users/items in the validation set not appearing in the training set\n",
    "* for model fitting we'll have to unify the set of users/items across `interactions`, `user_features`, `item_features`\n",
    "* for scoring/recommendation RankFM has the `cold_start` option to either drop unseen users/items or set model output to np.nan"
   ]
  },
  {
   "cell_type": "code",
   "execution_count": 12,
   "metadata": {},
   "outputs": [],
   "source": [
    "np.random.seed(1492)\n",
    "interactions['random'] = np.random.random(size=len(interactions))\n",
    "test_pct = 0.25"
   ]
  },
  {
   "cell_type": "code",
   "execution_count": 13,
   "metadata": {},
   "outputs": [
    {
     "name": "stdout",
     "output_type": "stream",
     "text": [
      "train shape: (749724, 2)\n",
      "valid shape: (250485, 2)\n",
      "train users: 6040\n",
      "valid users: 6038\n",
      "cold-start users: set()\n",
      "train items: 3666\n",
      "valid items: 3531\n",
      "cold-start items: {3202, 2563, 644, 3460, 3209, 3722, 139, 396, 651, 1555, 1434, 1915, 1830, 2217, 2218, 687, 1842, 2742, 1851, 2619, 576, 3321, 3277, 3323, 3280, 601, 3290, 3164, 989, 865, 226, 3172, 1386, 878, 3187, 758, 3065, 763, 2556, 127}\n"
     ]
    }
   ],
   "source": [
    "train_mask = interactions['random'] <  (1 - test_pct)\n",
    "valid_mask = interactions['random'] >= (1 - test_pct)\n",
    "\n",
    "interactions_train = interactions[train_mask][['user_id', 'item_id']]\n",
    "interactions_valid = interactions[valid_mask][['user_id', 'item_id']]\n",
    "\n",
    "train_users = np.sort(interactions_train.user_id.unique())\n",
    "valid_users = np.sort(interactions_valid.user_id.unique())\n",
    "cold_start_users = set(valid_users) - set(train_users)\n",
    "\n",
    "train_items = np.sort(interactions_train.item_id.unique())\n",
    "valid_items = np.sort(interactions_valid.item_id.unique())\n",
    "cold_start_items = set(valid_items) - set(train_items)\n",
    "\n",
    "print(\"train shape: {}\".format(interactions_train.shape))\n",
    "print(\"valid shape: {}\".format(interactions_valid.shape))\n",
    "\n",
    "print(\"train users: {}\".format(len(train_users)))\n",
    "print(\"valid users: {}\".format(len(valid_users)))\n",
    "print(\"cold-start users: {}\".format(cold_start_users))\n",
    "\n",
    "print(\"train items: {}\".format(len(train_items)))\n",
    "print(\"valid items: {}\".format(len(valid_items)))\n",
    "print(\"cold-start items: {}\".format(cold_start_items))"
   ]
  },
  {
   "cell_type": "code",
   "execution_count": 14,
   "metadata": {},
   "outputs": [
    {
     "data": {
      "text/plain": [
       "((6040, 31), (3666, 19))"
      ]
     },
     "execution_count": 14,
     "metadata": {},
     "output_type": "execute_result"
    }
   ],
   "source": [
    "user_features = user_features[user_features.user_id.isin(train_users)]\n",
    "item_features = item_features[item_features.item_id.isin(train_items)]\n",
    "user_features.shape, item_features.shape"
   ]
  },
  {
   "cell_type": "markdown",
   "metadata": {},
   "source": [
    "### Fit the Model on the Training Data and Evaluate Out-of-Sample Performance Metrics"
   ]
  },
  {
   "cell_type": "markdown",
   "metadata": {},
   "source": [
    "#### Initialize the Model Object"
   ]
  },
  {
   "cell_type": "code",
   "execution_count": 38,
   "metadata": {},
   "outputs": [
    {
     "data": {
      "text/plain": [
       "<rankfm.rankfm.RankFM at 0x1a1f6a9810>"
      ]
     },
     "execution_count": 38,
     "metadata": {},
     "output_type": "execute_result"
    }
   ],
   "source": [
    "model = RankFM(factors=10, loss='bpr', regularization=0.01, sigma=0.1, learning_rate=0.10, learning_schedule='constant')\n",
    "model"
   ]
  },
  {
   "cell_type": "markdown",
   "metadata": {},
   "source": [
    "#### Fit the Model on the Training Data\n",
    "* each epoch represents one full pass through all observed user/item interactions in the training data\n",
    "* the `verbose` flag will print the current training epoch as well as the epoch's penalized log-likelihood value\n",
    "* the training algorithm attempts to maximize the model's log likelihood which represents user preferences for observed items over unobserved items\n",
    "* the log likelihood isn't 1:1 correlated with our recommendation/ranking evaluation metrics but serves as a decent proxy for training progress "
   ]
  },
  {
   "cell_type": "code",
   "execution_count": 39,
   "metadata": {},
   "outputs": [
    {
     "name": "stdout",
     "output_type": "stream",
     "text": [
      "\n",
      "training epoch: 0\n",
      "log likelihood: -296198.33\n",
      "\n",
      "training epoch: 1\n",
      "log likelihood: -258765.68\n",
      "\n",
      "training epoch: 2\n",
      "log likelihood: -225205.5\n",
      "\n",
      "training epoch: 3\n",
      "log likelihood: -209028.06\n",
      "\n",
      "training epoch: 4\n",
      "log likelihood: -201418.84\n",
      "\n",
      "training epoch: 5\n",
      "log likelihood: -197409.33\n",
      "\n",
      "training epoch: 6\n",
      "log likelihood: -193923.05\n",
      "\n",
      "training epoch: 7\n",
      "log likelihood: -191132.25\n",
      "\n",
      "training epoch: 8\n",
      "log likelihood: -190300.66\n",
      "\n",
      "training epoch: 9\n",
      "log likelihood: -189303.56\n",
      "\n",
      "training epoch: 10\n",
      "log likelihood: -187897.85\n",
      "\n",
      "training epoch: 11\n",
      "log likelihood: -187517.0\n",
      "\n",
      "training epoch: 12\n",
      "log likelihood: -186287.77\n",
      "\n",
      "training epoch: 13\n",
      "log likelihood: -186077.62\n",
      "\n",
      "training epoch: 14\n",
      "log likelihood: -186163.78\n",
      "\n",
      "training epoch: 15\n",
      "log likelihood: -186229.42\n",
      "\n",
      "training epoch: 16\n",
      "log likelihood: -185534.15\n",
      "\n",
      "training epoch: 17\n",
      "log likelihood: -185435.45\n",
      "\n",
      "training epoch: 18\n",
      "log likelihood: -185471.86\n",
      "\n",
      "training epoch: 19\n",
      "log likelihood: -185779.94\n",
      "CPU times: user 1min 26s, sys: 587 ms, total: 1min 26s\n",
      "Wall time: 1min 27s\n"
     ]
    }
   ],
   "source": [
    "%%time\n",
    "model.fit(interactions_train, epochs=20, verbose=True)"
   ]
  },
  {
   "cell_type": "markdown",
   "metadata": {},
   "source": [
    "#### Generate Model Scores for Validation Interactions\n",
    "* the `predict()` method generates real-valued model scores for user/item pairs\n",
    "* specify scoring interactions or user/item pairs the same way as training: `[user_id, item_id]`\n",
    "* the scores generated are those produced by the underlying second-degree factorization machine model\n",
    "* the `cold_start` option allows you to either generate missing values for unseen users/items or drop them from scoring output"
   ]
  },
  {
   "cell_type": "code",
   "execution_count": 47,
   "metadata": {},
   "outputs": [
    {
     "name": "stdout",
     "output_type": "stream",
     "text": [
      "(250485,)\n"
     ]
    },
    {
     "data": {
      "text/plain": [
       "count    250437.000000\n",
       "mean          1.439421\n",
       "std           1.100595\n",
       "min          -3.494692\n",
       "25%           0.749690\n",
       "50%           1.557796\n",
       "75%           2.244955\n",
       "max           4.814070\n",
       "dtype: float64"
      ]
     },
     "execution_count": 47,
     "metadata": {},
     "output_type": "execute_result"
    }
   ],
   "source": [
    "valid_scores = model.predict(interactions_valid, cold_start='nan') \n",
    "print(valid_scores.shape)\n",
    "pd.Series(valid_scores).describe()"
   ]
  },
  {
   "cell_type": "markdown",
   "metadata": {},
   "source": [
    "#### Generate TopN Recommendations for Validation Users\n",
    "* instead of having to generate predictions for all user/item pairs the `recommend()` method lets you generate the topN recommended items for each user\n",
    "* the output is a pd.dataframe where the index values are `user_id` and the columns are recommended items in descending order (first column is best item)\n",
    "* additionally there's an option `filter_previous` to exclude any items already observed during training for the user from being recommended\n",
    "* as with `predict()` there's a `cold_start` option to either fill with missing or drop recommendations for any user not found in training"
   ]
  },
  {
   "cell_type": "code",
   "execution_count": 41,
   "metadata": {},
   "outputs": [
    {
     "data": {
      "text/html": [
       "<div>\n",
       "<style scoped>\n",
       "    .dataframe tbody tr th:only-of-type {\n",
       "        vertical-align: middle;\n",
       "    }\n",
       "\n",
       "    .dataframe tbody tr th {\n",
       "        vertical-align: top;\n",
       "    }\n",
       "\n",
       "    .dataframe thead th {\n",
       "        text-align: right;\n",
       "    }\n",
       "</style>\n",
       "<table border=\"1\" class=\"dataframe\">\n",
       "  <thead>\n",
       "    <tr style=\"text-align: right;\">\n",
       "      <th></th>\n",
       "      <th>0</th>\n",
       "      <th>1</th>\n",
       "      <th>2</th>\n",
       "      <th>3</th>\n",
       "      <th>4</th>\n",
       "      <th>5</th>\n",
       "      <th>6</th>\n",
       "      <th>7</th>\n",
       "      <th>8</th>\n",
       "      <th>9</th>\n",
       "    </tr>\n",
       "  </thead>\n",
       "  <tbody>\n",
       "    <tr>\n",
       "      <th>1</th>\n",
       "      <td>2396</td>\n",
       "      <td>34</td>\n",
       "      <td>318</td>\n",
       "      <td>260</td>\n",
       "      <td>593</td>\n",
       "      <td>1968</td>\n",
       "      <td>2028</td>\n",
       "      <td>2858</td>\n",
       "      <td>1704</td>\n",
       "      <td>364</td>\n",
       "    </tr>\n",
       "    <tr>\n",
       "      <th>2</th>\n",
       "      <td>1617</td>\n",
       "      <td>608</td>\n",
       "      <td>527</td>\n",
       "      <td>260</td>\n",
       "      <td>924</td>\n",
       "      <td>904</td>\n",
       "      <td>377</td>\n",
       "      <td>50</td>\n",
       "      <td>1610</td>\n",
       "      <td>858</td>\n",
       "    </tr>\n",
       "    <tr>\n",
       "      <th>3</th>\n",
       "      <td>1197</td>\n",
       "      <td>2571</td>\n",
       "      <td>2028</td>\n",
       "      <td>1370</td>\n",
       "      <td>858</td>\n",
       "      <td>589</td>\n",
       "      <td>2762</td>\n",
       "      <td>780</td>\n",
       "      <td>380</td>\n",
       "      <td>457</td>\n",
       "    </tr>\n",
       "    <tr>\n",
       "      <th>4</th>\n",
       "      <td>1196</td>\n",
       "      <td>589</td>\n",
       "      <td>924</td>\n",
       "      <td>858</td>\n",
       "      <td>2571</td>\n",
       "      <td>1198</td>\n",
       "      <td>1197</td>\n",
       "      <td>2916</td>\n",
       "      <td>1127</td>\n",
       "      <td>480</td>\n",
       "    </tr>\n",
       "    <tr>\n",
       "      <th>5</th>\n",
       "      <td>2692</td>\n",
       "      <td>778</td>\n",
       "      <td>1041</td>\n",
       "      <td>2336</td>\n",
       "      <td>2396</td>\n",
       "      <td>2329</td>\n",
       "      <td>527</td>\n",
       "      <td>1358</td>\n",
       "      <td>1673</td>\n",
       "      <td>1682</td>\n",
       "    </tr>\n",
       "  </tbody>\n",
       "</table>\n",
       "</div>"
      ],
      "text/plain": [
       "      0     1     2     3     4     5     6     7     8     9\n",
       "1  2396    34   318   260   593  1968  2028  2858  1704   364\n",
       "2  1617   608   527   260   924   904   377    50  1610   858\n",
       "3  1197  2571  2028  1370   858   589  2762   780   380   457\n",
       "4  1196   589   924   858  2571  1198  1197  2916  1127   480\n",
       "5  2692   778  1041  2336  2396  2329   527  1358  1673  1682"
      ]
     },
     "execution_count": 41,
     "metadata": {},
     "output_type": "execute_result"
    }
   ],
   "source": [
    "valid_recommendations = model.recommend(valid_users, n_items=10, filter_previous=True, cold_start='nan')\n",
    "valid_recommendations.head()"
   ]
  },
  {
   "cell_type": "markdown",
   "metadata": {},
   "source": [
    "#### Evaluate Model Performance on the Validation Data"
   ]
  },
  {
   "cell_type": "markdown",
   "metadata": {},
   "source": [
    "##### Specify Number of Recommended Items\n",
    "* here we'll look at model performance in terms of validation metrics wrt the top 10 recommended items for each user\n",
    "* it's good to compare validation metrics against the best unpersonalized recommendations: overall item popularity rankings from the training data"
   ]
  },
  {
   "cell_type": "code",
   "execution_count": 42,
   "metadata": {},
   "outputs": [],
   "source": [
    "k = 10"
   ]
  },
  {
   "cell_type": "markdown",
   "metadata": {},
   "source": [
    "##### Generate Pure-Popularity Baselines"
   ]
  },
  {
   "cell_type": "code",
   "execution_count": 43,
   "metadata": {},
   "outputs": [
    {
     "data": {
      "text/plain": [
       "item_id\n",
       "2858    2545\n",
       "260     2254\n",
       "1196    2230\n",
       "1210    2178\n",
       "589     2002\n",
       "2028    1980\n",
       "480     1974\n",
       "1270    1939\n",
       "2571    1921\n",
       "608     1910\n",
       "Name: user_id, dtype: int64"
      ]
     },
     "execution_count": 43,
     "metadata": {},
     "output_type": "execute_result"
    }
   ],
   "source": [
    "most_popular = interactions_train.groupby('item_id')['user_id'].count().sort_values(ascending=False)[:k]\n",
    "most_popular"
   ]
  },
  {
   "cell_type": "code",
   "execution_count": 44,
   "metadata": {},
   "outputs": [
    {
     "name": "stdout",
     "output_type": "stream",
     "text": [
      "number of test users: 6038\n",
      "baseline hit rate: 0.635\n",
      "baseline precision: 0.116\n",
      "baseline recall: 0.046\n"
     ]
    }
   ],
   "source": [
    "test_user_items = interactions_valid.groupby('user_id')['item_id'].apply(set).to_dict()\n",
    "test_user_items = {key: val for key, val in test_user_items.items() if key in set(train_users)}\n",
    "\n",
    "base_hrt = np.mean([int(len(set(most_popular.index) & set(val)) > 0)                       for key, val in test_user_items.items()])\n",
    "base_pre = np.mean([len(set(most_popular.index) & set(val)) / len(set(most_popular.index)) for key, val in test_user_items.items()])\n",
    "base_rec = np.mean([len(set(most_popular.index) & set(val)) / len(set(val))                for key, val in test_user_items.items()])\n",
    "\n",
    "print(\"number of test users: {}\".format(len(test_user_items)))\n",
    "print(\"baseline hit rate: {:.3f}\".format(base_hrt))\n",
    "print(\"baseline precision: {:.3f}\".format(base_pre))\n",
    "print(\"baseline recall: {:.3f}\".format(base_rec))"
   ]
  },
  {
   "cell_type": "markdown",
   "metadata": {},
   "source": [
    "##### Generate Model Validation Metrics\n",
    "* the RankFM package comes with a number of utility functions to evaluate model performance\n",
    "* these functions cover common validation metrics for recommendation/ranking models with implicit feedback data\n",
    "* all evaluation functions have the same interface and require a previously fit RankFM model\n",
    "    * `hit_rate`: the proportion of users with any relevant recommended item\n",
    "    * `reciprocal_rank`: the inverse rank of the first relevant recommended item (or zero if no matches)\n",
    "    * `discounted_cumulative_gain`: the sum of the inverse log-scaled ranks for relevant recommended items\n",
    "    * `precision`: the number of relevant recommended items / number of recommended items\n",
    "    * `recall`: the number of relevant recommended items / number of relevant items"
   ]
  },
  {
   "cell_type": "code",
   "execution_count": 45,
   "metadata": {},
   "outputs": [],
   "source": [
    "model_hit_rate = hit_rate(model, interactions_valid, k=k)\n",
    "model_reciprocal_rank = reciprocal_rank(model, interactions_valid, k=k)\n",
    "model_dcg = discounted_cumulative_gain(model, interactions_valid, k=k)\n",
    "model_precision = precision(model, interactions_valid, k=k)\n",
    "model_recall = recall(model, interactions_valid, k=k)"
   ]
  },
  {
   "cell_type": "code",
   "execution_count": 46,
   "metadata": {},
   "outputs": [
    {
     "name": "stdout",
     "output_type": "stream",
     "text": [
      "hit_rate: 0.741\n",
      "reciprocal_rank: 0.315\n",
      "dcg: 0.669\n",
      "precision: 0.144\n",
      "recall: 0.063\n"
     ]
    }
   ],
   "source": [
    "print(\"hit_rate: {:.3f}\".format(model_hit_rate))\n",
    "print(\"reciprocal_rank: {:.3f}\".format(model_reciprocal_rank))\n",
    "print(\"dcg: {:.3f}\".format(model_dcg, 3))\n",
    "print(\"precision: {:.3f}\".format(model_precision))\n",
    "print(\"recall: {:.3f}\".format(model_recall))"
   ]
  },
  {
   "cell_type": "markdown",
   "metadata": {},
   "source": [
    "#### Assess Recommendation Diversity\n",
    "* in addition to relevance, it's often important to assess the diversity of model recommendations\n",
    "* in other words, how many items are getting recommended overall, what's the percentage of users getting recommended the top items, etc.\n",
    "* this is an important component of personalization - high diversity will help prevent the harmful rich-get-richer feedback loop over time"
   ]
  },
  {
   "cell_type": "code",
   "execution_count": 27,
   "metadata": {},
   "outputs": [
    {
     "data": {
      "text/html": [
       "<div>\n",
       "<style scoped>\n",
       "    .dataframe tbody tr th:only-of-type {\n",
       "        vertical-align: middle;\n",
       "    }\n",
       "\n",
       "    .dataframe tbody tr th {\n",
       "        vertical-align: top;\n",
       "    }\n",
       "\n",
       "    .dataframe thead th {\n",
       "        text-align: right;\n",
       "    }\n",
       "</style>\n",
       "<table border=\"1\" class=\"dataframe\">\n",
       "  <thead>\n",
       "    <tr style=\"text-align: right;\">\n",
       "      <th></th>\n",
       "      <th>item_id</th>\n",
       "      <th>cnt_users</th>\n",
       "      <th>pct_users</th>\n",
       "    </tr>\n",
       "  </thead>\n",
       "  <tbody>\n",
       "    <tr>\n",
       "      <th>0</th>\n",
       "      <td>1210</td>\n",
       "      <td>2028</td>\n",
       "      <td>0.335873</td>\n",
       "    </tr>\n",
       "    <tr>\n",
       "      <th>1</th>\n",
       "      <td>1196</td>\n",
       "      <td>1962</td>\n",
       "      <td>0.324942</td>\n",
       "    </tr>\n",
       "    <tr>\n",
       "      <th>2</th>\n",
       "      <td>2858</td>\n",
       "      <td>1894</td>\n",
       "      <td>0.313680</td>\n",
       "    </tr>\n",
       "    <tr>\n",
       "      <th>3</th>\n",
       "      <td>1198</td>\n",
       "      <td>1635</td>\n",
       "      <td>0.270785</td>\n",
       "    </tr>\n",
       "    <tr>\n",
       "      <th>4</th>\n",
       "      <td>318</td>\n",
       "      <td>1499</td>\n",
       "      <td>0.248261</td>\n",
       "    </tr>\n",
       "    <tr>\n",
       "      <th>5</th>\n",
       "      <td>260</td>\n",
       "      <td>1456</td>\n",
       "      <td>0.241139</td>\n",
       "    </tr>\n",
       "    <tr>\n",
       "      <th>6</th>\n",
       "      <td>1265</td>\n",
       "      <td>1238</td>\n",
       "      <td>0.205035</td>\n",
       "    </tr>\n",
       "    <tr>\n",
       "      <th>7</th>\n",
       "      <td>2762</td>\n",
       "      <td>1208</td>\n",
       "      <td>0.200066</td>\n",
       "    </tr>\n",
       "    <tr>\n",
       "      <th>8</th>\n",
       "      <td>2628</td>\n",
       "      <td>1139</td>\n",
       "      <td>0.188639</td>\n",
       "    </tr>\n",
       "    <tr>\n",
       "      <th>9</th>\n",
       "      <td>110</td>\n",
       "      <td>1055</td>\n",
       "      <td>0.174727</td>\n",
       "    </tr>\n",
       "  </tbody>\n",
       "</table>\n",
       "</div>"
      ],
      "text/plain": [
       "   item_id  cnt_users  pct_users\n",
       "0     1210       2028   0.335873\n",
       "1     1196       1962   0.324942\n",
       "2     2858       1894   0.313680\n",
       "3     1198       1635   0.270785\n",
       "4      318       1499   0.248261\n",
       "5      260       1456   0.241139\n",
       "6     1265       1238   0.205035\n",
       "7     2762       1208   0.200066\n",
       "8     2628       1139   0.188639\n",
       "9      110       1055   0.174727"
      ]
     },
     "execution_count": 27,
     "metadata": {},
     "output_type": "execute_result"
    }
   ],
   "source": [
    "recommendation_diversity = diversity(model, interactions_valid, k=k)\n",
    "recommendation_diversity.head(10)"
   ]
  },
  {
   "cell_type": "code",
   "execution_count": 28,
   "metadata": {},
   "outputs": [
    {
     "data": {
      "text/html": [
       "<div>\n",
       "<style scoped>\n",
       "    .dataframe tbody tr th:only-of-type {\n",
       "        vertical-align: middle;\n",
       "    }\n",
       "\n",
       "    .dataframe tbody tr th {\n",
       "        vertical-align: top;\n",
       "    }\n",
       "\n",
       "    .dataframe thead th {\n",
       "        text-align: right;\n",
       "    }\n",
       "</style>\n",
       "<table border=\"1\" class=\"dataframe\">\n",
       "  <thead>\n",
       "    <tr style=\"text-align: right;\">\n",
       "      <th></th>\n",
       "      <th>item_id</th>\n",
       "      <th>cnt_users</th>\n",
       "      <th>pct_users</th>\n",
       "      <th>title</th>\n",
       "      <th>genres</th>\n",
       "    </tr>\n",
       "  </thead>\n",
       "  <tbody>\n",
       "    <tr>\n",
       "      <th>0</th>\n",
       "      <td>1210</td>\n",
       "      <td>2028</td>\n",
       "      <td>0.335873</td>\n",
       "      <td>Star Wars: Episode VI - Return of the Jedi (1983)</td>\n",
       "      <td>Action|Adventure|Romance|Sci-Fi|War</td>\n",
       "    </tr>\n",
       "    <tr>\n",
       "      <th>1</th>\n",
       "      <td>1196</td>\n",
       "      <td>1962</td>\n",
       "      <td>0.324942</td>\n",
       "      <td>Star Wars: Episode V - The Empire Strikes Back...</td>\n",
       "      <td>Action|Adventure|Drama|Sci-Fi|War</td>\n",
       "    </tr>\n",
       "    <tr>\n",
       "      <th>2</th>\n",
       "      <td>2858</td>\n",
       "      <td>1894</td>\n",
       "      <td>0.313680</td>\n",
       "      <td>American Beauty (1999)</td>\n",
       "      <td>Comedy|Drama</td>\n",
       "    </tr>\n",
       "    <tr>\n",
       "      <th>3</th>\n",
       "      <td>1198</td>\n",
       "      <td>1635</td>\n",
       "      <td>0.270785</td>\n",
       "      <td>Raiders of the Lost Ark (1981)</td>\n",
       "      <td>Action|Adventure</td>\n",
       "    </tr>\n",
       "    <tr>\n",
       "      <th>4</th>\n",
       "      <td>318</td>\n",
       "      <td>1499</td>\n",
       "      <td>0.248261</td>\n",
       "      <td>Shawshank Redemption, The (1994)</td>\n",
       "      <td>Drama</td>\n",
       "    </tr>\n",
       "    <tr>\n",
       "      <th>5</th>\n",
       "      <td>260</td>\n",
       "      <td>1456</td>\n",
       "      <td>0.241139</td>\n",
       "      <td>Star Wars: Episode IV - A New Hope (1977)</td>\n",
       "      <td>Action|Adventure|Fantasy|Sci-Fi</td>\n",
       "    </tr>\n",
       "    <tr>\n",
       "      <th>6</th>\n",
       "      <td>1265</td>\n",
       "      <td>1238</td>\n",
       "      <td>0.205035</td>\n",
       "      <td>Groundhog Day (1993)</td>\n",
       "      <td>Comedy|Romance</td>\n",
       "    </tr>\n",
       "    <tr>\n",
       "      <th>7</th>\n",
       "      <td>2762</td>\n",
       "      <td>1208</td>\n",
       "      <td>0.200066</td>\n",
       "      <td>Sixth Sense, The (1999)</td>\n",
       "      <td>Thriller</td>\n",
       "    </tr>\n",
       "    <tr>\n",
       "      <th>8</th>\n",
       "      <td>2628</td>\n",
       "      <td>1139</td>\n",
       "      <td>0.188639</td>\n",
       "      <td>Star Wars: Episode I - The Phantom Menace (1999)</td>\n",
       "      <td>Action|Adventure|Fantasy|Sci-Fi</td>\n",
       "    </tr>\n",
       "    <tr>\n",
       "      <th>9</th>\n",
       "      <td>110</td>\n",
       "      <td>1055</td>\n",
       "      <td>0.174727</td>\n",
       "      <td>Braveheart (1995)</td>\n",
       "      <td>Action|Drama|War</td>\n",
       "    </tr>\n",
       "  </tbody>\n",
       "</table>\n",
       "</div>"
      ],
      "text/plain": [
       "   item_id  cnt_users  pct_users  \\\n",
       "0     1210       2028   0.335873   \n",
       "1     1196       1962   0.324942   \n",
       "2     2858       1894   0.313680   \n",
       "3     1198       1635   0.270785   \n",
       "4      318       1499   0.248261   \n",
       "5      260       1456   0.241139   \n",
       "6     1265       1238   0.205035   \n",
       "7     2762       1208   0.200066   \n",
       "8     2628       1139   0.188639   \n",
       "9      110       1055   0.174727   \n",
       "\n",
       "                                               title  \\\n",
       "0  Star Wars: Episode VI - Return of the Jedi (1983)   \n",
       "1  Star Wars: Episode V - The Empire Strikes Back...   \n",
       "2                             American Beauty (1999)   \n",
       "3                     Raiders of the Lost Ark (1981)   \n",
       "4                   Shawshank Redemption, The (1994)   \n",
       "5          Star Wars: Episode IV - A New Hope (1977)   \n",
       "6                               Groundhog Day (1993)   \n",
       "7                            Sixth Sense, The (1999)   \n",
       "8   Star Wars: Episode I - The Phantom Menace (1999)   \n",
       "9                                  Braveheart (1995)   \n",
       "\n",
       "                                genres  \n",
       "0  Action|Adventure|Romance|Sci-Fi|War  \n",
       "1    Action|Adventure|Drama|Sci-Fi|War  \n",
       "2                         Comedy|Drama  \n",
       "3                     Action|Adventure  \n",
       "4                                Drama  \n",
       "5      Action|Adventure|Fantasy|Sci-Fi  \n",
       "6                       Comedy|Romance  \n",
       "7                             Thriller  \n",
       "8      Action|Adventure|Fantasy|Sci-Fi  \n",
       "9                     Action|Drama|War  "
      ]
     },
     "execution_count": 28,
     "metadata": {},
     "output_type": "execute_result"
    }
   ],
   "source": [
    "top_items = pd.merge(item_names, recommendation_diversity, on='item_id', how='inner')\n",
    "top_items = top_items.set_index('item_id').loc[recommendation_diversity.item_id].reset_index()\n",
    "top_items = top_items[['item_id', 'cnt_users', 'pct_users', 'title', 'genres']]\n",
    "top_items.head(10)"
   ]
  },
  {
   "cell_type": "code",
   "execution_count": 29,
   "metadata": {},
   "outputs": [
    {
     "name": "stdout",
     "output_type": "stream",
     "text": [
      "percentage of items recommended to at least one user: 0.213\n"
     ]
    }
   ],
   "source": [
    "coverage = np.mean(recommendation_diversity['cnt_users'] > 0)\n",
    "print(\"percentage of items recommended to at least one user: {:.3f}\".format(coverage))"
   ]
  },
  {
   "cell_type": "code",
   "execution_count": 30,
   "metadata": {},
   "outputs": [
    {
     "name": "stdout",
     "output_type": "stream",
     "text": [
      "entropy value of recommended items: 40.921\n"
     ]
    }
   ],
   "source": [
    "nonzero_users = recommendation_diversity[recommendation_diversity.cnt_users > 0]\n",
    "entropy = -np.sum(nonzero_users['pct_users'] * np.log2(nonzero_users['pct_users']))\n",
    "print(\"entropy value of recommended items: {:.3f}\".format(entropy))"
   ]
  },
  {
   "cell_type": "code",
   "execution_count": 31,
   "metadata": {},
   "outputs": [
    {
     "data": {
      "image/png": "[encoded data removed]",
      "text/plain": [
       "<Figure size 1152x288 with 1 Axes>"
      ]
     },
     "metadata": {},
     "output_type": "display_data"
    }
   ],
   "source": [
    "N = 50\n",
    "fig, axes = plt.subplots(1, 1, figsize=[16, 4])\n",
    "\n",
    "topN = recommendation_diversity.iloc[:N, :]\n",
    "axes.bar(topN.index.values + 1, topN.pct_users, width=1, edgecolor='black', alpha=0.75)\n",
    "axes.set(xlabel='Item Rank', ylabel='Percentage of Users', title='Percentage of Users Recommended by Item Rank')\n",
    "plt.show()"
   ]
  },
  {
   "cell_type": "markdown",
   "metadata": {},
   "source": [
    "### Calculate the Most Similar Items to a Given Item\n",
    "* the model's representation of users/items in latent factor space allows for the calculation of item-item similarity with simple dot products\n",
    "* in many contexts it's useful to serve similar items either for user acceptance or for contextual recommendations \n",
    "* one example might be recommending the user a list of movies to watch next after he/she has just finished watching a given movie"
   ]
  },
  {
   "cell_type": "code",
   "execution_count": 32,
   "metadata": {},
   "outputs": [
    {
     "name": "stdout",
     "output_type": "stream",
     "text": [
      "random user: 5151\n"
     ]
    }
   ],
   "source": [
    "random_user = np.random.choice(interactions_valid.user_id.unique())\n",
    "print(\"random user: {}\".format(random_user))"
   ]
  },
  {
   "cell_type": "code",
   "execution_count": 33,
   "metadata": {},
   "outputs": [
    {
     "data": {
      "text/html": [
       "<div>\n",
       "<style scoped>\n",
       "    .dataframe tbody tr th:only-of-type {\n",
       "        vertical-align: middle;\n",
       "    }\n",
       "\n",
       "    .dataframe tbody tr th {\n",
       "        vertical-align: top;\n",
       "    }\n",
       "\n",
       "    .dataframe thead th {\n",
       "        text-align: right;\n",
       "    }\n",
       "</style>\n",
       "<table border=\"1\" class=\"dataframe\">\n",
       "  <thead>\n",
       "    <tr style=\"text-align: right;\">\n",
       "      <th></th>\n",
       "      <th>title</th>\n",
       "      <th>genres</th>\n",
       "    </tr>\n",
       "    <tr>\n",
       "      <th>item_id</th>\n",
       "      <th></th>\n",
       "      <th></th>\n",
       "    </tr>\n",
       "  </thead>\n",
       "  <tbody>\n",
       "    <tr>\n",
       "      <th>3785</th>\n",
       "      <td>Scary Movie (2000)</td>\n",
       "      <td>Comedy|Horror</td>\n",
       "    </tr>\n",
       "    <tr>\n",
       "      <th>2716</th>\n",
       "      <td>Ghostbusters (1984)</td>\n",
       "      <td>Comedy|Horror</td>\n",
       "    </tr>\n",
       "    <tr>\n",
       "      <th>1982</th>\n",
       "      <td>Halloween (1978)</td>\n",
       "      <td>Horror</td>\n",
       "    </tr>\n",
       "    <tr>\n",
       "      <th>3793</th>\n",
       "      <td>X-Men (2000)</td>\n",
       "      <td>Action|Sci-Fi</td>\n",
       "    </tr>\n",
       "    <tr>\n",
       "      <th>2762</th>\n",
       "      <td>Sixth Sense, The (1999)</td>\n",
       "      <td>Thriller</td>\n",
       "    </tr>\n",
       "    <tr>\n",
       "      <th>1097</th>\n",
       "      <td>E.T. the Extra-Terrestrial (1982)</td>\n",
       "      <td>Children's|Drama|Fantasy|Sci-Fi</td>\n",
       "    </tr>\n",
       "    <tr>\n",
       "      <th>1342</th>\n",
       "      <td>Candyman (1992)</td>\n",
       "      <td>Horror</td>\n",
       "    </tr>\n",
       "    <tr>\n",
       "      <th>2279</th>\n",
       "      <td>Urban Legend (1998)</td>\n",
       "      <td>Horror|Thriller</td>\n",
       "    </tr>\n",
       "    <tr>\n",
       "      <th>2959</th>\n",
       "      <td>Fight Club (1999)</td>\n",
       "      <td>Drama</td>\n",
       "    </tr>\n",
       "    <tr>\n",
       "      <th>2514</th>\n",
       "      <td>Pet Sematary II (1992)</td>\n",
       "      <td>Horror</td>\n",
       "    </tr>\n",
       "  </tbody>\n",
       "</table>\n",
       "</div>"
      ],
      "text/plain": [
       "                                     title                           genres\n",
       "item_id                                                                    \n",
       "3785                    Scary Movie (2000)                    Comedy|Horror\n",
       "2716                   Ghostbusters (1984)                    Comedy|Horror\n",
       "1982                      Halloween (1978)                           Horror\n",
       "3793                          X-Men (2000)                    Action|Sci-Fi\n",
       "2762               Sixth Sense, The (1999)                         Thriller\n",
       "1097     E.T. the Extra-Terrestrial (1982)  Children's|Drama|Fantasy|Sci-Fi\n",
       "1342                       Candyman (1992)                           Horror\n",
       "2279                   Urban Legend (1998)                  Horror|Thriller\n",
       "2959                     Fight Club (1999)                            Drama\n",
       "2514                Pet Sematary II (1992)                           Horror"
      ]
     },
     "execution_count": 33,
     "metadata": {},
     "output_type": "execute_result"
    }
   ],
   "source": [
    "random_user_recs = valid_recommendations.loc[random_user]\n",
    "random_user_recs = item_names[item_names.item_id.isin(random_user_recs)].set_index('item_id').loc[random_user_recs]\n",
    "random_user_recs"
   ]
  },
  {
   "cell_type": "markdown",
   "metadata": {},
   "source": [
    "#### Look at Similar Movies for a Few of the User's Recommended Movies"
   ]
  },
  {
   "cell_type": "code",
   "execution_count": 34,
   "metadata": {},
   "outputs": [
    {
     "data": {
      "text/html": [
       "<div>\n",
       "<style scoped>\n",
       "    .dataframe tbody tr th:only-of-type {\n",
       "        vertical-align: middle;\n",
       "    }\n",
       "\n",
       "    .dataframe tbody tr th {\n",
       "        vertical-align: top;\n",
       "    }\n",
       "\n",
       "    .dataframe thead th {\n",
       "        text-align: right;\n",
       "    }\n",
       "</style>\n",
       "<table border=\"1\" class=\"dataframe\">\n",
       "  <thead>\n",
       "    <tr style=\"text-align: right;\">\n",
       "      <th></th>\n",
       "      <th>title</th>\n",
       "      <th>genres</th>\n",
       "    </tr>\n",
       "    <tr>\n",
       "      <th>item_id</th>\n",
       "      <th></th>\n",
       "      <th></th>\n",
       "    </tr>\n",
       "  </thead>\n",
       "  <tbody>\n",
       "    <tr>\n",
       "      <th>1196</th>\n",
       "      <td>Star Wars: Episode V - The Empire Strikes Back...</td>\n",
       "      <td>Action|Adventure|Drama|Sci-Fi|War</td>\n",
       "    </tr>\n",
       "    <tr>\n",
       "      <th>924</th>\n",
       "      <td>2001: A Space Odyssey (1968)</td>\n",
       "      <td>Drama|Mystery|Sci-Fi|Thriller</td>\n",
       "    </tr>\n",
       "    <tr>\n",
       "      <th>2021</th>\n",
       "      <td>Dune (1984)</td>\n",
       "      <td>Fantasy|Sci-Fi</td>\n",
       "    </tr>\n",
       "    <tr>\n",
       "      <th>3471</th>\n",
       "      <td>Close Encounters of the Third Kind (1977)</td>\n",
       "      <td>Drama|Sci-Fi</td>\n",
       "    </tr>\n",
       "    <tr>\n",
       "      <th>1253</th>\n",
       "      <td>Day the Earth Stood Still, The (1951)</td>\n",
       "      <td>Drama|Sci-Fi</td>\n",
       "    </tr>\n",
       "    <tr>\n",
       "      <th>1225</th>\n",
       "      <td>Amadeus (1984)</td>\n",
       "      <td>Drama</td>\n",
       "    </tr>\n",
       "    <tr>\n",
       "      <th>1240</th>\n",
       "      <td>Terminator, The (1984)</td>\n",
       "      <td>Action|Sci-Fi|Thriller</td>\n",
       "    </tr>\n",
       "    <tr>\n",
       "      <th>1206</th>\n",
       "      <td>Clockwork Orange, A (1971)</td>\n",
       "      <td>Sci-Fi</td>\n",
       "    </tr>\n",
       "    <tr>\n",
       "      <th>912</th>\n",
       "      <td>Casablanca (1942)</td>\n",
       "      <td>Drama|Romance|War</td>\n",
       "    </tr>\n",
       "    <tr>\n",
       "      <th>1968</th>\n",
       "      <td>Breakfast Club, The (1985)</td>\n",
       "      <td>Comedy|Drama</td>\n",
       "    </tr>\n",
       "  </tbody>\n",
       "</table>\n",
       "</div>"
      ],
      "text/plain": [
       "                                                     title  \\\n",
       "item_id                                                      \n",
       "1196     Star Wars: Episode V - The Empire Strikes Back...   \n",
       "924                           2001: A Space Odyssey (1968)   \n",
       "2021                                           Dune (1984)   \n",
       "3471             Close Encounters of the Third Kind (1977)   \n",
       "1253                 Day the Earth Stood Still, The (1951)   \n",
       "1225                                        Amadeus (1984)   \n",
       "1240                                Terminator, The (1984)   \n",
       "1206                            Clockwork Orange, A (1971)   \n",
       "912                                      Casablanca (1942)   \n",
       "1968                            Breakfast Club, The (1985)   \n",
       "\n",
       "                                    genres  \n",
       "item_id                                     \n",
       "1196     Action|Adventure|Drama|Sci-Fi|War  \n",
       "924          Drama|Mystery|Sci-Fi|Thriller  \n",
       "2021                        Fantasy|Sci-Fi  \n",
       "3471                          Drama|Sci-Fi  \n",
       "1253                          Drama|Sci-Fi  \n",
       "1225                                 Drama  \n",
       "1240                Action|Sci-Fi|Thriller  \n",
       "1206                                Sci-Fi  \n",
       "912                      Drama|Romance|War  \n",
       "1968                          Comedy|Drama  "
      ]
     },
     "execution_count": 34,
     "metadata": {},
     "output_type": "execute_result"
    }
   ],
   "source": [
    "most_similar_items = model.similar_items(1097)\n",
    "most_similar_items = item_names.set_index('item_id').loc[most_similar_items]\n",
    "most_similar_items"
   ]
  },
  {
   "cell_type": "code",
   "execution_count": 35,
   "metadata": {},
   "outputs": [
    {
     "data": {
      "text/html": [
       "<div>\n",
       "<style scoped>\n",
       "    .dataframe tbody tr th:only-of-type {\n",
       "        vertical-align: middle;\n",
       "    }\n",
       "\n",
       "    .dataframe tbody tr th {\n",
       "        vertical-align: top;\n",
       "    }\n",
       "\n",
       "    .dataframe thead th {\n",
       "        text-align: right;\n",
       "    }\n",
       "</style>\n",
       "<table border=\"1\" class=\"dataframe\">\n",
       "  <thead>\n",
       "    <tr style=\"text-align: right;\">\n",
       "      <th></th>\n",
       "      <th>title</th>\n",
       "      <th>genres</th>\n",
       "    </tr>\n",
       "    <tr>\n",
       "      <th>item_id</th>\n",
       "      <th></th>\n",
       "      <th></th>\n",
       "    </tr>\n",
       "  </thead>\n",
       "  <tbody>\n",
       "    <tr>\n",
       "      <th>2144</th>\n",
       "      <td>Sixteen Candles (1984)</td>\n",
       "      <td>Comedy</td>\n",
       "    </tr>\n",
       "    <tr>\n",
       "      <th>2918</th>\n",
       "      <td>Ferris Bueller's Day Off (1986)</td>\n",
       "      <td>Comedy</td>\n",
       "    </tr>\n",
       "    <tr>\n",
       "      <th>2248</th>\n",
       "      <td>Say Anything... (1989)</td>\n",
       "      <td>Comedy|Drama|Romance</td>\n",
       "    </tr>\n",
       "    <tr>\n",
       "      <th>1285</th>\n",
       "      <td>Heathers (1989)</td>\n",
       "      <td>Comedy</td>\n",
       "    </tr>\n",
       "    <tr>\n",
       "      <th>1290</th>\n",
       "      <td>Some Kind of Wonderful (1987)</td>\n",
       "      <td>Drama|Romance</td>\n",
       "    </tr>\n",
       "    <tr>\n",
       "      <th>1246</th>\n",
       "      <td>Dead Poets Society (1989)</td>\n",
       "      <td>Drama</td>\n",
       "    </tr>\n",
       "    <tr>\n",
       "      <th>2145</th>\n",
       "      <td>Pretty in Pink (1986)</td>\n",
       "      <td>Comedy|Drama|Romance</td>\n",
       "    </tr>\n",
       "    <tr>\n",
       "      <th>2100</th>\n",
       "      <td>Splash (1984)</td>\n",
       "      <td>Comedy|Fantasy|Romance</td>\n",
       "    </tr>\n",
       "    <tr>\n",
       "      <th>1307</th>\n",
       "      <td>When Harry Met Sally... (1989)</td>\n",
       "      <td>Comedy|Romance</td>\n",
       "    </tr>\n",
       "    <tr>\n",
       "      <th>3210</th>\n",
       "      <td>Fast Times at Ridgemont High (1982)</td>\n",
       "      <td>Comedy</td>\n",
       "    </tr>\n",
       "  </tbody>\n",
       "</table>\n",
       "</div>"
      ],
      "text/plain": [
       "                                       title                  genres\n",
       "item_id                                                             \n",
       "2144                  Sixteen Candles (1984)                  Comedy\n",
       "2918         Ferris Bueller's Day Off (1986)                  Comedy\n",
       "2248                  Say Anything... (1989)    Comedy|Drama|Romance\n",
       "1285                         Heathers (1989)                  Comedy\n",
       "1290           Some Kind of Wonderful (1987)           Drama|Romance\n",
       "1246               Dead Poets Society (1989)                   Drama\n",
       "2145                   Pretty in Pink (1986)    Comedy|Drama|Romance\n",
       "2100                           Splash (1984)  Comedy|Fantasy|Romance\n",
       "1307          When Harry Met Sally... (1989)          Comedy|Romance\n",
       "3210     Fast Times at Ridgemont High (1982)                  Comedy"
      ]
     },
     "execution_count": 35,
     "metadata": {},
     "output_type": "execute_result"
    }
   ],
   "source": [
    "most_similar_items = model.similar_items(1968)\n",
    "most_similar_items = item_names.set_index('item_id').loc[most_similar_items]\n",
    "most_similar_items"
   ]
  },
  {
   "cell_type": "code",
   "execution_count": null,
   "metadata": {},
   "outputs": [],
   "source": []
  }
 ],
 "metadata": {
  "kernelspec": {
   "display_name": "Python 3",
   "language": "python",
   "name": "python3"
  },
  "language_info": {
   "codemirror_mode": {
    "name": "ipython",
    "version": 3
   },
   "file_extension": ".py",
   "mimetype": "text/x-python",
   "name": "python",
   "nbconvert_exporter": "python",
   "pygments_lexer": "ipython3",
   "version": "3.7.6"
  }
 },
 "nbformat": 4,
 "nbformat_minor": 4
}
