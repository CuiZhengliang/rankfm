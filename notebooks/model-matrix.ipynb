{
 "cells": [
  {
   "cell_type": "markdown",
   "metadata": {},
   "source": [
    "### Import Required Packages and Set Options"
   ]
  },
  {
   "cell_type": "code",
   "execution_count": 179,
   "metadata": {},
   "outputs": [],
   "source": [
    "import os\n",
    "import sys\n",
    "\n",
    "import numpy as np\n",
    "import pandas as pd\n",
    "\n",
    "import matplotlib.pyplot as plt\n",
    "import seaborn as sns\n",
    "\n",
    "from datetime import datetime\n",
    "from pandas.api.types import CategoricalDtype\n",
    "from scipy.sparse import csr_matrix\n",
    "\n",
    "from sklearn.base import BaseEstimator, TransformerMixin"
   ]
  },
  {
   "cell_type": "code",
   "execution_count": 152,
   "metadata": {},
   "outputs": [],
   "source": [
    "REPO_ROOT = \"/Users/ericlundquist/Repos/rankfm\"\n",
    "DATA_ROOT = os.path.join(REPO_ROOT, \"data/ml-100k\")"
   ]
  },
  {
   "cell_type": "markdown",
   "metadata": {},
   "source": [
    "### Load Example Data"
   ]
  },
  {
   "cell_type": "code",
   "execution_count": 153,
   "metadata": {},
   "outputs": [
    {
     "name": "stdout",
     "output_type": "stream",
     "text": [
      "users: (943, 5) items: (1682, 21) ratings: (100000, 4)\n"
     ]
    }
   ],
   "source": [
    "users = pd.read_csv(os.path.join(DATA_ROOT, \"users.csv\"))\n",
    "items = pd.read_csv(os.path.join(DATA_ROOT, \"items.csv\"))\n",
    "ratings = pd.read_csv(os.path.join(DATA_ROOT, \"ratings.csv\"))\n",
    "\n",
    "print(\"users: {} items: {} ratings: {}\".format(users.shape, items.shape, ratings.shape))"
   ]
  },
  {
   "cell_type": "markdown",
   "metadata": {},
   "source": [
    "#### Prepare Users Data"
   ]
  },
  {
   "cell_type": "code",
   "execution_count": 154,
   "metadata": {},
   "outputs": [
    {
     "data": {
      "text/plain": [
       "user_id                      472.000000\n",
       "agegroup__0                    0.433722\n",
       "agegroup__1                    0.348887\n",
       "agegroup__2                    0.217391\n",
       "gender__F                      0.289502\n",
       "gender__M                      0.710498\n",
       "occupation__administrator      0.083775\n",
       "occupation__artist             0.029692\n",
       "occupation__doctor             0.007423\n",
       "occupation__educator           0.100742\n",
       "occupation__engineer           0.071050\n",
       "occupation__entertainment      0.019088\n",
       "occupation__executive          0.033934\n",
       "occupation__healthcare         0.016967\n",
       "occupation__homemaker          0.007423\n",
       "occupation__lawyer             0.012725\n",
       "occupation__librarian          0.054083\n",
       "occupation__marketing          0.027572\n",
       "occupation__none               0.009544\n",
       "occupation__other              0.111347\n",
       "occupation__programmer         0.069989\n",
       "occupation__retired            0.014846\n",
       "occupation__salesman           0.012725\n",
       "occupation__scientist          0.032874\n",
       "occupation__student            0.207847\n",
       "occupation__technician         0.028632\n",
       "occupation__writer             0.047720\n",
       "dtype: float64"
      ]
     },
     "execution_count": 154,
     "metadata": {},
     "output_type": "execute_result"
    }
   ],
   "source": [
    "users['agegroup'] = pd.cut(users['age'], [0, 30, 45, 100], right=False, labels=False)\n",
    "users = users.drop(['age', 'zip_code'], axis=1)\n",
    "users = pd.get_dummies(users, prefix_sep='__', columns=['agegroup', 'gender', 'occupation'])\n",
    "users.mean()"
   ]
  },
  {
   "cell_type": "code",
   "execution_count": 155,
   "metadata": {},
   "outputs": [
    {
     "data": {
      "text/plain": [
       "count    943.000000\n",
       "mean     472.000000\n",
       "std      272.364951\n",
       "min        1.000000\n",
       "25%      236.500000\n",
       "50%      472.000000\n",
       "75%      707.500000\n",
       "max      943.000000\n",
       "Name: user_id, dtype: float64"
      ]
     },
     "execution_count": 155,
     "metadata": {},
     "output_type": "execute_result"
    }
   ],
   "source": [
    "users.user_id.describe()"
   ]
  },
  {
   "cell_type": "markdown",
   "metadata": {},
   "source": [
    "#### Prepare Items Data"
   ]
  },
  {
   "cell_type": "code",
   "execution_count": 156,
   "metadata": {},
   "outputs": [
    {
     "data": {
      "text/html": [
       "<div>\n",
       "<style scoped>\n",
       "    .dataframe tbody tr th:only-of-type {\n",
       "        vertical-align: middle;\n",
       "    }\n",
       "\n",
       "    .dataframe tbody tr th {\n",
       "        vertical-align: top;\n",
       "    }\n",
       "\n",
       "    .dataframe thead th {\n",
       "        text-align: right;\n",
       "    }\n",
       "</style>\n",
       "<table border=\"1\" class=\"dataframe\">\n",
       "  <thead>\n",
       "    <tr style=\"text-align: right;\">\n",
       "      <th></th>\n",
       "      <th>item_id</th>\n",
       "      <th>item_name</th>\n",
       "    </tr>\n",
       "  </thead>\n",
       "  <tbody>\n",
       "    <tr>\n",
       "      <th>0</th>\n",
       "      <td>1</td>\n",
       "      <td>Toy Story (1995)</td>\n",
       "    </tr>\n",
       "    <tr>\n",
       "      <th>1</th>\n",
       "      <td>2</td>\n",
       "      <td>GoldenEye (1995)</td>\n",
       "    </tr>\n",
       "    <tr>\n",
       "      <th>2</th>\n",
       "      <td>3</td>\n",
       "      <td>Four Rooms (1995)</td>\n",
       "    </tr>\n",
       "    <tr>\n",
       "      <th>3</th>\n",
       "      <td>4</td>\n",
       "      <td>Get Shorty (1995)</td>\n",
       "    </tr>\n",
       "    <tr>\n",
       "      <th>4</th>\n",
       "      <td>5</td>\n",
       "      <td>Copycat (1995)</td>\n",
       "    </tr>\n",
       "  </tbody>\n",
       "</table>\n",
       "</div>"
      ],
      "text/plain": [
       "   item_id          item_name\n",
       "0        1   Toy Story (1995)\n",
       "1        2   GoldenEye (1995)\n",
       "2        3  Four Rooms (1995)\n",
       "3        4  Get Shorty (1995)\n",
       "4        5     Copycat (1995)"
      ]
     },
     "execution_count": 156,
     "metadata": {},
     "output_type": "execute_result"
    }
   ],
   "source": [
    "item_names = items[['item_id', 'item_name']]\n",
    "item_names.head()"
   ]
  },
  {
   "cell_type": "code",
   "execution_count": 157,
   "metadata": {},
   "outputs": [
    {
     "data": {
      "text/plain": [
       "item_id               841.500000\n",
       "genre__action           0.149227\n",
       "genre__adventure        0.080262\n",
       "genre__animation        0.024970\n",
       "genre__childrens        0.072533\n",
       "genre__comedy           0.300238\n",
       "genre__crime            0.064804\n",
       "genre__documentary      0.029727\n",
       "genre__drama            0.431034\n",
       "genre__fantasy          0.013080\n",
       "genre__film_noir        0.014269\n",
       "genre__horror           0.054697\n",
       "genre__musical          0.033294\n",
       "genre__mystery          0.036266\n",
       "genre__romance          0.146849\n",
       "genre__scifi            0.060048\n",
       "genre__thriller         0.149227\n",
       "genre__war              0.042212\n",
       "genre__western          0.016052\n",
       "dtype: float64"
      ]
     },
     "execution_count": 157,
     "metadata": {},
     "output_type": "execute_result"
    }
   ],
   "source": [
    "items = items.drop(['item_name', 'release_date'], axis=1)\n",
    "items.columns = ['item_id'] + [\"genre__{}\".format(col) for col in items.columns[1:]]\n",
    "items.mean()"
   ]
  },
  {
   "cell_type": "markdown",
   "metadata": {},
   "source": [
    "#### Prepare Ratings Data"
   ]
  },
  {
   "cell_type": "code",
   "execution_count": 158,
   "metadata": {},
   "outputs": [
    {
     "data": {
      "text/plain": [
       "user_id    462.48475\n",
       "item_id    425.53013\n",
       "rating       3.52986\n",
       "dtype: float64"
      ]
     },
     "execution_count": 158,
     "metadata": {},
     "output_type": "execute_result"
    }
   ],
   "source": [
    "ratings['timestamp'] = pd.to_datetime(ratings['unix_timestamp'], origin='unix', unit='s')\n",
    "ratings = ratings.drop('unix_timestamp', axis=1)\n",
    "ratings.mean()"
   ]
  },
  {
   "cell_type": "markdown",
   "metadata": {},
   "source": [
    "### Build the Sparse Model Matrix"
   ]
  },
  {
   "cell_type": "code",
   "execution_count": 462,
   "metadata": {},
   "outputs": [],
   "source": [
    "def fit(interactions=None, user_features=None, item_features=None):\n",
    "    \"\"\"build the model matrix from the component feature dataframes\n",
    "\n",
    "    :param interactions: dataframe of [user_id, item_id, rating] records \n",
    "    :param user_features: dataframe of [user_id, user_feature_1, ... , user_feature_n] records\n",
    "    :param item_features: dataframe of [item_id, item_feature_1, ... , item_feature_n] records\n",
    "    :return: self\n",
    "    \"\"\"\n",
    "    \n",
    "    # copy the interaction matrix and store all user/item/feature values \n",
    "    interactions_ = interactions.assign(mm_row=np.arange(len(interactions)))\n",
    "    users_ = np.sort(interactions_.iloc[:, 0].unique())\n",
    "    items_ = np.sort(interactions_.iloc[:, 1].unique())\n",
    "    user_features_ = np.sort(user_features.columns[1:])\n",
    "    item_features_ = np.sort(item_features.columns[1:])\n",
    "    \n",
    "    # create namespace-specific column name lists\n",
    "    user_cols = pd.DataFrame({'type': 'users', 'col_name': users_})\n",
    "    item_cols = pd.DataFrame({'type': 'items', 'col_name': items_})\n",
    "    user_features_cols = pd.DataFrame({'type': 'user_features', 'col_name': user_features_})\n",
    "    item_features_cols = pd.DataFrame({'type': 'item_features', 'col_name': item_features_})\n",
    "    rating_cols = pd.DataFrame({'type': 'rating', 'col_name': ['rating']}) \n",
    "    \n",
    "    # combine the column names from all namespaces and map to model matrix column indexes\n",
    "    all_cols = pd.concat([user_cols, item_cols, user_features_cols, item_features_cols, rating_cols], axis=0, ignore_index=True)\n",
    "    all_cols['mm_col'] = np.arange(len(all_cols))\n",
    "\n",
    "    # separate the column names / indexes by namespace\n",
    "    user_columns = all_cols[all_cols['type'] == 'users']\n",
    "    item_columns = all_cols[all_cols['type'] == 'items']\n",
    "    user_feature_columns = all_cols[all_cols['type'] == 'user_features']\n",
    "    item_feature_columns = all_cols[all_cols['type'] == 'item_features']\n",
    "    rating_column = all_cols[all_cols['type'] == 'rating']['mm_col'].squeeze()\n",
    "    \n",
    "    # reshape (user_features, item_features) long and drop zero-valued features to save space  \n",
    "    user_features_long = pd.melt(user_features, id_vars='user_id', var_name='feature_name', value_name='mm_val').query('mm_val > 0')\n",
    "    item_features_long = pd.melt(item_features, id_vars='item_id', var_name='feature_name', value_name='mm_val').query('mm_val > 0')\n",
    "    \n",
    "    # join the (user_features, item_features) with the interactions matrix to get dataframes at the [user_id, item_id, feature_id] level\n",
    "    user_features_long = pd.merge(interactions_, user_features_long, on='user_id', how='inner')\n",
    "    item_features_long = pd.merge(interactions_, item_features_long, on='item_id', how='inner')\n",
    "    \n",
    "    # create the component (row, col, val) tuples necessary to build the final sparse model matrix\n",
    "    user_tuples = pd.merge(interactions_, user_columns, left_on='user_id', right_on='col_name', how='inner')[['mm_row', 'mm_col']].assign(mm_val=1)\n",
    "    item_tuples = pd.merge(interactions_, item_columns, left_on='item_id', right_on='col_name', how='inner')[['mm_row', 'mm_col']].assign(mm_val=1)\n",
    "    user_features_tuples = pd.merge(user_features_long, user_feature_columns, left_on='feature_name', right_on='col_name', how='inner')[['mm_row', 'mm_col', 'mm_val']]\n",
    "    item_features_tuples = pd.merge(item_features_long, item_feature_columns, left_on='feature_name', right_on='col_name', how='inner')[['mm_row', 'mm_col', 'mm_val']]\n",
    "    rating_tuples = interactions_[['mm_row', 'rating']].assign(mm_col=rating_column).rename({'rating': 'mm_val'}, axis=1)[['mm_row', 'mm_col', 'mm_val']]\n",
    "    all_tuples = pd.concat([user_tuples, item_tuples, user_features_tuples, item_features_tuples, rating_tuples], axis=0, ignore_index=True)\n",
    "    \n",
    "    # create the final sparse model matrix\n",
    "    mm_input = (all_tuples['mm_val'], (all_tuples['mm_row'], all_tuples['mm_col']))\n",
    "    mm_shape = (len(interactions_), len(all_cols))\n",
    "    model_matrix = csr_matrix(mm_input, shape=mm_shape)\n",
    "    return all_cols, model_matrix\n",
    "    "
   ]
  },
  {
   "cell_type": "markdown",
   "metadata": {},
   "source": [
    "#### Build the Model Matrix"
   ]
  },
  {
   "cell_type": "code",
   "execution_count": 463,
   "metadata": {},
   "outputs": [],
   "source": [
    "interactions = ratings[['user_id', 'item_id', 'rating']]"
   ]
  },
  {
   "cell_type": "code",
   "execution_count": 464,
   "metadata": {},
   "outputs": [
    {
     "name": "stdout",
     "output_type": "stream",
     "text": [
      "315 ms ± 7.14 ms per loop (mean ± std. dev. of 7 runs, 1 loop each)\n"
     ]
    }
   ],
   "source": [
    "%%timeit\n",
    "\n",
    "all_cols, model_matrix = fit(interactions, users, items)"
   ]
  },
  {
   "cell_type": "markdown",
   "metadata": {},
   "source": [
    "#### Do Some Diagnostic Checks"
   ]
  },
  {
   "cell_type": "code",
   "execution_count": 465,
   "metadata": {},
   "outputs": [
    {
     "data": {
      "text/plain": [
       "items            1682\n",
       "users             943\n",
       "user_features      26\n",
       "item_features      18\n",
       "rating              1\n",
       "Name: type, dtype: int64"
      ]
     },
     "execution_count": 465,
     "metadata": {},
     "output_type": "execute_result"
    }
   ],
   "source": [
    "all_cols.type.value_counts()"
   ]
  },
  {
   "cell_type": "code",
   "execution_count": 453,
   "metadata": {},
   "outputs": [
    {
     "data": {
      "text/plain": [
       "(scipy.sparse.csr.csr_matrix, (100000, 2670), 6.50068)"
      ]
     },
     "execution_count": 453,
     "metadata": {},
     "output_type": "execute_result"
    }
   ],
   "source": [
    "type(model_matrix), model_matrix.shape, model_matrix.data.nbytes / 1e6"
   ]
  },
  {
   "cell_type": "code",
   "execution_count": 456,
   "metadata": {},
   "outputs": [
    {
     "data": {
      "text/plain": [
       "2670"
      ]
     },
     "execution_count": 456,
     "metadata": {},
     "output_type": "execute_result"
    }
   ],
   "source": [
    "users.shape[0] + items.shape[0] + (users.shape[1] - 1) + (items.shape[1] - 1) + 1"
   ]
  },
  {
   "cell_type": "code",
   "execution_count": 457,
   "metadata": {},
   "outputs": [
    {
     "data": {
      "text/html": [
       "<div>\n",
       "<style scoped>\n",
       "    .dataframe tbody tr th:only-of-type {\n",
       "        vertical-align: middle;\n",
       "    }\n",
       "\n",
       "    .dataframe tbody tr th {\n",
       "        vertical-align: top;\n",
       "    }\n",
       "\n",
       "    .dataframe thead th {\n",
       "        text-align: right;\n",
       "    }\n",
       "</style>\n",
       "<table border=\"1\" class=\"dataframe\">\n",
       "  <thead>\n",
       "    <tr style=\"text-align: right;\">\n",
       "      <th>col_name</th>\n",
       "      <th>1</th>\n",
       "      <th>2</th>\n",
       "      <th>3</th>\n",
       "      <th>4</th>\n",
       "      <th>5</th>\n",
       "      <th>6</th>\n",
       "      <th>7</th>\n",
       "      <th>8</th>\n",
       "      <th>9</th>\n",
       "      <th>10</th>\n",
       "      <th>...</th>\n",
       "      <th>genre__film_noir</th>\n",
       "      <th>genre__horror</th>\n",
       "      <th>genre__musical</th>\n",
       "      <th>genre__mystery</th>\n",
       "      <th>genre__romance</th>\n",
       "      <th>genre__scifi</th>\n",
       "      <th>genre__thriller</th>\n",
       "      <th>genre__war</th>\n",
       "      <th>genre__western</th>\n",
       "      <th>rating</th>\n",
       "    </tr>\n",
       "  </thead>\n",
       "  <tbody>\n",
       "    <tr>\n",
       "      <th>0</th>\n",
       "      <td>0</td>\n",
       "      <td>0</td>\n",
       "      <td>0</td>\n",
       "      <td>0</td>\n",
       "      <td>0</td>\n",
       "      <td>0</td>\n",
       "      <td>0</td>\n",
       "      <td>0</td>\n",
       "      <td>0</td>\n",
       "      <td>0</td>\n",
       "      <td>...</td>\n",
       "      <td>0</td>\n",
       "      <td>0</td>\n",
       "      <td>0</td>\n",
       "      <td>0</td>\n",
       "      <td>0</td>\n",
       "      <td>0</td>\n",
       "      <td>0</td>\n",
       "      <td>0</td>\n",
       "      <td>0</td>\n",
       "      <td>3</td>\n",
       "    </tr>\n",
       "    <tr>\n",
       "      <th>1</th>\n",
       "      <td>0</td>\n",
       "      <td>0</td>\n",
       "      <td>0</td>\n",
       "      <td>0</td>\n",
       "      <td>0</td>\n",
       "      <td>0</td>\n",
       "      <td>0</td>\n",
       "      <td>0</td>\n",
       "      <td>0</td>\n",
       "      <td>0</td>\n",
       "      <td>...</td>\n",
       "      <td>1</td>\n",
       "      <td>0</td>\n",
       "      <td>0</td>\n",
       "      <td>1</td>\n",
       "      <td>0</td>\n",
       "      <td>0</td>\n",
       "      <td>1</td>\n",
       "      <td>0</td>\n",
       "      <td>0</td>\n",
       "      <td>3</td>\n",
       "    </tr>\n",
       "    <tr>\n",
       "      <th>2</th>\n",
       "      <td>0</td>\n",
       "      <td>0</td>\n",
       "      <td>0</td>\n",
       "      <td>0</td>\n",
       "      <td>0</td>\n",
       "      <td>0</td>\n",
       "      <td>0</td>\n",
       "      <td>0</td>\n",
       "      <td>0</td>\n",
       "      <td>0</td>\n",
       "      <td>...</td>\n",
       "      <td>0</td>\n",
       "      <td>0</td>\n",
       "      <td>0</td>\n",
       "      <td>0</td>\n",
       "      <td>0</td>\n",
       "      <td>0</td>\n",
       "      <td>0</td>\n",
       "      <td>0</td>\n",
       "      <td>0</td>\n",
       "      <td>1</td>\n",
       "    </tr>\n",
       "    <tr>\n",
       "      <th>3</th>\n",
       "      <td>0</td>\n",
       "      <td>0</td>\n",
       "      <td>0</td>\n",
       "      <td>0</td>\n",
       "      <td>0</td>\n",
       "      <td>0</td>\n",
       "      <td>0</td>\n",
       "      <td>0</td>\n",
       "      <td>0</td>\n",
       "      <td>0</td>\n",
       "      <td>...</td>\n",
       "      <td>0</td>\n",
       "      <td>0</td>\n",
       "      <td>0</td>\n",
       "      <td>0</td>\n",
       "      <td>1</td>\n",
       "      <td>0</td>\n",
       "      <td>0</td>\n",
       "      <td>1</td>\n",
       "      <td>1</td>\n",
       "      <td>2</td>\n",
       "    </tr>\n",
       "    <tr>\n",
       "      <th>4</th>\n",
       "      <td>0</td>\n",
       "      <td>0</td>\n",
       "      <td>0</td>\n",
       "      <td>0</td>\n",
       "      <td>0</td>\n",
       "      <td>0</td>\n",
       "      <td>0</td>\n",
       "      <td>0</td>\n",
       "      <td>0</td>\n",
       "      <td>0</td>\n",
       "      <td>...</td>\n",
       "      <td>0</td>\n",
       "      <td>0</td>\n",
       "      <td>0</td>\n",
       "      <td>0</td>\n",
       "      <td>0</td>\n",
       "      <td>0</td>\n",
       "      <td>0</td>\n",
       "      <td>0</td>\n",
       "      <td>0</td>\n",
       "      <td>1</td>\n",
       "    </tr>\n",
       "  </tbody>\n",
       "</table>\n",
       "<p>5 rows × 2670 columns</p>\n",
       "</div>"
      ],
      "text/plain": [
       "col_name  1  2  3  4  5  6  7  8  9  10  ...  genre__film_noir  genre__horror  \\\n",
       "0         0  0  0  0  0  0  0  0  0   0  ...                 0              0   \n",
       "1         0  0  0  0  0  0  0  0  0   0  ...                 1              0   \n",
       "2         0  0  0  0  0  0  0  0  0   0  ...                 0              0   \n",
       "3         0  0  0  0  0  0  0  0  0   0  ...                 0              0   \n",
       "4         0  0  0  0  0  0  0  0  0   0  ...                 0              0   \n",
       "\n",
       "col_name  genre__musical  genre__mystery  genre__romance  genre__scifi  \\\n",
       "0                      0               0               0             0   \n",
       "1                      0               1               0             0   \n",
       "2                      0               0               0             0   \n",
       "3                      0               0               1             0   \n",
       "4                      0               0               0             0   \n",
       "\n",
       "col_name  genre__thriller  genre__war  genre__western  rating  \n",
       "0                       0           0               0       3  \n",
       "1                       1           0               0       3  \n",
       "2                       0           0               0       1  \n",
       "3                       0           1               1       2  \n",
       "4                       0           0               0       1  \n",
       "\n",
       "[5 rows x 2670 columns]"
      ]
     },
     "execution_count": 457,
     "metadata": {},
     "output_type": "execute_result"
    }
   ],
   "source": [
    "mm_sample = pd.DataFrame(model_matrix[0:5].todense(), columns=all_cols.col_name)\n",
    "mm_sample.head()"
   ]
  },
  {
   "cell_type": "code",
   "execution_count": 458,
   "metadata": {},
   "outputs": [
    {
     "data": {
      "text/html": [
       "<div>\n",
       "<style scoped>\n",
       "    .dataframe tbody tr th:only-of-type {\n",
       "        vertical-align: middle;\n",
       "    }\n",
       "\n",
       "    .dataframe tbody tr th {\n",
       "        vertical-align: top;\n",
       "    }\n",
       "\n",
       "    .dataframe thead th {\n",
       "        text-align: right;\n",
       "    }\n",
       "</style>\n",
       "<table border=\"1\" class=\"dataframe\">\n",
       "  <thead>\n",
       "    <tr style=\"text-align: right;\">\n",
       "      <th></th>\n",
       "      <th>user_id</th>\n",
       "      <th>item_id</th>\n",
       "      <th>rating</th>\n",
       "    </tr>\n",
       "  </thead>\n",
       "  <tbody>\n",
       "    <tr>\n",
       "      <th>0</th>\n",
       "      <td>196</td>\n",
       "      <td>242</td>\n",
       "      <td>3</td>\n",
       "    </tr>\n",
       "    <tr>\n",
       "      <th>1</th>\n",
       "      <td>186</td>\n",
       "      <td>302</td>\n",
       "      <td>3</td>\n",
       "    </tr>\n",
       "    <tr>\n",
       "      <th>2</th>\n",
       "      <td>22</td>\n",
       "      <td>377</td>\n",
       "      <td>1</td>\n",
       "    </tr>\n",
       "    <tr>\n",
       "      <th>3</th>\n",
       "      <td>244</td>\n",
       "      <td>51</td>\n",
       "      <td>2</td>\n",
       "    </tr>\n",
       "    <tr>\n",
       "      <th>4</th>\n",
       "      <td>166</td>\n",
       "      <td>346</td>\n",
       "      <td>1</td>\n",
       "    </tr>\n",
       "  </tbody>\n",
       "</table>\n",
       "</div>"
      ],
      "text/plain": [
       "   user_id  item_id  rating\n",
       "0      196      242       3\n",
       "1      186      302       3\n",
       "2       22      377       1\n",
       "3      244       51       2\n",
       "4      166      346       1"
      ]
     },
     "execution_count": 458,
     "metadata": {},
     "output_type": "execute_result"
    }
   ],
   "source": [
    "interactions.head()"
   ]
  },
  {
   "cell_type": "code",
   "execution_count": 459,
   "metadata": {},
   "outputs": [
    {
     "name": "stdout",
     "output_type": "stream",
     "text": [
      "\n",
      "interaction: 0\n",
      "[196, 242, 'agegroup__2', 'gender__M', 'occupation__writer', 'genre__comedy', 'rating']\n",
      "\n",
      "interaction: 1\n",
      "[186, 302, 'agegroup__1', 'gender__F', 'occupation__executive', 'genre__crime', 'genre__film_noir', 'genre__mystery', 'genre__thriller', 'rating']\n",
      "\n",
      "interaction: 2\n",
      "[22, 377, 'agegroup__0', 'gender__M', 'occupation__writer', 'genre__childrens', 'genre__comedy', 'rating']\n",
      "\n",
      "interaction: 3\n",
      "[244, 51, 'agegroup__0', 'gender__M', 'occupation__technician', 'genre__drama', 'genre__romance', 'genre__war', 'genre__western', 'rating']\n",
      "\n",
      "interaction: 4\n",
      "[166, 346, 'agegroup__2', 'gender__M', 'occupation__educator', 'genre__crime', 'genre__drama', 'rating']\n"
     ]
    }
   ],
   "source": [
    "cols = mm_sample.columns\n",
    "nonzero = mm_sample.apply(lambda x: x > 0)\n",
    "nonzero = nonzero.apply(lambda x: list(cols[x.values]), axis=1)\n",
    "\n",
    "for i, interaction in enumerate(nonzero):\n",
    "    print(\"\\ninteraction: {}\".format(i))\n",
    "    print(interaction)"
   ]
  },
  {
   "cell_type": "code",
   "execution_count": 460,
   "metadata": {},
   "outputs": [
    {
     "data": {
      "text/html": [
       "<div>\n",
       "<style scoped>\n",
       "    .dataframe tbody tr th:only-of-type {\n",
       "        vertical-align: middle;\n",
       "    }\n",
       "\n",
       "    .dataframe tbody tr th {\n",
       "        vertical-align: top;\n",
       "    }\n",
       "\n",
       "    .dataframe thead th {\n",
       "        text-align: right;\n",
       "    }\n",
       "</style>\n",
       "<table border=\"1\" class=\"dataframe\">\n",
       "  <thead>\n",
       "    <tr style=\"text-align: right;\">\n",
       "      <th></th>\n",
       "      <th>user_id</th>\n",
       "      <th>agegroup__0</th>\n",
       "      <th>agegroup__1</th>\n",
       "      <th>agegroup__2</th>\n",
       "      <th>gender__F</th>\n",
       "      <th>gender__M</th>\n",
       "      <th>occupation__administrator</th>\n",
       "      <th>occupation__artist</th>\n",
       "      <th>occupation__doctor</th>\n",
       "      <th>occupation__educator</th>\n",
       "      <th>...</th>\n",
       "      <th>occupation__marketing</th>\n",
       "      <th>occupation__none</th>\n",
       "      <th>occupation__other</th>\n",
       "      <th>occupation__programmer</th>\n",
       "      <th>occupation__retired</th>\n",
       "      <th>occupation__salesman</th>\n",
       "      <th>occupation__scientist</th>\n",
       "      <th>occupation__student</th>\n",
       "      <th>occupation__technician</th>\n",
       "      <th>occupation__writer</th>\n",
       "    </tr>\n",
       "  </thead>\n",
       "  <tbody>\n",
       "    <tr>\n",
       "      <th>21</th>\n",
       "      <td>22</td>\n",
       "      <td>1</td>\n",
       "      <td>0</td>\n",
       "      <td>0</td>\n",
       "      <td>0</td>\n",
       "      <td>1</td>\n",
       "      <td>0</td>\n",
       "      <td>0</td>\n",
       "      <td>0</td>\n",
       "      <td>0</td>\n",
       "      <td>...</td>\n",
       "      <td>0</td>\n",
       "      <td>0</td>\n",
       "      <td>0</td>\n",
       "      <td>0</td>\n",
       "      <td>0</td>\n",
       "      <td>0</td>\n",
       "      <td>0</td>\n",
       "      <td>0</td>\n",
       "      <td>0</td>\n",
       "      <td>1</td>\n",
       "    </tr>\n",
       "  </tbody>\n",
       "</table>\n",
       "<p>1 rows × 27 columns</p>\n",
       "</div>"
      ],
      "text/plain": [
       "    user_id  agegroup__0  agegroup__1  agegroup__2  gender__F  gender__M  \\\n",
       "21       22            1            0            0          0          1   \n",
       "\n",
       "    occupation__administrator  occupation__artist  occupation__doctor  \\\n",
       "21                          0                   0                   0   \n",
       "\n",
       "    occupation__educator  ...  occupation__marketing  occupation__none  \\\n",
       "21                     0  ...                      0                 0   \n",
       "\n",
       "    occupation__other  occupation__programmer  occupation__retired  \\\n",
       "21                  0                       0                    0   \n",
       "\n",
       "    occupation__salesman  occupation__scientist  occupation__student  \\\n",
       "21                     0                      0                    0   \n",
       "\n",
       "    occupation__technician  occupation__writer  \n",
       "21                       0                   1  \n",
       "\n",
       "[1 rows x 27 columns]"
      ]
     },
     "execution_count": 460,
     "metadata": {},
     "output_type": "execute_result"
    }
   ],
   "source": [
    "users[users.user_id == 22]"
   ]
  },
  {
   "cell_type": "code",
   "execution_count": 461,
   "metadata": {},
   "outputs": [
    {
     "data": {
      "text/html": [
       "<div>\n",
       "<style scoped>\n",
       "    .dataframe tbody tr th:only-of-type {\n",
       "        vertical-align: middle;\n",
       "    }\n",
       "\n",
       "    .dataframe tbody tr th {\n",
       "        vertical-align: top;\n",
       "    }\n",
       "\n",
       "    .dataframe thead th {\n",
       "        text-align: right;\n",
       "    }\n",
       "</style>\n",
       "<table border=\"1\" class=\"dataframe\">\n",
       "  <thead>\n",
       "    <tr style=\"text-align: right;\">\n",
       "      <th></th>\n",
       "      <th>item_id</th>\n",
       "      <th>genre__action</th>\n",
       "      <th>genre__adventure</th>\n",
       "      <th>genre__animation</th>\n",
       "      <th>genre__childrens</th>\n",
       "      <th>genre__comedy</th>\n",
       "      <th>genre__crime</th>\n",
       "      <th>genre__documentary</th>\n",
       "      <th>genre__drama</th>\n",
       "      <th>genre__fantasy</th>\n",
       "      <th>genre__film_noir</th>\n",
       "      <th>genre__horror</th>\n",
       "      <th>genre__musical</th>\n",
       "      <th>genre__mystery</th>\n",
       "      <th>genre__romance</th>\n",
       "      <th>genre__scifi</th>\n",
       "      <th>genre__thriller</th>\n",
       "      <th>genre__war</th>\n",
       "      <th>genre__western</th>\n",
       "    </tr>\n",
       "  </thead>\n",
       "  <tbody>\n",
       "    <tr>\n",
       "      <th>376</th>\n",
       "      <td>377</td>\n",
       "      <td>0</td>\n",
       "      <td>0</td>\n",
       "      <td>0</td>\n",
       "      <td>1</td>\n",
       "      <td>1</td>\n",
       "      <td>0</td>\n",
       "      <td>0</td>\n",
       "      <td>0</td>\n",
       "      <td>0</td>\n",
       "      <td>0</td>\n",
       "      <td>0</td>\n",
       "      <td>0</td>\n",
       "      <td>0</td>\n",
       "      <td>0</td>\n",
       "      <td>0</td>\n",
       "      <td>0</td>\n",
       "      <td>0</td>\n",
       "      <td>0</td>\n",
       "    </tr>\n",
       "  </tbody>\n",
       "</table>\n",
       "</div>"
      ],
      "text/plain": [
       "     item_id  genre__action  genre__adventure  genre__animation  \\\n",
       "376      377              0                 0                 0   \n",
       "\n",
       "     genre__childrens  genre__comedy  genre__crime  genre__documentary  \\\n",
       "376                 1              1             0                   0   \n",
       "\n",
       "     genre__drama  genre__fantasy  genre__film_noir  genre__horror  \\\n",
       "376             0               0                 0              0   \n",
       "\n",
       "     genre__musical  genre__mystery  genre__romance  genre__scifi  \\\n",
       "376               0               0               0             0   \n",
       "\n",
       "     genre__thriller  genre__war  genre__western  \n",
       "376                0           0               0  "
      ]
     },
     "execution_count": 461,
     "metadata": {},
     "output_type": "execute_result"
    }
   ],
   "source": [
    "items[items.item_id == 377]"
   ]
  },
  {
   "cell_type": "code",
   "execution_count": null,
   "metadata": {},
   "outputs": [],
   "source": []
  }
 ],
 "metadata": {
  "kernelspec": {
   "display_name": "Python 3",
   "language": "python",
   "name": "python3"
  },
  "language_info": {
   "codemirror_mode": {
    "name": "ipython",
    "version": 3
   },
   "file_extension": ".py",
   "mimetype": "text/x-python",
   "name": "python",
   "nbconvert_exporter": "python",
   "pygments_lexer": "ipython3",
   "version": "3.7.1"
  }
 },
 "nbformat": 4,
 "nbformat_minor": 2
}
