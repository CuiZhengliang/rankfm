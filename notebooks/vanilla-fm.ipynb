{
 "cells": [
  {
   "cell_type": "markdown",
   "metadata": {},
   "source": [
    "### Import Required Packages and Set Options"
   ]
  },
  {
   "cell_type": "code",
   "execution_count": 1,
   "metadata": {},
   "outputs": [],
   "source": [
    "import os\n",
    "import sys\n",
    "\n",
    "import numpy as np\n",
    "import pandas as pd\n",
    "\n",
    "import matplotlib.pyplot as plt\n",
    "import seaborn as sns\n",
    "\n",
    "from datetime import datetime\n",
    "from itertools import combinations\n",
    "from functools import partial\n",
    "\n",
    "import jax.numpy as jnp\n",
    "from jax import grad, jit, vmap\n",
    "\n",
    "from pandas.api.types import CategoricalDtype\n",
    "from scipy.sparse import csr_matrix\n",
    "\n",
    "from sklearn.base import BaseEstimator, TransformerMixin"
   ]
  },
  {
   "cell_type": "code",
   "execution_count": 2,
   "metadata": {},
   "outputs": [],
   "source": [
    "REPO_ROOT = \"/Users/ericlundquist/Repos/rankfm\"\n",
    "DATA_ROOT = os.path.join(REPO_ROOT, \"data/ml-100k\")"
   ]
  },
  {
   "cell_type": "markdown",
   "metadata": {},
   "source": [
    "### Load Example Data"
   ]
  },
  {
   "cell_type": "code",
   "execution_count": 3,
   "metadata": {},
   "outputs": [
    {
     "name": "stdout",
     "output_type": "stream",
     "text": [
      "users: (943, 5) items: (1682, 21) ratings: (100000, 4)\n"
     ]
    }
   ],
   "source": [
    "users_df = pd.read_csv(os.path.join(DATA_ROOT, \"users.csv\"))\n",
    "items_df = pd.read_csv(os.path.join(DATA_ROOT, \"items.csv\"))\n",
    "ratings_df = pd.read_csv(os.path.join(DATA_ROOT, \"ratings.csv\"))\n",
    "\n",
    "print(\"users: {} items: {} ratings: {}\".format(users_df.shape, items_df.shape, ratings_df.shape))"
   ]
  },
  {
   "cell_type": "markdown",
   "metadata": {},
   "source": [
    "#### Prepare Users Data"
   ]
  },
  {
   "cell_type": "code",
   "execution_count": 4,
   "metadata": {},
   "outputs": [
    {
     "data": {
      "text/plain": [
       "user_id                      472.000000\n",
       "agegroup__0                    0.433722\n",
       "agegroup__1                    0.348887\n",
       "agegroup__2                    0.217391\n",
       "gender__F                      0.289502\n",
       "gender__M                      0.710498\n",
       "occupation__administrator      0.083775\n",
       "occupation__artist             0.029692\n",
       "occupation__doctor             0.007423\n",
       "occupation__educator           0.100742\n",
       "occupation__engineer           0.071050\n",
       "occupation__entertainment      0.019088\n",
       "occupation__executive          0.033934\n",
       "occupation__healthcare         0.016967\n",
       "occupation__homemaker          0.007423\n",
       "occupation__lawyer             0.012725\n",
       "occupation__librarian          0.054083\n",
       "occupation__marketing          0.027572\n",
       "occupation__none               0.009544\n",
       "occupation__other              0.111347\n",
       "occupation__programmer         0.069989\n",
       "occupation__retired            0.014846\n",
       "occupation__salesman           0.012725\n",
       "occupation__scientist          0.032874\n",
       "occupation__student            0.207847\n",
       "occupation__technician         0.028632\n",
       "occupation__writer             0.047720\n",
       "dtype: float64"
      ]
     },
     "execution_count": 4,
     "metadata": {},
     "output_type": "execute_result"
    }
   ],
   "source": [
    "users_df['agegroup'] = pd.cut(users_df['age'], [0, 30, 45, 100], right=False, labels=False)\n",
    "users_df = users_df.drop(['age', 'zip_code'], axis=1)\n",
    "users_df = pd.get_dummies(users_df, prefix_sep='__', columns=['agegroup', 'gender', 'occupation'])\n",
    "users_df.mean()"
   ]
  },
  {
   "cell_type": "markdown",
   "metadata": {},
   "source": [
    "#### Prepare Items Data"
   ]
  },
  {
   "cell_type": "code",
   "execution_count": 5,
   "metadata": {},
   "outputs": [
    {
     "data": {
      "text/html": [
       "<div>\n",
       "<style scoped>\n",
       "    .dataframe tbody tr th:only-of-type {\n",
       "        vertical-align: middle;\n",
       "    }\n",
       "\n",
       "    .dataframe tbody tr th {\n",
       "        vertical-align: top;\n",
       "    }\n",
       "\n",
       "    .dataframe thead th {\n",
       "        text-align: right;\n",
       "    }\n",
       "</style>\n",
       "<table border=\"1\" class=\"dataframe\">\n",
       "  <thead>\n",
       "    <tr style=\"text-align: right;\">\n",
       "      <th></th>\n",
       "      <th>item_id</th>\n",
       "      <th>item_name</th>\n",
       "    </tr>\n",
       "  </thead>\n",
       "  <tbody>\n",
       "    <tr>\n",
       "      <th>0</th>\n",
       "      <td>1</td>\n",
       "      <td>Toy Story (1995)</td>\n",
       "    </tr>\n",
       "    <tr>\n",
       "      <th>1</th>\n",
       "      <td>2</td>\n",
       "      <td>GoldenEye (1995)</td>\n",
       "    </tr>\n",
       "    <tr>\n",
       "      <th>2</th>\n",
       "      <td>3</td>\n",
       "      <td>Four Rooms (1995)</td>\n",
       "    </tr>\n",
       "    <tr>\n",
       "      <th>3</th>\n",
       "      <td>4</td>\n",
       "      <td>Get Shorty (1995)</td>\n",
       "    </tr>\n",
       "    <tr>\n",
       "      <th>4</th>\n",
       "      <td>5</td>\n",
       "      <td>Copycat (1995)</td>\n",
       "    </tr>\n",
       "  </tbody>\n",
       "</table>\n",
       "</div>"
      ],
      "text/plain": [
       "   item_id          item_name\n",
       "0        1   Toy Story (1995)\n",
       "1        2   GoldenEye (1995)\n",
       "2        3  Four Rooms (1995)\n",
       "3        4  Get Shorty (1995)\n",
       "4        5     Copycat (1995)"
      ]
     },
     "execution_count": 5,
     "metadata": {},
     "output_type": "execute_result"
    }
   ],
   "source": [
    "item_names = items_df[['item_id', 'item_name']]\n",
    "item_names.head()"
   ]
  },
  {
   "cell_type": "code",
   "execution_count": 6,
   "metadata": {},
   "outputs": [
    {
     "data": {
      "text/plain": [
       "item_id               841.500000\n",
       "genre__action           0.149227\n",
       "genre__adventure        0.080262\n",
       "genre__animation        0.024970\n",
       "genre__childrens        0.072533\n",
       "genre__comedy           0.300238\n",
       "genre__crime            0.064804\n",
       "genre__documentary      0.029727\n",
       "genre__drama            0.431034\n",
       "genre__fantasy          0.013080\n",
       "genre__film_noir        0.014269\n",
       "genre__horror           0.054697\n",
       "genre__musical          0.033294\n",
       "genre__mystery          0.036266\n",
       "genre__romance          0.146849\n",
       "genre__scifi            0.060048\n",
       "genre__thriller         0.149227\n",
       "genre__war              0.042212\n",
       "genre__western          0.016052\n",
       "dtype: float64"
      ]
     },
     "execution_count": 6,
     "metadata": {},
     "output_type": "execute_result"
    }
   ],
   "source": [
    "items_df = items_df.drop(['item_name', 'release_date'], axis=1)\n",
    "items_df.columns = ['item_id'] + [\"genre__{}\".format(col) for col in items_df.columns[1:]]\n",
    "items_df.mean()"
   ]
  },
  {
   "cell_type": "markdown",
   "metadata": {},
   "source": [
    "#### Prepare Ratings Data"
   ]
  },
  {
   "cell_type": "code",
   "execution_count": 7,
   "metadata": {},
   "outputs": [
    {
     "data": {
      "text/plain": [
       "user_id    462.48475\n",
       "item_id    425.53013\n",
       "rating       3.52986\n",
       "dtype: float64"
      ]
     },
     "execution_count": 7,
     "metadata": {},
     "output_type": "execute_result"
    }
   ],
   "source": [
    "ratings_df['timestamp'] = pd.to_datetime(ratings_df['unix_timestamp'], origin='unix', unit='s')\n",
    "ratings_df = ratings_df.drop('unix_timestamp', axis=1)\n",
    "ratings_df.mean()"
   ]
  },
  {
   "cell_type": "markdown",
   "metadata": {},
   "source": [
    "### Build the Sparse Model Matrix"
   ]
  },
  {
   "cell_type": "code",
   "execution_count": 640,
   "metadata": {},
   "outputs": [],
   "source": [
    "class RankFM():\n",
    "    \"\"\"Factorization Machines for Ranking Problems with Implicit Feedback Data\"\"\"\n",
    "    \n",
    "    def __init__(self, factors=10, regularization=0.1, learning_rate=0.1, sigma=0.1):\n",
    "        \"\"\"store input hyperparameters and initialize internal data elements\"\"\"\n",
    "        \n",
    "        # hyperparameters\n",
    "        self.factors = factors\n",
    "        self.regularization = regularization\n",
    "        self.learning_rate = learning_rate\n",
    "        self.sigma = sigma\n",
    "        \n",
    "        # key column names\n",
    "        self.user_id_ = None\n",
    "        self.item_id_ = None\n",
    "        self.rating_ = None\n",
    "        \n",
    "        # unique feature names\n",
    "        self.users_ = None\n",
    "        self.items_ = None\n",
    "        self.user_features_ = None\n",
    "        self.item_featuers_ = None\n",
    "        \n",
    "        # required internal data structures\n",
    "        self.column_index_ = None\n",
    "        self.model_matrix_ = None\n",
    "        self.rating_vector_ = None\n",
    "        \n",
    "        # model weights\n",
    "        self.w_constant_ = None\n",
    "        self.w_features_ = None\n",
    "        self.w_factors_ = None\n",
    "        \n",
    "        \n",
    "    def initialize_weights(self):\n",
    "        \"\"\"initialize model weights after the model matrix has been prepared\"\"\"\n",
    "        \n",
    "        w_user = np.zeros(len(self.users_))\n",
    "        w_item = np.zeros(len(self.items_))\n",
    "        w_user_feature = np.zeros(len(self.user_features_))\n",
    "        w_item_feature = np.zeros(len(self.item_features_))\n",
    "\n",
    "        self.w_constant_ = self.rating_vector_.mean()\n",
    "        self.w_features_ = np.concatenate([w_user, w_item, w_user_feature, w_item_feature])\n",
    "        self.w_factors_  = np.random.normal(loc=0, scale=self.sigma, size=(len(self.w_features_), self.factors))\n",
    "        \n",
    "        \n",
    "    def prepare_data(self, interactions, user_features, item_features):\n",
    "        \"\"\"build the column index, model matrix, and rating vector from components\n",
    "\n",
    "        :param interactions: dataframe of [user_id, item_id, rating] records \n",
    "        :param user_features: dataframe of [user_id, user_feature_1, ... , user_feature_n] records\n",
    "        :param item_features: dataframe of [item_id, item_feature_1, ... , item_feature_n] records\n",
    "        :return: self\n",
    "        \"\"\"\n",
    "\n",
    "        # identify the [user_id, item_id, rating] column names\n",
    "        self.user_id_, self.item_id_, self.rating_ = interactions.columns\n",
    "\n",
    "        # store the interactions data and assign a row index to use for the model matrix\n",
    "        interactions_ = interactions.assign(row_index=np.arange(len(interactions)))\n",
    "        self.rating_vector_ = interactions_[self.rating_].values\n",
    "\n",
    "        # store unique feature names by namespace \n",
    "        self.users_ = np.sort(interactions_[self.user_id_].unique())\n",
    "        self.items_ = np.sort(interactions_[self.item_id_].unique())\n",
    "        self.user_features_ = np.sort(user_features.columns[1:])\n",
    "        self.item_features_ = np.sort(item_features.columns[1:])\n",
    "\n",
    "        # create namespace-specific column name lists\n",
    "        user_cols = pd.DataFrame({'namespace': 'users', 'col_name': self.users_})\n",
    "        item_cols = pd.DataFrame({'namespace': 'items', 'col_name': self.items_})\n",
    "        user_features_cols = pd.DataFrame({'namespace': 'user_features', 'col_name': self.user_features_})\n",
    "        item_features_cols = pd.DataFrame({'namespace': 'item_features', 'col_name': self.item_features_})\n",
    "\n",
    "        # combine the column names from all namespaces and map to model matrix column indexes\n",
    "        self.column_index_ = pd.concat([user_cols, item_cols, user_features_cols, item_features_cols], axis=0, ignore_index=True)\n",
    "        self.column_index_['col_index'] = np.arange(len(self.column_index_))\n",
    "\n",
    "        # separate the column names / indexes by namespace\n",
    "        user_columns = self.column_index_[self.column_index_['namespace'] == 'users']\n",
    "        item_columns = self.column_index_[self.column_index_['namespace'] == 'items']\n",
    "        user_feature_columns = self.column_index_[self.column_index_['namespace'] == 'user_features']\n",
    "        item_feature_columns = self.column_index_[self.column_index_['namespace'] == 'item_features']\n",
    "\n",
    "        # reshape (user_features, item_features) long and drop zero-valued features to save space  \n",
    "        user_features_long = pd.melt(user_features, id_vars=self.user_id_, var_name='feature_name', value_name='value').query('value > 0')\n",
    "        item_features_long = pd.melt(item_features, id_vars=self.item_id_, var_name='feature_name', value_name='value').query('value > 0')\n",
    "\n",
    "        # join the (user_features, item_features) with the interactions matrix to get dataframes at the [user_id, item_id, feature_id] level\n",
    "        user_features_long = pd.merge(interactions_, user_features_long, on=self.user_id_, how='inner')\n",
    "        item_features_long = pd.merge(interactions_, item_features_long, on=self.item_id_, how='inner')\n",
    "\n",
    "        # create the component (row, col, val) tuples necessary to build the final sparse model matrix\n",
    "        user_tuples = pd.merge(interactions_, user_columns, left_on=self.user_id_, right_on='col_name', how='inner')[['row_index', 'col_index']].assign(value=1)\n",
    "        item_tuples = pd.merge(interactions_, item_columns, left_on=self.item_id_, right_on='col_name', how='inner')[['row_index', 'col_index']].assign(value=1)\n",
    "        user_features_tuples = pd.merge(user_features_long, user_feature_columns, left_on='feature_name', right_on='col_name', how='inner')[['row_index', 'col_index', 'value']]\n",
    "        item_features_tuples = pd.merge(item_features_long, item_feature_columns, left_on='feature_name', right_on='col_name', how='inner')[['row_index', 'col_index', 'value']]\n",
    "        all_tuples = pd.concat([user_tuples, item_tuples, user_features_tuples, item_features_tuples], axis=0, ignore_index=True)\n",
    "\n",
    "        # create the final sparse model matrix\n",
    "        mm_input = (all_tuples['value'], (all_tuples['row_index'], all_tuples['col_index']))\n",
    "        mm_shape = (len(interactions_), len(self.column_index_))\n",
    "        self.model_matrix_ = csr_matrix(mm_input, shape=mm_shape)\n",
    "\n",
    "        # calculate model matrix metadata\n",
    "        interaction_sparsity = round(1 - (self.model_matrix_.shape[0] / (len(self.users_) * len(self.items_))), 4)\n",
    "        nonzero_entries = self.model_matrix_.count_nonzero()\n",
    "        storage_size = round(self.model_matrix_.data.nbytes / 1e6, 2)\n",
    "        print(interaction_sparsity, nonzero_entries, storage_size)\n",
    "\n",
    "        # initialize model weights and return object reference\n",
    "        self.initialize_weights()\n",
    "        return self\n",
    "    \n",
    "    \n",
    "    def predict(self, X):\n",
    "        \"\"\"generate predicted ratings given input data rows and current model weights\"\"\"\n",
    "\n",
    "        # create a generator object enumerating the index positions of all second-order interactions\n",
    "        nonzero_col = X.sum(axis=0).nonzero()[1]\n",
    "        nonzero_col_pairs = combinations(nonzero_col, 2)\n",
    "        \n",
    "        # create a square matrix with all factor dot products\n",
    "        factor_products = np.dot(self.w_factors_, self.w_factors_.T)\n",
    "\n",
    "        # calculate the predicted rating as the sum of three terms\n",
    "        term_1 = self.w_constant_\n",
    "        term_2 = np.dot(X, self.w_features_).T\n",
    "        term_3 = np.hstack([factor_products[i,j] * np.multiply(X[:,i], X[:,j]) for i, j in nonzero_col_pairs]).sum(axis=1)\n",
    "\n",
    "        # final prediction is the sum of all three terms\n",
    "        predictions = term_1 + term_2 + term_3\n",
    "        return predictions\n",
    "    \n",
    "    \n",
    "    def loss_value(self, w_constant, w_features, w_factors, X, y):\n",
    "        \"\"\"calculate regularized squared error loss\"\"\"\n",
    "    \n",
    "        # compute MSE loss and regularization penalty\n",
    "        predictions = self.predict(X)\n",
    "        mse = jnp.sum(jnp.square(y - predictions))\n",
    "        penalty = sum([jnp.sum(self.regularization * jnp.square(w)) for w in [w_constant, w_features, w_factors]])\n",
    "\n",
    "        # return combined loss\n",
    "        loss = mse + penalty\n",
    "        return loss\n",
    "\n",
    "    \n",
    "    # auto-diff the loss function wrt all weights\n",
    "    loss_gradient = grad(loss_value, argnums=[1, 2, 3])\n",
    "    \n",
    "    \n",
    "    def create_batches(self, X, y, batch_size):\n",
    "        \"\"\"generator function to batch inputs for training\"\"\"\n",
    "    \n",
    "        # create the beg/end row indices for each batch\n",
    "        beg_index = range(0, len(y), batch_size)\n",
    "        end_index = range(batch_size, len(y) + batch_size, batch_size)\n",
    "\n",
    "        # yield (X, y) tuples for each batch\n",
    "        for beg, end in zip(beg_index, end_index):\n",
    "            batch = X[beg:end].todense(), y[beg:end]\n",
    "            yield batch\n",
    "            \n",
    "    \n",
    "    def fit(self, X, y, batch_size=10):\n",
    "        \"\"\"update model weights by mini-batch\"\"\"\n",
    "        \n",
    "        # create a lazy iterator of (X, y) batches for training\n",
    "        batches = self.create_batches(X, y, batch_size)\n",
    "        \n",
    "        # train model weights one batch at a time\n",
    "        for i, (batch_x, batch_y) in enumerate(batches):\n",
    "            # print(\"current batch: {}\".format(i))\n",
    "            gradients = self.loss_gradient(self.w_constant_, self.w_features_, self.w_factors_, batch_x, batch_y)\n",
    "            self.w_constant_ -= self.learning_rate * gradients[0]\n",
    "            self.w_features_ -= self.learning_rate * gradients[1]\n",
    "            self.w_factors_  -= self.learning_rate * gradients[2]\n",
    "            \n",
    "        # return object reference with updated model weights\n",
    "        return self\n",
    "        "
   ]
  },
  {
   "cell_type": "markdown",
   "metadata": {},
   "source": [
    "#### Initialize the Model Object"
   ]
  },
  {
   "cell_type": "code",
   "execution_count": 647,
   "metadata": {},
   "outputs": [
    {
     "data": {
      "text/plain": [
       "<__main__.RankFM at 0x1c285926d8>"
      ]
     },
     "execution_count": 647,
     "metadata": {},
     "output_type": "execute_result"
    }
   ],
   "source": [
    "rankfm = RankFM(factors=10, regularization=0.01, learning_rate=0.01, sigma=0.1)\n",
    "rankfm"
   ]
  },
  {
   "cell_type": "markdown",
   "metadata": {},
   "source": [
    "#### Build the Model Matrix and Initialize the Weights"
   ]
  },
  {
   "cell_type": "code",
   "execution_count": 648,
   "metadata": {},
   "outputs": [
    {
     "name": "stdout",
     "output_type": "stream",
     "text": [
      "0.937 712585 5.7\n"
     ]
    },
    {
     "data": {
      "text/plain": [
       "<__main__.RankFM at 0x1c285926d8>"
      ]
     },
     "execution_count": 648,
     "metadata": {},
     "output_type": "execute_result"
    }
   ],
   "source": [
    "interactions_df = ratings_df[['user_id', 'item_id', 'rating']]\n",
    "rankfm.prepare_data(interactions_df, users_df, items_df)"
   ]
  },
  {
   "cell_type": "markdown",
   "metadata": {},
   "source": [
    "#### Split Training/Validation Matrices"
   ]
  },
  {
   "cell_type": "code",
   "execution_count": 649,
   "metadata": {},
   "outputs": [],
   "source": [
    "n_train = 10000\n",
    "n_valid = 1000"
   ]
  },
  {
   "cell_type": "code",
   "execution_count": 650,
   "metadata": {},
   "outputs": [
    {
     "data": {
      "text/plain": [
       "((10000, 2669), (10000,))"
      ]
     },
     "execution_count": 650,
     "metadata": {},
     "output_type": "execute_result"
    }
   ],
   "source": [
    "X_train = rankfm.model_matrix_[0:n_train]\n",
    "y_train = rankfm.rating_vector_[0:n_train]\n",
    "X_train.shape, y_train.shape"
   ]
  },
  {
   "cell_type": "code",
   "execution_count": 651,
   "metadata": {},
   "outputs": [
    {
     "data": {
      "text/plain": [
       "((1000, 2669), (1000,))"
      ]
     },
     "execution_count": 651,
     "metadata": {},
     "output_type": "execute_result"
    }
   ],
   "source": [
    "X_valid = rankfm.model_matrix_[n_train:(n_train + n_valid)]\n",
    "y_valid = rankfm.rating_vector_[n_train:(n_train + n_valid)]\n",
    "X_valid.shape, y_valid.shape"
   ]
  },
  {
   "cell_type": "markdown",
   "metadata": {},
   "source": [
    "#### Perform Batch Updates"
   ]
  },
  {
   "cell_type": "code",
   "execution_count": 652,
   "metadata": {},
   "outputs": [
    {
     "name": "stdout",
     "output_type": "stream",
     "text": [
      "validation loss: 1360497.875\n"
     ]
    },
    {
     "data": {
      "text/plain": [
       "2125.0487153410636"
      ]
     },
     "execution_count": 652,
     "metadata": {},
     "output_type": "execute_result"
    }
   ],
   "source": [
    "loss = rankfm.loss_value(rankfm.w_constant_, rankfm.w_features_, rankfm.w_factors_, X_valid.todense(), y_valid)\n",
    "print(\"validation loss: {}\".format(loss))\n",
    "np.sum(np.abs(rankfm.w_factors_))"
   ]
  },
  {
   "cell_type": "code",
   "execution_count": 653,
   "metadata": {},
   "outputs": [
    {
     "data": {
      "text/plain": [
       "<__main__.RankFM at 0x1c285926d8>"
      ]
     },
     "execution_count": 653,
     "metadata": {},
     "output_type": "execute_result"
    }
   ],
   "source": [
    "rankfm.fit(X_train, y_train, batch_size=100)"
   ]
  },
  {
   "cell_type": "code",
   "execution_count": 654,
   "metadata": {},
   "outputs": [
    {
     "name": "stdout",
     "output_type": "stream",
     "text": [
      "validation loss: 1360831.625\n"
     ]
    },
    {
     "data": {
      "text/plain": [
       "2082.9656"
      ]
     },
     "execution_count": 654,
     "metadata": {},
     "output_type": "execute_result"
    }
   ],
   "source": [
    "loss = rankfm.loss_value(rankfm.w_constant_, rankfm.w_features_, rankfm.w_factors_, X_valid.todense(), y_valid)\n",
    "print(\"validation loss: {}\".format(loss))\n",
    "np.sum(np.abs(rankfm.w_factors_))"
   ]
  },
  {
   "cell_type": "markdown",
   "metadata": {},
   "source": [
    "### It's Alive!"
   ]
  },
  {
   "cell_type": "markdown",
   "metadata": {},
   "source": [
    "# START SANDBOX CODE"
   ]
  },
  {
   "cell_type": "code",
   "execution_count": 302,
   "metadata": {},
   "outputs": [
    {
     "data": {
      "text/plain": [
       "(2669, 10)"
      ]
     },
     "execution_count": 302,
     "metadata": {},
     "output_type": "execute_result"
    }
   ],
   "source": [
    "rankfm.w_factors_.shape"
   ]
  },
  {
   "cell_type": "code",
   "execution_count": 303,
   "metadata": {},
   "outputs": [
    {
     "data": {
      "text/plain": [
       "(2669, 2669)"
      ]
     },
     "execution_count": 303,
     "metadata": {},
     "output_type": "execute_result"
    }
   ],
   "source": [
    "factor_products = np.dot(rankfm.w_factors_, rankfm.w_factors_.T)\n",
    "factor_products.shape"
   ]
  },
  {
   "cell_type": "code",
   "execution_count": 304,
   "metadata": {},
   "outputs": [
    {
     "data": {
      "text/plain": [
       "-0.024916870506699763"
      ]
     },
     "execution_count": 304,
     "metadata": {},
     "output_type": "execute_result"
    }
   ],
   "source": [
    "np.dot(rankfm.w_factors_[2], rankfm.w_factors_[4])"
   ]
  },
  {
   "cell_type": "code",
   "execution_count": 273,
   "metadata": {},
   "outputs": [
    {
     "data": {
      "text/plain": [
       "6.5502465e-12"
      ]
     },
     "execution_count": 273,
     "metadata": {},
     "output_type": "execute_result"
    }
   ],
   "source": [
    "factor_products[2, 4]"
   ]
  },
  {
   "cell_type": "code",
   "execution_count": 188,
   "metadata": {},
   "outputs": [
    {
     "data": {
      "text/plain": [
       "23436"
      ]
     },
     "execution_count": 188,
     "metadata": {},
     "output_type": "execute_result"
    }
   ],
   "source": [
    "nonzero_col = X.sum(axis=0).nonzero()[1]\n",
    "nonzero_col_pairs = combinations(nonzero_col, 2)\n",
    "len(list(nonzero_col_pairs))"
   ]
  },
  {
   "cell_type": "code",
   "execution_count": 204,
   "metadata": {},
   "outputs": [],
   "source": [
    "nonzero_indexes = X.sum(axis=0).nonzero()[1]"
   ]
  },
  {
   "cell_type": "code",
   "execution_count": 205,
   "metadata": {},
   "outputs": [
    {
     "data": {
      "text/plain": [
       "array([   5,    6,    7,    9,   10,   12,   19,   21,   24,   27,   37,\n",
       "         41,   49,   56,   58,   59,   61,   62,   71,   80,   86,   91,\n",
       "         94,   96,   98,  101,  114,  118,  121,  126,  134,  137,  144,\n",
       "        156,  159,  161,  165,  166,  177,  180,  185,  188,  193,  195,\n",
       "        199,  200,  209,  221,  222,  223,  224,  233,  240,  241,  242,\n",
       "        243,  245,  248,  250,  252,  253,  259,  266,  275,  277,  278,\n",
       "        283,  285,  286,  289,  290,  291,  292,  297,  298,  300,  302,\n",
       "        304,  307,  943,  946,  947,  957,  958,  962,  965,  967,  968,\n",
       "        971,  974,  982,  993,  996, 1028, 1030, 1037, 1040, 1042, 1053,\n",
       "       1060, 1085, 1086, 1096, 1107, 1123, 1135, 1136, 1138, 1143, 1151,\n",
       "       1161, 1164, 1171, 1174, 1176, 1179, 1183, 1184, 1188, 1190, 1199,\n",
       "       1207, 1216, 1217, 1219, 1230, 1244, 1246, 1264, 1269, 1274, 1280,\n",
       "       1288, 1308, 1319, 1324, 1326, 1329, 1334, 1345, 1358, 1365, 1369,\n",
       "       1374, 1393, 1407, 1416, 1422, 1428, 1440, 1454, 1457, 1460, 1468,\n",
       "       1488, 1506, 1545, 1567, 1621, 1632, 1710, 1727, 1738, 1861, 1921,\n",
       "       1956, 1958, 1984, 1991, 2023, 2079, 2095, 2126, 2386, 2625, 2626,\n",
       "       2627, 2628, 2629, 2630, 2631, 2632, 2633, 2634, 2635, 2636, 2637,\n",
       "       2638, 2639, 2640, 2641, 2642, 2643, 2644, 2645, 2646, 2648, 2649,\n",
       "       2650, 2651, 2652, 2653, 2654, 2655, 2656, 2657, 2658, 2659, 2660,\n",
       "       2661, 2662, 2663, 2664, 2665, 2666, 2667, 2668])"
      ]
     },
     "execution_count": 205,
     "metadata": {},
     "output_type": "execute_result"
    }
   ],
   "source": [
    "nonzero_indexes"
   ]
  },
  {
   "cell_type": "code",
   "execution_count": 207,
   "metadata": {},
   "outputs": [],
   "source": [
    "nonzero_index_pairs = combinations(nonzero_indexes, 2)"
   ]
  },
  {
   "cell_type": "markdown",
   "metadata": {},
   "source": [
    "#### Do Some Diagnostic Checks"
   ]
  },
  {
   "cell_type": "code",
   "execution_count": 700,
   "metadata": {},
   "outputs": [
    {
     "data": {
      "text/html": [
       "<div>\n",
       "<style scoped>\n",
       "    .dataframe tbody tr th:only-of-type {\n",
       "        vertical-align: middle;\n",
       "    }\n",
       "\n",
       "    .dataframe tbody tr th {\n",
       "        vertical-align: top;\n",
       "    }\n",
       "\n",
       "    .dataframe thead th {\n",
       "        text-align: right;\n",
       "    }\n",
       "</style>\n",
       "<table border=\"1\" class=\"dataframe\">\n",
       "  <thead>\n",
       "    <tr style=\"text-align: right;\">\n",
       "      <th></th>\n",
       "      <th>namespace</th>\n",
       "      <th>col_name</th>\n",
       "      <th>col_index</th>\n",
       "    </tr>\n",
       "  </thead>\n",
       "  <tbody>\n",
       "    <tr>\n",
       "      <th>0</th>\n",
       "      <td>const</td>\n",
       "      <td>const</td>\n",
       "      <td>0</td>\n",
       "    </tr>\n",
       "    <tr>\n",
       "      <th>1</th>\n",
       "      <td>users</td>\n",
       "      <td>1</td>\n",
       "      <td>1</td>\n",
       "    </tr>\n",
       "    <tr>\n",
       "      <th>2</th>\n",
       "      <td>users</td>\n",
       "      <td>2</td>\n",
       "      <td>2</td>\n",
       "    </tr>\n",
       "    <tr>\n",
       "      <th>3</th>\n",
       "      <td>users</td>\n",
       "      <td>3</td>\n",
       "      <td>3</td>\n",
       "    </tr>\n",
       "    <tr>\n",
       "      <th>4</th>\n",
       "      <td>users</td>\n",
       "      <td>4</td>\n",
       "      <td>4</td>\n",
       "    </tr>\n",
       "  </tbody>\n",
       "</table>\n",
       "</div>"
      ],
      "text/plain": [
       "  namespace col_name  col_index\n",
       "0     const    const          0\n",
       "1     users        1          1\n",
       "2     users        2          2\n",
       "3     users        3          3\n",
       "4     users        4          4"
      ]
     },
     "execution_count": 700,
     "metadata": {},
     "output_type": "execute_result"
    }
   ],
   "source": [
    "column_index.head()"
   ]
  },
  {
   "cell_type": "code",
   "execution_count": 62,
   "metadata": {},
   "outputs": [
    {
     "data": {
      "text/plain": [
       "array([   0,    1,    2, ..., 2666, 2667, 2668])"
      ]
     },
     "execution_count": 62,
     "metadata": {},
     "output_type": "execute_result"
    }
   ],
   "source": [
    "column_index.col_index.values"
   ]
  },
  {
   "cell_type": "code",
   "execution_count": 701,
   "metadata": {},
   "outputs": [
    {
     "data": {
      "text/plain": [
       "items            1682\n",
       "users             943\n",
       "user_features      26\n",
       "item_features      18\n",
       "const               1\n",
       "Name: namespace, dtype: int64"
      ]
     },
     "execution_count": 701,
     "metadata": {},
     "output_type": "execute_result"
    }
   ],
   "source": [
    "column_index.namespace.value_counts()"
   ]
  },
  {
   "cell_type": "code",
   "execution_count": 702,
   "metadata": {},
   "outputs": [
    {
     "data": {
      "text/plain": [
       "(scipy.sparse.csr.csr_matrix, (100000, 2670))"
      ]
     },
     "execution_count": 702,
     "metadata": {},
     "output_type": "execute_result"
    }
   ],
   "source": [
    "type(model_matrix), model_matrix.shape"
   ]
  },
  {
   "cell_type": "code",
   "execution_count": 703,
   "metadata": {},
   "outputs": [
    {
     "data": {
      "text/plain": [
       "2670"
      ]
     },
     "execution_count": 703,
     "metadata": {},
     "output_type": "execute_result"
    }
   ],
   "source": [
    "1 + users.shape[0] + items.shape[0] + (users.shape[1] - 1) + (items.shape[1] - 1)"
   ]
  },
  {
   "cell_type": "code",
   "execution_count": 704,
   "metadata": {},
   "outputs": [
    {
     "data": {
      "text/html": [
       "<div>\n",
       "<style scoped>\n",
       "    .dataframe tbody tr th:only-of-type {\n",
       "        vertical-align: middle;\n",
       "    }\n",
       "\n",
       "    .dataframe tbody tr th {\n",
       "        vertical-align: top;\n",
       "    }\n",
       "\n",
       "    .dataframe thead th {\n",
       "        text-align: right;\n",
       "    }\n",
       "</style>\n",
       "<table border=\"1\" class=\"dataframe\">\n",
       "  <thead>\n",
       "    <tr style=\"text-align: right;\">\n",
       "      <th></th>\n",
       "      <th>user_id</th>\n",
       "      <th>item_id</th>\n",
       "      <th>rating</th>\n",
       "    </tr>\n",
       "  </thead>\n",
       "  <tbody>\n",
       "    <tr>\n",
       "      <th>0</th>\n",
       "      <td>196</td>\n",
       "      <td>242</td>\n",
       "      <td>3</td>\n",
       "    </tr>\n",
       "    <tr>\n",
       "      <th>1</th>\n",
       "      <td>186</td>\n",
       "      <td>302</td>\n",
       "      <td>3</td>\n",
       "    </tr>\n",
       "    <tr>\n",
       "      <th>2</th>\n",
       "      <td>22</td>\n",
       "      <td>377</td>\n",
       "      <td>1</td>\n",
       "    </tr>\n",
       "    <tr>\n",
       "      <th>3</th>\n",
       "      <td>244</td>\n",
       "      <td>51</td>\n",
       "      <td>2</td>\n",
       "    </tr>\n",
       "    <tr>\n",
       "      <th>4</th>\n",
       "      <td>166</td>\n",
       "      <td>346</td>\n",
       "      <td>1</td>\n",
       "    </tr>\n",
       "  </tbody>\n",
       "</table>\n",
       "</div>"
      ],
      "text/plain": [
       "   user_id  item_id  rating\n",
       "0      196      242       3\n",
       "1      186      302       3\n",
       "2       22      377       1\n",
       "3      244       51       2\n",
       "4      166      346       1"
      ]
     },
     "execution_count": 704,
     "metadata": {},
     "output_type": "execute_result"
    }
   ],
   "source": [
    "interactions.head()"
   ]
  },
  {
   "cell_type": "code",
   "execution_count": 706,
   "metadata": {},
   "outputs": [
    {
     "data": {
      "text/html": [
       "<div>\n",
       "<style scoped>\n",
       "    .dataframe tbody tr th:only-of-type {\n",
       "        vertical-align: middle;\n",
       "    }\n",
       "\n",
       "    .dataframe tbody tr th {\n",
       "        vertical-align: top;\n",
       "    }\n",
       "\n",
       "    .dataframe thead th {\n",
       "        text-align: right;\n",
       "    }\n",
       "</style>\n",
       "<table border=\"1\" class=\"dataframe\">\n",
       "  <thead>\n",
       "    <tr style=\"text-align: right;\">\n",
       "      <th></th>\n",
       "      <th>rating</th>\n",
       "    </tr>\n",
       "    <tr>\n",
       "      <th>row_index</th>\n",
       "      <th></th>\n",
       "    </tr>\n",
       "  </thead>\n",
       "  <tbody>\n",
       "    <tr>\n",
       "      <th>0</th>\n",
       "      <td>3</td>\n",
       "    </tr>\n",
       "    <tr>\n",
       "      <th>1</th>\n",
       "      <td>3</td>\n",
       "    </tr>\n",
       "    <tr>\n",
       "      <th>2</th>\n",
       "      <td>1</td>\n",
       "    </tr>\n",
       "    <tr>\n",
       "      <th>3</th>\n",
       "      <td>2</td>\n",
       "    </tr>\n",
       "    <tr>\n",
       "      <th>4</th>\n",
       "      <td>1</td>\n",
       "    </tr>\n",
       "  </tbody>\n",
       "</table>\n",
       "</div>"
      ],
      "text/plain": [
       "           rating\n",
       "row_index        \n",
       "0               3\n",
       "1               3\n",
       "2               1\n",
       "3               2\n",
       "4               1"
      ]
     },
     "execution_count": 706,
     "metadata": {},
     "output_type": "execute_result"
    }
   ],
   "source": [
    "rating_vector.head()"
   ]
  },
  {
   "cell_type": "code",
   "execution_count": 710,
   "metadata": {},
   "outputs": [
    {
     "data": {
      "text/html": [
       "<div>\n",
       "<style scoped>\n",
       "    .dataframe tbody tr th:only-of-type {\n",
       "        vertical-align: middle;\n",
       "    }\n",
       "\n",
       "    .dataframe tbody tr th {\n",
       "        vertical-align: top;\n",
       "    }\n",
       "\n",
       "    .dataframe thead th {\n",
       "        text-align: right;\n",
       "    }\n",
       "</style>\n",
       "<table border=\"1\" class=\"dataframe\">\n",
       "  <thead>\n",
       "    <tr style=\"text-align: right;\">\n",
       "      <th></th>\n",
       "      <th>col_name</th>\n",
       "      <th>3</th>\n",
       "    </tr>\n",
       "  </thead>\n",
       "  <tbody>\n",
       "    <tr>\n",
       "      <th>0</th>\n",
       "      <td>const</td>\n",
       "      <td>1</td>\n",
       "    </tr>\n",
       "    <tr>\n",
       "      <th>244</th>\n",
       "      <td>244</td>\n",
       "      <td>1</td>\n",
       "    </tr>\n",
       "    <tr>\n",
       "      <th>994</th>\n",
       "      <td>51</td>\n",
       "      <td>1</td>\n",
       "    </tr>\n",
       "    <tr>\n",
       "      <th>2626</th>\n",
       "      <td>agegroup__0</td>\n",
       "      <td>1</td>\n",
       "    </tr>\n",
       "    <tr>\n",
       "      <th>2630</th>\n",
       "      <td>gender__M</td>\n",
       "      <td>1</td>\n",
       "    </tr>\n",
       "    <tr>\n",
       "      <th>2650</th>\n",
       "      <td>occupation__technician</td>\n",
       "      <td>1</td>\n",
       "    </tr>\n",
       "    <tr>\n",
       "      <th>2659</th>\n",
       "      <td>genre__drama</td>\n",
       "      <td>1</td>\n",
       "    </tr>\n",
       "    <tr>\n",
       "      <th>2665</th>\n",
       "      <td>genre__romance</td>\n",
       "      <td>1</td>\n",
       "    </tr>\n",
       "    <tr>\n",
       "      <th>2668</th>\n",
       "      <td>genre__war</td>\n",
       "      <td>1</td>\n",
       "    </tr>\n",
       "    <tr>\n",
       "      <th>2669</th>\n",
       "      <td>genre__western</td>\n",
       "      <td>1</td>\n",
       "    </tr>\n",
       "  </tbody>\n",
       "</table>\n",
       "</div>"
      ],
      "text/plain": [
       "                    col_name  3\n",
       "0                      const  1\n",
       "244                      244  1\n",
       "994                       51  1\n",
       "2626             agegroup__0  1\n",
       "2630               gender__M  1\n",
       "2650  occupation__technician  1\n",
       "2659            genre__drama  1\n",
       "2665          genre__romance  1\n",
       "2668              genre__war  1\n",
       "2669          genre__western  1"
      ]
     },
     "execution_count": 710,
     "metadata": {},
     "output_type": "execute_result"
    }
   ],
   "source": [
    "row_number = 3\n",
    "nonzero_columns = mm_sample.iloc[row_number, :].T.reset_index()\n",
    "nonzero_columns[nonzero_columns[row_number] > 0]"
   ]
  },
  {
   "cell_type": "code",
   "execution_count": 711,
   "metadata": {},
   "outputs": [
    {
     "data": {
      "text/html": [
       "<div>\n",
       "<style scoped>\n",
       "    .dataframe tbody tr th:only-of-type {\n",
       "        vertical-align: middle;\n",
       "    }\n",
       "\n",
       "    .dataframe tbody tr th {\n",
       "        vertical-align: top;\n",
       "    }\n",
       "\n",
       "    .dataframe thead th {\n",
       "        text-align: right;\n",
       "    }\n",
       "</style>\n",
       "<table border=\"1\" class=\"dataframe\">\n",
       "  <thead>\n",
       "    <tr style=\"text-align: right;\">\n",
       "      <th></th>\n",
       "      <th>user_id</th>\n",
       "      <th>agegroup__0</th>\n",
       "      <th>agegroup__1</th>\n",
       "      <th>agegroup__2</th>\n",
       "      <th>gender__F</th>\n",
       "      <th>gender__M</th>\n",
       "      <th>occupation__administrator</th>\n",
       "      <th>occupation__artist</th>\n",
       "      <th>occupation__doctor</th>\n",
       "      <th>occupation__educator</th>\n",
       "      <th>...</th>\n",
       "      <th>occupation__marketing</th>\n",
       "      <th>occupation__none</th>\n",
       "      <th>occupation__other</th>\n",
       "      <th>occupation__programmer</th>\n",
       "      <th>occupation__retired</th>\n",
       "      <th>occupation__salesman</th>\n",
       "      <th>occupation__scientist</th>\n",
       "      <th>occupation__student</th>\n",
       "      <th>occupation__technician</th>\n",
       "      <th>occupation__writer</th>\n",
       "    </tr>\n",
       "  </thead>\n",
       "  <tbody>\n",
       "    <tr>\n",
       "      <th>243</th>\n",
       "      <td>244</td>\n",
       "      <td>1</td>\n",
       "      <td>0</td>\n",
       "      <td>0</td>\n",
       "      <td>0</td>\n",
       "      <td>1</td>\n",
       "      <td>0</td>\n",
       "      <td>0</td>\n",
       "      <td>0</td>\n",
       "      <td>0</td>\n",
       "      <td>...</td>\n",
       "      <td>0</td>\n",
       "      <td>0</td>\n",
       "      <td>0</td>\n",
       "      <td>0</td>\n",
       "      <td>0</td>\n",
       "      <td>0</td>\n",
       "      <td>0</td>\n",
       "      <td>0</td>\n",
       "      <td>1</td>\n",
       "      <td>0</td>\n",
       "    </tr>\n",
       "  </tbody>\n",
       "</table>\n",
       "<p>1 rows × 27 columns</p>\n",
       "</div>"
      ],
      "text/plain": [
       "     user_id  agegroup__0  agegroup__1  agegroup__2  gender__F  gender__M  \\\n",
       "243      244            1            0            0          0          1   \n",
       "\n",
       "     occupation__administrator  occupation__artist  occupation__doctor  \\\n",
       "243                          0                   0                   0   \n",
       "\n",
       "     occupation__educator  ...  occupation__marketing  occupation__none  \\\n",
       "243                     0  ...                      0                 0   \n",
       "\n",
       "     occupation__other  occupation__programmer  occupation__retired  \\\n",
       "243                  0                       0                    0   \n",
       "\n",
       "     occupation__salesman  occupation__scientist  occupation__student  \\\n",
       "243                     0                      0                    0   \n",
       "\n",
       "     occupation__technician  occupation__writer  \n",
       "243                       1                   0  \n",
       "\n",
       "[1 rows x 27 columns]"
      ]
     },
     "execution_count": 711,
     "metadata": {},
     "output_type": "execute_result"
    }
   ],
   "source": [
    "users[users.user_id == 244]"
   ]
  },
  {
   "cell_type": "code",
   "execution_count": 712,
   "metadata": {},
   "outputs": [
    {
     "data": {
      "text/html": [
       "<div>\n",
       "<style scoped>\n",
       "    .dataframe tbody tr th:only-of-type {\n",
       "        vertical-align: middle;\n",
       "    }\n",
       "\n",
       "    .dataframe tbody tr th {\n",
       "        vertical-align: top;\n",
       "    }\n",
       "\n",
       "    .dataframe thead th {\n",
       "        text-align: right;\n",
       "    }\n",
       "</style>\n",
       "<table border=\"1\" class=\"dataframe\">\n",
       "  <thead>\n",
       "    <tr style=\"text-align: right;\">\n",
       "      <th></th>\n",
       "      <th>item_id</th>\n",
       "      <th>genre__action</th>\n",
       "      <th>genre__adventure</th>\n",
       "      <th>genre__animation</th>\n",
       "      <th>genre__childrens</th>\n",
       "      <th>genre__comedy</th>\n",
       "      <th>genre__crime</th>\n",
       "      <th>genre__documentary</th>\n",
       "      <th>genre__drama</th>\n",
       "      <th>genre__fantasy</th>\n",
       "      <th>genre__film_noir</th>\n",
       "      <th>genre__horror</th>\n",
       "      <th>genre__musical</th>\n",
       "      <th>genre__mystery</th>\n",
       "      <th>genre__romance</th>\n",
       "      <th>genre__scifi</th>\n",
       "      <th>genre__thriller</th>\n",
       "      <th>genre__war</th>\n",
       "      <th>genre__western</th>\n",
       "    </tr>\n",
       "  </thead>\n",
       "  <tbody>\n",
       "    <tr>\n",
       "      <th>50</th>\n",
       "      <td>51</td>\n",
       "      <td>0</td>\n",
       "      <td>0</td>\n",
       "      <td>0</td>\n",
       "      <td>0</td>\n",
       "      <td>0</td>\n",
       "      <td>0</td>\n",
       "      <td>0</td>\n",
       "      <td>1</td>\n",
       "      <td>0</td>\n",
       "      <td>0</td>\n",
       "      <td>0</td>\n",
       "      <td>0</td>\n",
       "      <td>0</td>\n",
       "      <td>1</td>\n",
       "      <td>0</td>\n",
       "      <td>0</td>\n",
       "      <td>1</td>\n",
       "      <td>1</td>\n",
       "    </tr>\n",
       "  </tbody>\n",
       "</table>\n",
       "</div>"
      ],
      "text/plain": [
       "    item_id  genre__action  genre__adventure  genre__animation  \\\n",
       "50       51              0                 0                 0   \n",
       "\n",
       "    genre__childrens  genre__comedy  genre__crime  genre__documentary  \\\n",
       "50                 0              0             0                   0   \n",
       "\n",
       "    genre__drama  genre__fantasy  genre__film_noir  genre__horror  \\\n",
       "50             1               0                 0              0   \n",
       "\n",
       "    genre__musical  genre__mystery  genre__romance  genre__scifi  \\\n",
       "50               0               0               1             0   \n",
       "\n",
       "    genre__thriller  genre__war  genre__western  \n",
       "50                0           1               1  "
      ]
     },
     "execution_count": 712,
     "metadata": {},
     "output_type": "execute_result"
    }
   ],
   "source": [
    "items[items.item_id == 51]"
   ]
  },
  {
   "cell_type": "markdown",
   "metadata": {},
   "source": [
    "### More Sandbox"
   ]
  },
  {
   "cell_type": "code",
   "execution_count": 38,
   "metadata": {},
   "outputs": [
    {
     "data": {
      "text/plain": [
       "array([[1, 2, 3],\n",
       "       [4, 5, 6],\n",
       "       [7, 8, 9]])"
      ]
     },
     "execution_count": 38,
     "metadata": {},
     "output_type": "execute_result"
    }
   ],
   "source": [
    "X = np.array([[1,2,3],[4,5,6],[7,8,9]])\n",
    "X"
   ]
  },
  {
   "cell_type": "code",
   "execution_count": 48,
   "metadata": {},
   "outputs": [
    {
     "data": {
      "text/plain": [
       "(array([0, 1, 2]),)"
      ]
     },
     "execution_count": 48,
     "metadata": {},
     "output_type": "execute_result"
    }
   ],
   "source": [
    "X.sum(axis=0) # .nonzero() # .tolist() # .shape"
   ]
  },
  {
   "cell_type": "code",
   "execution_count": 150,
   "metadata": {},
   "outputs": [
    {
     "data": {
      "text/plain": [
       "(105, 2669)"
      ]
     },
     "execution_count": 150,
     "metadata": {},
     "output_type": "execute_result"
    }
   ],
   "source": [
    "X = rankfm.model_matrix_[:105]\n",
    "X.shape"
   ]
  },
  {
   "cell_type": "code",
   "execution_count": 151,
   "metadata": {},
   "outputs": [
    {
     "data": {
      "text/plain": [
       "(105,)"
      ]
     },
     "execution_count": 151,
     "metadata": {},
     "output_type": "execute_result"
    }
   ],
   "source": [
    "y = rankfm.rating_vector_[:105]\n",
    "y.shape"
   ]
  },
  {
   "cell_type": "code",
   "execution_count": 154,
   "metadata": {},
   "outputs": [],
   "source": [
    "def create_batches(X, y, batch_size=10):\n",
    "    \"\"\"generator function to batch inputs for training\"\"\"\n",
    "    \n",
    "    beg_index = range(0, len(y), batch_size)\n",
    "    end_index = range(batch_size, len(y) + batch_size, batch_size)\n",
    "    \n",
    "    for beg, end in zip(beg_index, end_index):\n",
    "        batch = X[beg:end].todense(), y[beg:end]\n",
    "        yield batch\n",
    "    \n",
    "    "
   ]
  },
  {
   "cell_type": "code",
   "execution_count": 155,
   "metadata": {},
   "outputs": [
    {
     "name": "stdout",
     "output_type": "stream",
     "text": [
      "(10, 2669) (10,)\n",
      "(10, 2669) (10,)\n",
      "(10, 2669) (10,)\n",
      "(10, 2669) (10,)\n",
      "(10, 2669) (10,)\n",
      "(10, 2669) (10,)\n",
      "(10, 2669) (10,)\n",
      "(10, 2669) (10,)\n",
      "(10, 2669) (10,)\n",
      "(10, 2669) (10,)\n",
      "(5, 2669) (5,)\n"
     ]
    }
   ],
   "source": [
    "for batch_x, batch_y in create_batches(X, y, batch_size=10):\n",
    "    print(batch_x.shape, batch_y.shape)\n",
    "    \n"
   ]
  },
  {
   "cell_type": "code",
   "execution_count": 149,
   "metadata": {},
   "outputs": [
    {
     "data": {
      "text/plain": [
       "(5, 2669)"
      ]
     },
     "execution_count": 149,
     "metadata": {},
     "output_type": "execute_result"
    }
   ],
   "source": [
    "X[100:110].todense().shape"
   ]
  },
  {
   "cell_type": "code",
   "execution_count": null,
   "metadata": {},
   "outputs": [],
   "source": []
  }
 ],
 "metadata": {
  "kernelspec": {
   "display_name": "Python 3",
   "language": "python",
   "name": "python3"
  },
  "language_info": {
   "codemirror_mode": {
    "name": "ipython",
    "version": 3
   },
   "file_extension": ".py",
   "mimetype": "text/x-python",
   "name": "python",
   "nbconvert_exporter": "python",
   "pygments_lexer": "ipython3",
   "version": "3.7.1"
  }
 },
 "nbformat": 4,
 "nbformat_minor": 2
}
