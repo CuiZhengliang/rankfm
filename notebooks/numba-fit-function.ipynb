{
 "cells": [
  {
   "cell_type": "markdown",
   "metadata": {},
   "source": [
    "### Import Required Packages and Set Options"
   ]
  },
  {
   "cell_type": "markdown",
   "metadata": {},
   "source": [
    "#### Import Base Libraries"
   ]
  },
  {
   "cell_type": "code",
   "execution_count": 1,
   "metadata": {},
   "outputs": [],
   "source": [
    "import os\n",
    "import sys\n",
    "import random\n",
    "\n",
    "import numpy as np\n",
    "import pandas as pd\n",
    "import numba as nb\n",
    "\n",
    "import matplotlib.pyplot as plt\n",
    "import seaborn as sns\n",
    "\n",
    "from datetime import datetime\n",
    "from functools import partial"
   ]
  },
  {
   "cell_type": "markdown",
   "metadata": {},
   "source": [
    "#### Put the Main Package Library on the PYTHONPATH"
   ]
  },
  {
   "cell_type": "code",
   "execution_count": 2,
   "metadata": {},
   "outputs": [
    {
     "data": {
      "text/plain": [
       "'/Users/ericlundquist/Repos/rankfm/rankfm'"
      ]
     },
     "execution_count": 2,
     "metadata": {},
     "output_type": "execute_result"
    }
   ],
   "source": [
    "curdir = sys.path[0]\n",
    "srcdir = os.path.join(os.path.split(curdir)[0], 'rankfm')\n",
    "sys.path[0] = srcdir\n",
    "srcdir"
   ]
  },
  {
   "cell_type": "markdown",
   "metadata": {},
   "source": [
    "#### Re-Load all Package Modules on Execution for Testing"
   ]
  },
  {
   "cell_type": "code",
   "execution_count": 3,
   "metadata": {},
   "outputs": [],
   "source": [
    "%load_ext autoreload\n",
    "%autoreload 2\n",
    "\n",
    "from rankfm import RankFM\n",
    "from evaluation import precision_at_k, recall_at_k"
   ]
  },
  {
   "cell_type": "markdown",
   "metadata": {},
   "source": [
    "#### Set File Path Constants"
   ]
  },
  {
   "cell_type": "code",
   "execution_count": 4,
   "metadata": {},
   "outputs": [
    {
     "name": "stdout",
     "output_type": "stream",
     "text": [
      "/Users/ericlundquist/Repos/rankfm\n",
      "/Users/ericlundquist/Repos/rankfm/data/ml-100k\n"
     ]
    }
   ],
   "source": [
    "REPO_ROOT = os.path.split(srcdir)[0]\n",
    "DATA_ROOT = os.path.join(REPO_ROOT, \"data/ml-100k\")\n",
    "print(\"\\n\".join([REPO_ROOT, DATA_ROOT]))"
   ]
  },
  {
   "cell_type": "markdown",
   "metadata": {},
   "source": [
    "### Prepare Example Data"
   ]
  },
  {
   "cell_type": "markdown",
   "metadata": {},
   "source": [
    "#### Load Users Data"
   ]
  },
  {
   "cell_type": "code",
   "execution_count": 5,
   "metadata": {},
   "outputs": [],
   "source": [
    "users_df = pd.read_csv(os.path.join(DATA_ROOT, \"users.csv\"))\n",
    "users_df['agegroup'] = pd.cut(users_df['age'], [0, 30, 45, 100], right=False, labels=False)\n",
    "users_df = users_df.drop(['age', 'zip_code'], axis=1)\n",
    "users_df = pd.get_dummies(users_df, prefix_sep='__', columns=['agegroup', 'gender', 'occupation'])"
   ]
  },
  {
   "cell_type": "markdown",
   "metadata": {},
   "source": [
    "#### Load Items Data"
   ]
  },
  {
   "cell_type": "code",
   "execution_count": 6,
   "metadata": {},
   "outputs": [
    {
     "data": {
      "text/html": [
       "<div>\n",
       "<style scoped>\n",
       "    .dataframe tbody tr th:only-of-type {\n",
       "        vertical-align: middle;\n",
       "    }\n",
       "\n",
       "    .dataframe tbody tr th {\n",
       "        vertical-align: top;\n",
       "    }\n",
       "\n",
       "    .dataframe thead th {\n",
       "        text-align: right;\n",
       "    }\n",
       "</style>\n",
       "<table border=\"1\" class=\"dataframe\">\n",
       "  <thead>\n",
       "    <tr style=\"text-align: right;\">\n",
       "      <th></th>\n",
       "      <th>item_id</th>\n",
       "      <th>item_name</th>\n",
       "    </tr>\n",
       "  </thead>\n",
       "  <tbody>\n",
       "    <tr>\n",
       "      <th>0</th>\n",
       "      <td>1</td>\n",
       "      <td>Toy Story (1995)</td>\n",
       "    </tr>\n",
       "    <tr>\n",
       "      <th>1</th>\n",
       "      <td>2</td>\n",
       "      <td>GoldenEye (1995)</td>\n",
       "    </tr>\n",
       "    <tr>\n",
       "      <th>2</th>\n",
       "      <td>3</td>\n",
       "      <td>Four Rooms (1995)</td>\n",
       "    </tr>\n",
       "    <tr>\n",
       "      <th>3</th>\n",
       "      <td>4</td>\n",
       "      <td>Get Shorty (1995)</td>\n",
       "    </tr>\n",
       "    <tr>\n",
       "      <th>4</th>\n",
       "      <td>5</td>\n",
       "      <td>Copycat (1995)</td>\n",
       "    </tr>\n",
       "  </tbody>\n",
       "</table>\n",
       "</div>"
      ],
      "text/plain": [
       "   item_id          item_name\n",
       "0        1   Toy Story (1995)\n",
       "1        2   GoldenEye (1995)\n",
       "2        3  Four Rooms (1995)\n",
       "3        4  Get Shorty (1995)\n",
       "4        5     Copycat (1995)"
      ]
     },
     "execution_count": 6,
     "metadata": {},
     "output_type": "execute_result"
    }
   ],
   "source": [
    "items_df = pd.read_csv(os.path.join(DATA_ROOT, \"items.csv\"))\n",
    "item_names = items_df[['item_id', 'item_name']]\n",
    "item_names.head()"
   ]
  },
  {
   "cell_type": "code",
   "execution_count": 7,
   "metadata": {},
   "outputs": [],
   "source": [
    "items_df = items_df.drop(['item_name', 'release_date'], axis=1)\n",
    "items_df.columns = ['item_id'] + [\"genre__{}\".format(col) for col in items_df.columns[1:]]"
   ]
  },
  {
   "cell_type": "markdown",
   "metadata": {},
   "source": [
    "#### Load Ratings Data"
   ]
  },
  {
   "cell_type": "code",
   "execution_count": 8,
   "metadata": {},
   "outputs": [
    {
     "data": {
      "text/plain": [
       "user_id              462.48475\n",
       "item_id              425.53013\n",
       "rating                 3.52986\n",
       "positive_feedback      0.54194\n",
       "dtype: float64"
      ]
     },
     "execution_count": 8,
     "metadata": {},
     "output_type": "execute_result"
    }
   ],
   "source": [
    "ratings_explicit = pd.read_csv(os.path.join(DATA_ROOT, \"ratings.csv\"))\n",
    "ratings_explicit['timestamp'] = pd.to_datetime(ratings_explicit['unix_timestamp'], origin='unix', unit='s')\n",
    "ratings_explicit['positive_feedback'] = ratings_explicit.groupby('user_id')['rating'].transform(lambda c: np.where(c > c.mean(), 1, 0))\n",
    "ratings_explicit = ratings_explicit.drop('unix_timestamp', axis=1)\n",
    "ratings_explicit.mean()"
   ]
  },
  {
   "cell_type": "markdown",
   "metadata": {},
   "source": [
    "#### Generate Implicit Feedback Ratings Data"
   ]
  },
  {
   "cell_type": "code",
   "execution_count": 9,
   "metadata": {},
   "outputs": [
    {
     "data": {
      "text/html": [
       "<div>\n",
       "<style scoped>\n",
       "    .dataframe tbody tr th:only-of-type {\n",
       "        vertical-align: middle;\n",
       "    }\n",
       "\n",
       "    .dataframe tbody tr th {\n",
       "        vertical-align: top;\n",
       "    }\n",
       "\n",
       "    .dataframe thead th {\n",
       "        text-align: right;\n",
       "    }\n",
       "</style>\n",
       "<table border=\"1\" class=\"dataframe\">\n",
       "  <thead>\n",
       "    <tr style=\"text-align: right;\">\n",
       "      <th></th>\n",
       "      <th>user_id</th>\n",
       "      <th>item_id</th>\n",
       "      <th>rating</th>\n",
       "      <th>timestamp</th>\n",
       "      <th>positive_feedback</th>\n",
       "    </tr>\n",
       "  </thead>\n",
       "  <tbody>\n",
       "    <tr>\n",
       "      <th>0</th>\n",
       "      <td>253</td>\n",
       "      <td>465</td>\n",
       "      <td>5</td>\n",
       "      <td>1998-04-03 18:34:27</td>\n",
       "      <td>1</td>\n",
       "    </tr>\n",
       "    <tr>\n",
       "      <th>1</th>\n",
       "      <td>286</td>\n",
       "      <td>1014</td>\n",
       "      <td>5</td>\n",
       "      <td>1997-11-17 15:38:45</td>\n",
       "      <td>1</td>\n",
       "    </tr>\n",
       "    <tr>\n",
       "      <th>2</th>\n",
       "      <td>200</td>\n",
       "      <td>222</td>\n",
       "      <td>5</td>\n",
       "      <td>1997-10-05 09:05:40</td>\n",
       "      <td>1</td>\n",
       "    </tr>\n",
       "    <tr>\n",
       "      <th>3</th>\n",
       "      <td>224</td>\n",
       "      <td>29</td>\n",
       "      <td>3</td>\n",
       "      <td>1998-02-21 23:40:57</td>\n",
       "      <td>1</td>\n",
       "    </tr>\n",
       "    <tr>\n",
       "      <th>4</th>\n",
       "      <td>122</td>\n",
       "      <td>387</td>\n",
       "      <td>5</td>\n",
       "      <td>1997-11-11 17:47:39</td>\n",
       "      <td>1</td>\n",
       "    </tr>\n",
       "  </tbody>\n",
       "</table>\n",
       "</div>"
      ],
      "text/plain": [
       "   user_id  item_id  rating           timestamp  positive_feedback\n",
       "0      253      465       5 1998-04-03 18:34:27                  1\n",
       "1      286     1014       5 1997-11-17 15:38:45                  1\n",
       "2      200      222       5 1997-10-05 09:05:40                  1\n",
       "3      224       29       3 1998-02-21 23:40:57                  1\n",
       "4      122      387       5 1997-11-11 17:47:39                  1"
      ]
     },
     "execution_count": 9,
     "metadata": {},
     "output_type": "execute_result"
    }
   ],
   "source": [
    "ratings_implicit = ratings_explicit[ratings_explicit.positive_feedback == 1].reset_index(drop=True)\n",
    "ratings_implicit.head()"
   ]
  },
  {
   "cell_type": "markdown",
   "metadata": {},
   "source": [
    "#### Print Final Matrix Shapes"
   ]
  },
  {
   "cell_type": "code",
   "execution_count": 10,
   "metadata": {},
   "outputs": [
    {
     "name": "stdout",
     "output_type": "stream",
     "text": [
      "943 1682\n",
      "943 1483\n",
      "(100000, 5)\n",
      "(54194, 5)\n"
     ]
    }
   ],
   "source": [
    "print(ratings_explicit.user_id.nunique(), ratings_explicit.item_id.nunique())\n",
    "print(ratings_implicit.user_id.nunique(), ratings_implicit.item_id.nunique())\n",
    "\n",
    "print(ratings_explicit.shape)\n",
    "print(ratings_implicit.shape)"
   ]
  },
  {
   "cell_type": "markdown",
   "metadata": {},
   "source": [
    "#### Create Simple Interaction Data for Testing"
   ]
  },
  {
   "cell_type": "code",
   "execution_count": 11,
   "metadata": {},
   "outputs": [
    {
     "data": {
      "text/html": [
       "<div>\n",
       "<style scoped>\n",
       "    .dataframe tbody tr th:only-of-type {\n",
       "        vertical-align: middle;\n",
       "    }\n",
       "\n",
       "    .dataframe tbody tr th {\n",
       "        vertical-align: top;\n",
       "    }\n",
       "\n",
       "    .dataframe thead th {\n",
       "        text-align: right;\n",
       "    }\n",
       "</style>\n",
       "<table border=\"1\" class=\"dataframe\">\n",
       "  <thead>\n",
       "    <tr style=\"text-align: right;\">\n",
       "      <th></th>\n",
       "      <th>user_id</th>\n",
       "      <th>item_id</th>\n",
       "    </tr>\n",
       "  </thead>\n",
       "  <tbody>\n",
       "    <tr>\n",
       "      <th>0</th>\n",
       "      <td>253</td>\n",
       "      <td>465</td>\n",
       "    </tr>\n",
       "    <tr>\n",
       "      <th>1</th>\n",
       "      <td>286</td>\n",
       "      <td>1014</td>\n",
       "    </tr>\n",
       "    <tr>\n",
       "      <th>2</th>\n",
       "      <td>200</td>\n",
       "      <td>222</td>\n",
       "    </tr>\n",
       "    <tr>\n",
       "      <th>3</th>\n",
       "      <td>224</td>\n",
       "      <td>29</td>\n",
       "    </tr>\n",
       "    <tr>\n",
       "      <th>4</th>\n",
       "      <td>122</td>\n",
       "      <td>387</td>\n",
       "    </tr>\n",
       "  </tbody>\n",
       "</table>\n",
       "</div>"
      ],
      "text/plain": [
       "   user_id  item_id\n",
       "0      253      465\n",
       "1      286     1014\n",
       "2      200      222\n",
       "3      224       29\n",
       "4      122      387"
      ]
     },
     "execution_count": 11,
     "metadata": {},
     "output_type": "execute_result"
    }
   ],
   "source": [
    "interactions_implicit = ratings_implicit[['user_id', 'item_id']].astype(np.int32)\n",
    "interactions_implicit.head()"
   ]
  },
  {
   "cell_type": "code",
   "execution_count": 12,
   "metadata": {},
   "outputs": [],
   "source": [
    "user_features = users_df[users_df.user_id.isin(interactions_implicit.user_id.unique())]\n",
    "item_features = items_df[items_df.item_id.isin(interactions_implicit.item_id.unique())]"
   ]
  },
  {
   "cell_type": "code",
   "execution_count": 13,
   "metadata": {},
   "outputs": [
    {
     "name": "stdout",
     "output_type": "stream",
     "text": [
      "(54194, 2)\n",
      "user_id    int32\n",
      "item_id    int32\n",
      "dtype: object\n"
     ]
    }
   ],
   "source": [
    "print(interactions_implicit.shape)\n",
    "print(interactions_implicit.dtypes)"
   ]
  },
  {
   "cell_type": "code",
   "execution_count": 14,
   "metadata": {},
   "outputs": [
    {
     "name": "stdout",
     "output_type": "stream",
     "text": [
      "(943, 27)\n",
      "(1483, 19)\n"
     ]
    }
   ],
   "source": [
    "print(user_features.shape)\n",
    "print(item_features.shape)"
   ]
  },
  {
   "cell_type": "markdown",
   "metadata": {},
   "source": [
    "### Train the Model Using Numba"
   ]
  },
  {
   "cell_type": "markdown",
   "metadata": {},
   "source": [
    "#### Initialize Internal Data Using the Main Modeling Class"
   ]
  },
  {
   "cell_type": "code",
   "execution_count": 1,
   "metadata": {},
   "outputs": [
    {
     "ename": "NameError",
     "evalue": "name 'RankFM' is not defined",
     "output_type": "error",
     "traceback": [
      "\u001b[0;31m---------------------------------------------------------------------------\u001b[0m",
      "\u001b[0;31mNameError\u001b[0m                                 Traceback (most recent call last)",
      "\u001b[0;32m<ipython-input-1-e78f12ca542e>\u001b[0m in \u001b[0;36m<module>\u001b[0;34m\u001b[0m\n\u001b[0;32m----> 1\u001b[0;31m \u001b[0mrankfm\u001b[0m \u001b[0;34m=\u001b[0m \u001b[0mRankFM\u001b[0m\u001b[0;34m(\u001b[0m\u001b[0;34m)\u001b[0m\u001b[0;34m\u001b[0m\u001b[0;34m\u001b[0m\u001b[0m\n\u001b[0m",
      "\u001b[0;31mNameError\u001b[0m: name 'RankFM' is not defined"
     ]
    }
   ],
   "source": [
    "rankfm = RankFM()"
   ]
  },
  {
   "cell_type": "code",
   "execution_count": null,
   "metadata": {},
   "outputs": [],
   "source": [
    "%%prun -l 10\n",
    "rankfm._init_all(interactions_implicit, user_features, item_features)"
   ]
  },
  {
   "cell_type": "markdown",
   "metadata": {},
   "source": [
    "#### Check the Internal Data"
   ]
  },
  {
   "cell_type": "code",
   "execution_count": 17,
   "metadata": {},
   "outputs": [
    {
     "data": {
      "text/plain": [
       "(numpy.ndarray, (54194, 2), dtype('int32'), 0.43)"
      ]
     },
     "execution_count": 17,
     "metadata": {},
     "output_type": "execute_result"
    }
   ],
   "source": [
    "type(rankfm.interactions), rankfm.interactions.shape, rankfm.interactions.dtype, round(rankfm.interactions.nbytes / 1e6, 2)"
   ]
  },
  {
   "cell_type": "code",
   "execution_count": 18,
   "metadata": {},
   "outputs": [
    {
     "data": {
      "text/plain": [
       "(0.04, 0.0)"
      ]
     },
     "execution_count": 18,
     "metadata": {},
     "output_type": "execute_result"
    }
   ],
   "source": [
    "round(sys.getsizeof(rankfm.user_items_py) / 1e6, 2), round(sys.getsizeof(rankfm.user_items_nb) / 1e6, 2)"
   ]
  },
  {
   "cell_type": "code",
   "execution_count": 19,
   "metadata": {},
   "outputs": [
    {
     "name": "stdout",
     "output_type": "stream",
     "text": [
      "943\n"
     ]
    },
    {
     "data": {
      "text/plain": [
       "array([289, 248,  49, 294,  12, 300, 254, 312, 298, 310, 276, 296, 274,\n",
       "       279, 108, 292, 239, 280, 273,   0,  13, 290, 307, 303,  24, 270,\n",
       "       308, 266, 252, 281, 234, 297,  99, 124, 282, 301, 269, 283, 272,\n",
       "       299], dtype=int32)"
      ]
     },
     "execution_count": 19,
     "metadata": {},
     "output_type": "execute_result"
    }
   ],
   "source": [
    "print(len(rankfm.user_items_py.keys()))\n",
    "rankfm.user_items_py[1]"
   ]
  },
  {
   "cell_type": "code",
   "execution_count": 20,
   "metadata": {},
   "outputs": [
    {
     "name": "stdout",
     "output_type": "stream",
     "text": [
      "943\n"
     ]
    },
    {
     "data": {
      "text/plain": [
       "array([289, 248,  49, 294,  12, 300, 254, 312, 298, 310, 276, 296, 274,\n",
       "       279, 108, 292, 239, 280, 273,   0,  13, 290, 307, 303,  24, 270,\n",
       "       308, 266, 252, 281, 234, 297,  99, 124, 282, 301, 269, 283, 272,\n",
       "       299], dtype=int32)"
      ]
     },
     "execution_count": 20,
     "metadata": {},
     "output_type": "execute_result"
    }
   ],
   "source": [
    "print(len(rankfm.user_items_nb.keys()))\n",
    "rankfm.user_items_nb[1]"
   ]
  },
  {
   "cell_type": "markdown",
   "metadata": {},
   "source": [
    "#### Define the Main Internal `_fit()` Function"
   ]
  },
  {
   "cell_type": "code",
   "execution_count": 71,
   "metadata": {},
   "outputs": [],
   "source": [
    "@nb.njit(cache=True)\n",
    "def _fit(interactions, user_items, item_idx, regularization, learning_rate, x_uf, x_if, w_i, w_if, v_u, v_i, v_uf, v_if, epochs=1, verbose=False):\n",
    "    \"\"\"main internal NJIT fitting function\"\"\"\n",
    "    \n",
    "    P = x_uf.shape[1]\n",
    "    Q = x_if.shape[1]\n",
    "    F = v_i.shape[1]\n",
    "    \n",
    "    def isin(needle, haystack):\n",
    "        for i in range(len(haystack)):\n",
    "            if needle == haystack[i]:\n",
    "                return True\n",
    "        return False\n",
    "    \n",
    "    for epoch in range(epochs):\n",
    "        \n",
    "        shuffle_index = np.arange(len(interactions))\n",
    "        np.random.shuffle(shuffle_index)\n",
    "        \n",
    "        interactions = interactions[shuffle_index]     \n",
    "        log_likelihood = 0.0\n",
    "        \n",
    "        for row in range(len(interactions)):\n",
    "\n",
    "            u = interactions[row, 0]\n",
    "            i = interactions[row, 1]\n",
    "            n_items = len(item_idx)\n",
    "\n",
    "            while True:\n",
    "                j = int(n_items * random.random())\n",
    "                if not isin(j, user_items[u]):\n",
    "                    break\n",
    "            \n",
    "            pu_i = w_i[i] - w_i[j]\n",
    "            pu_if = np.dot(x_if[i] - x_if[j], w_if)\n",
    "            pu_ui = np.dot(v_i[i] - v_i[j], v_u[u])\n",
    "            pu_u_if = np.dot(x_if[i] - x_if[j], np.dot(v_if, v_u[u]))\n",
    "            pu_i_uf = np.dot(x_uf[u], np.dot(v_uf, v_i[i] - v_i[j]))\n",
    "            pu_uf_if = np.dot(np.dot(v_uf.T, x_uf[u]), np.dot(v_if.T, x_if[i] - x_if[j]))\n",
    "            \n",
    "            pairwise_utility = pu_i + pu_if + pu_ui + pu_u_if + pu_i_uf + pu_uf_if\n",
    "            log_likelihood += np.log(1 / (1 + np.exp(-pairwise_utility)))\n",
    "            \n",
    "            d_con = 1.0 / (np.exp(pairwise_utility) + 1.0)\n",
    "            d_reg = 2.0 * regularization\n",
    "\n",
    "            d_w_i = 1.0\n",
    "            d_w_j = -1.0\n",
    "            d_w_if = x_if[i] - x_if[j]\n",
    "\n",
    "            d_v_u = v_i[i] - v_i[j] + np.dot(v_if.T, x_if[i] - x_if[j])\n",
    "            d_v_i = v_u[u] + np.dot(v_uf.T, x_uf[u])\n",
    "            d_v_j = -v_u[u] - np.dot(v_uf.T, x_uf[u])\n",
    "\n",
    "            d_v_uf = np.empty((P, F), np.float32)\n",
    "            d_v_if = np.empty((Q, F), np.float32)\n",
    "\n",
    "            for f in range(F):\n",
    "                for p in range(P):\n",
    "                    if (x_uf[u][p]) == 0.0:\n",
    "                        d_v_uf[p, f] = 0.0\n",
    "                    else:\n",
    "                        d_v_uf[p, f] = (x_uf[u][p]) * (v_i[i][f] - v_i[j][f] + np.dot(v_if.T[f], x_if[i] - x_if[j]))\n",
    "                for q in range(Q):\n",
    "                    if (x_if[i][q] - x_if[j][q]) == 0.0:\n",
    "                        d_v_if[q, f] = 0.0\n",
    "                    else:\n",
    "                        d_v_if[q, f] = (x_if[i][q] - x_if[j][q]) * (v_u[u][f] + np.dot(v_uf.T[f], x_uf[u]))\n",
    "\n",
    "            w_i[i] += learning_rate * ((d_con * d_w_i)  - (d_reg * w_i[i]))\n",
    "            w_i[j] += learning_rate * ((d_con * d_w_j)  - (d_reg * w_i[j]))\n",
    "            w_if   += learning_rate * ((d_con * d_w_if) - (d_reg * w_if))\n",
    "            v_u[u] += learning_rate * ((d_con * d_v_u)  - (d_reg * v_u[u]))\n",
    "            v_i[i] += learning_rate * ((d_con * d_v_i)  - (d_reg * v_i[i]))\n",
    "            v_i[j] += learning_rate * ((d_con * d_v_j)  - (d_reg * v_i[j]))\n",
    "            v_uf   += learning_rate * ((d_con * d_v_uf) - (d_reg * v_uf))\n",
    "            v_if   += learning_rate * ((d_con * d_v_if) - (d_reg * v_if))\n",
    "            \n",
    "        penalty = 0.0\n",
    "        penalty += np.sum(regularization * np.square(w_i)) \n",
    "        penalty += np.sum(regularization * np.square(w_if))\n",
    "        penalty += np.sum(regularization * np.square(v_u))\n",
    "        penalty += np.sum(regularization * np.square(v_i))\n",
    "        penalty += np.sum(regularization * np.square(v_uf))\n",
    "        penalty += np.sum(regularization * np.square(v_if))\n",
    "        \n",
    "        if verbose:                \n",
    "            log_likelihood = round(log_likelihood - penalty, 2)\n",
    "            print(\"\\ntraining epoch:\", epoch)\n",
    "            print(\"log likelihood:\", log_likelihood)\n",
    "            \n",
    "    return w_i, w_if, v_u, v_i, v_uf, v_if\n",
    "            \n",
    "    "
   ]
  },
  {
   "cell_type": "markdown",
   "metadata": {},
   "source": [
    "#### Define All Necessary Training Variables in Local Scope"
   ]
  },
  {
   "cell_type": "code",
   "execution_count": 110,
   "metadata": {},
   "outputs": [],
   "source": [
    "user_to_index = rankfm.user_to_index\n",
    "item_to_index = rankfm.item_to_index\n",
    "\n",
    "item_idx = rankfm.item_idx\n",
    "interactions = rankfm.interactions\n",
    "user_items = rankfm.user_items_nb\n",
    "\n",
    "x_uf = rankfm.x_uf\n",
    "x_if = rankfm.x_if\n",
    "\n",
    "w_i = rankfm.w_i\n",
    "w_if = rankfm.w_if\n",
    "\n",
    "v_u = rankfm.v_u\n",
    "v_i = rankfm.v_i\n",
    "v_uf = rankfm.v_uf\n",
    "v_if = rankfm.v_if\n",
    "\n",
    "regularization = rankfm.regularization\n",
    "learning_rate = rankfm.learning_rate"
   ]
  },
  {
   "cell_type": "markdown",
   "metadata": {},
   "source": [
    "##### all user/item index variables should be **int32**"
   ]
  },
  {
   "cell_type": "code",
   "execution_count": 73,
   "metadata": {},
   "outputs": [
    {
     "data": {
      "text/plain": [
       "(dtype('int32'), dtype('int32'), int, dtype('int32'))"
      ]
     },
     "execution_count": 73,
     "metadata": {},
     "output_type": "execute_result"
    }
   ],
   "source": [
    "item_idx.dtype, interactions.dtype, type(list(user_items.keys())[1]), user_items[1].dtype"
   ]
  },
  {
   "cell_type": "markdown",
   "metadata": {},
   "source": [
    "##### all user/item features shouldbe **float32**"
   ]
  },
  {
   "cell_type": "code",
   "execution_count": 74,
   "metadata": {},
   "outputs": [
    {
     "data": {
      "text/plain": [
       "(dtype('float32'), dtype('float32'))"
      ]
     },
     "execution_count": 74,
     "metadata": {},
     "output_type": "execute_result"
    }
   ],
   "source": [
    "x_uf.dtype, x_if.dtype"
   ]
  },
  {
   "cell_type": "code",
   "execution_count": 75,
   "metadata": {},
   "outputs": [
    {
     "data": {
      "text/plain": [
       "((943, 26), (1483, 18))"
      ]
     },
     "execution_count": 75,
     "metadata": {},
     "output_type": "execute_result"
    }
   ],
   "source": [
    "x_uf.shape, x_if.shape"
   ]
  },
  {
   "cell_type": "markdown",
   "metadata": {},
   "source": [
    "##### all weights/factors should be **float32**"
   ]
  },
  {
   "cell_type": "code",
   "execution_count": 76,
   "metadata": {},
   "outputs": [
    {
     "data": {
      "text/plain": [
       "(dtype('float32'),\n",
       " dtype('float32'),\n",
       " dtype('float32'),\n",
       " dtype('float32'),\n",
       " dtype('float32'),\n",
       " dtype('float32'))"
      ]
     },
     "execution_count": 76,
     "metadata": {},
     "output_type": "execute_result"
    }
   ],
   "source": [
    "w_i.dtype, w_if.dtype, v_u.dtype, v_i.dtype, v_uf.dtype, v_if.dtype"
   ]
  },
  {
   "cell_type": "markdown",
   "metadata": {},
   "source": [
    "#### Attempt to Call the Main Fit Function"
   ]
  },
  {
   "cell_type": "code",
   "execution_count": 77,
   "metadata": {},
   "outputs": [
    {
     "name": "stdout",
     "output_type": "stream",
     "text": [
      "\n",
      "training epoch: 0\n",
      "log likelihood: -10925.32\n",
      "\n",
      "training epoch: 1\n",
      "log likelihood: -10886.91\n",
      "\n",
      "training epoch: 2\n",
      "log likelihood: -10648.86\n",
      "\n",
      "training epoch: 3\n",
      "log likelihood: -10740.38\n",
      "\n",
      "training epoch: 4\n",
      "log likelihood: -10826.1\n",
      "\n",
      "training epoch: 5\n",
      "log likelihood: -10723.2\n",
      "\n",
      "training epoch: 6\n",
      "log likelihood: -10796.38\n",
      "\n",
      "training epoch: 7\n",
      "log likelihood: -10539.67\n",
      "\n",
      "training epoch: 8\n",
      "log likelihood: -10644.58\n",
      "\n",
      "training epoch: 9\n",
      "log likelihood: -10543.6\n",
      "CPU times: user 19.5 s, sys: 89.4 ms, total: 19.6 s\n",
      "Wall time: 19.6 s\n"
     ]
    }
   ],
   "source": [
    "%%time\n",
    "w_i, w_if, v_u, v_i, v_uf, v_if = _fit(interactions, user_items, item_idx, regularization, learning_rate, x_uf, x_if, w_i, w_if, v_u, v_i, v_uf, v_if, epochs=10, verbose=True)"
   ]
  },
  {
   "cell_type": "markdown",
   "metadata": {},
   "source": [
    "#### Define the Main Internal `_predict()` function"
   ]
  },
  {
   "cell_type": "code",
   "execution_count": 126,
   "metadata": {},
   "outputs": [],
   "source": [
    "@nb.njit(cache=True)\n",
    "def _predict(pairs, x_uf, x_if, w_i, w_if, v_u, v_i, v_uf, v_if):\n",
    "    \"\"\"internal JIT prediction function\"\"\"\n",
    "    \n",
    "    n_scores = len(pairs)\n",
    "    scores = np.empty(n_scores, dtype=np.float32)\n",
    "    \n",
    "    for row in range(n_scores):\n",
    "\n",
    "        u = pairs[row, 0]\n",
    "        i = pairs[row, 1]\n",
    "        \n",
    "        if np.isnan(u) or np.isnan(i):\n",
    "            scores[row] = np.nan\n",
    "        else:\n",
    "            \n",
    "            u = int(u)\n",
    "            i = int(i)\n",
    "            \n",
    "            item = w_i[i]\n",
    "            item_features = np.dot(x_if[i], w_if)\n",
    "            item_user = np.dot(v_i[i], v_u[u])\n",
    "            user_item_features = np.dot(x_if[i], np.dot(v_if, v_u[u]))\n",
    "            item_user_features = np.dot(x_uf[u], np.dot(v_uf, v_i[i]))\n",
    "            feature_interactions = np.dot(np.dot(v_uf.T, x_uf[u]), np.dot(v_if.T, x_if[i]))\n",
    "            \n",
    "            pointwise_utility = item + item_features + item_user + user_item_features + item_user_features + feature_interactions\n",
    "            scores[row] = pointwise_utility\n",
    "            \n",
    "    return scores\n",
    "\n",
    "#     # generate model scores for user/item pairs found in training data and np.nan otherwise\n",
    "#     pairs = zip(pred_interactions['user_idx'], pred_interactions['item_idx'])\n",
    "#     scores = np.array([self._pointwise_utility(int(user), int(item)) if not (np.isnan(user) or np.isnan(item)) else np.nan for user, item in pairs])\n",
    "\n"
   ]
  },
  {
   "cell_type": "markdown",
   "metadata": {},
   "source": [
    "#### Define Python Wrapper to Internal `_predict()` Function"
   ]
  },
  {
   "cell_type": "code",
   "execution_count": 127,
   "metadata": {},
   "outputs": [],
   "source": [
    "def predict(pairs, cold_start='nan'):\n",
    "    \"\"\"calculate predicted pointwise utilities for (user, item) pairs\n",
    "\n",
    "    :param pairs: dataframe of user/item pairs: [user_id, item_id]\n",
    "    :param cold_start: whether to generate missing values ('nan') or drop ('drop') user/item pairs not found in training data\n",
    "    :return: vector of real-valued model scores\n",
    "    \"\"\"\n",
    "    \n",
    "    # ensure that the model has been fit before attempting to generate predictions\n",
    "    # assert self.is_fit, \"you must fit the model prior to generating predictions\"\n",
    "\n",
    "    # map raw user/item identifiers to internal index positions\n",
    "    pred_pairs = pd.DataFrame(pairs.copy(), columns=['user_id', 'item_id'])\n",
    "    pred_pairs['user_id'] = pred_pairs['user_id'].map(user_to_index)\n",
    "    pred_pairs['item_id'] = pred_pairs['item_id'].map(item_to_index)\n",
    "    \n",
    "    pred_pairs = pred_pairs.to_numpy().astype(np.float32)\n",
    "    scores = _predict(pred_pairs, x_uf, x_if, w_i, w_if, v_u, v_i, v_uf, v_if)\n",
    "    \n",
    "    if cold_start == 'nan':\n",
    "        return scores\n",
    "    elif cold_start == 'drop':\n",
    "        return scores[~np.isnan(scores)]\n",
    "    else:\n",
    "        raise ValueError(\"param [cold_start] must be set to either 'nan' or 'drop'\")\n",
    " \n",
    "    \n",
    "    \n",
    "    "
   ]
  },
  {
   "cell_type": "code",
   "execution_count": 128,
   "metadata": {},
   "outputs": [
    {
     "data": {
      "text/plain": [
       "array([[252., 456.],\n",
       "       [ nan, 984.],\n",
       "       [199.,  nan],\n",
       "       [223.,  28.],\n",
       "       [121., 383.]], dtype=float32)"
      ]
     },
     "execution_count": 128,
     "metadata": {},
     "output_type": "execute_result"
    }
   ],
   "source": [
    "pairs = interactions.astype(np.float32)\n",
    "pairs[1, 0] = np.nan\n",
    "pairs[2, 1] = np.nan\n",
    "pairs[:5]"
   ]
  },
  {
   "cell_type": "code",
   "execution_count": 129,
   "metadata": {},
   "outputs": [
    {
     "name": "stdout",
     "output_type": "stream",
     "text": [
      "CPU times: user 762 ms, sys: 513 ms, total: 1.28 s\n",
      "Wall time: 2.25 s\n"
     ]
    }
   ],
   "source": [
    "%%time\n",
    "\n",
    "scores = predict(pairs, cold_start='nan')"
   ]
  },
  {
   "cell_type": "code",
   "execution_count": 116,
   "metadata": {},
   "outputs": [
    {
     "data": {
      "text/plain": [
       "((54194, 2), (54194,))"
      ]
     },
     "execution_count": 116,
     "metadata": {},
     "output_type": "execute_result"
    }
   ],
   "source": [
    "pairs.shape, scores.shape"
   ]
  },
  {
   "cell_type": "code",
   "execution_count": 117,
   "metadata": {},
   "outputs": [
    {
     "data": {
      "text/plain": [
       "array([ 0.36280236,         nan,         nan,  2.81907   , -2.748325  ],\n",
       "      dtype=float32)"
      ]
     },
     "execution_count": 117,
     "metadata": {},
     "output_type": "execute_result"
    }
   ],
   "source": [
    "scores[:5]"
   ]
  },
  {
   "cell_type": "code",
   "execution_count": 122,
   "metadata": {},
   "outputs": [],
   "source": [
    "test_array = np.array([1.5, 3.2, 0.9, 4.1, 2.2, 3.6])"
   ]
  },
  {
   "cell_type": "code",
   "execution_count": 125,
   "metadata": {},
   "outputs": [
    {
     "data": {
      "text/plain": [
       "array([3, 5, 1, 4, 0, 2])"
      ]
     },
     "execution_count": 125,
     "metadata": {},
     "output_type": "execute_result"
    }
   ],
   "source": [
    "np.argsort(test_array)[::-1]"
   ]
  },
  {
   "cell_type": "code",
   "execution_count": null,
   "metadata": {},
   "outputs": [],
   "source": []
  },
  {
   "cell_type": "code",
   "execution_count": null,
   "metadata": {},
   "outputs": [],
   "source": []
  }
 ],
 "metadata": {
  "kernelspec": {
   "display_name": "Python 3",
   "language": "python",
   "name": "python3"
  },
  "language_info": {
   "codemirror_mode": {
    "name": "ipython",
    "version": 3
   },
   "file_extension": ".py",
   "mimetype": "text/x-python",
   "name": "python",
   "nbconvert_exporter": "python",
   "pygments_lexer": "ipython3",
   "version": "3.7.2"
  }
 },
 "nbformat": 4,
 "nbformat_minor": 4
}
