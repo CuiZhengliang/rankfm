{
 "cells": [
  {
   "cell_type": "markdown",
   "metadata": {},
   "source": [
    "### Import Required Packages and Set Options"
   ]
  },
  {
   "cell_type": "markdown",
   "metadata": {},
   "source": [
    "#### Import Base Libraries"
   ]
  },
  {
   "cell_type": "code",
   "execution_count": 1,
   "metadata": {},
   "outputs": [],
   "source": [
    "import os\n",
    "import sys\n",
    "import random\n",
    "\n",
    "import numpy as np\n",
    "import pandas as pd\n",
    "import numba as nb\n",
    "\n",
    "import matplotlib.pyplot as plt\n",
    "import seaborn as sns\n",
    "\n",
    "from datetime import datetime\n",
    "from functools import partial"
   ]
  },
  {
   "cell_type": "markdown",
   "metadata": {},
   "source": [
    "#### Put the Main Package Library on the PYTHONPATH"
   ]
  },
  {
   "cell_type": "code",
   "execution_count": 2,
   "metadata": {},
   "outputs": [
    {
     "data": {
      "text/plain": [
       "'/Users/ericlundquist/Repos/rankfm/rankfm'"
      ]
     },
     "execution_count": 2,
     "metadata": {},
     "output_type": "execute_result"
    }
   ],
   "source": [
    "curdir = sys.path[0]\n",
    "srcdir = os.path.join(os.path.split(curdir)[0], 'rankfm')\n",
    "sys.path[0] = srcdir\n",
    "srcdir"
   ]
  },
  {
   "cell_type": "markdown",
   "metadata": {},
   "source": [
    "#### Re-Load all Package Modules on Execution for Testing"
   ]
  },
  {
   "cell_type": "code",
   "execution_count": 3,
   "metadata": {},
   "outputs": [],
   "source": [
    "from rankfm import RankFM\n",
    "from evaluation import precision_at_k, recall_at_k"
   ]
  },
  {
   "cell_type": "markdown",
   "metadata": {},
   "source": [
    "#### Set File Path Constants"
   ]
  },
  {
   "cell_type": "code",
   "execution_count": 4,
   "metadata": {},
   "outputs": [
    {
     "name": "stdout",
     "output_type": "stream",
     "text": [
      "/Users/ericlundquist/Repos/rankfm\n",
      "/Users/ericlundquist/Repos/rankfm/data/ml-100k\n"
     ]
    }
   ],
   "source": [
    "REPO_ROOT = os.path.split(srcdir)[0]\n",
    "DATA_ROOT = os.path.join(REPO_ROOT, \"data/ml-100k\")\n",
    "print(\"\\n\".join([REPO_ROOT, DATA_ROOT]))"
   ]
  },
  {
   "cell_type": "markdown",
   "metadata": {},
   "source": [
    "### Prepare Example Data"
   ]
  },
  {
   "cell_type": "markdown",
   "metadata": {},
   "source": [
    "#### Load Users Data"
   ]
  },
  {
   "cell_type": "code",
   "execution_count": 5,
   "metadata": {},
   "outputs": [
    {
     "data": {
      "text/plain": [
       "user_id                      472.000000\n",
       "agegroup__0                    0.433722\n",
       "agegroup__1                    0.348887\n",
       "agegroup__2                    0.217391\n",
       "gender__F                      0.289502\n",
       "gender__M                      0.710498\n",
       "occupation__administrator      0.083775\n",
       "occupation__artist             0.029692\n",
       "occupation__doctor             0.007423\n",
       "occupation__educator           0.100742\n",
       "occupation__engineer           0.071050\n",
       "occupation__entertainment      0.019088\n",
       "occupation__executive          0.033934\n",
       "occupation__healthcare         0.016967\n",
       "occupation__homemaker          0.007423\n",
       "occupation__lawyer             0.012725\n",
       "occupation__librarian          0.054083\n",
       "occupation__marketing          0.027572\n",
       "occupation__none               0.009544\n",
       "occupation__other              0.111347\n",
       "occupation__programmer         0.069989\n",
       "occupation__retired            0.014846\n",
       "occupation__salesman           0.012725\n",
       "occupation__scientist          0.032874\n",
       "occupation__student            0.207847\n",
       "occupation__technician         0.028632\n",
       "occupation__writer             0.047720\n",
       "dtype: float64"
      ]
     },
     "execution_count": 5,
     "metadata": {},
     "output_type": "execute_result"
    }
   ],
   "source": [
    "users_df = pd.read_csv(os.path.join(DATA_ROOT, \"users.csv\"))\n",
    "users_df['agegroup'] = pd.cut(users_df['age'], [0, 30, 45, 100], right=False, labels=False)\n",
    "users_df = users_df.drop(['age', 'zip_code'], axis=1)\n",
    "users_df = pd.get_dummies(users_df, prefix_sep='__', columns=['agegroup', 'gender', 'occupation'])\n",
    "users_df.mean()"
   ]
  },
  {
   "cell_type": "markdown",
   "metadata": {},
   "source": [
    "#### Load Items Data"
   ]
  },
  {
   "cell_type": "code",
   "execution_count": 6,
   "metadata": {},
   "outputs": [
    {
     "data": {
      "text/html": [
       "<div>\n",
       "<style scoped>\n",
       "    .dataframe tbody tr th:only-of-type {\n",
       "        vertical-align: middle;\n",
       "    }\n",
       "\n",
       "    .dataframe tbody tr th {\n",
       "        vertical-align: top;\n",
       "    }\n",
       "\n",
       "    .dataframe thead th {\n",
       "        text-align: right;\n",
       "    }\n",
       "</style>\n",
       "<table border=\"1\" class=\"dataframe\">\n",
       "  <thead>\n",
       "    <tr style=\"text-align: right;\">\n",
       "      <th></th>\n",
       "      <th>item_id</th>\n",
       "      <th>item_name</th>\n",
       "    </tr>\n",
       "  </thead>\n",
       "  <tbody>\n",
       "    <tr>\n",
       "      <th>0</th>\n",
       "      <td>1</td>\n",
       "      <td>Toy Story (1995)</td>\n",
       "    </tr>\n",
       "    <tr>\n",
       "      <th>1</th>\n",
       "      <td>2</td>\n",
       "      <td>GoldenEye (1995)</td>\n",
       "    </tr>\n",
       "    <tr>\n",
       "      <th>2</th>\n",
       "      <td>3</td>\n",
       "      <td>Four Rooms (1995)</td>\n",
       "    </tr>\n",
       "    <tr>\n",
       "      <th>3</th>\n",
       "      <td>4</td>\n",
       "      <td>Get Shorty (1995)</td>\n",
       "    </tr>\n",
       "    <tr>\n",
       "      <th>4</th>\n",
       "      <td>5</td>\n",
       "      <td>Copycat (1995)</td>\n",
       "    </tr>\n",
       "  </tbody>\n",
       "</table>\n",
       "</div>"
      ],
      "text/plain": [
       "   item_id          item_name\n",
       "0        1   Toy Story (1995)\n",
       "1        2   GoldenEye (1995)\n",
       "2        3  Four Rooms (1995)\n",
       "3        4  Get Shorty (1995)\n",
       "4        5     Copycat (1995)"
      ]
     },
     "execution_count": 6,
     "metadata": {},
     "output_type": "execute_result"
    }
   ],
   "source": [
    "items_df = pd.read_csv(os.path.join(DATA_ROOT, \"items.csv\"))\n",
    "item_names = items_df[['item_id', 'item_name']]\n",
    "item_names.head()"
   ]
  },
  {
   "cell_type": "code",
   "execution_count": 7,
   "metadata": {},
   "outputs": [
    {
     "data": {
      "text/plain": [
       "item_id               841.500000\n",
       "genre__action           0.149227\n",
       "genre__adventure        0.080262\n",
       "genre__animation        0.024970\n",
       "genre__childrens        0.072533\n",
       "genre__comedy           0.300238\n",
       "genre__crime            0.064804\n",
       "genre__documentary      0.029727\n",
       "genre__drama            0.431034\n",
       "genre__fantasy          0.013080\n",
       "genre__film_noir        0.014269\n",
       "genre__horror           0.054697\n",
       "genre__musical          0.033294\n",
       "genre__mystery          0.036266\n",
       "genre__romance          0.146849\n",
       "genre__scifi            0.060048\n",
       "genre__thriller         0.149227\n",
       "genre__war              0.042212\n",
       "genre__western          0.016052\n",
       "dtype: float64"
      ]
     },
     "execution_count": 7,
     "metadata": {},
     "output_type": "execute_result"
    }
   ],
   "source": [
    "items_df = items_df.drop(['item_name', 'release_date'], axis=1)\n",
    "items_df.columns = ['item_id'] + [\"genre__{}\".format(col) for col in items_df.columns[1:]]\n",
    "items_df.mean()"
   ]
  },
  {
   "cell_type": "markdown",
   "metadata": {},
   "source": [
    "#### Load Ratings Data"
   ]
  },
  {
   "cell_type": "code",
   "execution_count": 8,
   "metadata": {},
   "outputs": [
    {
     "data": {
      "text/plain": [
       "user_id              462.48475\n",
       "item_id              425.53013\n",
       "rating                 3.52986\n",
       "positive_feedback      0.54194\n",
       "dtype: float64"
      ]
     },
     "execution_count": 8,
     "metadata": {},
     "output_type": "execute_result"
    }
   ],
   "source": [
    "ratings_explicit = pd.read_csv(os.path.join(DATA_ROOT, \"ratings.csv\"))\n",
    "ratings_explicit['timestamp'] = pd.to_datetime(ratings_explicit['unix_timestamp'], origin='unix', unit='s')\n",
    "ratings_explicit['positive_feedback'] = ratings_explicit.groupby('user_id')['rating'].transform(lambda c: np.where(c > c.mean(), 1, 0))\n",
    "ratings_explicit = ratings_explicit.drop('unix_timestamp', axis=1)\n",
    "ratings_explicit.mean()"
   ]
  },
  {
   "cell_type": "code",
   "execution_count": 9,
   "metadata": {},
   "outputs": [
    {
     "data": {
      "text/html": [
       "<div>\n",
       "<style scoped>\n",
       "    .dataframe tbody tr th:only-of-type {\n",
       "        vertical-align: middle;\n",
       "    }\n",
       "\n",
       "    .dataframe tbody tr th {\n",
       "        vertical-align: top;\n",
       "    }\n",
       "\n",
       "    .dataframe thead th {\n",
       "        text-align: right;\n",
       "    }\n",
       "</style>\n",
       "<table border=\"1\" class=\"dataframe\">\n",
       "  <thead>\n",
       "    <tr style=\"text-align: right;\">\n",
       "      <th></th>\n",
       "      <th>user_id</th>\n",
       "      <th>item_id</th>\n",
       "      <th>rating</th>\n",
       "      <th>timestamp</th>\n",
       "      <th>positive_feedback</th>\n",
       "    </tr>\n",
       "  </thead>\n",
       "  <tbody>\n",
       "    <tr>\n",
       "      <th>0</th>\n",
       "      <td>196</td>\n",
       "      <td>242</td>\n",
       "      <td>3</td>\n",
       "      <td>1997-12-04 15:55:49</td>\n",
       "      <td>0</td>\n",
       "    </tr>\n",
       "    <tr>\n",
       "      <th>1</th>\n",
       "      <td>186</td>\n",
       "      <td>302</td>\n",
       "      <td>3</td>\n",
       "      <td>1998-04-04 19:22:22</td>\n",
       "      <td>0</td>\n",
       "    </tr>\n",
       "    <tr>\n",
       "      <th>2</th>\n",
       "      <td>22</td>\n",
       "      <td>377</td>\n",
       "      <td>1</td>\n",
       "      <td>1997-11-07 07:18:36</td>\n",
       "      <td>0</td>\n",
       "    </tr>\n",
       "    <tr>\n",
       "      <th>3</th>\n",
       "      <td>244</td>\n",
       "      <td>51</td>\n",
       "      <td>2</td>\n",
       "      <td>1997-11-27 05:02:03</td>\n",
       "      <td>0</td>\n",
       "    </tr>\n",
       "    <tr>\n",
       "      <th>4</th>\n",
       "      <td>166</td>\n",
       "      <td>346</td>\n",
       "      <td>1</td>\n",
       "      <td>1998-02-02 05:33:16</td>\n",
       "      <td>0</td>\n",
       "    </tr>\n",
       "  </tbody>\n",
       "</table>\n",
       "</div>"
      ],
      "text/plain": [
       "   user_id  item_id  rating           timestamp  positive_feedback\n",
       "0      196      242       3 1997-12-04 15:55:49                  0\n",
       "1      186      302       3 1998-04-04 19:22:22                  0\n",
       "2       22      377       1 1997-11-07 07:18:36                  0\n",
       "3      244       51       2 1997-11-27 05:02:03                  0\n",
       "4      166      346       1 1998-02-02 05:33:16                  0"
      ]
     },
     "execution_count": 9,
     "metadata": {},
     "output_type": "execute_result"
    }
   ],
   "source": [
    "ratings_explicit.head()"
   ]
  },
  {
   "cell_type": "markdown",
   "metadata": {},
   "source": [
    "#### Generate Implicit Feedback Ratings Data"
   ]
  },
  {
   "cell_type": "code",
   "execution_count": 10,
   "metadata": {},
   "outputs": [
    {
     "data": {
      "text/html": [
       "<div>\n",
       "<style scoped>\n",
       "    .dataframe tbody tr th:only-of-type {\n",
       "        vertical-align: middle;\n",
       "    }\n",
       "\n",
       "    .dataframe tbody tr th {\n",
       "        vertical-align: top;\n",
       "    }\n",
       "\n",
       "    .dataframe thead th {\n",
       "        text-align: right;\n",
       "    }\n",
       "</style>\n",
       "<table border=\"1\" class=\"dataframe\">\n",
       "  <thead>\n",
       "    <tr style=\"text-align: right;\">\n",
       "      <th></th>\n",
       "      <th>user_id</th>\n",
       "      <th>item_id</th>\n",
       "      <th>rating</th>\n",
       "      <th>timestamp</th>\n",
       "      <th>positive_feedback</th>\n",
       "    </tr>\n",
       "  </thead>\n",
       "  <tbody>\n",
       "    <tr>\n",
       "      <th>0</th>\n",
       "      <td>253</td>\n",
       "      <td>465</td>\n",
       "      <td>5</td>\n",
       "      <td>1998-04-03 18:34:27</td>\n",
       "      <td>1</td>\n",
       "    </tr>\n",
       "    <tr>\n",
       "      <th>1</th>\n",
       "      <td>286</td>\n",
       "      <td>1014</td>\n",
       "      <td>5</td>\n",
       "      <td>1997-11-17 15:38:45</td>\n",
       "      <td>1</td>\n",
       "    </tr>\n",
       "    <tr>\n",
       "      <th>2</th>\n",
       "      <td>200</td>\n",
       "      <td>222</td>\n",
       "      <td>5</td>\n",
       "      <td>1997-10-05 09:05:40</td>\n",
       "      <td>1</td>\n",
       "    </tr>\n",
       "    <tr>\n",
       "      <th>3</th>\n",
       "      <td>224</td>\n",
       "      <td>29</td>\n",
       "      <td>3</td>\n",
       "      <td>1998-02-21 23:40:57</td>\n",
       "      <td>1</td>\n",
       "    </tr>\n",
       "    <tr>\n",
       "      <th>4</th>\n",
       "      <td>122</td>\n",
       "      <td>387</td>\n",
       "      <td>5</td>\n",
       "      <td>1997-11-11 17:47:39</td>\n",
       "      <td>1</td>\n",
       "    </tr>\n",
       "  </tbody>\n",
       "</table>\n",
       "</div>"
      ],
      "text/plain": [
       "   user_id  item_id  rating           timestamp  positive_feedback\n",
       "0      253      465       5 1998-04-03 18:34:27                  1\n",
       "1      286     1014       5 1997-11-17 15:38:45                  1\n",
       "2      200      222       5 1997-10-05 09:05:40                  1\n",
       "3      224       29       3 1998-02-21 23:40:57                  1\n",
       "4      122      387       5 1997-11-11 17:47:39                  1"
      ]
     },
     "execution_count": 10,
     "metadata": {},
     "output_type": "execute_result"
    }
   ],
   "source": [
    "ratings_implicit = ratings_explicit[ratings_explicit.positive_feedback == 1].reset_index(drop=True)\n",
    "ratings_implicit.head()"
   ]
  },
  {
   "cell_type": "markdown",
   "metadata": {},
   "source": [
    "#### Print Final Matrix Shapes"
   ]
  },
  {
   "cell_type": "code",
   "execution_count": 11,
   "metadata": {},
   "outputs": [
    {
     "name": "stdout",
     "output_type": "stream",
     "text": [
      "943 1682\n",
      "943 1483\n",
      "(100000, 5)\n",
      "(54194, 5)\n"
     ]
    }
   ],
   "source": [
    "print(ratings_explicit.user_id.nunique(), ratings_explicit.item_id.nunique())\n",
    "print(ratings_implicit.user_id.nunique(), ratings_implicit.item_id.nunique())\n",
    "\n",
    "print(ratings_explicit.shape)\n",
    "print(ratings_implicit.shape)"
   ]
  },
  {
   "cell_type": "markdown",
   "metadata": {},
   "source": [
    "#### Create Simple Interaction Data for Testing"
   ]
  },
  {
   "cell_type": "code",
   "execution_count": 23,
   "metadata": {},
   "outputs": [
    {
     "data": {
      "text/html": [
       "<div>\n",
       "<style scoped>\n",
       "    .dataframe tbody tr th:only-of-type {\n",
       "        vertical-align: middle;\n",
       "    }\n",
       "\n",
       "    .dataframe tbody tr th {\n",
       "        vertical-align: top;\n",
       "    }\n",
       "\n",
       "    .dataframe thead th {\n",
       "        text-align: right;\n",
       "    }\n",
       "</style>\n",
       "<table border=\"1\" class=\"dataframe\">\n",
       "  <thead>\n",
       "    <tr style=\"text-align: right;\">\n",
       "      <th></th>\n",
       "      <th>user_id</th>\n",
       "      <th>item_id</th>\n",
       "    </tr>\n",
       "  </thead>\n",
       "  <tbody>\n",
       "    <tr>\n",
       "      <th>0</th>\n",
       "      <td>196</td>\n",
       "      <td>242</td>\n",
       "    </tr>\n",
       "    <tr>\n",
       "      <th>1</th>\n",
       "      <td>186</td>\n",
       "      <td>302</td>\n",
       "    </tr>\n",
       "    <tr>\n",
       "      <th>2</th>\n",
       "      <td>22</td>\n",
       "      <td>377</td>\n",
       "    </tr>\n",
       "    <tr>\n",
       "      <th>3</th>\n",
       "      <td>244</td>\n",
       "      <td>51</td>\n",
       "    </tr>\n",
       "    <tr>\n",
       "      <th>4</th>\n",
       "      <td>166</td>\n",
       "      <td>346</td>\n",
       "    </tr>\n",
       "  </tbody>\n",
       "</table>\n",
       "</div>"
      ],
      "text/plain": [
       "   user_id  item_id\n",
       "0      196      242\n",
       "1      186      302\n",
       "2       22      377\n",
       "3      244       51\n",
       "4      166      346"
      ]
     },
     "execution_count": 23,
     "metadata": {},
     "output_type": "execute_result"
    }
   ],
   "source": [
    "interactions = ratings_explicit[['user_id', 'item_id']].astype(np.int32)\n",
    "interactions.head()"
   ]
  },
  {
   "cell_type": "code",
   "execution_count": 24,
   "metadata": {},
   "outputs": [
    {
     "name": "stdout",
     "output_type": "stream",
     "text": [
      "(100000, 2)\n",
      "user_id    int32\n",
      "item_id    int32\n",
      "dtype: object\n"
     ]
    }
   ],
   "source": [
    "print(interactions.shape)\n",
    "print(interactions.dtypes)"
   ]
  },
  {
   "cell_type": "markdown",
   "metadata": {},
   "source": [
    "#### Create Additional Inputs"
   ]
  },
  {
   "cell_type": "code",
   "execution_count": 25,
   "metadata": {},
   "outputs": [
    {
     "data": {
      "text/plain": [
       "(943, 1682)"
      ]
     },
     "execution_count": 25,
     "metadata": {},
     "output_type": "execute_result"
    }
   ],
   "source": [
    "all_users = np.sort(np.unique(interactions.user_id)).astype(np.int32)\n",
    "all_items = np.sort(np.unique(interactions.item_id)).astype(np.int32)\n",
    "len(all_users), len(all_items)"
   ]
  },
  {
   "cell_type": "code",
   "execution_count": 26,
   "metadata": {},
   "outputs": [
    {
     "data": {
      "text/plain": [
       "(numpy.ndarray, numpy.ndarray)"
      ]
     },
     "execution_count": 26,
     "metadata": {},
     "output_type": "execute_result"
    }
   ],
   "source": [
    "type(all_users), type(all_items)"
   ]
  },
  {
   "cell_type": "markdown",
   "metadata": {},
   "source": [
    "#### Create a Dictionary Lookup of Each User's Items"
   ]
  },
  {
   "cell_type": "code",
   "execution_count": 39,
   "metadata": {},
   "outputs": [],
   "source": [
    "user_items_py = interactions.groupby('user_id')['item_id'].apply(np.array, dtype=np.int32).to_dict()"
   ]
  },
  {
   "cell_type": "code",
   "execution_count": 40,
   "metadata": {},
   "outputs": [
    {
     "name": "stdout",
     "output_type": "stream",
     "text": [
      "943\n",
      "62\n"
     ]
    },
    {
     "data": {
      "text/plain": [
       "array([292, 251,  50, 314, 297, 290, 312, 281,  13, 280, 303, 308, 307,\n",
       "       257, 316, 315, 301, 313, 279, 299, 298,  19, 277, 282, 111, 258,\n",
       "       295, 242, 283, 276,   1, 305,  14, 287, 291, 293, 294, 310, 309,\n",
       "       306,  25, 273,  10, 311, 269, 255, 284, 274, 237, 300, 100, 127,\n",
       "       285, 289, 304, 272, 278, 288, 286, 275, 302, 296], dtype=int32)"
      ]
     },
     "execution_count": 40,
     "metadata": {},
     "output_type": "execute_result"
    }
   ],
   "source": [
    "print(len(user_items_py.keys()))\n",
    "print(len(user_items_py[2]))\n",
    "user_items_py[2]"
   ]
  },
  {
   "cell_type": "code",
   "execution_count": 41,
   "metadata": {},
   "outputs": [
    {
     "data": {
      "text/plain": [
       "(int, numpy.ndarray)"
      ]
     },
     "execution_count": 41,
     "metadata": {},
     "output_type": "execute_result"
    }
   ],
   "source": [
    "type(list(user_items_py.keys())[0]), type(user_items_py[1])"
   ]
  },
  {
   "cell_type": "markdown",
   "metadata": {},
   "source": [
    "#### Convert to Numba Dictionary"
   ]
  },
  {
   "cell_type": "code",
   "execution_count": 42,
   "metadata": {},
   "outputs": [],
   "source": [
    "user_items_nb = nb.typed.Dict.empty(key_type=nb.types.int32, value_type=nb.types.int32[:])"
   ]
  },
  {
   "cell_type": "code",
   "execution_count": 43,
   "metadata": {},
   "outputs": [],
   "source": [
    "for key, val in user_items_py.items():\n",
    "    user_items_nb[key] = val"
   ]
  },
  {
   "cell_type": "code",
   "execution_count": 44,
   "metadata": {},
   "outputs": [
    {
     "name": "stdout",
     "output_type": "stream",
     "text": [
      "943\n",
      "62\n"
     ]
    },
    {
     "data": {
      "text/plain": [
       "array([292, 251,  50, 314, 297, 290, 312, 281,  13, 280, 303, 308, 307,\n",
       "       257, 316, 315, 301, 313, 279, 299, 298,  19, 277, 282, 111, 258,\n",
       "       295, 242, 283, 276,   1, 305,  14, 287, 291, 293, 294, 310, 309,\n",
       "       306,  25, 273,  10, 311, 269, 255, 284, 274, 237, 300, 100, 127,\n",
       "       285, 289, 304, 272, 278, 288, 286, 275, 302, 296], dtype=int32)"
      ]
     },
     "execution_count": 44,
     "metadata": {},
     "output_type": "execute_result"
    }
   ],
   "source": [
    "print(len(user_items_nb.keys()))\n",
    "print(len(user_items_nb[2]))\n",
    "user_items_nb[2]"
   ]
  },
  {
   "cell_type": "code",
   "execution_count": 45,
   "metadata": {},
   "outputs": [
    {
     "data": {
      "text/plain": [
       "numba.typed.typeddict.Dict"
      ]
     },
     "execution_count": 45,
     "metadata": {},
     "output_type": "execute_result"
    }
   ],
   "source": [
    "type(user_items_nb)"
   ]
  },
  {
   "cell_type": "markdown",
   "metadata": {},
   "source": [
    "#### Attempt to Re-Write the (u, i, j) Sampling as a Numba Function"
   ]
  },
  {
   "cell_type": "code",
   "execution_count": 46,
   "metadata": {},
   "outputs": [
    {
     "data": {
      "text/plain": [
       "((100000, 2), dtype('int32'))"
      ]
     },
     "execution_count": 46,
     "metadata": {},
     "output_type": "execute_result"
    }
   ],
   "source": [
    "interactions = interactions.to_numpy()\n",
    "interactions.shape, interactions.dtype"
   ]
  },
  {
   "cell_type": "code",
   "execution_count": 47,
   "metadata": {},
   "outputs": [
    {
     "data": {
      "text/plain": [
       "((1682,), dtype('int32'))"
      ]
     },
     "execution_count": 47,
     "metadata": {},
     "output_type": "execute_result"
    }
   ],
   "source": [
    "all_items.shape, all_items.dtype"
   ]
  },
  {
   "cell_type": "code",
   "execution_count": 48,
   "metadata": {},
   "outputs": [
    {
     "data": {
      "text/plain": [
       "numba.typed.typeddict.Dict"
      ]
     },
     "execution_count": 48,
     "metadata": {},
     "output_type": "execute_result"
    }
   ],
   "source": [
    "type(user_items_nb)"
   ]
  },
  {
   "cell_type": "code",
   "execution_count": 50,
   "metadata": {},
   "outputs": [],
   "source": [
    "@nb.njit\n",
    "def test_fit_1(interactions, items, user_items):\n",
    "    \"\"\"return a series of (u, i, j) samples\"\"\"\n",
    "    \n",
    "    running_sum = 0\n",
    "    for r in range(len(interactions)):\n",
    "        u = interactions[r, 0]\n",
    "        i = interactions[r, 1]\n",
    "        j = np.random.choice(np.array(list(set(items) - set(user_items[u])), dtype=np.int32))\n",
    "        running_sum += u + (i - j)\n",
    "    return running_sum"
   ]
  },
  {
   "cell_type": "code",
   "execution_count": 127,
   "metadata": {},
   "outputs": [],
   "source": [
    "@nb.njit\n",
    "def isin(needle, haystack):\n",
    "    for i in range(len(haystack)):\n",
    "        if needle == haystack[i]:\n",
    "            return True\n",
    "    return False\n",
    "\n",
    "@nb.njit\n",
    "def test_fit_2(interactions, items, user_items):\n",
    "    \"\"\"return a series of (u, i, j) samples\"\"\"\n",
    "    \n",
    "    running_sum_1 = 0\n",
    "    running_sum_2 = 0\n",
    "    \n",
    "    for row in range(len(interactions)):\n",
    "        \n",
    "        # identify the user (u) and observed item (i)\n",
    "        u = interactions[row, 0]\n",
    "        i = interactions[row, 1]\n",
    "        n_items = len(items)\n",
    "        \n",
    "        # randomly sample an unobserved item (j)\n",
    "        while True:\n",
    "            j = int(n_items * random.random())\n",
    "            if not isin(j, user_items[u]):\n",
    "                break\n",
    "            \n",
    "        running_sum_1 += u + (i - j)\n",
    "        running_sum_2 += u + (j - i)\n",
    "        \n",
    "    return running_sum_1, running_sum_2\n",
    "   "
   ]
  },
  {
   "cell_type": "code",
   "execution_count": 128,
   "metadata": {},
   "outputs": [
    {
     "data": {
      "text/plain": [
       "(-944309, 93441259)"
      ]
     },
     "execution_count": 128,
     "metadata": {},
     "output_type": "execute_result"
    }
   ],
   "source": [
    "res_1, res_2 = test_fit_2(interactions, all_items, user_items_nb)\n",
    "res_1, res_2"
   ]
  },
  {
   "cell_type": "markdown",
   "metadata": {},
   "source": [
    "#### Profile the Speed of the Sampling Algorithms"
   ]
  },
  {
   "cell_type": "code",
   "execution_count": 129,
   "metadata": {},
   "outputs": [
    {
     "name": "stdout",
     "output_type": "stream",
     "text": [
      "2.55 s ± 48.7 ms per loop (mean ± std. dev. of 7 runs, 1 loop each)\n"
     ]
    }
   ],
   "source": [
    "%%timeit\n",
    "test_fit_1(interactions, all_items, user_items_nb)"
   ]
  },
  {
   "cell_type": "code",
   "execution_count": 130,
   "metadata": {},
   "outputs": [
    {
     "name": "stdout",
     "output_type": "stream",
     "text": [
      "18.1 ms ± 470 µs per loop (mean ± std. dev. of 7 runs, 100 loops each)\n"
     ]
    }
   ],
   "source": [
    "%%timeit\n",
    "test_fit_2(interactions, all_items, user_items_nb)"
   ]
  },
  {
   "cell_type": "markdown",
   "metadata": {},
   "source": [
    "#### Ensure the Correctness of the Sampling Algorithm"
   ]
  },
  {
   "cell_type": "code",
   "execution_count": 131,
   "metadata": {},
   "outputs": [],
   "source": [
    "def check_isin(needle, haystack):\n",
    "    for i in range(len(haystack)):\n",
    "        if needle == haystack[i]:\n",
    "            return True\n",
    "    return False\n",
    "\n",
    "\n",
    "def check_test_fit_2(interactions, items, user_items):\n",
    "    \"\"\"return a series of (u, i, j) samples\"\"\"\n",
    "    \n",
    "    samples = []\n",
    "    for row in range(len(interactions)):\n",
    "        \n",
    "        # identify the user (u) and observed item (i)\n",
    "        u = interactions[row, 0]\n",
    "        i = interactions[row, 1]\n",
    "        n_items = len(items)\n",
    "        \n",
    "        # randomly sample an unobserved item (j)\n",
    "        while True:\n",
    "            j = int(n_items * random.random())\n",
    "            if not isin(j, user_items[u]):\n",
    "                break\n",
    "                \n",
    "        samples.append((u, i, j))\n",
    "        \n",
    "    return samples"
   ]
  },
  {
   "cell_type": "code",
   "execution_count": 151,
   "metadata": {},
   "outputs": [],
   "source": [
    "samples = check_test_fit_2(interactions[:100], all_items, user_items_py)"
   ]
  },
  {
   "cell_type": "code",
   "execution_count": 152,
   "metadata": {},
   "outputs": [
    {
     "data": {
      "text/plain": [
       "array([[196, 242],\n",
       "       [186, 302],\n",
       "       [ 22, 377],\n",
       "       [244,  51],\n",
       "       [166, 346]], dtype=int32)"
      ]
     },
     "execution_count": 152,
     "metadata": {},
     "output_type": "execute_result"
    }
   ],
   "source": [
    "interactions[:5]"
   ]
  },
  {
   "cell_type": "code",
   "execution_count": 153,
   "metadata": {},
   "outputs": [
    {
     "name": "stdout",
     "output_type": "stream",
     "text": [
      "u:196  i:242  j:130  | i in observed: True | j in observed: False | j in all items: True\n",
      "u:186  i:302  j:1494 | i in observed: True | j in observed: False | j in all items: True\n",
      "u:22   i:377  j:126  | i in observed: True | j in observed: False | j in all items: True\n",
      "u:244  i:51   j:733  | i in observed: True | j in observed: False | j in all items: True\n",
      "u:166  i:346  j:1333 | i in observed: True | j in observed: False | j in all items: True\n",
      "u:298  i:474  j:639  | i in observed: True | j in observed: False | j in all items: True\n",
      "u:115  i:265  j:1216 | i in observed: True | j in observed: False | j in all items: True\n",
      "u:253  i:465  j:1321 | i in observed: True | j in observed: False | j in all items: True\n",
      "u:305  i:451  j:1042 | i in observed: True | j in observed: False | j in all items: True\n",
      "u:6    i:86   j:910  | i in observed: True | j in observed: False | j in all items: True\n",
      "u:62   i:257  j:1621 | i in observed: True | j in observed: False | j in all items: True\n",
      "u:286  i:1014 j:276  | i in observed: True | j in observed: False | j in all items: True\n",
      "u:200  i:222  j:40   | i in observed: True | j in observed: False | j in all items: True\n",
      "u:210  i:40   j:586  | i in observed: True | j in observed: False | j in all items: True\n",
      "u:224  i:29   j:835  | i in observed: True | j in observed: False | j in all items: True\n",
      "u:303  i:785  j:1136 | i in observed: True | j in observed: False | j in all items: True\n",
      "u:122  i:387  j:1035 | i in observed: True | j in observed: False | j in all items: True\n",
      "u:194  i:274  j:382  | i in observed: True | j in observed: False | j in all items: True\n",
      "u:291  i:1042 j:1287 | i in observed: True | j in observed: False | j in all items: True\n",
      "u:234  i:1184 j:1548 | i in observed: True | j in observed: False | j in all items: True\n",
      "u:119  i:392  j:150  | i in observed: True | j in observed: False | j in all items: True\n",
      "u:167  i:486  j:354  | i in observed: True | j in observed: False | j in all items: True\n",
      "u:299  i:144  j:743  | i in observed: True | j in observed: False | j in all items: True\n",
      "u:291  i:118  j:683  | i in observed: True | j in observed: False | j in all items: True\n",
      "u:308  i:1    j:919  | i in observed: True | j in observed: False | j in all items: True\n",
      "u:95   i:546  j:446  | i in observed: True | j in observed: False | j in all items: True\n",
      "u:38   i:95   j:1288 | i in observed: True | j in observed: False | j in all items: True\n",
      "u:102  i:768  j:485  | i in observed: True | j in observed: False | j in all items: True\n",
      "u:63   i:277  j:885  | i in observed: True | j in observed: False | j in all items: True\n",
      "u:160  i:234  j:889  | i in observed: True | j in observed: False | j in all items: True\n",
      "u:50   i:246  j:1305 | i in observed: True | j in observed: False | j in all items: True\n",
      "u:301  i:98   j:264  | i in observed: True | j in observed: False | j in all items: True\n",
      "u:225  i:193  j:629  | i in observed: True | j in observed: False | j in all items: True\n",
      "u:290  i:88   j:724  | i in observed: True | j in observed: False | j in all items: True\n",
      "u:97   i:194  j:394  | i in observed: True | j in observed: False | j in all items: True\n",
      "u:157  i:274  j:863  | i in observed: True | j in observed: False | j in all items: True\n",
      "u:181  i:1081 j:81   | i in observed: True | j in observed: False | j in all items: True\n",
      "u:278  i:603  j:154  | i in observed: True | j in observed: False | j in all items: True\n",
      "u:276  i:796  j:983  | i in observed: True | j in observed: False | j in all items: True\n",
      "u:7    i:32   j:1350 | i in observed: True | j in observed: False | j in all items: True\n",
      "u:10   i:16   j:1665 | i in observed: True | j in observed: False | j in all items: True\n",
      "u:284  i:304  j:1199 | i in observed: True | j in observed: False | j in all items: True\n",
      "u:201  i:979  j:477  | i in observed: True | j in observed: False | j in all items: True\n",
      "u:276  i:564  j:1530 | i in observed: True | j in observed: False | j in all items: True\n",
      "u:287  i:327  j:1119 | i in observed: True | j in observed: False | j in all items: True\n",
      "u:246  i:201  j:1536 | i in observed: True | j in observed: False | j in all items: True\n",
      "u:242  i:1137 j:221  | i in observed: True | j in observed: False | j in all items: True\n",
      "u:249  i:241  j:781  | i in observed: True | j in observed: False | j in all items: True\n",
      "u:99   i:4    j:1070 | i in observed: True | j in observed: False | j in all items: True\n",
      "u:178  i:332  j:1356 | i in observed: True | j in observed: False | j in all items: True\n",
      "u:251  i:100  j:1049 | i in observed: True | j in observed: False | j in all items: True\n",
      "u:81   i:432  j:1579 | i in observed: True | j in observed: False | j in all items: True\n",
      "u:260  i:322  j:520  | i in observed: True | j in observed: False | j in all items: True\n",
      "u:25   i:181  j:876  | i in observed: True | j in observed: False | j in all items: True\n",
      "u:59   i:196  j:222  | i in observed: True | j in observed: False | j in all items: True\n",
      "u:72   i:679  j:687  | i in observed: True | j in observed: False | j in all items: True\n",
      "u:87   i:384  j:753  | i in observed: True | j in observed: False | j in all items: True\n",
      "u:290  i:143  j:1654 | i in observed: True | j in observed: False | j in all items: True\n",
      "u:42   i:423  j:1359 | i in observed: True | j in observed: False | j in all items: True\n",
      "u:292  i:515  j:1229 | i in observed: True | j in observed: False | j in all items: True\n",
      "u:115  i:20   j:210  | i in observed: True | j in observed: False | j in all items: True\n",
      "u:20   i:288  j:302  | i in observed: True | j in observed: False | j in all items: True\n",
      "u:201  i:219  j:1554 | i in observed: True | j in observed: False | j in all items: True\n",
      "u:13   i:526  j:52   | i in observed: True | j in observed: False | j in all items: True\n",
      "u:246  i:919  j:1504 | i in observed: True | j in observed: False | j in all items: True\n",
      "u:138  i:26   j:1104 | i in observed: True | j in observed: False | j in all items: True\n",
      "u:167  i:232  j:1520 | i in observed: True | j in observed: False | j in all items: True\n",
      "u:60   i:427  j:1282 | i in observed: True | j in observed: False | j in all items: True\n",
      "u:57   i:304  j:1555 | i in observed: True | j in observed: False | j in all items: True\n",
      "u:223  i:274  j:1187 | i in observed: True | j in observed: False | j in all items: True\n",
      "u:189  i:512  j:897  | i in observed: True | j in observed: False | j in all items: True\n",
      "u:243  i:15   j:889  | i in observed: True | j in observed: False | j in all items: True\n",
      "u:92   i:1049 j:1377 | i in observed: True | j in observed: False | j in all items: True\n",
      "u:246  i:416  j:1608 | i in observed: True | j in observed: False | j in all items: True\n",
      "u:194  i:165  j:119  | i in observed: True | j in observed: False | j in all items: True\n",
      "u:241  i:690  j:506  | i in observed: True | j in observed: False | j in all items: True\n",
      "u:178  i:248  j:446  | i in observed: True | j in observed: False | j in all items: True\n",
      "u:254  i:1444 j:975  | i in observed: True | j in observed: False | j in all items: True\n",
      "u:293  i:5    j:754  | i in observed: True | j in observed: False | j in all items: True\n",
      "u:127  i:229  j:1268 | i in observed: True | j in observed: False | j in all items: True\n",
      "u:225  i:237  j:543  | i in observed: True | j in observed: False | j in all items: True\n",
      "u:299  i:229  j:672  | i in observed: True | j in observed: False | j in all items: True\n",
      "u:225  i:480  j:95   | i in observed: True | j in observed: False | j in all items: True\n",
      "u:276  i:54   j:1106 | i in observed: True | j in observed: False | j in all items: True\n",
      "u:291  i:144  j:1015 | i in observed: True | j in observed: False | j in all items: True\n",
      "u:222  i:366  j:438  | i in observed: True | j in observed: False | j in all items: True\n",
      "u:267  i:518  j:1674 | i in observed: True | j in observed: False | j in all items: True\n",
      "u:42   i:403  j:557  | i in observed: True | j in observed: False | j in all items: True\n",
      "u:11   i:111  j:468  | i in observed: True | j in observed: False | j in all items: True\n",
      "u:95   i:625  j:1467 | i in observed: True | j in observed: False | j in all items: True\n",
      "u:8    i:338  j:1314 | i in observed: True | j in observed: False | j in all items: True\n",
      "u:162  i:25   j:908  | i in observed: True | j in observed: False | j in all items: True\n",
      "u:87   i:1016 j:1522 | i in observed: True | j in observed: False | j in all items: True\n",
      "u:279  i:154  j:800  | i in observed: True | j in observed: False | j in all items: True\n",
      "u:145  i:275  j:1383 | i in observed: True | j in observed: False | j in all items: True\n",
      "u:119  i:1153 j:314  | i in observed: True | j in observed: False | j in all items: True\n",
      "u:62   i:498  j:1226 | i in observed: True | j in observed: False | j in all items: True\n",
      "u:62   i:382  j:522  | i in observed: True | j in observed: False | j in all items: True\n",
      "u:28   i:209  j:140  | i in observed: True | j in observed: False | j in all items: True\n",
      "u:135  i:23   j:488  | i in observed: True | j in observed: False | j in all items: True\n"
     ]
    }
   ],
   "source": [
    "for u, i, j in samples:\n",
    "    template = \"u:{:<4} i:{:<4} j:{:<4} | i in observed: {} | j in observed: {} | j in all items: {}\"\n",
    "    print(template.format(u, i, j, i in user_items_py[u], j in user_items_py[u], j in all_items))"
   ]
  },
  {
   "cell_type": "code",
   "execution_count": null,
   "metadata": {},
   "outputs": [],
   "source": []
  }
 ],
 "metadata": {
  "kernelspec": {
   "display_name": "Python 3",
   "language": "python",
   "name": "python3"
  },
  "language_info": {
   "codemirror_mode": {
    "name": "ipython",
    "version": 3
   },
   "file_extension": ".py",
   "mimetype": "text/x-python",
   "name": "python",
   "nbconvert_exporter": "python",
   "pygments_lexer": "ipython3",
   "version": "3.7.2"
  }
 },
 "nbformat": 4,
 "nbformat_minor": 4
}
