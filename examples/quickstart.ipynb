{
 "cells": [
  {
   "cell_type": "markdown",
   "metadata": {},
   "source": [
    "### Import Required Packages and Set Options"
   ]
  },
  {
   "cell_type": "code",
   "execution_count": 1,
   "metadata": {},
   "outputs": [],
   "source": [
    "import os\n",
    "import re\n",
    "import sys\n",
    "import git\n",
    "from datetime import datetime\n",
    "\n",
    "import numpy as np\n",
    "import numba as nb\n",
    "import pandas as pd\n",
    "\n",
    "import matplotlib.pyplot as plt\n",
    "import seaborn as sns"
   ]
  },
  {
   "cell_type": "code",
   "execution_count": 2,
   "metadata": {},
   "outputs": [],
   "source": [
    "sns.set_style('whitegrid')\n",
    "plt.rcParams['axes.titlesize'] = 14\n",
    "plt.rcParams['axes.labelsize'] = 12\n",
    "plt.rcParams['xtick.labelsize'] = 12\n",
    "plt.rcParams['ytick.labelsize'] = 12\n",
    "# plt.rcParams"
   ]
  },
  {
   "cell_type": "markdown",
   "metadata": {},
   "source": [
    "#### Put the Main Package Library on the PYTHONPATH"
   ]
  },
  {
   "cell_type": "code",
   "execution_count": 3,
   "metadata": {},
   "outputs": [
    {
     "data": {
      "text/plain": [
       "'/Users/ericlundquist/Repos/rankfm'"
      ]
     },
     "execution_count": 3,
     "metadata": {},
     "output_type": "execute_result"
    }
   ],
   "source": [
    "git_repo = git.Repo('.', search_parent_directories=True)\n",
    "git_root = git_repo.git.rev_parse('--show-toplevel')\n",
    "\n",
    "sys.path[0] = git_root\n",
    "sys.path[0]"
   ]
  },
  {
   "cell_type": "markdown",
   "metadata": {},
   "source": [
    "#### Dynamically Re-Load all Package Modules on Execution"
   ]
  },
  {
   "cell_type": "code",
   "execution_count": 4,
   "metadata": {},
   "outputs": [],
   "source": [
    "%load_ext autoreload\n",
    "%autoreload 2\n",
    "\n",
    "from rankfm.rankfm import RankFM\n",
    "from rankfm.evaluation import hit_rate, reciprocal_rank, discounted_cumulative_gain, precision, recall, diversity"
   ]
  },
  {
   "cell_type": "markdown",
   "metadata": {},
   "source": [
    "#### Set File Path Constants"
   ]
  },
  {
   "cell_type": "code",
   "execution_count": 5,
   "metadata": {},
   "outputs": [
    {
     "name": "stdout",
     "output_type": "stream",
     "text": [
      "/Users/ericlundquist/Repos/rankfm\n",
      "/Users/ericlundquist/Repos/rankfm/data/examples\n"
     ]
    }
   ],
   "source": [
    "data_path = os.path.join(git_root, \"data/examples\")\n",
    "print(\"\\n\".join([git_root, data_path]))"
   ]
  },
  {
   "cell_type": "markdown",
   "metadata": {},
   "source": [
    "### Load Example Data"
   ]
  },
  {
   "cell_type": "markdown",
   "metadata": {},
   "source": [
    "#### Load Interactions Data\n",
    "* `interactions` must be a `pd.dataframe` or `np.ndarray` with columns: `[user_id, item_id]` when used for model fitting\n",
    "* the rows of `interactions` should represent observed or implied positive feedback for the user/item pair\n",
    "* examples of implicit feedback include product purchases, movie/article views, page views, clicks, etc.\n",
    "* the `user_id` and/or `item_id` identifiers can be arbitrary integers or even strings as long as they are unique identifiers for users/items\n",
    "* RankFM internally maps raw `user_id` and `item_id` values to zero-based index positions but maps all output back to original identifier values\n",
    "* it is recommended you perform any cross-validation or data splitting strategy requiring additional columns prior to preparing the interaction data for model fitting\n",
    "* in this example we'll assume all observed movie ratings count as positive implicit feedback regardless of numerical rating `[1-5]`\n",
    "* this most closely represents the intended data and modeling context for which RankFM was designed (implicit preferences recommendation)"
   ]
  },
  {
   "cell_type": "code",
   "execution_count": 6,
   "metadata": {},
   "outputs": [
    {
     "data": {
      "text/html": [
       "<div>\n",
       "<style scoped>\n",
       "    .dataframe tbody tr th:only-of-type {\n",
       "        vertical-align: middle;\n",
       "    }\n",
       "\n",
       "    .dataframe tbody tr th {\n",
       "        vertical-align: top;\n",
       "    }\n",
       "\n",
       "    .dataframe thead th {\n",
       "        text-align: right;\n",
       "    }\n",
       "</style>\n",
       "<table border=\"1\" class=\"dataframe\">\n",
       "  <thead>\n",
       "    <tr style=\"text-align: right;\">\n",
       "      <th></th>\n",
       "      <th>user_id</th>\n",
       "      <th>item_id</th>\n",
       "      <th>rating</th>\n",
       "      <th>timestamp</th>\n",
       "    </tr>\n",
       "  </thead>\n",
       "  <tbody>\n",
       "    <tr>\n",
       "      <th>0</th>\n",
       "      <td>1</td>\n",
       "      <td>1193</td>\n",
       "      <td>5</td>\n",
       "      <td>2000-12-31 22:12:40</td>\n",
       "    </tr>\n",
       "    <tr>\n",
       "      <th>1</th>\n",
       "      <td>1</td>\n",
       "      <td>661</td>\n",
       "      <td>3</td>\n",
       "      <td>2000-12-31 22:35:09</td>\n",
       "    </tr>\n",
       "    <tr>\n",
       "      <th>2</th>\n",
       "      <td>1</td>\n",
       "      <td>914</td>\n",
       "      <td>3</td>\n",
       "      <td>2000-12-31 22:32:48</td>\n",
       "    </tr>\n",
       "    <tr>\n",
       "      <th>3</th>\n",
       "      <td>1</td>\n",
       "      <td>3408</td>\n",
       "      <td>4</td>\n",
       "      <td>2000-12-31 22:04:35</td>\n",
       "    </tr>\n",
       "    <tr>\n",
       "      <th>4</th>\n",
       "      <td>1</td>\n",
       "      <td>2355</td>\n",
       "      <td>5</td>\n",
       "      <td>2001-01-06 23:38:11</td>\n",
       "    </tr>\n",
       "  </tbody>\n",
       "</table>\n",
       "</div>"
      ],
      "text/plain": [
       "   user_id  item_id  rating            timestamp\n",
       "0        1     1193       5  2000-12-31 22:12:40\n",
       "1        1      661       3  2000-12-31 22:35:09\n",
       "2        1      914       3  2000-12-31 22:32:48\n",
       "3        1     3408       4  2000-12-31 22:04:35\n",
       "4        1     2355       5  2001-01-06 23:38:11"
      ]
     },
     "execution_count": 6,
     "metadata": {},
     "output_type": "execute_result"
    }
   ],
   "source": [
    "interactions = pd.read_csv(os.path.join(data_path, 'ML_1M_RATINGS.csv'))\n",
    "interactions.head()"
   ]
  },
  {
   "cell_type": "markdown",
   "metadata": {},
   "source": [
    "#### Load User Features\n",
    "* `user_features` must be a `pd.dataframe` or `np.ndarray` with columns: `[user_id, uf_1, ... , uf_n]`\n",
    "* the first column must be the `user_id` and the set of `user_id` values must match the unique users found in `interactions`\n",
    "* the additional columns should be user attributes/features that can be coerced to `float32` data type (i.e. no strings)\n",
    "* care should be taken to scale any continuous features prior to model fitting for numerical stability - often dummy/tag features work best"
   ]
  },
  {
   "cell_type": "code",
   "execution_count": 7,
   "metadata": {},
   "outputs": [
    {
     "data": {
      "text/html": [
       "<div>\n",
       "<style scoped>\n",
       "    .dataframe tbody tr th:only-of-type {\n",
       "        vertical-align: middle;\n",
       "    }\n",
       "\n",
       "    .dataframe tbody tr th {\n",
       "        vertical-align: top;\n",
       "    }\n",
       "\n",
       "    .dataframe thead th {\n",
       "        text-align: right;\n",
       "    }\n",
       "</style>\n",
       "<table border=\"1\" class=\"dataframe\">\n",
       "  <thead>\n",
       "    <tr style=\"text-align: right;\">\n",
       "      <th></th>\n",
       "      <th>user_id</th>\n",
       "      <th>gender__F</th>\n",
       "      <th>gender__M</th>\n",
       "      <th>agegrp__1</th>\n",
       "      <th>agegrp__18</th>\n",
       "      <th>agegrp__25</th>\n",
       "      <th>agegrp__35</th>\n",
       "      <th>agegrp__45</th>\n",
       "      <th>agegrp__50</th>\n",
       "      <th>agegrp__56</th>\n",
       "      <th>...</th>\n",
       "      <th>occupation__11</th>\n",
       "      <th>occupation__12</th>\n",
       "      <th>occupation__13</th>\n",
       "      <th>occupation__14</th>\n",
       "      <th>occupation__15</th>\n",
       "      <th>occupation__16</th>\n",
       "      <th>occupation__17</th>\n",
       "      <th>occupation__18</th>\n",
       "      <th>occupation__19</th>\n",
       "      <th>occupation__20</th>\n",
       "    </tr>\n",
       "  </thead>\n",
       "  <tbody>\n",
       "    <tr>\n",
       "      <th>0</th>\n",
       "      <td>1</td>\n",
       "      <td>1</td>\n",
       "      <td>0</td>\n",
       "      <td>1</td>\n",
       "      <td>0</td>\n",
       "      <td>0</td>\n",
       "      <td>0</td>\n",
       "      <td>0</td>\n",
       "      <td>0</td>\n",
       "      <td>0</td>\n",
       "      <td>...</td>\n",
       "      <td>0</td>\n",
       "      <td>0</td>\n",
       "      <td>0</td>\n",
       "      <td>0</td>\n",
       "      <td>0</td>\n",
       "      <td>0</td>\n",
       "      <td>0</td>\n",
       "      <td>0</td>\n",
       "      <td>0</td>\n",
       "      <td>0</td>\n",
       "    </tr>\n",
       "    <tr>\n",
       "      <th>1</th>\n",
       "      <td>2</td>\n",
       "      <td>0</td>\n",
       "      <td>1</td>\n",
       "      <td>0</td>\n",
       "      <td>0</td>\n",
       "      <td>0</td>\n",
       "      <td>0</td>\n",
       "      <td>0</td>\n",
       "      <td>0</td>\n",
       "      <td>1</td>\n",
       "      <td>...</td>\n",
       "      <td>0</td>\n",
       "      <td>0</td>\n",
       "      <td>0</td>\n",
       "      <td>0</td>\n",
       "      <td>0</td>\n",
       "      <td>1</td>\n",
       "      <td>0</td>\n",
       "      <td>0</td>\n",
       "      <td>0</td>\n",
       "      <td>0</td>\n",
       "    </tr>\n",
       "    <tr>\n",
       "      <th>2</th>\n",
       "      <td>3</td>\n",
       "      <td>0</td>\n",
       "      <td>1</td>\n",
       "      <td>0</td>\n",
       "      <td>0</td>\n",
       "      <td>1</td>\n",
       "      <td>0</td>\n",
       "      <td>0</td>\n",
       "      <td>0</td>\n",
       "      <td>0</td>\n",
       "      <td>...</td>\n",
       "      <td>0</td>\n",
       "      <td>0</td>\n",
       "      <td>0</td>\n",
       "      <td>0</td>\n",
       "      <td>1</td>\n",
       "      <td>0</td>\n",
       "      <td>0</td>\n",
       "      <td>0</td>\n",
       "      <td>0</td>\n",
       "      <td>0</td>\n",
       "    </tr>\n",
       "    <tr>\n",
       "      <th>3</th>\n",
       "      <td>4</td>\n",
       "      <td>0</td>\n",
       "      <td>1</td>\n",
       "      <td>0</td>\n",
       "      <td>0</td>\n",
       "      <td>0</td>\n",
       "      <td>0</td>\n",
       "      <td>1</td>\n",
       "      <td>0</td>\n",
       "      <td>0</td>\n",
       "      <td>...</td>\n",
       "      <td>0</td>\n",
       "      <td>0</td>\n",
       "      <td>0</td>\n",
       "      <td>0</td>\n",
       "      <td>0</td>\n",
       "      <td>0</td>\n",
       "      <td>0</td>\n",
       "      <td>0</td>\n",
       "      <td>0</td>\n",
       "      <td>0</td>\n",
       "    </tr>\n",
       "    <tr>\n",
       "      <th>4</th>\n",
       "      <td>5</td>\n",
       "      <td>0</td>\n",
       "      <td>1</td>\n",
       "      <td>0</td>\n",
       "      <td>0</td>\n",
       "      <td>1</td>\n",
       "      <td>0</td>\n",
       "      <td>0</td>\n",
       "      <td>0</td>\n",
       "      <td>0</td>\n",
       "      <td>...</td>\n",
       "      <td>0</td>\n",
       "      <td>0</td>\n",
       "      <td>0</td>\n",
       "      <td>0</td>\n",
       "      <td>0</td>\n",
       "      <td>0</td>\n",
       "      <td>0</td>\n",
       "      <td>0</td>\n",
       "      <td>0</td>\n",
       "      <td>1</td>\n",
       "    </tr>\n",
       "  </tbody>\n",
       "</table>\n",
       "<p>5 rows × 31 columns</p>\n",
       "</div>"
      ],
      "text/plain": [
       "   user_id  gender__F  gender__M  agegrp__1  agegrp__18  agegrp__25  \\\n",
       "0        1          1          0          1           0           0   \n",
       "1        2          0          1          0           0           0   \n",
       "2        3          0          1          0           0           1   \n",
       "3        4          0          1          0           0           0   \n",
       "4        5          0          1          0           0           1   \n",
       "\n",
       "   agegrp__35  agegrp__45  agegrp__50  agegrp__56  ...  occupation__11  \\\n",
       "0           0           0           0           0  ...               0   \n",
       "1           0           0           0           1  ...               0   \n",
       "2           0           0           0           0  ...               0   \n",
       "3           0           1           0           0  ...               0   \n",
       "4           0           0           0           0  ...               0   \n",
       "\n",
       "   occupation__12  occupation__13  occupation__14  occupation__15  \\\n",
       "0               0               0               0               0   \n",
       "1               0               0               0               0   \n",
       "2               0               0               0               1   \n",
       "3               0               0               0               0   \n",
       "4               0               0               0               0   \n",
       "\n",
       "   occupation__16  occupation__17  occupation__18  occupation__19  \\\n",
       "0               0               0               0               0   \n",
       "1               1               0               0               0   \n",
       "2               0               0               0               0   \n",
       "3               0               0               0               0   \n",
       "4               0               0               0               0   \n",
       "\n",
       "   occupation__20  \n",
       "0               0  \n",
       "1               0  \n",
       "2               0  \n",
       "3               0  \n",
       "4               1  \n",
       "\n",
       "[5 rows x 31 columns]"
      ]
     },
     "execution_count": 7,
     "metadata": {},
     "output_type": "execute_result"
    }
   ],
   "source": [
    "user_features = pd.read_csv(os.path.join(data_path, 'ML_1M_USERS.csv'))\n",
    "user_features.head()"
   ]
  },
  {
   "cell_type": "markdown",
   "metadata": {},
   "source": [
    "#### Load Item Features\n",
    "* `item_features` must be a `pd.dataframe` or `np.ndarray` with columns: `[item_id, uf_1, ... , uf_n]`\n",
    "* the first column must be the `item_id` and the set of `item_id` values must match the unique items found in `interactions`\n",
    "* the additional columns should be item attributes/features that can be coerced to `float32` data type (i.e. no strings)\n",
    "* care should be taken to scale any continuous features prior to model fitting for numerical stability - often dummy/tag features work best"
   ]
  },
  {
   "cell_type": "code",
   "execution_count": 8,
   "metadata": {},
   "outputs": [
    {
     "data": {
      "text/html": [
       "<div>\n",
       "<style scoped>\n",
       "    .dataframe tbody tr th:only-of-type {\n",
       "        vertical-align: middle;\n",
       "    }\n",
       "\n",
       "    .dataframe tbody tr th {\n",
       "        vertical-align: top;\n",
       "    }\n",
       "\n",
       "    .dataframe thead th {\n",
       "        text-align: right;\n",
       "    }\n",
       "</style>\n",
       "<table border=\"1\" class=\"dataframe\">\n",
       "  <thead>\n",
       "    <tr style=\"text-align: right;\">\n",
       "      <th></th>\n",
       "      <th>item_id</th>\n",
       "      <th>action</th>\n",
       "      <th>adventure</th>\n",
       "      <th>animation</th>\n",
       "      <th>childrens</th>\n",
       "      <th>comedy</th>\n",
       "      <th>crime</th>\n",
       "      <th>documentary</th>\n",
       "      <th>drama</th>\n",
       "      <th>fantasy</th>\n",
       "      <th>filmnoir</th>\n",
       "      <th>horror</th>\n",
       "      <th>musical</th>\n",
       "      <th>mystery</th>\n",
       "      <th>romance</th>\n",
       "      <th>scifi</th>\n",
       "      <th>thriller</th>\n",
       "      <th>war</th>\n",
       "      <th>western</th>\n",
       "    </tr>\n",
       "  </thead>\n",
       "  <tbody>\n",
       "    <tr>\n",
       "      <th>0</th>\n",
       "      <td>1</td>\n",
       "      <td>0</td>\n",
       "      <td>0</td>\n",
       "      <td>1</td>\n",
       "      <td>1</td>\n",
       "      <td>1</td>\n",
       "      <td>0</td>\n",
       "      <td>0</td>\n",
       "      <td>0</td>\n",
       "      <td>0</td>\n",
       "      <td>0</td>\n",
       "      <td>0</td>\n",
       "      <td>0</td>\n",
       "      <td>0</td>\n",
       "      <td>0</td>\n",
       "      <td>0</td>\n",
       "      <td>0</td>\n",
       "      <td>0</td>\n",
       "      <td>0</td>\n",
       "    </tr>\n",
       "    <tr>\n",
       "      <th>1</th>\n",
       "      <td>2</td>\n",
       "      <td>0</td>\n",
       "      <td>1</td>\n",
       "      <td>0</td>\n",
       "      <td>1</td>\n",
       "      <td>0</td>\n",
       "      <td>0</td>\n",
       "      <td>0</td>\n",
       "      <td>0</td>\n",
       "      <td>1</td>\n",
       "      <td>0</td>\n",
       "      <td>0</td>\n",
       "      <td>0</td>\n",
       "      <td>0</td>\n",
       "      <td>0</td>\n",
       "      <td>0</td>\n",
       "      <td>0</td>\n",
       "      <td>0</td>\n",
       "      <td>0</td>\n",
       "    </tr>\n",
       "    <tr>\n",
       "      <th>2</th>\n",
       "      <td>3</td>\n",
       "      <td>0</td>\n",
       "      <td>0</td>\n",
       "      <td>0</td>\n",
       "      <td>0</td>\n",
       "      <td>1</td>\n",
       "      <td>0</td>\n",
       "      <td>0</td>\n",
       "      <td>0</td>\n",
       "      <td>0</td>\n",
       "      <td>0</td>\n",
       "      <td>0</td>\n",
       "      <td>0</td>\n",
       "      <td>0</td>\n",
       "      <td>1</td>\n",
       "      <td>0</td>\n",
       "      <td>0</td>\n",
       "      <td>0</td>\n",
       "      <td>0</td>\n",
       "    </tr>\n",
       "    <tr>\n",
       "      <th>3</th>\n",
       "      <td>4</td>\n",
       "      <td>0</td>\n",
       "      <td>0</td>\n",
       "      <td>0</td>\n",
       "      <td>0</td>\n",
       "      <td>1</td>\n",
       "      <td>0</td>\n",
       "      <td>0</td>\n",
       "      <td>1</td>\n",
       "      <td>0</td>\n",
       "      <td>0</td>\n",
       "      <td>0</td>\n",
       "      <td>0</td>\n",
       "      <td>0</td>\n",
       "      <td>0</td>\n",
       "      <td>0</td>\n",
       "      <td>0</td>\n",
       "      <td>0</td>\n",
       "      <td>0</td>\n",
       "    </tr>\n",
       "    <tr>\n",
       "      <th>4</th>\n",
       "      <td>5</td>\n",
       "      <td>0</td>\n",
       "      <td>0</td>\n",
       "      <td>0</td>\n",
       "      <td>0</td>\n",
       "      <td>1</td>\n",
       "      <td>0</td>\n",
       "      <td>0</td>\n",
       "      <td>0</td>\n",
       "      <td>0</td>\n",
       "      <td>0</td>\n",
       "      <td>0</td>\n",
       "      <td>0</td>\n",
       "      <td>0</td>\n",
       "      <td>0</td>\n",
       "      <td>0</td>\n",
       "      <td>0</td>\n",
       "      <td>0</td>\n",
       "      <td>0</td>\n",
       "    </tr>\n",
       "  </tbody>\n",
       "</table>\n",
       "</div>"
      ],
      "text/plain": [
       "   item_id  action  adventure  animation  childrens  comedy  crime  \\\n",
       "0        1       0          0          1          1       1      0   \n",
       "1        2       0          1          0          1       0      0   \n",
       "2        3       0          0          0          0       1      0   \n",
       "3        4       0          0          0          0       1      0   \n",
       "4        5       0          0          0          0       1      0   \n",
       "\n",
       "   documentary  drama  fantasy  filmnoir  horror  musical  mystery  romance  \\\n",
       "0            0      0        0         0       0        0        0        0   \n",
       "1            0      0        1         0       0        0        0        0   \n",
       "2            0      0        0         0       0        0        0        1   \n",
       "3            0      1        0         0       0        0        0        0   \n",
       "4            0      0        0         0       0        0        0        0   \n",
       "\n",
       "   scifi  thriller  war  western  \n",
       "0      0         0    0        0  \n",
       "1      0         0    0        0  \n",
       "2      0         0    0        0  \n",
       "3      0         0    0        0  \n",
       "4      0         0    0        0  "
      ]
     },
     "execution_count": 8,
     "metadata": {},
     "output_type": "execute_result"
    }
   ],
   "source": [
    "item_features = pd.read_csv(os.path.join(data_path, 'ML_1M_ITEMS.csv'))\n",
    "item_features.head()"
   ]
  },
  {
   "cell_type": "markdown",
   "metadata": {},
   "source": [
    "#### Load Item Names\n",
    "* these won't be used for model fitting, but are important when reviewing the output for face validity\n",
    "* also analyzing recommended/similar movies isn't any fun if you can't see the titles!"
   ]
  },
  {
   "cell_type": "code",
   "execution_count": 9,
   "metadata": {},
   "outputs": [
    {
     "data": {
      "text/html": [
       "<div>\n",
       "<style scoped>\n",
       "    .dataframe tbody tr th:only-of-type {\n",
       "        vertical-align: middle;\n",
       "    }\n",
       "\n",
       "    .dataframe tbody tr th {\n",
       "        vertical-align: top;\n",
       "    }\n",
       "\n",
       "    .dataframe thead th {\n",
       "        text-align: right;\n",
       "    }\n",
       "</style>\n",
       "<table border=\"1\" class=\"dataframe\">\n",
       "  <thead>\n",
       "    <tr style=\"text-align: right;\">\n",
       "      <th></th>\n",
       "      <th>item_id</th>\n",
       "      <th>title</th>\n",
       "      <th>genres</th>\n",
       "    </tr>\n",
       "  </thead>\n",
       "  <tbody>\n",
       "    <tr>\n",
       "      <th>0</th>\n",
       "      <td>1</td>\n",
       "      <td>Toy Story (1995)</td>\n",
       "      <td>Animation|Children's|Comedy</td>\n",
       "    </tr>\n",
       "    <tr>\n",
       "      <th>1</th>\n",
       "      <td>2</td>\n",
       "      <td>Jumanji (1995)</td>\n",
       "      <td>Adventure|Children's|Fantasy</td>\n",
       "    </tr>\n",
       "    <tr>\n",
       "      <th>2</th>\n",
       "      <td>3</td>\n",
       "      <td>Grumpier Old Men (1995)</td>\n",
       "      <td>Comedy|Romance</td>\n",
       "    </tr>\n",
       "    <tr>\n",
       "      <th>3</th>\n",
       "      <td>4</td>\n",
       "      <td>Waiting to Exhale (1995)</td>\n",
       "      <td>Comedy|Drama</td>\n",
       "    </tr>\n",
       "    <tr>\n",
       "      <th>4</th>\n",
       "      <td>5</td>\n",
       "      <td>Father of the Bride Part II (1995)</td>\n",
       "      <td>Comedy</td>\n",
       "    </tr>\n",
       "  </tbody>\n",
       "</table>\n",
       "</div>"
      ],
      "text/plain": [
       "   item_id                               title                        genres\n",
       "0        1                    Toy Story (1995)   Animation|Children's|Comedy\n",
       "1        2                      Jumanji (1995)  Adventure|Children's|Fantasy\n",
       "2        3             Grumpier Old Men (1995)                Comedy|Romance\n",
       "3        4            Waiting to Exhale (1995)                  Comedy|Drama\n",
       "4        5  Father of the Bride Part II (1995)                        Comedy"
      ]
     },
     "execution_count": 9,
     "metadata": {},
     "output_type": "execute_result"
    }
   ],
   "source": [
    "item_names = pd.read_csv(os.path.join(data_path, 'ML_1M_ITEM_NAMES.csv'))\n",
    "item_names.head()"
   ]
  },
  {
   "cell_type": "markdown",
   "metadata": {},
   "source": [
    "#### Check Matrix/Vector Dimensions"
   ]
  },
  {
   "cell_type": "code",
   "execution_count": 10,
   "metadata": {},
   "outputs": [
    {
     "name": "stdout",
     "output_type": "stream",
     "text": [
      "interactions shape: (1000209, 4)\n",
      "interactions unique users: 6040\n",
      "interactions unique items: 3706\n",
      "user features users: 6040\n",
      "item features items: 3706\n"
     ]
    }
   ],
   "source": [
    "unique_users = interactions.user_id.nunique()\n",
    "unique_items = interactions.item_id.nunique()\n",
    "\n",
    "print(\"interactions shape: {}\".format(interactions.shape))\n",
    "print(\"interactions unique users: {}\".format(interactions.user_id.nunique()))\n",
    "print(\"interactions unique items: {}\".format(interactions.item_id.nunique()))\n",
    "\n",
    "print(\"user features users:\", interactions.user_id.nunique())\n",
    "print(\"item features items:\", interactions.item_id.nunique())"
   ]
  },
  {
   "cell_type": "markdown",
   "metadata": {},
   "source": [
    "#### Evaluate Interaction Matrix Sparsity"
   ]
  },
  {
   "cell_type": "code",
   "execution_count": 11,
   "metadata": {},
   "outputs": [
    {
     "name": "stdout",
     "output_type": "stream",
     "text": [
      "interaction matrix sparsity: 95.5%\n"
     ]
    }
   ],
   "source": [
    "sparsity = 1 - (len(interactions) / (unique_users * unique_items))\n",
    "print(\"interaction matrix sparsity: {}%\".format(round(100 * sparsity, 1)))"
   ]
  },
  {
   "cell_type": "markdown",
   "metadata": {},
   "source": [
    "#### Split Interactions Data into (Train, Valid) for Model Evaluation\n",
    "* we'll randomly split off 25% of the observed user/item interactions for model validation\n",
    "* take care to note any users/items in the validation set not appearing in the training set\n",
    "* for model fitting we'll have to unify the set of users/items across `interactions`, `user_features`, `item_features`\n",
    "* for scoring/recommendation RankFM has the `cold_start` option to either drop unseen users/items or set model output to np.nan"
   ]
  },
  {
   "cell_type": "code",
   "execution_count": 12,
   "metadata": {},
   "outputs": [],
   "source": [
    "np.random.seed(1492)\n",
    "interactions['random'] = np.random.random(size=len(interactions))\n",
    "test_pct = 0.25"
   ]
  },
  {
   "cell_type": "code",
   "execution_count": 13,
   "metadata": {},
   "outputs": [
    {
     "name": "stdout",
     "output_type": "stream",
     "text": [
      "train shape: (749724, 2)\n",
      "valid shape: (250485, 2)\n",
      "train users: 6040\n",
      "valid users: 6038\n",
      "cold-start users: set()\n",
      "train items: 3666\n",
      "valid items: 3531\n",
      "cold-start items: {3202, 2563, 644, 3460, 3209, 3722, 139, 396, 651, 1555, 1434, 1915, 1830, 2217, 2218, 687, 1842, 2742, 1851, 2619, 576, 3321, 3277, 3323, 3280, 601, 3290, 3164, 989, 865, 226, 3172, 1386, 878, 3187, 758, 3065, 763, 2556, 127}\n"
     ]
    }
   ],
   "source": [
    "train_mask = interactions['random'] <  (1 - test_pct)\n",
    "valid_mask = interactions['random'] >= (1 - test_pct)\n",
    "\n",
    "interactions_train = interactions[train_mask][['user_id', 'item_id']]\n",
    "interactions_valid = interactions[valid_mask][['user_id', 'item_id']]\n",
    "\n",
    "train_users = np.sort(interactions_train.user_id.unique())\n",
    "valid_users = np.sort(interactions_valid.user_id.unique())\n",
    "cold_start_users = set(valid_users) - set(train_users)\n",
    "\n",
    "train_items = np.sort(interactions_train.item_id.unique())\n",
    "valid_items = np.sort(interactions_valid.item_id.unique())\n",
    "cold_start_items = set(valid_items) - set(train_items)\n",
    "\n",
    "print(\"train shape: {}\".format(interactions_train.shape))\n",
    "print(\"valid shape: {}\".format(interactions_valid.shape))\n",
    "\n",
    "print(\"train users: {}\".format(len(train_users)))\n",
    "print(\"valid users: {}\".format(len(valid_users)))\n",
    "print(\"cold-start users: {}\".format(cold_start_users))\n",
    "\n",
    "print(\"train items: {}\".format(len(train_items)))\n",
    "print(\"valid items: {}\".format(len(valid_items)))\n",
    "print(\"cold-start items: {}\".format(cold_start_items))"
   ]
  },
  {
   "cell_type": "code",
   "execution_count": 14,
   "metadata": {},
   "outputs": [
    {
     "data": {
      "text/plain": [
       "((6040, 31), (3666, 19))"
      ]
     },
     "execution_count": 14,
     "metadata": {},
     "output_type": "execute_result"
    }
   ],
   "source": [
    "user_features = user_features[user_features.user_id.isin(train_users)]\n",
    "item_features = item_features[item_features.item_id.isin(train_items)]\n",
    "user_features.shape, item_features.shape"
   ]
  },
  {
   "cell_type": "markdown",
   "metadata": {},
   "source": [
    "### Fit the Model on the Training Data and Evaluate Out-of-Sample Performance Metrics"
   ]
  },
  {
   "cell_type": "markdown",
   "metadata": {},
   "source": [
    "#### Initialize the Model Object"
   ]
  },
  {
   "cell_type": "code",
   "execution_count": 15,
   "metadata": {},
   "outputs": [
    {
     "data": {
      "text/plain": [
       "<rankfm.rankfm.RankFM at 0x102182860>"
      ]
     },
     "execution_count": 15,
     "metadata": {},
     "output_type": "execute_result"
    }
   ],
   "source": [
    "model = RankFM(factors=10, regularization=0.01, sigma=0.1, learning_rate=0.10, learning_schedule='invscaling', learning_exponent=0.25)\n",
    "model"
   ]
  },
  {
   "cell_type": "markdown",
   "metadata": {},
   "source": [
    "#### Fit the Model on the Training Data\n",
    "* each epoch represents one full pass through all observed user/item interactions in the training data\n",
    "* the `verbose` flag will print the current training epoch as well as the epoch's penalized log-likelihood value\n",
    "* the training algorithm attempts to maximize the model's log likelihood which represents user preferences for observed items over unobserved items\n",
    "* the log likelihood isn't 1:1 correlated with our recommendation/ranking evaluation metrics but serves as a decent proxy for training progress "
   ]
  },
  {
   "cell_type": "code",
   "execution_count": 33,
   "metadata": {},
   "outputs": [
    {
     "name": "stdout",
     "output_type": "stream",
     "text": [
      "\n",
      "training epoch: 0\n",
      "log likelihood: -294779.87\n",
      "\n",
      "training epoch: 1\n",
      "log likelihood: -258684.29\n",
      "\n",
      "training epoch: 2\n",
      "log likelihood: -230970.33\n",
      "\n",
      "training epoch: 3\n",
      "log likelihood: -214934.08\n",
      "\n",
      "training epoch: 4\n",
      "log likelihood: -204532.67\n",
      "\n",
      "training epoch: 5\n",
      "log likelihood: -198270.04\n",
      "\n",
      "training epoch: 6\n",
      "log likelihood: -194102.99\n",
      "\n",
      "training epoch: 7\n",
      "log likelihood: -190850.9\n",
      "\n",
      "training epoch: 8\n",
      "log likelihood: -187910.56\n",
      "\n",
      "training epoch: 9\n",
      "log likelihood: -186048.69\n",
      "\n",
      "training epoch: 10\n",
      "log likelihood: -184025.93\n",
      "\n",
      "training epoch: 11\n",
      "log likelihood: -183383.26\n",
      "\n",
      "training epoch: 12\n",
      "log likelihood: -181732.63\n",
      "\n",
      "training epoch: 13\n",
      "log likelihood: -181369.65\n",
      "\n",
      "training epoch: 14\n",
      "log likelihood: -180562.39\n",
      "\n",
      "training epoch: 15\n",
      "log likelihood: -179629.65\n",
      "\n",
      "training epoch: 16\n",
      "log likelihood: -179000.55\n",
      "\n",
      "training epoch: 17\n",
      "log likelihood: -179065.06\n",
      "\n",
      "training epoch: 18\n",
      "log likelihood: -178647.34\n",
      "\n",
      "training epoch: 19\n",
      "log likelihood: -177821.28\n",
      "\n",
      "training epoch: 20\n",
      "log likelihood: -178633.02\n",
      "\n",
      "training epoch: 21\n",
      "log likelihood: -177928.82\n",
      "\n",
      "training epoch: 22\n",
      "log likelihood: -177406.55\n",
      "\n",
      "training epoch: 23\n",
      "log likelihood: -177061.03\n",
      "\n",
      "training epoch: 24\n",
      "log likelihood: -176709.6\n",
      "\n",
      "training epoch: 25\n",
      "log likelihood: -176996.15\n",
      "\n",
      "training epoch: 26\n",
      "log likelihood: -176650.32\n",
      "\n",
      "training epoch: 27\n",
      "log likelihood: -176888.62\n",
      "\n",
      "training epoch: 28\n",
      "log likelihood: -176397.76\n",
      "\n",
      "training epoch: 29\n",
      "log likelihood: -176137.63\n",
      "\n",
      "training epoch: 30\n",
      "log likelihood: -175768.4\n",
      "\n",
      "training epoch: 31\n",
      "log likelihood: -175698.45\n",
      "\n",
      "training epoch: 32\n",
      "log likelihood: -175732.17\n",
      "\n",
      "training epoch: 33\n",
      "log likelihood: -175400.6\n",
      "\n",
      "training epoch: 34\n",
      "log likelihood: -175262.95\n",
      "\n",
      "training epoch: 35\n",
      "log likelihood: -175166.62\n",
      "\n",
      "training epoch: 36\n",
      "log likelihood: -175443.53\n",
      "\n",
      "training epoch: 37\n",
      "log likelihood: -175168.53\n",
      "\n",
      "training epoch: 38\n",
      "log likelihood: -175111.18\n",
      "\n",
      "training epoch: 39\n",
      "log likelihood: -175556.87\n",
      "CPU times: user 3min 9s, sys: 963 ms, total: 3min 10s\n",
      "Wall time: 3min 9s\n"
     ]
    }
   ],
   "source": [
    "%%time\n",
    "model.fit(interactions_train, epochs=40, verbose=True)"
   ]
  },
  {
   "cell_type": "markdown",
   "metadata": {},
   "source": [
    "#### Generate Model Scores for Validation Interactions\n",
    "* the `predict()` method generates real-valued model scores for user/item pairs\n",
    "* specify scoring interactions or user/item pairs the same way as training: `[user_id, item_id]`\n",
    "* the scores generated are those produced by the underlying second-degree factorization machine model\n",
    "* the `cold_start` option allows you to either generate missing values for unseen users/items or drop them from scoring output"
   ]
  },
  {
   "cell_type": "code",
   "execution_count": 34,
   "metadata": {},
   "outputs": [
    {
     "name": "stdout",
     "output_type": "stream",
     "text": [
      "(250485,)\n"
     ]
    },
    {
     "data": {
      "text/plain": [
       "count    250437.000000\n",
       "mean          1.469360\n",
       "std           1.070998\n",
       "min          -3.305412\n",
       "25%           0.798666\n",
       "50%           1.590574\n",
       "75%           2.265683\n",
       "max           4.234172\n",
       "dtype: float64"
      ]
     },
     "execution_count": 34,
     "metadata": {},
     "output_type": "execute_result"
    }
   ],
   "source": [
    "valid_scores = model.predict(interactions_valid, cold_start='nan') \n",
    "print(valid_scores.shape)\n",
    "pd.Series(valid_scores).describe()"
   ]
  },
  {
   "cell_type": "markdown",
   "metadata": {},
   "source": [
    "#### Generate TopN Recommendations for Validation Users\n",
    "* instead of having to generate predictions for all user/item pairs the `recommend()` method lets you generate the topN recommended items for each user\n",
    "* the output is a pd.dataframe where the index values are `user_id` and the columns are recommended items in descending order (first column is best item)\n",
    "* additionally there's an option `filter_previous` to exclude any items already observed during training for the user from being recommended\n",
    "* as with `predict()` there's a `cold_start` option to either fill with missing or drop recommendations for any user not found in training"
   ]
  },
  {
   "cell_type": "code",
   "execution_count": 35,
   "metadata": {},
   "outputs": [
    {
     "data": {
      "text/html": [
       "<div>\n",
       "<style scoped>\n",
       "    .dataframe tbody tr th:only-of-type {\n",
       "        vertical-align: middle;\n",
       "    }\n",
       "\n",
       "    .dataframe tbody tr th {\n",
       "        vertical-align: top;\n",
       "    }\n",
       "\n",
       "    .dataframe thead th {\n",
       "        text-align: right;\n",
       "    }\n",
       "</style>\n",
       "<table border=\"1\" class=\"dataframe\">\n",
       "  <thead>\n",
       "    <tr style=\"text-align: right;\">\n",
       "      <th></th>\n",
       "      <th>0</th>\n",
       "      <th>1</th>\n",
       "      <th>2</th>\n",
       "      <th>3</th>\n",
       "      <th>4</th>\n",
       "      <th>5</th>\n",
       "      <th>6</th>\n",
       "      <th>7</th>\n",
       "      <th>8</th>\n",
       "      <th>9</th>\n",
       "    </tr>\n",
       "  </thead>\n",
       "  <tbody>\n",
       "    <tr>\n",
       "      <th>1</th>\n",
       "      <td>318</td>\n",
       "      <td>364</td>\n",
       "      <td>34</td>\n",
       "      <td>1</td>\n",
       "      <td>2858</td>\n",
       "      <td>3751</td>\n",
       "      <td>1196</td>\n",
       "      <td>2291</td>\n",
       "      <td>1265</td>\n",
       "      <td>2081</td>\n",
       "    </tr>\n",
       "    <tr>\n",
       "      <th>2</th>\n",
       "      <td>1617</td>\n",
       "      <td>3418</td>\n",
       "      <td>858</td>\n",
       "      <td>296</td>\n",
       "      <td>527</td>\n",
       "      <td>1610</td>\n",
       "      <td>1097</td>\n",
       "      <td>2000</td>\n",
       "      <td>377</td>\n",
       "      <td>1233</td>\n",
       "    </tr>\n",
       "    <tr>\n",
       "      <th>3</th>\n",
       "      <td>1220</td>\n",
       "      <td>2000</td>\n",
       "      <td>2028</td>\n",
       "      <td>589</td>\n",
       "      <td>1197</td>\n",
       "      <td>1214</td>\n",
       "      <td>380</td>\n",
       "      <td>1240</td>\n",
       "      <td>2571</td>\n",
       "      <td>2916</td>\n",
       "    </tr>\n",
       "    <tr>\n",
       "      <th>4</th>\n",
       "      <td>1196</td>\n",
       "      <td>924</td>\n",
       "      <td>1210</td>\n",
       "      <td>1387</td>\n",
       "      <td>858</td>\n",
       "      <td>480</td>\n",
       "      <td>1198</td>\n",
       "      <td>1374</td>\n",
       "      <td>2028</td>\n",
       "      <td>2571</td>\n",
       "    </tr>\n",
       "    <tr>\n",
       "      <th>5</th>\n",
       "      <td>778</td>\n",
       "      <td>2599</td>\n",
       "      <td>2692</td>\n",
       "      <td>3481</td>\n",
       "      <td>3160</td>\n",
       "      <td>1089</td>\n",
       "      <td>223</td>\n",
       "      <td>3897</td>\n",
       "      <td>1094</td>\n",
       "      <td>2329</td>\n",
       "    </tr>\n",
       "  </tbody>\n",
       "</table>\n",
       "</div>"
      ],
      "text/plain": [
       "      0     1     2     3     4     5     6     7     8     9\n",
       "1   318   364    34     1  2858  3751  1196  2291  1265  2081\n",
       "2  1617  3418   858   296   527  1610  1097  2000   377  1233\n",
       "3  1220  2000  2028   589  1197  1214   380  1240  2571  2916\n",
       "4  1196   924  1210  1387   858   480  1198  1374  2028  2571\n",
       "5   778  2599  2692  3481  3160  1089   223  3897  1094  2329"
      ]
     },
     "execution_count": 35,
     "metadata": {},
     "output_type": "execute_result"
    }
   ],
   "source": [
    "valid_recommendations = model.recommend(valid_users, n_items=10, filter_previous=True, cold_start='nan')\n",
    "valid_recommendations.head()"
   ]
  },
  {
   "cell_type": "markdown",
   "metadata": {},
   "source": [
    "#### Evaluate Model Performance on the Validation Data"
   ]
  },
  {
   "cell_type": "markdown",
   "metadata": {},
   "source": [
    "##### Specify Number of Recommended Items\n",
    "* here we'll look at model performance in terms of validation metrics wrt the top 10 recommended items for each user\n",
    "* it's good to compare validation metrics against the best unpersonalized recommendations: overall item popularity rankings from the training data"
   ]
  },
  {
   "cell_type": "code",
   "execution_count": 36,
   "metadata": {},
   "outputs": [],
   "source": [
    "k = 10"
   ]
  },
  {
   "cell_type": "markdown",
   "metadata": {},
   "source": [
    "##### Generate Pure-Popularity Baselines"
   ]
  },
  {
   "cell_type": "code",
   "execution_count": 37,
   "metadata": {},
   "outputs": [
    {
     "data": {
      "text/plain": [
       "item_id\n",
       "2858    2545\n",
       "260     2254\n",
       "1196    2230\n",
       "1210    2178\n",
       "589     2002\n",
       "2028    1980\n",
       "480     1974\n",
       "1270    1939\n",
       "2571    1921\n",
       "608     1910\n",
       "Name: user_id, dtype: int64"
      ]
     },
     "execution_count": 37,
     "metadata": {},
     "output_type": "execute_result"
    }
   ],
   "source": [
    "most_popular = interactions_train.groupby('item_id')['user_id'].count().sort_values(ascending=False)[:k]\n",
    "most_popular"
   ]
  },
  {
   "cell_type": "code",
   "execution_count": 38,
   "metadata": {},
   "outputs": [
    {
     "name": "stdout",
     "output_type": "stream",
     "text": [
      "number of test users: 6038\n",
      "baseline (popularity) precision: 0.116\n",
      "baseline (popularity) recall: 0.046\n"
     ]
    }
   ],
   "source": [
    "test_user_items = interactions_valid.groupby('user_id')['item_id'].apply(set).to_dict()\n",
    "test_recommends = model.recommend(list(test_user_items.keys()), cold_start='drop')\n",
    "test_user_items = {key: val for key, val in test_user_items.items() if key in test_recommends.index}\n",
    "\n",
    "base_pre = round(np.mean([len(set(most_popular.index) & set(val)) / len(set(most_popular.index)) for key, val in test_user_items.items()]), 3)\n",
    "base_rec = round(np.mean([len(set(most_popular.index) & set(val)) / len(set(val))                for key, val in test_user_items.items()]), 3)\n",
    "\n",
    "print(\"number of test users: {}\".format(len(test_user_items)))\n",
    "print(\"baseline (popularity) precision: {}\".format(base_pre))\n",
    "print(\"baseline (popularity) recall: {}\".format(base_rec))"
   ]
  },
  {
   "cell_type": "markdown",
   "metadata": {},
   "source": [
    "##### Generate Model Validation Metrics\n",
    "* the RankFM package comes with a number of utility functions to evaluate model performance\n",
    "* these functions cover common validation metrics for recommendation/ranking models with implicit feedback data\n",
    "* all evaluation functions have the same interface and require a previously fit RankFM model\n",
    "    * `hit_rate`: the proportion of users with any relevant recommended item\n",
    "    * `reciprocal_rank`: the inverse rank of the first relevant recommended item (or zero if no matches)\n",
    "    * `discounted_cumulative_gain`: the sum of the inverse log-scaled ranks for relevant recommended items\n",
    "    * `precision`: the number of relevant recommended items / number of recommended items\n",
    "    * `recall`: the number of relevant recommended items / number of relevant items"
   ]
  },
  {
   "cell_type": "code",
   "execution_count": 39,
   "metadata": {},
   "outputs": [],
   "source": [
    "model_hit_rate = hit_rate(model, interactions_valid, k=k)\n",
    "model_reciprocal_rank = reciprocal_rank(model, interactions_valid, k=k)\n",
    "model_dcg = discounted_cumulative_gain(model, interactions_valid, k=k)\n",
    "model_precision = precision(model, interactions_valid, k=k)\n",
    "model_recall = recall(model, interactions_valid, k=k)"
   ]
  },
  {
   "cell_type": "code",
   "execution_count": 40,
   "metadata": {},
   "outputs": [
    {
     "name": "stdout",
     "output_type": "stream",
     "text": [
      "hit_rate: 0.770\n",
      "reciprocal_rank: 0.338\n",
      "dcg: 0.714\n",
      "precision: 0.153\n",
      "recall: 0.068\n"
     ]
    }
   ],
   "source": [
    "print(\"hit_rate: {:.3f}\".format(model_hit_rate))\n",
    "print(\"reciprocal_rank: {:.3f}\".format(model_reciprocal_rank))\n",
    "print(\"dcg: {:.3f}\".format(model_dcg, 3))\n",
    "print(\"precision: {:.3f}\".format(model_precision))\n",
    "print(\"recall: {:.3f}\".format(model_recall))"
   ]
  },
  {
   "cell_type": "markdown",
   "metadata": {},
   "source": [
    "#### Assess Recommendation Diversity\n",
    "* in addition to relevance, it's often important to assess the diversity of model recommendations\n",
    "* in other words, how many items are getting recommended, what's the percentage of users getting recommended top items, etc.\n",
    "* this is an important component of personalization and high diversity will help prevent the harmful rich-get-richer feedback loop "
   ]
  },
  {
   "cell_type": "code",
   "execution_count": 41,
   "metadata": {},
   "outputs": [
    {
     "data": {
      "text/html": [
       "<div>\n",
       "<style scoped>\n",
       "    .dataframe tbody tr th:only-of-type {\n",
       "        vertical-align: middle;\n",
       "    }\n",
       "\n",
       "    .dataframe tbody tr th {\n",
       "        vertical-align: top;\n",
       "    }\n",
       "\n",
       "    .dataframe thead th {\n",
       "        text-align: right;\n",
       "    }\n",
       "</style>\n",
       "<table border=\"1\" class=\"dataframe\">\n",
       "  <thead>\n",
       "    <tr style=\"text-align: right;\">\n",
       "      <th></th>\n",
       "      <th>item_id</th>\n",
       "      <th>cnt_users</th>\n",
       "      <th>pct_users</th>\n",
       "    </tr>\n",
       "  </thead>\n",
       "  <tbody>\n",
       "    <tr>\n",
       "      <th>0</th>\n",
       "      <td>2858</td>\n",
       "      <td>2652</td>\n",
       "      <td>0.439218</td>\n",
       "    </tr>\n",
       "    <tr>\n",
       "      <th>1</th>\n",
       "      <td>318</td>\n",
       "      <td>1945</td>\n",
       "      <td>0.322127</td>\n",
       "    </tr>\n",
       "    <tr>\n",
       "      <th>2</th>\n",
       "      <td>1196</td>\n",
       "      <td>1734</td>\n",
       "      <td>0.287181</td>\n",
       "    </tr>\n",
       "    <tr>\n",
       "      <th>3</th>\n",
       "      <td>480</td>\n",
       "      <td>1370</td>\n",
       "      <td>0.226896</td>\n",
       "    </tr>\n",
       "    <tr>\n",
       "      <th>4</th>\n",
       "      <td>1580</td>\n",
       "      <td>1315</td>\n",
       "      <td>0.217787</td>\n",
       "    </tr>\n",
       "    <tr>\n",
       "      <th>5</th>\n",
       "      <td>260</td>\n",
       "      <td>1202</td>\n",
       "      <td>0.199073</td>\n",
       "    </tr>\n",
       "    <tr>\n",
       "      <th>6</th>\n",
       "      <td>1617</td>\n",
       "      <td>1148</td>\n",
       "      <td>0.190129</td>\n",
       "    </tr>\n",
       "    <tr>\n",
       "      <th>7</th>\n",
       "      <td>2571</td>\n",
       "      <td>1139</td>\n",
       "      <td>0.188639</td>\n",
       "    </tr>\n",
       "    <tr>\n",
       "      <th>8</th>\n",
       "      <td>1210</td>\n",
       "      <td>1115</td>\n",
       "      <td>0.184664</td>\n",
       "    </tr>\n",
       "    <tr>\n",
       "      <th>9</th>\n",
       "      <td>608</td>\n",
       "      <td>1070</td>\n",
       "      <td>0.177211</td>\n",
       "    </tr>\n",
       "  </tbody>\n",
       "</table>\n",
       "</div>"
      ],
      "text/plain": [
       "   item_id  cnt_users  pct_users\n",
       "0     2858       2652   0.439218\n",
       "1      318       1945   0.322127\n",
       "2     1196       1734   0.287181\n",
       "3      480       1370   0.226896\n",
       "4     1580       1315   0.217787\n",
       "5      260       1202   0.199073\n",
       "6     1617       1148   0.190129\n",
       "7     2571       1139   0.188639\n",
       "8     1210       1115   0.184664\n",
       "9      608       1070   0.177211"
      ]
     },
     "execution_count": 41,
     "metadata": {},
     "output_type": "execute_result"
    }
   ],
   "source": [
    "recommendation_diversity = diversity(model, interactions_valid, k=k)\n",
    "recommendation_diversity.head(10)"
   ]
  },
  {
   "cell_type": "code",
   "execution_count": 42,
   "metadata": {},
   "outputs": [
    {
     "data": {
      "text/html": [
       "<div>\n",
       "<style scoped>\n",
       "    .dataframe tbody tr th:only-of-type {\n",
       "        vertical-align: middle;\n",
       "    }\n",
       "\n",
       "    .dataframe tbody tr th {\n",
       "        vertical-align: top;\n",
       "    }\n",
       "\n",
       "    .dataframe thead th {\n",
       "        text-align: right;\n",
       "    }\n",
       "</style>\n",
       "<table border=\"1\" class=\"dataframe\">\n",
       "  <thead>\n",
       "    <tr style=\"text-align: right;\">\n",
       "      <th></th>\n",
       "      <th>item_id</th>\n",
       "      <th>cnt_users</th>\n",
       "      <th>pct_users</th>\n",
       "      <th>title</th>\n",
       "      <th>genres</th>\n",
       "    </tr>\n",
       "  </thead>\n",
       "  <tbody>\n",
       "    <tr>\n",
       "      <th>0</th>\n",
       "      <td>2858</td>\n",
       "      <td>2652</td>\n",
       "      <td>0.439218</td>\n",
       "      <td>American Beauty (1999)</td>\n",
       "      <td>Comedy|Drama</td>\n",
       "    </tr>\n",
       "    <tr>\n",
       "      <th>1</th>\n",
       "      <td>318</td>\n",
       "      <td>1945</td>\n",
       "      <td>0.322127</td>\n",
       "      <td>Shawshank Redemption, The (1994)</td>\n",
       "      <td>Drama</td>\n",
       "    </tr>\n",
       "    <tr>\n",
       "      <th>2</th>\n",
       "      <td>1196</td>\n",
       "      <td>1734</td>\n",
       "      <td>0.287181</td>\n",
       "      <td>Star Wars: Episode V - The Empire Strikes Back...</td>\n",
       "      <td>Action|Adventure|Drama|Sci-Fi|War</td>\n",
       "    </tr>\n",
       "    <tr>\n",
       "      <th>3</th>\n",
       "      <td>480</td>\n",
       "      <td>1370</td>\n",
       "      <td>0.226896</td>\n",
       "      <td>Jurassic Park (1993)</td>\n",
       "      <td>Action|Adventure|Sci-Fi</td>\n",
       "    </tr>\n",
       "    <tr>\n",
       "      <th>4</th>\n",
       "      <td>1580</td>\n",
       "      <td>1315</td>\n",
       "      <td>0.217787</td>\n",
       "      <td>Men in Black (1997)</td>\n",
       "      <td>Action|Adventure|Comedy|Sci-Fi</td>\n",
       "    </tr>\n",
       "    <tr>\n",
       "      <th>5</th>\n",
       "      <td>260</td>\n",
       "      <td>1202</td>\n",
       "      <td>0.199073</td>\n",
       "      <td>Star Wars: Episode IV - A New Hope (1977)</td>\n",
       "      <td>Action|Adventure|Fantasy|Sci-Fi</td>\n",
       "    </tr>\n",
       "    <tr>\n",
       "      <th>6</th>\n",
       "      <td>1617</td>\n",
       "      <td>1148</td>\n",
       "      <td>0.190129</td>\n",
       "      <td>L.A. Confidential (1997)</td>\n",
       "      <td>Crime|Film-Noir|Mystery|Thriller</td>\n",
       "    </tr>\n",
       "    <tr>\n",
       "      <th>7</th>\n",
       "      <td>2571</td>\n",
       "      <td>1139</td>\n",
       "      <td>0.188639</td>\n",
       "      <td>Matrix, The (1999)</td>\n",
       "      <td>Action|Sci-Fi|Thriller</td>\n",
       "    </tr>\n",
       "    <tr>\n",
       "      <th>8</th>\n",
       "      <td>1210</td>\n",
       "      <td>1115</td>\n",
       "      <td>0.184664</td>\n",
       "      <td>Star Wars: Episode VI - Return of the Jedi (1983)</td>\n",
       "      <td>Action|Adventure|Romance|Sci-Fi|War</td>\n",
       "    </tr>\n",
       "    <tr>\n",
       "      <th>9</th>\n",
       "      <td>608</td>\n",
       "      <td>1070</td>\n",
       "      <td>0.177211</td>\n",
       "      <td>Fargo (1996)</td>\n",
       "      <td>Crime|Drama|Thriller</td>\n",
       "    </tr>\n",
       "  </tbody>\n",
       "</table>\n",
       "</div>"
      ],
      "text/plain": [
       "   item_id  cnt_users  pct_users  \\\n",
       "0     2858       2652   0.439218   \n",
       "1      318       1945   0.322127   \n",
       "2     1196       1734   0.287181   \n",
       "3      480       1370   0.226896   \n",
       "4     1580       1315   0.217787   \n",
       "5      260       1202   0.199073   \n",
       "6     1617       1148   0.190129   \n",
       "7     2571       1139   0.188639   \n",
       "8     1210       1115   0.184664   \n",
       "9      608       1070   0.177211   \n",
       "\n",
       "                                               title  \\\n",
       "0                             American Beauty (1999)   \n",
       "1                   Shawshank Redemption, The (1994)   \n",
       "2  Star Wars: Episode V - The Empire Strikes Back...   \n",
       "3                               Jurassic Park (1993)   \n",
       "4                                Men in Black (1997)   \n",
       "5          Star Wars: Episode IV - A New Hope (1977)   \n",
       "6                           L.A. Confidential (1997)   \n",
       "7                                 Matrix, The (1999)   \n",
       "8  Star Wars: Episode VI - Return of the Jedi (1983)   \n",
       "9                                       Fargo (1996)   \n",
       "\n",
       "                                genres  \n",
       "0                         Comedy|Drama  \n",
       "1                                Drama  \n",
       "2    Action|Adventure|Drama|Sci-Fi|War  \n",
       "3              Action|Adventure|Sci-Fi  \n",
       "4       Action|Adventure|Comedy|Sci-Fi  \n",
       "5      Action|Adventure|Fantasy|Sci-Fi  \n",
       "6     Crime|Film-Noir|Mystery|Thriller  \n",
       "7               Action|Sci-Fi|Thriller  \n",
       "8  Action|Adventure|Romance|Sci-Fi|War  \n",
       "9                 Crime|Drama|Thriller  "
      ]
     },
     "execution_count": 42,
     "metadata": {},
     "output_type": "execute_result"
    }
   ],
   "source": [
    "top_items = pd.merge(item_names, recommendation_diversity, on='item_id', how='inner')\n",
    "top_items = top_items.set_index('item_id').loc[recommendation_diversity.item_id].reset_index()\n",
    "top_items = top_items[['item_id', 'cnt_users', 'pct_users', 'title', 'genres']]\n",
    "top_items.head(10)"
   ]
  },
  {
   "cell_type": "code",
   "execution_count": 43,
   "metadata": {},
   "outputs": [
    {
     "name": "stdout",
     "output_type": "stream",
     "text": [
      "percentage of items recommended to at least one user: 0.240\n"
     ]
    }
   ],
   "source": [
    "coverage = np.mean(recommendation_diversity['cnt_users'] > 0)\n",
    "print(\"percentage of items recommended to at least one user: {:.3f}\".format(coverage))"
   ]
  },
  {
   "cell_type": "code",
   "execution_count": 44,
   "metadata": {},
   "outputs": [
    {
     "name": "stdout",
     "output_type": "stream",
     "text": [
      "entropy value of recommended items: 41.796\n"
     ]
    }
   ],
   "source": [
    "nonzero_users = recommendation_diversity[recommendation_diversity.cnt_users > 0]\n",
    "entropy = -np.sum(nonzero_users['pct_users'] * np.log2(nonzero_users['pct_users']))\n",
    "print(\"entropy value of recommended items: {:.3f}\".format(entropy))"
   ]
  },
  {
   "cell_type": "code",
   "execution_count": 45,
   "metadata": {},
   "outputs": [
    {
     "data": {
      "image/png": "[encoded data removed]",
      "text/plain": [
       "<Figure size 1152x288 with 1 Axes>"
      ]
     },
     "metadata": {},
     "output_type": "display_data"
    }
   ],
   "source": [
    "N = 50\n",
    "fig, axes = plt.subplots(1, 1, figsize=[16, 4])\n",
    "\n",
    "topN = recommendation_diversity.iloc[:N, :]\n",
    "axes.bar(topN.index.values + 1, topN.pct_users, width=1, edgecolor='black', alpha=0.75)\n",
    "axes.set(xlabel='Item Rank', ylabel='Percentage of Users', title='Percentage of Users Recommended by Item Rank')\n",
    "plt.show()"
   ]
  },
  {
   "cell_type": "markdown",
   "metadata": {},
   "source": [
    "### Calculate the Most Similar Items to a Given Item\n",
    "* the model's representation of users/items in latent factor space allows for the calculation of item-item similarity with simple dot products\n",
    "* in many contexts it's useful to serve similar items either for user acceptance or for contextual recommendations \n",
    "* one example might be recommending the user a list of movies to watch next after he/she has just finished watching a given movie"
   ]
  },
  {
   "cell_type": "code",
   "execution_count": 46,
   "metadata": {},
   "outputs": [
    {
     "name": "stdout",
     "output_type": "stream",
     "text": [
      "random user: 4179\n"
     ]
    }
   ],
   "source": [
    "random_user = np.random.choice(interactions_valid.user_id.unique())\n",
    "print(\"random user: {}\".format(random_user))"
   ]
  },
  {
   "cell_type": "code",
   "execution_count": 47,
   "metadata": {},
   "outputs": [
    {
     "data": {
      "text/html": [
       "<div>\n",
       "<style scoped>\n",
       "    .dataframe tbody tr th:only-of-type {\n",
       "        vertical-align: middle;\n",
       "    }\n",
       "\n",
       "    .dataframe tbody tr th {\n",
       "        vertical-align: top;\n",
       "    }\n",
       "\n",
       "    .dataframe thead th {\n",
       "        text-align: right;\n",
       "    }\n",
       "</style>\n",
       "<table border=\"1\" class=\"dataframe\">\n",
       "  <thead>\n",
       "    <tr style=\"text-align: right;\">\n",
       "      <th></th>\n",
       "      <th>title</th>\n",
       "      <th>genres</th>\n",
       "    </tr>\n",
       "    <tr>\n",
       "      <th>item_id</th>\n",
       "      <th></th>\n",
       "      <th></th>\n",
       "    </tr>\n",
       "  </thead>\n",
       "  <tbody>\n",
       "    <tr>\n",
       "      <th>1</th>\n",
       "      <td>Toy Story (1995)</td>\n",
       "      <td>Animation|Children's|Comedy</td>\n",
       "    </tr>\n",
       "    <tr>\n",
       "      <th>1641</th>\n",
       "      <td>Full Monty, The (1997)</td>\n",
       "      <td>Comedy</td>\n",
       "    </tr>\n",
       "    <tr>\n",
       "      <th>39</th>\n",
       "      <td>Clueless (1995)</td>\n",
       "      <td>Comedy|Romance</td>\n",
       "    </tr>\n",
       "    <tr>\n",
       "      <th>1230</th>\n",
       "      <td>Annie Hall (1977)</td>\n",
       "      <td>Comedy|Romance</td>\n",
       "    </tr>\n",
       "    <tr>\n",
       "      <th>1188</th>\n",
       "      <td>Strictly Ballroom (1992)</td>\n",
       "      <td>Comedy|Romance</td>\n",
       "    </tr>\n",
       "    <tr>\n",
       "      <th>2396</th>\n",
       "      <td>Shakespeare in Love (1998)</td>\n",
       "      <td>Comedy|Romance</td>\n",
       "    </tr>\n",
       "    <tr>\n",
       "      <th>2599</th>\n",
       "      <td>Election (1999)</td>\n",
       "      <td>Comedy</td>\n",
       "    </tr>\n",
       "    <tr>\n",
       "      <th>235</th>\n",
       "      <td>Ed Wood (1994)</td>\n",
       "      <td>Comedy|Drama</td>\n",
       "    </tr>\n",
       "    <tr>\n",
       "      <th>1196</th>\n",
       "      <td>Star Wars: Episode V - The Empire Strikes Back...</td>\n",
       "      <td>Action|Adventure|Drama|Sci-Fi|War</td>\n",
       "    </tr>\n",
       "    <tr>\n",
       "      <th>3253</th>\n",
       "      <td>Wayne's World (1992)</td>\n",
       "      <td>Comedy</td>\n",
       "    </tr>\n",
       "  </tbody>\n",
       "</table>\n",
       "</div>"
      ],
      "text/plain": [
       "                                                     title  \\\n",
       "item_id                                                      \n",
       "1                                         Toy Story (1995)   \n",
       "1641                                Full Monty, The (1997)   \n",
       "39                                         Clueless (1995)   \n",
       "1230                                     Annie Hall (1977)   \n",
       "1188                              Strictly Ballroom (1992)   \n",
       "2396                            Shakespeare in Love (1998)   \n",
       "2599                                       Election (1999)   \n",
       "235                                         Ed Wood (1994)   \n",
       "1196     Star Wars: Episode V - The Empire Strikes Back...   \n",
       "3253                                  Wayne's World (1992)   \n",
       "\n",
       "                                    genres  \n",
       "item_id                                     \n",
       "1              Animation|Children's|Comedy  \n",
       "1641                                Comedy  \n",
       "39                          Comedy|Romance  \n",
       "1230                        Comedy|Romance  \n",
       "1188                        Comedy|Romance  \n",
       "2396                        Comedy|Romance  \n",
       "2599                                Comedy  \n",
       "235                           Comedy|Drama  \n",
       "1196     Action|Adventure|Drama|Sci-Fi|War  \n",
       "3253                                Comedy  "
      ]
     },
     "execution_count": 47,
     "metadata": {},
     "output_type": "execute_result"
    }
   ],
   "source": [
    "random_user_recs = valid_recommendations.loc[random_user]\n",
    "random_user_recs = item_names[item_names.item_id.isin(random_user_recs)].set_index('item_id').loc[random_user_recs]\n",
    "random_user_recs"
   ]
  },
  {
   "cell_type": "markdown",
   "metadata": {},
   "source": [
    "#### Look at Similar Movies for a Few of the User's Recommended Movies"
   ]
  },
  {
   "cell_type": "code",
   "execution_count": 31,
   "metadata": {},
   "outputs": [
    {
     "data": {
      "text/html": [
       "<div>\n",
       "<style scoped>\n",
       "    .dataframe tbody tr th:only-of-type {\n",
       "        vertical-align: middle;\n",
       "    }\n",
       "\n",
       "    .dataframe tbody tr th {\n",
       "        vertical-align: top;\n",
       "    }\n",
       "\n",
       "    .dataframe thead th {\n",
       "        text-align: right;\n",
       "    }\n",
       "</style>\n",
       "<table border=\"1\" class=\"dataframe\">\n",
       "  <thead>\n",
       "    <tr style=\"text-align: right;\">\n",
       "      <th></th>\n",
       "      <th>title</th>\n",
       "      <th>genres</th>\n",
       "    </tr>\n",
       "    <tr>\n",
       "      <th>item_id</th>\n",
       "      <th></th>\n",
       "      <th></th>\n",
       "    </tr>\n",
       "  </thead>\n",
       "  <tbody>\n",
       "    <tr>\n",
       "      <th>1291</th>\n",
       "      <td>Indiana Jones and the Last Crusade (1989)</td>\n",
       "      <td>Action|Adventure</td>\n",
       "    </tr>\n",
       "    <tr>\n",
       "      <th>1954</th>\n",
       "      <td>Rocky (1976)</td>\n",
       "      <td>Action|Drama</td>\n",
       "    </tr>\n",
       "    <tr>\n",
       "      <th>1036</th>\n",
       "      <td>Die Hard (1988)</td>\n",
       "      <td>Action|Thriller</td>\n",
       "    </tr>\n",
       "    <tr>\n",
       "      <th>1240</th>\n",
       "      <td>Terminator, The (1984)</td>\n",
       "      <td>Action|Sci-Fi|Thriller</td>\n",
       "    </tr>\n",
       "    <tr>\n",
       "      <th>1198</th>\n",
       "      <td>Raiders of the Lost Ark (1981)</td>\n",
       "      <td>Action|Adventure</td>\n",
       "    </tr>\n",
       "    <tr>\n",
       "      <th>1270</th>\n",
       "      <td>Back to the Future (1985)</td>\n",
       "      <td>Comedy|Sci-Fi</td>\n",
       "    </tr>\n",
       "    <tr>\n",
       "      <th>1210</th>\n",
       "      <td>Star Wars: Episode VI - Return of the Jedi (1983)</td>\n",
       "      <td>Action|Adventure|Romance|Sci-Fi|War</td>\n",
       "    </tr>\n",
       "    <tr>\n",
       "      <th>2640</th>\n",
       "      <td>Superman (1978)</td>\n",
       "      <td>Action|Adventure|Sci-Fi</td>\n",
       "    </tr>\n",
       "    <tr>\n",
       "      <th>1136</th>\n",
       "      <td>Monty Python and the Holy Grail (1974)</td>\n",
       "      <td>Comedy</td>\n",
       "    </tr>\n",
       "    <tr>\n",
       "      <th>2571</th>\n",
       "      <td>Matrix, The (1999)</td>\n",
       "      <td>Action|Sci-Fi|Thriller</td>\n",
       "    </tr>\n",
       "  </tbody>\n",
       "</table>\n",
       "</div>"
      ],
      "text/plain": [
       "                                                     title  \\\n",
       "item_id                                                      \n",
       "1291             Indiana Jones and the Last Crusade (1989)   \n",
       "1954                                          Rocky (1976)   \n",
       "1036                                       Die Hard (1988)   \n",
       "1240                                Terminator, The (1984)   \n",
       "1198                        Raiders of the Lost Ark (1981)   \n",
       "1270                             Back to the Future (1985)   \n",
       "1210     Star Wars: Episode VI - Return of the Jedi (1983)   \n",
       "2640                                       Superman (1978)   \n",
       "1136                Monty Python and the Holy Grail (1974)   \n",
       "2571                                    Matrix, The (1999)   \n",
       "\n",
       "                                      genres  \n",
       "item_id                                       \n",
       "1291                        Action|Adventure  \n",
       "1954                            Action|Drama  \n",
       "1036                         Action|Thriller  \n",
       "1240                  Action|Sci-Fi|Thriller  \n",
       "1198                        Action|Adventure  \n",
       "1270                           Comedy|Sci-Fi  \n",
       "1210     Action|Adventure|Romance|Sci-Fi|War  \n",
       "2640                 Action|Adventure|Sci-Fi  \n",
       "1136                                  Comedy  \n",
       "2571                  Action|Sci-Fi|Thriller  "
      ]
     },
     "execution_count": 31,
     "metadata": {},
     "output_type": "execute_result"
    }
   ],
   "source": [
    "most_similar_items = model.similar_items(1097)\n",
    "most_similar_items = item_names.set_index('item_id').loc[most_similar_items]\n",
    "most_similar_items"
   ]
  },
  {
   "cell_type": "code",
   "execution_count": 32,
   "metadata": {},
   "outputs": [
    {
     "data": {
      "text/html": [
       "<div>\n",
       "<style scoped>\n",
       "    .dataframe tbody tr th:only-of-type {\n",
       "        vertical-align: middle;\n",
       "    }\n",
       "\n",
       "    .dataframe tbody tr th {\n",
       "        vertical-align: top;\n",
       "    }\n",
       "\n",
       "    .dataframe thead th {\n",
       "        text-align: right;\n",
       "    }\n",
       "</style>\n",
       "<table border=\"1\" class=\"dataframe\">\n",
       "  <thead>\n",
       "    <tr style=\"text-align: right;\">\n",
       "      <th></th>\n",
       "      <th>title</th>\n",
       "      <th>genres</th>\n",
       "    </tr>\n",
       "    <tr>\n",
       "      <th>item_id</th>\n",
       "      <th></th>\n",
       "      <th></th>\n",
       "    </tr>\n",
       "  </thead>\n",
       "  <tbody>\n",
       "    <tr>\n",
       "      <th>2795</th>\n",
       "      <td>Vacation (1983)</td>\n",
       "      <td>Comedy</td>\n",
       "    </tr>\n",
       "    <tr>\n",
       "      <th>3210</th>\n",
       "      <td>Fast Times at Ridgemont High (1982)</td>\n",
       "      <td>Comedy</td>\n",
       "    </tr>\n",
       "    <tr>\n",
       "      <th>2915</th>\n",
       "      <td>Risky Business (1983)</td>\n",
       "      <td>Comedy</td>\n",
       "    </tr>\n",
       "    <tr>\n",
       "      <th>2371</th>\n",
       "      <td>Fletch (1985)</td>\n",
       "      <td>Comedy</td>\n",
       "    </tr>\n",
       "    <tr>\n",
       "      <th>2144</th>\n",
       "      <td>Sixteen Candles (1984)</td>\n",
       "      <td>Comedy</td>\n",
       "    </tr>\n",
       "    <tr>\n",
       "      <th>3039</th>\n",
       "      <td>Trading Places (1983)</td>\n",
       "      <td>Comedy</td>\n",
       "    </tr>\n",
       "    <tr>\n",
       "      <th>3526</th>\n",
       "      <td>Parenthood (1989)</td>\n",
       "      <td>Comedy|Drama</td>\n",
       "    </tr>\n",
       "    <tr>\n",
       "      <th>2918</th>\n",
       "      <td>Ferris Bueller's Day Off (1986)</td>\n",
       "      <td>Comedy</td>\n",
       "    </tr>\n",
       "    <tr>\n",
       "      <th>3552</th>\n",
       "      <td>Caddyshack (1980)</td>\n",
       "      <td>Comedy</td>\n",
       "    </tr>\n",
       "    <tr>\n",
       "      <th>1297</th>\n",
       "      <td>Real Genius (1985)</td>\n",
       "      <td>Comedy</td>\n",
       "    </tr>\n",
       "  </tbody>\n",
       "</table>\n",
       "</div>"
      ],
      "text/plain": [
       "                                       title        genres\n",
       "item_id                                                   \n",
       "2795                         Vacation (1983)        Comedy\n",
       "3210     Fast Times at Ridgemont High (1982)        Comedy\n",
       "2915                   Risky Business (1983)        Comedy\n",
       "2371                           Fletch (1985)        Comedy\n",
       "2144                  Sixteen Candles (1984)        Comedy\n",
       "3039                   Trading Places (1983)        Comedy\n",
       "3526                       Parenthood (1989)  Comedy|Drama\n",
       "2918         Ferris Bueller's Day Off (1986)        Comedy\n",
       "3552                       Caddyshack (1980)        Comedy\n",
       "1297                      Real Genius (1985)        Comedy"
      ]
     },
     "execution_count": 32,
     "metadata": {},
     "output_type": "execute_result"
    }
   ],
   "source": [
    "most_similar_items = model.similar_items(1968)\n",
    "most_similar_items = item_names.set_index('item_id').loc[most_similar_items]\n",
    "most_similar_items"
   ]
  },
  {
   "cell_type": "code",
   "execution_count": null,
   "metadata": {},
   "outputs": [],
   "source": []
  }
 ],
 "metadata": {
  "kernelspec": {
   "display_name": "Python 3",
   "language": "python",
   "name": "python3"
  },
  "language_info": {
   "codemirror_mode": {
    "name": "ipython",
    "version": 3
   },
   "file_extension": ".py",
   "mimetype": "text/x-python",
   "name": "python",
   "nbconvert_exporter": "python",
   "pygments_lexer": "ipython3",
   "version": "3.7.2"
  }
 },
 "nbformat": 4,
 "nbformat_minor": 4
}
