{
 "cells": [
  {
   "cell_type": "markdown",
   "metadata": {},
   "source": [
    "### Import Required Packages and Set Options"
   ]
  },
  {
   "cell_type": "code",
   "execution_count": 10,
   "metadata": {},
   "outputs": [],
   "source": [
    "import os\n",
    "import sys\n",
    "\n",
    "import numpy as np\n",
    "import pandas as pd\n",
    "import multiprocessing as mp\n",
    "\n",
    "import matplotlib.pyplot as plt\n",
    "import seaborn as sns\n",
    "\n",
    "from datetime import datetime\n",
    "from itertools import combinations\n",
    "from functools import partial\n",
    "\n",
    "import jax.numpy as jnp\n",
    "from jax import grad, jit, vmap\n",
    "\n",
    "from sklearn.datasets import load_boston\n",
    "\n",
    "np.set_printoptions(precision=4, suppress=True)\n",
    "jnp.set_printoptions(precision=4, suppress=True)"
   ]
  },
  {
   "cell_type": "code",
   "execution_count": 11,
   "metadata": {},
   "outputs": [],
   "source": [
    "REPO_ROOT = \"/Users/ericlundquist/Repos/rankfm\""
   ]
  },
  {
   "cell_type": "markdown",
   "metadata": {},
   "source": [
    "### Load Example Data"
   ]
  },
  {
   "cell_type": "code",
   "execution_count": 12,
   "metadata": {},
   "outputs": [
    {
     "name": "stdout",
     "output_type": "stream",
     "text": [
      "CONS CRIM ZN INDUS CHAS NOX RM AGE DIS RAD TAX PTRATIO B LSTAT\n",
      "(506, 14)\n",
      "(506,)\n"
     ]
    },
    {
     "name": "stderr",
     "output_type": "stream",
     "text": [
      "/Users/ericlundquist/anaconda3/lib/python3.7/site-packages/jax/lib/xla_bridge.py:116: UserWarning: No GPU/TPU found, falling back to CPU.\n",
      "  warnings.warn('No GPU/TPU found, falling back to CPU.')\n"
     ]
    }
   ],
   "source": [
    "boston = load_boston()\n",
    "features = boston.data\n",
    "target = boston.target\n",
    "\n",
    "# convert to z-scores for numerical stability and add constant column\n",
    "features = (features - features.mean(axis=0)) / features.std(axis=0)\n",
    "features = jnp.hstack([jnp.ones([features.shape[0], 1]), features])\n",
    "\n",
    "# transform the target to a binary value\n",
    "target = jnp.where(target > target.mean(), 1, 0)\n",
    "\n",
    "coeffs = ['CONS'] + list(boston.feature_names)\n",
    "print(\" \".join(coeffs))\n",
    "print(features.shape)\n",
    "print(target.shape)"
   ]
  },
  {
   "cell_type": "code",
   "execution_count": 13,
   "metadata": {},
   "outputs": [
    {
     "name": "stdout",
     "output_type": "stream",
     "text": [
      "[ 1.  0.  0. -0. -0. -0.  0.  0.  0. -0. -0.  0.  0. -0.]\n",
      "[0. 1. 1. 1. 1. 1. 1. 1. 1. 1. 1. 1. 1. 1.]\n",
      "0.41304347\n"
     ]
    }
   ],
   "source": [
    "print(features.mean(axis=0))\n",
    "print(features.std(axis=0))\n",
    "print(target.mean())"
   ]
  },
  {
   "cell_type": "markdown",
   "metadata": {},
   "source": [
    "### Train a Logistic Regression Model with Mini-Batch SGD Gradient Updates "
   ]
  },
  {
   "cell_type": "code",
   "execution_count": 14,
   "metadata": {},
   "outputs": [],
   "source": [
    "class LogReg:\n",
    "    \"\"\"train a logistic regression model using SGD\"\"\"\n",
    "    \n",
    "    def __init__(self, initial_weights, learning_rate=0.1):\n",
    "        self.learning_rate = learning_rate\n",
    "        self.weights = initial_weights\n",
    "    \n",
    "    @partial(jit, static_argnums=(0,))\n",
    "    def sigmoid(self, x):\n",
    "        return 1 / (1 + jnp.exp(-x))\n",
    "\n",
    "    @partial(jit, static_argnums=(0,))\n",
    "    def predict_proba(self, weights, inputs):\n",
    "        return self.sigmoid(jnp.dot(inputs, weights))\n",
    "\n",
    "    @partial(jit, static_argnums=(0,))\n",
    "    def loss_value(self, weights, inputs, target):\n",
    "        predictions = self.predict_proba(weights, inputs)\n",
    "        loss = -jnp.mean((target * jnp.log(predictions)) + ((1 - target) * jnp.log(1 - predictions)))\n",
    "        return loss\n",
    "    \n",
    "    # auto-diff the loss function wrt all weights\n",
    "    loss_gradient = grad(loss_value, argnums=[1])\n",
    "    \n",
    "    def create_batches(self, inputs, target, batch_size):\n",
    "        n_batches = np.round(inputs.shape[0] / batch_size)\n",
    "\n",
    "        batch_inputs = np.array_split(inputs, n_batches)\n",
    "        batch_target = np.array_split(target, n_batches)\n",
    "        return list(zip(batch_inputs, batch_target))\n",
    "    \n",
    "    def update_weights(self, batches, weights, learning_rate):\n",
    "        for (b_input, b_target) in batches:\n",
    "            gradients = self.loss_gradient(weights, b_input, b_target)\n",
    "            weights -= learning_rate * gradients\n",
    "        return weights\n",
    "    \n",
    "    \n",
    "    def fit(self, inputs, target, batch_size, epochs):\n",
    "        \n",
    "        print(\"initial loss: {}\".format(round(self.loss_value(self.weights, inputs, target), 2)))\n",
    "        for i in range(epochs):\n",
    "            batches = self.create_batches(inputs, target, batch_size)\n",
    "            self.weights = self.update_weights(batches, self.weights, self.learning_rate)\n",
    "            print(\"epoch: {} loss: {}\".format(i, self.loss_value(self.weights, inputs, target)))\n",
    "    "
   ]
  },
  {
   "cell_type": "markdown",
   "metadata": {},
   "source": [
    "#### Full Batches"
   ]
  },
  {
   "cell_type": "code",
   "execution_count": 15,
   "metadata": {},
   "outputs": [
    {
     "data": {
      "text/plain": [
       "DeviceArray([0., 0., 0., 0., 0., 0., 0., 0., 0., 0., 0., 0., 0., 0.], dtype=float32)"
      ]
     },
     "execution_count": 15,
     "metadata": {},
     "output_type": "execute_result"
    }
   ],
   "source": [
    "initial_weights = jnp.zeros(features.shape[1])\n",
    "logreg = LogReg(initial_weights)\n",
    "\n",
    "logreg.weights\n",
    "# logreg.fit(features, target, batch_size=len(target), epochs=10)"
   ]
  },
  {
   "cell_type": "code",
   "execution_count": 17,
   "metadata": {},
   "outputs": [
    {
     "ename": "NameError",
     "evalue": "name 'mini_batch_train' is not defined",
     "output_type": "error",
     "traceback": [
      "\u001b[0;31m---------------------------------------------------------------------------\u001b[0m",
      "\u001b[0;31mNameError\u001b[0m                                 Traceback (most recent call last)",
      "\u001b[0;32m<ipython-input-17-10ed7d02e325>\u001b[0m in \u001b[0;36m<module>\u001b[0;34m\u001b[0m\n\u001b[0;32m----> 1\u001b[0;31m \u001b[0mfinal_weights\u001b[0m \u001b[0;34m=\u001b[0m \u001b[0mmini_batch_train\u001b[0m\u001b[0;34m(\u001b[0m\u001b[0mfeatures\u001b[0m\u001b[0;34m,\u001b[0m \u001b[0mtarget\u001b[0m\u001b[0;34m,\u001b[0m \u001b[0minitial_weights\u001b[0m\u001b[0;34m,\u001b[0m \u001b[0mbatch_size\u001b[0m\u001b[0;34m=\u001b[0m\u001b[0mlen\u001b[0m\u001b[0;34m(\u001b[0m\u001b[0mtarget\u001b[0m\u001b[0;34m)\u001b[0m\u001b[0;34m,\u001b[0m \u001b[0mlr\u001b[0m\u001b[0;34m=\u001b[0m\u001b[0;36m0.1\u001b[0m\u001b[0;34m,\u001b[0m \u001b[0mepochs\u001b[0m\u001b[0;34m=\u001b[0m\u001b[0;36m10\u001b[0m\u001b[0;34m)\u001b[0m\u001b[0;34m\u001b[0m\u001b[0;34m\u001b[0m\u001b[0m\n\u001b[0m",
      "\u001b[0;31mNameError\u001b[0m: name 'mini_batch_train' is not defined"
     ]
    }
   ],
   "source": [
    "final_weights = mini_batch_train(features, target, initial_weights, batch_size=len(target), lr=0.1, epochs=10)"
   ]
  },
  {
   "cell_type": "markdown",
   "metadata": {},
   "source": [
    "#### Mini-Batches"
   ]
  },
  {
   "cell_type": "code",
   "execution_count": 683,
   "metadata": {},
   "outputs": [
    {
     "name": "stdout",
     "output_type": "stream",
     "text": [
      "initial loss: 0.6899999976158142\n",
      "epoch: 0 loss: 0.39493054151535034\n",
      "epoch: 1 loss: 0.35050806403160095\n",
      "epoch: 2 loss: 0.3332710564136505\n",
      "epoch: 3 loss: 0.323830783367157\n",
      "epoch: 4 loss: 0.3177531063556671\n",
      "epoch: 5 loss: 0.3134887218475342\n",
      "epoch: 6 loss: 0.3103281557559967\n",
      "epoch: 7 loss: 0.3078918159008026\n",
      "epoch: 8 loss: 0.30595651268959045\n",
      "epoch: 9 loss: 0.30438217520713806\n"
     ]
    }
   ],
   "source": [
    "initial_weights = jnp.zeros(inputs.shape[1])\n",
    "final_weights = mini_batch_train(features, target, initial_weights, batch_size=10, lr=0.1, epochs=10)"
   ]
  },
  {
   "cell_type": "markdown",
   "metadata": {},
   "source": [
    "#### Single-Sample SGD"
   ]
  },
  {
   "cell_type": "code",
   "execution_count": 671,
   "metadata": {},
   "outputs": [
    {
     "name": "stdout",
     "output_type": "stream",
     "text": [
      "initial loss: 0.6899999976158142\n",
      "epoch: 0 loss: 0.35765910148620605\n",
      "epoch: 1 loss: 0.3244864344596863\n",
      "epoch: 2 loss: 0.3173229694366455\n",
      "epoch: 3 loss: 0.3147937059402466\n",
      "epoch: 4 loss: 0.31364718079566956\n",
      "epoch: 5 loss: 0.31306958198547363\n",
      "epoch: 6 loss: 0.31278374791145325\n",
      "epoch: 7 loss: 0.3126581013202667\n",
      "epoch: 8 loss: 0.31262409687042236\n",
      "epoch: 9 loss: 0.31264904141426086\n"
     ]
    }
   ],
   "source": [
    "initial_weights = jnp.zeros(inputs.shape[1])\n",
    "final_weights = mini_batch_train(features, target, initial_weights, batch_size=1, lr=0.1, epochs=10)"
   ]
  },
  {
   "cell_type": "markdown",
   "metadata": {},
   "source": [
    "### Mess Around with VMAP()"
   ]
  },
  {
   "cell_type": "code",
   "execution_count": 28,
   "metadata": {},
   "outputs": [],
   "source": [
    "users = [0, 1, 2]\n",
    "items = [0, 1, 2]\n",
    "samples = [(0, 0, 1), (1, 2, 1), (2, 0, 2)]"
   ]
  },
  {
   "cell_type": "code",
   "execution_count": 29,
   "metadata": {},
   "outputs": [],
   "source": [
    "user_weights = np.zeros(3)\n",
    "item_weights = np.zeros(3)"
   ]
  },
  {
   "cell_type": "code",
   "execution_count": 30,
   "metadata": {},
   "outputs": [
    {
     "data": {
      "text/plain": [
       "(array([0., 0., 0.]), array([0., 0., 0.]))"
      ]
     },
     "execution_count": 30,
     "metadata": {},
     "output_type": "execute_result"
    }
   ],
   "source": [
    "user_weights, item_weights"
   ]
  },
  {
   "cell_type": "code",
   "execution_count": 33,
   "metadata": {},
   "outputs": [],
   "source": [
    "def update_weights(samples, user_weights, item_weights):\n",
    "    for u, i, j in samples:\n",
    "        user_weights[u] += u\n",
    "        item_weights[i] += i\n",
    "        item_weights[j] += j\n",
    "    return user_weights, item_weights\n",
    "        "
   ]
  },
  {
   "cell_type": "code",
   "execution_count": 34,
   "metadata": {},
   "outputs": [],
   "source": [
    "user_weights, item_weights = update_weights(samples, user_weights, item_weights)"
   ]
  },
  {
   "cell_type": "code",
   "execution_count": 632,
   "metadata": {},
   "outputs": [],
   "source": [
    "weights = np.array([1, 2, 3, 4])\n",
    "matrix = np.arange(16).reshape((4, 4))\n",
    "batches = np.split(matrix, 4)"
   ]
  },
  {
   "cell_type": "code",
   "execution_count": 633,
   "metadata": {},
   "outputs": [
    {
     "data": {
      "text/plain": [
       "array([[ 0,  1,  2,  3],\n",
       "       [ 4,  5,  6,  7],\n",
       "       [ 8,  9, 10, 11],\n",
       "       [12, 13, 14, 15]])"
      ]
     },
     "execution_count": 633,
     "metadata": {},
     "output_type": "execute_result"
    }
   ],
   "source": [
    "matrix"
   ]
  },
  {
   "cell_type": "code",
   "execution_count": 634,
   "metadata": {},
   "outputs": [
    {
     "data": {
      "text/plain": [
       "[array([[0, 1, 2, 3]]),\n",
       " array([[4, 5, 6, 7]]),\n",
       " array([[ 8,  9, 10, 11]]),\n",
       " array([[12, 13, 14, 15]])]"
      ]
     },
     "execution_count": 634,
     "metadata": {},
     "output_type": "execute_result"
    }
   ],
   "source": [
    "batches"
   ]
  },
  {
   "cell_type": "code",
   "execution_count": 675,
   "metadata": {},
   "outputs": [],
   "source": [
    "def running_sum(batches, weights, cursum):\n",
    "    for batch in batches:\n",
    "        cursum += jnp.dot(batch, weights)\n",
    "    return cursum\n"
   ]
  },
  {
   "cell_type": "code",
   "execution_count": 676,
   "metadata": {},
   "outputs": [
    {
     "name": "stdout",
     "output_type": "stream",
     "text": [
      "3.33 ms ± 119 µs per loop (mean ± std. dev. of 7 runs, 100 loops each)\n"
     ]
    }
   ],
   "source": [
    "%%timeit\n",
    "\n",
    "cursum = 1000\n",
    "running_sum(batches, weights, cursum)"
   ]
  },
  {
   "cell_type": "code",
   "execution_count": 677,
   "metadata": {},
   "outputs": [
    {
     "data": {
      "text/plain": [
       "320"
      ]
     },
     "execution_count": 677,
     "metadata": {},
     "output_type": "execute_result"
    }
   ],
   "source": [
    "np.sum(np.dot(matrix, weights))"
   ]
  },
  {
   "cell_type": "code",
   "execution_count": 678,
   "metadata": {},
   "outputs": [],
   "source": [
    "vmap_running_sum = vmap(running_sum, in_axes=(0, None, None))"
   ]
  },
  {
   "cell_type": "code",
   "execution_count": 679,
   "metadata": {},
   "outputs": [
    {
     "name": "stdout",
     "output_type": "stream",
     "text": [
      "7.37 ms ± 370 µs per loop (mean ± std. dev. of 7 runs, 100 loops each)\n"
     ]
    }
   ],
   "source": [
    "%%timeit\n",
    "\n",
    "cursum = 1000\n",
    "vmap_running_sum(batches, weights, cursum)"
   ]
  },
  {
   "cell_type": "code",
   "execution_count": null,
   "metadata": {},
   "outputs": [],
   "source": []
  }
 ],
 "metadata": {
  "kernelspec": {
   "display_name": "Python 3",
   "language": "python",
   "name": "python3"
  },
  "language_info": {
   "codemirror_mode": {
    "name": "ipython",
    "version": 3
   },
   "file_extension": ".py",
   "mimetype": "text/x-python",
   "name": "python",
   "nbconvert_exporter": "python",
   "pygments_lexer": "ipython3",
   "version": "3.7.1"
  }
 },
 "nbformat": 4,
 "nbformat_minor": 2
}
