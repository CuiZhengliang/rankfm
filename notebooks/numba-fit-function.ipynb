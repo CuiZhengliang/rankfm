{
 "cells": [
  {
   "cell_type": "markdown",
   "metadata": {},
   "source": [
    "### Import Required Packages and Set Options"
   ]
  },
  {
   "cell_type": "markdown",
   "metadata": {},
   "source": [
    "#### Import Base Libraries"
   ]
  },
  {
   "cell_type": "code",
   "execution_count": 1,
   "metadata": {},
   "outputs": [],
   "source": [
    "import os\n",
    "import sys\n",
    "import random\n",
    "\n",
    "import numpy as np\n",
    "import pandas as pd\n",
    "import numba as nb\n",
    "\n",
    "import matplotlib.pyplot as plt\n",
    "import seaborn as sns\n",
    "\n",
    "from datetime import datetime\n",
    "from functools import partial"
   ]
  },
  {
   "cell_type": "markdown",
   "metadata": {},
   "source": [
    "#### Put the Main Package Library on the PYTHONPATH"
   ]
  },
  {
   "cell_type": "code",
   "execution_count": 2,
   "metadata": {},
   "outputs": [
    {
     "data": {
      "text/plain": [
       "'/Users/ericlundquist/Repos/rankfm/rankfm'"
      ]
     },
     "execution_count": 2,
     "metadata": {},
     "output_type": "execute_result"
    }
   ],
   "source": [
    "curdir = sys.path[0]\n",
    "srcdir = os.path.join(os.path.split(curdir)[0], 'rankfm')\n",
    "sys.path[0] = srcdir\n",
    "srcdir"
   ]
  },
  {
   "cell_type": "markdown",
   "metadata": {},
   "source": [
    "#### Re-Load all Package Modules on Execution for Testing"
   ]
  },
  {
   "cell_type": "code",
   "execution_count": 3,
   "metadata": {},
   "outputs": [],
   "source": [
    "%load_ext autoreload\n",
    "%autoreload 2\n",
    "\n",
    "from rankfm import RankFM\n",
    "from evaluation import precision_at_k, recall_at_k"
   ]
  },
  {
   "cell_type": "markdown",
   "metadata": {},
   "source": [
    "#### Set File Path Constants"
   ]
  },
  {
   "cell_type": "code",
   "execution_count": 4,
   "metadata": {},
   "outputs": [
    {
     "name": "stdout",
     "output_type": "stream",
     "text": [
      "/Users/ericlundquist/Repos/rankfm\n",
      "/Users/ericlundquist/Repos/rankfm/data/ml-100k\n"
     ]
    }
   ],
   "source": [
    "REPO_ROOT = os.path.split(srcdir)[0]\n",
    "DATA_ROOT = os.path.join(REPO_ROOT, \"data/ml-100k\")\n",
    "print(\"\\n\".join([REPO_ROOT, DATA_ROOT]))"
   ]
  },
  {
   "cell_type": "markdown",
   "metadata": {},
   "source": [
    "### Prepare Example Data"
   ]
  },
  {
   "cell_type": "markdown",
   "metadata": {},
   "source": [
    "#### Load Users Data"
   ]
  },
  {
   "cell_type": "code",
   "execution_count": 5,
   "metadata": {},
   "outputs": [],
   "source": [
    "users_df = pd.read_csv(os.path.join(DATA_ROOT, \"users.csv\"))\n",
    "users_df['agegroup'] = pd.cut(users_df['age'], [0, 30, 45, 100], right=False, labels=False)\n",
    "users_df = users_df.drop(['age', 'zip_code'], axis=1)\n",
    "users_df = pd.get_dummies(users_df, prefix_sep='__', columns=['agegroup', 'gender', 'occupation'])"
   ]
  },
  {
   "cell_type": "markdown",
   "metadata": {},
   "source": [
    "#### Load Items Data"
   ]
  },
  {
   "cell_type": "code",
   "execution_count": 6,
   "metadata": {},
   "outputs": [
    {
     "data": {
      "text/html": [
       "<div>\n",
       "<style scoped>\n",
       "    .dataframe tbody tr th:only-of-type {\n",
       "        vertical-align: middle;\n",
       "    }\n",
       "\n",
       "    .dataframe tbody tr th {\n",
       "        vertical-align: top;\n",
       "    }\n",
       "\n",
       "    .dataframe thead th {\n",
       "        text-align: right;\n",
       "    }\n",
       "</style>\n",
       "<table border=\"1\" class=\"dataframe\">\n",
       "  <thead>\n",
       "    <tr style=\"text-align: right;\">\n",
       "      <th></th>\n",
       "      <th>item_id</th>\n",
       "      <th>item_name</th>\n",
       "    </tr>\n",
       "  </thead>\n",
       "  <tbody>\n",
       "    <tr>\n",
       "      <th>0</th>\n",
       "      <td>1</td>\n",
       "      <td>Toy Story (1995)</td>\n",
       "    </tr>\n",
       "    <tr>\n",
       "      <th>1</th>\n",
       "      <td>2</td>\n",
       "      <td>GoldenEye (1995)</td>\n",
       "    </tr>\n",
       "    <tr>\n",
       "      <th>2</th>\n",
       "      <td>3</td>\n",
       "      <td>Four Rooms (1995)</td>\n",
       "    </tr>\n",
       "    <tr>\n",
       "      <th>3</th>\n",
       "      <td>4</td>\n",
       "      <td>Get Shorty (1995)</td>\n",
       "    </tr>\n",
       "    <tr>\n",
       "      <th>4</th>\n",
       "      <td>5</td>\n",
       "      <td>Copycat (1995)</td>\n",
       "    </tr>\n",
       "  </tbody>\n",
       "</table>\n",
       "</div>"
      ],
      "text/plain": [
       "   item_id          item_name\n",
       "0        1   Toy Story (1995)\n",
       "1        2   GoldenEye (1995)\n",
       "2        3  Four Rooms (1995)\n",
       "3        4  Get Shorty (1995)\n",
       "4        5     Copycat (1995)"
      ]
     },
     "execution_count": 6,
     "metadata": {},
     "output_type": "execute_result"
    }
   ],
   "source": [
    "items_df = pd.read_csv(os.path.join(DATA_ROOT, \"items.csv\"))\n",
    "item_names = items_df[['item_id', 'item_name']]\n",
    "item_names.head()"
   ]
  },
  {
   "cell_type": "code",
   "execution_count": 7,
   "metadata": {},
   "outputs": [],
   "source": [
    "items_df = items_df.drop(['item_name', 'release_date'], axis=1)\n",
    "items_df.columns = ['item_id'] + [\"genre__{}\".format(col) for col in items_df.columns[1:]]"
   ]
  },
  {
   "cell_type": "markdown",
   "metadata": {},
   "source": [
    "#### Load Ratings Data"
   ]
  },
  {
   "cell_type": "code",
   "execution_count": 8,
   "metadata": {},
   "outputs": [
    {
     "data": {
      "text/plain": [
       "user_id              462.48475\n",
       "item_id              425.53013\n",
       "rating                 3.52986\n",
       "positive_feedback      0.54194\n",
       "dtype: float64"
      ]
     },
     "execution_count": 8,
     "metadata": {},
     "output_type": "execute_result"
    }
   ],
   "source": [
    "ratings_explicit = pd.read_csv(os.path.join(DATA_ROOT, \"ratings.csv\"))\n",
    "ratings_explicit['timestamp'] = pd.to_datetime(ratings_explicit['unix_timestamp'], origin='unix', unit='s')\n",
    "ratings_explicit['positive_feedback'] = ratings_explicit.groupby('user_id')['rating'].transform(lambda c: np.where(c > c.mean(), 1, 0))\n",
    "ratings_explicit = ratings_explicit.drop('unix_timestamp', axis=1)\n",
    "ratings_explicit.mean()"
   ]
  },
  {
   "cell_type": "markdown",
   "metadata": {},
   "source": [
    "#### Generate Implicit Feedback Ratings Data"
   ]
  },
  {
   "cell_type": "code",
   "execution_count": 9,
   "metadata": {},
   "outputs": [
    {
     "data": {
      "text/html": [
       "<div>\n",
       "<style scoped>\n",
       "    .dataframe tbody tr th:only-of-type {\n",
       "        vertical-align: middle;\n",
       "    }\n",
       "\n",
       "    .dataframe tbody tr th {\n",
       "        vertical-align: top;\n",
       "    }\n",
       "\n",
       "    .dataframe thead th {\n",
       "        text-align: right;\n",
       "    }\n",
       "</style>\n",
       "<table border=\"1\" class=\"dataframe\">\n",
       "  <thead>\n",
       "    <tr style=\"text-align: right;\">\n",
       "      <th></th>\n",
       "      <th>user_id</th>\n",
       "      <th>item_id</th>\n",
       "      <th>rating</th>\n",
       "      <th>timestamp</th>\n",
       "      <th>positive_feedback</th>\n",
       "    </tr>\n",
       "  </thead>\n",
       "  <tbody>\n",
       "    <tr>\n",
       "      <th>0</th>\n",
       "      <td>253</td>\n",
       "      <td>465</td>\n",
       "      <td>5</td>\n",
       "      <td>1998-04-03 18:34:27</td>\n",
       "      <td>1</td>\n",
       "    </tr>\n",
       "    <tr>\n",
       "      <th>1</th>\n",
       "      <td>286</td>\n",
       "      <td>1014</td>\n",
       "      <td>5</td>\n",
       "      <td>1997-11-17 15:38:45</td>\n",
       "      <td>1</td>\n",
       "    </tr>\n",
       "    <tr>\n",
       "      <th>2</th>\n",
       "      <td>200</td>\n",
       "      <td>222</td>\n",
       "      <td>5</td>\n",
       "      <td>1997-10-05 09:05:40</td>\n",
       "      <td>1</td>\n",
       "    </tr>\n",
       "    <tr>\n",
       "      <th>3</th>\n",
       "      <td>224</td>\n",
       "      <td>29</td>\n",
       "      <td>3</td>\n",
       "      <td>1998-02-21 23:40:57</td>\n",
       "      <td>1</td>\n",
       "    </tr>\n",
       "    <tr>\n",
       "      <th>4</th>\n",
       "      <td>122</td>\n",
       "      <td>387</td>\n",
       "      <td>5</td>\n",
       "      <td>1997-11-11 17:47:39</td>\n",
       "      <td>1</td>\n",
       "    </tr>\n",
       "  </tbody>\n",
       "</table>\n",
       "</div>"
      ],
      "text/plain": [
       "   user_id  item_id  rating           timestamp  positive_feedback\n",
       "0      253      465       5 1998-04-03 18:34:27                  1\n",
       "1      286     1014       5 1997-11-17 15:38:45                  1\n",
       "2      200      222       5 1997-10-05 09:05:40                  1\n",
       "3      224       29       3 1998-02-21 23:40:57                  1\n",
       "4      122      387       5 1997-11-11 17:47:39                  1"
      ]
     },
     "execution_count": 9,
     "metadata": {},
     "output_type": "execute_result"
    }
   ],
   "source": [
    "ratings_implicit = ratings_explicit[ratings_explicit.positive_feedback == 1].reset_index(drop=True)\n",
    "ratings_implicit.head()"
   ]
  },
  {
   "cell_type": "markdown",
   "metadata": {},
   "source": [
    "#### Print Final Matrix Shapes"
   ]
  },
  {
   "cell_type": "code",
   "execution_count": 10,
   "metadata": {},
   "outputs": [
    {
     "name": "stdout",
     "output_type": "stream",
     "text": [
      "943 1682\n",
      "943 1483\n",
      "(100000, 5)\n",
      "(54194, 5)\n"
     ]
    }
   ],
   "source": [
    "print(ratings_explicit.user_id.nunique(), ratings_explicit.item_id.nunique())\n",
    "print(ratings_implicit.user_id.nunique(), ratings_implicit.item_id.nunique())\n",
    "\n",
    "print(ratings_explicit.shape)\n",
    "print(ratings_implicit.shape)"
   ]
  },
  {
   "cell_type": "markdown",
   "metadata": {},
   "source": [
    "#### Create Simple Interaction Data for Testing"
   ]
  },
  {
   "cell_type": "code",
   "execution_count": 11,
   "metadata": {},
   "outputs": [
    {
     "data": {
      "text/html": [
       "<div>\n",
       "<style scoped>\n",
       "    .dataframe tbody tr th:only-of-type {\n",
       "        vertical-align: middle;\n",
       "    }\n",
       "\n",
       "    .dataframe tbody tr th {\n",
       "        vertical-align: top;\n",
       "    }\n",
       "\n",
       "    .dataframe thead th {\n",
       "        text-align: right;\n",
       "    }\n",
       "</style>\n",
       "<table border=\"1\" class=\"dataframe\">\n",
       "  <thead>\n",
       "    <tr style=\"text-align: right;\">\n",
       "      <th></th>\n",
       "      <th>user_id</th>\n",
       "      <th>item_id</th>\n",
       "    </tr>\n",
       "  </thead>\n",
       "  <tbody>\n",
       "    <tr>\n",
       "      <th>0</th>\n",
       "      <td>253</td>\n",
       "      <td>465</td>\n",
       "    </tr>\n",
       "    <tr>\n",
       "      <th>1</th>\n",
       "      <td>286</td>\n",
       "      <td>1014</td>\n",
       "    </tr>\n",
       "    <tr>\n",
       "      <th>2</th>\n",
       "      <td>200</td>\n",
       "      <td>222</td>\n",
       "    </tr>\n",
       "    <tr>\n",
       "      <th>3</th>\n",
       "      <td>224</td>\n",
       "      <td>29</td>\n",
       "    </tr>\n",
       "    <tr>\n",
       "      <th>4</th>\n",
       "      <td>122</td>\n",
       "      <td>387</td>\n",
       "    </tr>\n",
       "  </tbody>\n",
       "</table>\n",
       "</div>"
      ],
      "text/plain": [
       "   user_id  item_id\n",
       "0      253      465\n",
       "1      286     1014\n",
       "2      200      222\n",
       "3      224       29\n",
       "4      122      387"
      ]
     },
     "execution_count": 11,
     "metadata": {},
     "output_type": "execute_result"
    }
   ],
   "source": [
    "interactions_implicit = ratings_implicit[['user_id', 'item_id']].astype(np.int32)\n",
    "interactions_implicit.head()"
   ]
  },
  {
   "cell_type": "code",
   "execution_count": 12,
   "metadata": {},
   "outputs": [],
   "source": [
    "user_features = users_df[users_df.user_id.isin(interactions_implicit.user_id.unique())]\n",
    "item_features = items_df[items_df.item_id.isin(interactions_implicit.item_id.unique())]"
   ]
  },
  {
   "cell_type": "code",
   "execution_count": 13,
   "metadata": {},
   "outputs": [
    {
     "name": "stdout",
     "output_type": "stream",
     "text": [
      "(54194, 2)\n",
      "user_id    int32\n",
      "item_id    int32\n",
      "dtype: object\n"
     ]
    }
   ],
   "source": [
    "print(interactions_implicit.shape)\n",
    "print(interactions_implicit.dtypes)"
   ]
  },
  {
   "cell_type": "code",
   "execution_count": 14,
   "metadata": {},
   "outputs": [
    {
     "name": "stdout",
     "output_type": "stream",
     "text": [
      "(943, 27)\n",
      "(1483, 19)\n"
     ]
    }
   ],
   "source": [
    "print(user_features.shape)\n",
    "print(item_features.shape)"
   ]
  },
  {
   "cell_type": "markdown",
   "metadata": {},
   "source": [
    "### Train the Model Using Numba"
   ]
  },
  {
   "cell_type": "markdown",
   "metadata": {},
   "source": [
    "#### Initialize Internal Data Using the Main Modeling Class"
   ]
  },
  {
   "cell_type": "code",
   "execution_count": 15,
   "metadata": {},
   "outputs": [],
   "source": [
    "rankfm = RankFM()"
   ]
  },
  {
   "cell_type": "code",
   "execution_count": 16,
   "metadata": {},
   "outputs": [
    {
     "name": "stderr",
     "output_type": "stream",
     "text": [
      "/Users/ericlundquist/anaconda3/lib/python3.7/site-packages/numba/typed/typeddict.py:34: NumbaTypeSafetyWarning: \u001b[1m\u001b[1m\u001b[1munsafe cast from int64 to int32. Precision may be lost.\u001b[0m\u001b[0m\u001b[0m\n",
      "  d[key] = value\n"
     ]
    }
   ],
   "source": [
    "# %%timeit\n",
    "rankfm._init_all(interactions_implicit, user_features, item_features)"
   ]
  },
  {
   "cell_type": "markdown",
   "metadata": {},
   "source": [
    "#### Check the Internal Data"
   ]
  },
  {
   "cell_type": "code",
   "execution_count": 17,
   "metadata": {},
   "outputs": [
    {
     "data": {
      "text/plain": [
       "(numpy.ndarray, (54194, 2), dtype('int32'), 0.43)"
      ]
     },
     "execution_count": 17,
     "metadata": {},
     "output_type": "execute_result"
    }
   ],
   "source": [
    "type(rankfm.interactions), rankfm.interactions.shape, rankfm.interactions.dtype, round(rankfm.interactions.nbytes / 1e6, 2)"
   ]
  },
  {
   "cell_type": "code",
   "execution_count": 18,
   "metadata": {},
   "outputs": [
    {
     "data": {
      "text/plain": [
       "(0.04, 0.0)"
      ]
     },
     "execution_count": 18,
     "metadata": {},
     "output_type": "execute_result"
    }
   ],
   "source": [
    "round(sys.getsizeof(rankfm.user_items_py) / 1e6, 2), round(sys.getsizeof(rankfm.user_items_nb) / 1e6, 2)"
   ]
  },
  {
   "cell_type": "code",
   "execution_count": 19,
   "metadata": {},
   "outputs": [
    {
     "name": "stdout",
     "output_type": "stream",
     "text": [
      "943\n"
     ]
    },
    {
     "data": {
      "text/plain": [
       "array([289, 248,  49, 294,  12, 300, 254, 312, 298, 310, 276, 296, 274,\n",
       "       279, 108, 292, 239, 280, 273,   0,  13, 290, 307, 303,  24, 270,\n",
       "       308, 266, 252, 281, 234, 297,  99, 124, 282, 301, 269, 283, 272,\n",
       "       299], dtype=int32)"
      ]
     },
     "execution_count": 19,
     "metadata": {},
     "output_type": "execute_result"
    }
   ],
   "source": [
    "print(len(rankfm.user_items_py.keys()))\n",
    "rankfm.user_items_py[1]"
   ]
  },
  {
   "cell_type": "code",
   "execution_count": 20,
   "metadata": {},
   "outputs": [
    {
     "name": "stdout",
     "output_type": "stream",
     "text": [
      "943\n"
     ]
    },
    {
     "data": {
      "text/plain": [
       "array([289, 248,  49, 294,  12, 300, 254, 312, 298, 310, 276, 296, 274,\n",
       "       279, 108, 292, 239, 280, 273,   0,  13, 290, 307, 303,  24, 270,\n",
       "       308, 266, 252, 281, 234, 297,  99, 124, 282, 301, 269, 283, 272,\n",
       "       299], dtype=int32)"
      ]
     },
     "execution_count": 20,
     "metadata": {},
     "output_type": "execute_result"
    }
   ],
   "source": [
    "print(len(rankfm.user_items_nb.keys()))\n",
    "rankfm.user_items_nb[1]"
   ]
  },
  {
   "cell_type": "markdown",
   "metadata": {},
   "source": [
    "#### Define the Main Internal `_fit()` Function"
   ]
  },
  {
   "cell_type": "code",
   "execution_count": 94,
   "metadata": {},
   "outputs": [],
   "source": [
    "@nb.njit(cache=True)\n",
    "def _fit(interactions, item_idx, user_items, x_uf, x_if, w_i, w_if, v_u, v_i, v_uf, v_if, regularization, learning_rate, epochs=1):\n",
    "    \"\"\"main internal NJIT fitting function\"\"\"\n",
    "    \n",
    "    # record user-feature/item-feature/latent-factor dimensions\n",
    "    # ---------------------------------------------------------\n",
    "    \n",
    "    P = x_uf.shape[1]\n",
    "    Q = x_if.shape[1]\n",
    "    F = v_i.shape[1]\n",
    "    \n",
    "    # define inner functions needed for training \n",
    "    # ------------------------------------------\n",
    "    \n",
    "    def isin(needle, haystack):\n",
    "        for i in range(len(haystack)):\n",
    "            if needle == haystack[i]:\n",
    "                return True\n",
    "        return False\n",
    "    \n",
    "    # start the main training loop\n",
    "    # ----------------------------\n",
    "    \n",
    "    for epoch in range(epochs):\n",
    "        \n",
    "        print(\"beginning training epoch:\", epoch)\n",
    "        shuffle_index = np.arange(len(interactions))\n",
    "        np.random.shuffle(shuffle_index)\n",
    "        interactions = interactions[shuffle_index]\n",
    "        \n",
    "        for row in range(len(interactions)):\n",
    "\n",
    "            u = interactions[row, 0]\n",
    "            i = interactions[row, 1]\n",
    "            n_items = len(item_idx)\n",
    "            \n",
    "            # sample a random negative item for the user\n",
    "            # ------------------------------------------\n",
    "\n",
    "            while True:\n",
    "                j = int(n_items * random.random())\n",
    "                if not isin(j, user_items[u]):\n",
    "                    break\n",
    "            \n",
    "            # calculate pairwise utility of (u, i, j) sample\n",
    "            # ----------------------------------------------\n",
    "            \n",
    "            u_item = w_i[i] - w_i[j]\n",
    "            u_item_features = np.dot(x_if[i] - x_if[j], w_if)\n",
    "            u_item_user = np.dot(v_i[i] - v_i[j], v_u[u])\n",
    "            u_user_item_features = np.dot(x_if[i] - x_if[j], np.dot(v_if, v_u[u]))\n",
    "            u_item_user_features = np.dot(x_uf[u], np.dot(v_uf, v_i[i] - v_i[j]))\n",
    "            u_feature_interactions = np.dot(np.dot(v_uf.T, x_uf[u]), np.dot(v_if.T, x_if[i] - x_if[j]))\n",
    "            utility = u_item + u_item_features + u_item_user + u_user_item_features + u_item_user_features + u_feature_interactions\n",
    "            \n",
    "            # calculate gradients (d_LL/d_theta) wrt current sample\n",
    "            # -----------------------------------------------------\n",
    "\n",
    "            d_con = 1.0 / (np.exp(utility) + 1.0)\n",
    "            d_reg = 2.0 * regularization\n",
    "\n",
    "            d_w_i = 1.0\n",
    "            d_w_j = -1.0\n",
    "            d_w_if = x_if[i] - x_if[j]\n",
    "\n",
    "            d_v_u = v_i[i] - v_i[j] + np.dot(v_if.T, x_if[i] - x_if[j])\n",
    "            d_v_i = v_u[u] + np.dot(v_uf.T, x_uf[u])\n",
    "            d_v_j = -v_u[u] - np.dot(v_uf.T, x_uf[u])\n",
    "\n",
    "            d_v_uf = np.empty((P, F), np.float32)\n",
    "            d_v_if = np.empty((Q, F), np.float32)\n",
    "\n",
    "            for f in range(F):\n",
    "                for p in range(P):\n",
    "                    if (x_uf[u][p]) == 0.0:\n",
    "                        d_v_uf[p, f] = 0.0\n",
    "                    else:\n",
    "                        d_v_uf[p, f] = (x_uf[u][p]) * (v_i[i][f] - v_i[j][f] + np.dot(v_if.T[f], x_if[i] - x_if[j]))\n",
    "                for q in range(Q):\n",
    "                    if (x_if[i][q] - x_if[j][q]) == 0.0:\n",
    "                        d_v_if[q, f] = 0.0\n",
    "                    else:\n",
    "                        d_v_if[q, f] = (x_if[i][q] - x_if[j][q]) * (v_u[u][f] + np.dot(v_uf.T[f], x_uf[u]))\n",
    "                        \n",
    "            # update model weights based on the calculated gradients\n",
    "            # ------------------------------------------------------\n",
    "\n",
    "            w_i[i] += learning_rate * ((d_con * d_w_i)  - (d_reg * w_i[i]))\n",
    "            w_i[j] += learning_rate * ((d_con * d_w_j)  - (d_reg * w_i[j]))\n",
    "            w_if   += learning_rate * ((d_con * d_w_if) - (d_reg * w_if))\n",
    "            v_u[u] += learning_rate * ((d_con * d_v_u)  - (d_reg * v_u[u]))\n",
    "            v_i[i] += learning_rate * ((d_con * d_v_i)  - (d_reg * v_i[i]))\n",
    "            v_i[j] += learning_rate * ((d_con * d_v_j)  - (d_reg * v_i[j]))\n",
    "            v_uf   += learning_rate * ((d_con * d_v_uf) - (d_reg * v_uf))\n",
    "            v_if   += learning_rate * ((d_con * d_v_if) - (d_reg * v_if))\n",
    "            \n",
    "    # return updated model weights\n",
    "    return w_i, w_if, v_u, v_i, v_uf, v_if\n",
    "            \n",
    "    "
   ]
  },
  {
   "cell_type": "markdown",
   "metadata": {},
   "source": [
    "#### Define All Necessary Training Variables in Local Scope"
   ]
  },
  {
   "cell_type": "code",
   "execution_count": 95,
   "metadata": {},
   "outputs": [],
   "source": [
    "item_idx = rankfm.item_idx\n",
    "interactions = rankfm.interactions\n",
    "user_items = rankfm.user_items_nb\n",
    "\n",
    "x_uf = rankfm.x_uf\n",
    "x_if = rankfm.x_if\n",
    "\n",
    "w_i = rankfm.w_i\n",
    "w_if = rankfm.w_if\n",
    "\n",
    "v_u = rankfm.v_u\n",
    "v_i = rankfm.v_i\n",
    "v_uf = rankfm.v_uf\n",
    "v_if = rankfm.v_if\n",
    "\n",
    "regularization = rankfm.regularization\n",
    "learning_rate = rankfm.learning_rate"
   ]
  },
  {
   "cell_type": "markdown",
   "metadata": {},
   "source": [
    "##### all user/item index variables should be **int32**"
   ]
  },
  {
   "cell_type": "code",
   "execution_count": 96,
   "metadata": {},
   "outputs": [
    {
     "data": {
      "text/plain": [
       "(dtype('int32'), dtype('int32'), int, dtype('int32'))"
      ]
     },
     "execution_count": 96,
     "metadata": {},
     "output_type": "execute_result"
    }
   ],
   "source": [
    "item_idx.dtype, interactions.dtype, type(list(user_items.keys())[1]), user_items[1].dtype"
   ]
  },
  {
   "cell_type": "markdown",
   "metadata": {},
   "source": [
    "##### all user/item features shouldbe **float32**"
   ]
  },
  {
   "cell_type": "code",
   "execution_count": 97,
   "metadata": {},
   "outputs": [
    {
     "data": {
      "text/plain": [
       "(dtype('float32'), dtype('float32'))"
      ]
     },
     "execution_count": 97,
     "metadata": {},
     "output_type": "execute_result"
    }
   ],
   "source": [
    "x_uf.dtype, x_if.dtype"
   ]
  },
  {
   "cell_type": "markdown",
   "metadata": {},
   "source": [
    "##### all weights/factors should be **float32**"
   ]
  },
  {
   "cell_type": "code",
   "execution_count": 98,
   "metadata": {},
   "outputs": [
    {
     "data": {
      "text/plain": [
       "(dtype('float32'),\n",
       " dtype('float32'),\n",
       " dtype('float32'),\n",
       " dtype('float32'),\n",
       " dtype('float32'),\n",
       " dtype('float32'))"
      ]
     },
     "execution_count": 98,
     "metadata": {},
     "output_type": "execute_result"
    }
   ],
   "source": [
    "w_i.dtype, w_if.dtype, v_u.dtype, v_i.dtype, v_uf.dtype, v_if.dtype"
   ]
  },
  {
   "cell_type": "markdown",
   "metadata": {},
   "source": [
    "#### Attempt to Call the Main Fit Function"
   ]
  },
  {
   "cell_type": "code",
   "execution_count": 93,
   "metadata": {},
   "outputs": [
    {
     "name": "stdout",
     "output_type": "stream",
     "text": [
      "beginning training epoch: 0\n",
      "beginning training epoch: 1\n",
      "beginning training epoch: 2\n",
      "beginning training epoch: 3\n",
      "beginning training epoch: 4\n",
      "beginning training epoch: 5\n",
      "beginning training epoch: 6\n",
      "beginning training epoch: 7\n",
      "beginning training epoch: 8\n",
      "beginning training epoch: 9\n",
      "CPU times: user 16.3 s, sys: 91 ms, total: 16.4 s\n",
      "Wall time: 16.4 s\n"
     ]
    }
   ],
   "source": [
    "%%time\n",
    "w_i, w_if, v_u, v_i, v_uf, v_if = _fit(interactions, item_idx, user_items, x_uf, x_if, w_i, w_if, v_u, v_i, v_uf, v_if, regularization, learning_rate, epochs=10)"
   ]
  },
  {
   "cell_type": "code",
   "execution_count": null,
   "metadata": {},
   "outputs": [],
   "source": []
  },
  {
   "cell_type": "code",
   "execution_count": null,
   "metadata": {},
   "outputs": [],
   "source": []
  }
 ],
 "metadata": {
  "kernelspec": {
   "display_name": "Python 3",
   "language": "python",
   "name": "python3"
  },
  "language_info": {
   "codemirror_mode": {
    "name": "ipython",
    "version": 3
   },
   "file_extension": ".py",
   "mimetype": "text/x-python",
   "name": "python",
   "nbconvert_exporter": "python",
   "pygments_lexer": "ipython3",
   "version": "3.7.2"
  }
 },
 "nbformat": 4,
 "nbformat_minor": 4
}
